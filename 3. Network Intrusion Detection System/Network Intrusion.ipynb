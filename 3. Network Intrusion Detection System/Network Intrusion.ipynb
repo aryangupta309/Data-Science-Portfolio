{
 "cells": [
  {
   "cell_type": "markdown",
   "id": "96d72137",
   "metadata": {},
   "source": [
    "# NETWORK INTRUSION DETECTION"
   ]
  },
  {
   "cell_type": "markdown",
   "id": "5c397c40",
   "metadata": {},
   "source": [
    "## Problem Statement\n",
    "With the enormous growth of computer networks usage and the huge increase in the number of applications running on top of it, network security is becoming increasingly more important. All the computer systems suffer from security vulnerabilities which are both technically difficult and economically costly to be solved by the manufacturers. Therefore, the role of Intrusion Detection Systems (IDSs), as special-purpose devices to detect anomalies and attacks in the network, is becoming more important. The research in the intrusion detection field has been mostly focused on anomaly-based and misusebased detection techniques for a long time. While misuse-based detection is generally favored in commercial products due to its predictability and high accuracy, in academic research anomaly detection is typically conceived as a more powerful method due to its theoretical potential for addressing novel attacks.Conducting a thorough analysis of the recent research trend in anomaly detection, one will encounter several machine learning methods reported to have a very high detection rate of 98% while keeping the false alarm rate at 1%. However, when we look at the state of the art IDS solutions and commercial tools, there is no evidence of using anomaly detection approaches, and practitioners still think that it is an immature technology. To find the reason of this contrast, lots of research was done done in anomaly detection and considered various aspects such as learning and detection approaches, training data sets, testing data sets, and evaluation methods."
   ]
  },
  {
   "cell_type": "markdown",
   "id": "37ddcf4e",
   "metadata": {},
   "source": [
    "The task is to build network intrusion detection system to detect anamolies and attacks in the \n",
    "network. There are two problems. \n",
    "1. Binomial Classification: Activity is normal or attack\n",
    "2. Multinomial classification: Activity is normal or DOS or PROBE or R2L or U2R"
   ]
  },
  {
   "cell_type": "markdown",
   "id": "0e80efa6",
   "metadata": {},
   "source": [
    "## Importing Libraries"
   ]
  },
  {
   "cell_type": "code",
   "execution_count": 1,
   "id": "ba29ab74",
   "metadata": {},
   "outputs": [],
   "source": [
    "import numpy as np\n",
    "import pandas as pd\n",
    "import matplotlib.pyplot as plt\n",
    "import seaborn as sns\n",
    "%matplotlib inline\n",
    "\n",
    "from pandas_profiling import ProfileReport\n",
    "from sklearn.preprocessing import StandardScaler , MinMaxScaler\n",
    "from sklearn.linear_model import LogisticRegression\n",
    "from sklearn.neighbors import KNeighborsClassifier\n",
    "from sklearn.tree import DecisionTreeClassifier\n",
    "from sklearn.ensemble import RandomForestClassifier\n",
    "from sklearn.naive_bayes import MultinomialNB , GaussianNB\n",
    "import xgboost\n",
    "from sklearn import metrics\n",
    "from sklearn.feature_selection import RFE\n",
    "from sklearn.model_selection import GridSearchCV\n",
    "\n",
    "import warnings\n",
    "warnings.filterwarnings('ignore')"
   ]
  },
  {
   "cell_type": "code",
   "execution_count": 2,
   "id": "174b59aa",
   "metadata": {},
   "outputs": [],
   "source": [
    "data_train=pd.read_table('Train.txt',sep=',')\n",
    "data_test=pd.read_table('Test.txt',sep=',')"
   ]
  },
  {
   "cell_type": "code",
   "execution_count": 3,
   "id": "269604f3",
   "metadata": {},
   "outputs": [],
   "source": [
    "columns=[\"duration\",\"protocol_type\",\"service\",\"flag\",\"src_bytes\",\"dst_bytes\",\"land\", \n",
    "\"wrong_fragment\",\"urgent\",\"hot\",\"num_failed_logins\",\"logged_in\", \n",
    "\"num_compromised\",\"root_shell\",\"su_attempted\",\"num_root\",\"num_file_creations\", \n",
    "\"num_shells\",\"num_access_files\",\"num_outbound_cmds\",\"is_host_login\", \n",
    "\"is_guest_login\",\"count\",\"srv_count\",\"serror_rate\", \"srv_serror_rate\", \n",
    "\"rerror_rate\",\"srv_rerror_rate\",\"same_srv_rate\", \"diff_srv_rate\",\"srv_diff_host_rate\",\"dst_host_count\",\"dst_host_srv_count\",\"dst_host_same_srv_rate\", \n",
    "\"dst_host_diff_srv_rate\",\"dst_host_same_src_port_rate\",\n",
    "\"dst_host_srv_diff_host_rate\",\"dst_host_serror_rate\",\"dst_host_srv_serror_rate\",\n",
    "\"dst_host_rerror_rate\",\"dst_host_srv_rerror_rate\",\"attack\", \"last_flag\"]"
   ]
  },
  {
   "cell_type": "code",
   "execution_count": 4,
   "id": "3521cbfd",
   "metadata": {},
   "outputs": [
    {
     "data": {
      "text/plain": [
       "(125972, 43)"
      ]
     },
     "execution_count": 4,
     "metadata": {},
     "output_type": "execute_result"
    }
   ],
   "source": [
    "data_train.shape"
   ]
  },
  {
   "cell_type": "code",
   "execution_count": 5,
   "id": "19dde52f",
   "metadata": {},
   "outputs": [
    {
     "data": {
      "text/plain": [
       "(22543, 43)"
      ]
     },
     "execution_count": 5,
     "metadata": {},
     "output_type": "execute_result"
    }
   ],
   "source": [
    "data_test.shape"
   ]
  },
  {
   "cell_type": "code",
   "execution_count": 6,
   "id": "af2bcb2c",
   "metadata": {},
   "outputs": [],
   "source": [
    "data_train.columns=columns\n",
    "data_test.columns=columns"
   ]
  },
  {
   "cell_type": "code",
   "execution_count": 7,
   "id": "2ad5bb68",
   "metadata": {},
   "outputs": [
    {
     "data": {
      "text/html": [
       "<div>\n",
       "<style scoped>\n",
       "    .dataframe tbody tr th:only-of-type {\n",
       "        vertical-align: middle;\n",
       "    }\n",
       "\n",
       "    .dataframe tbody tr th {\n",
       "        vertical-align: top;\n",
       "    }\n",
       "\n",
       "    .dataframe thead th {\n",
       "        text-align: right;\n",
       "    }\n",
       "</style>\n",
       "<table border=\"1\" class=\"dataframe\">\n",
       "  <thead>\n",
       "    <tr style=\"text-align: right;\">\n",
       "      <th></th>\n",
       "      <th>duration</th>\n",
       "      <th>protocol_type</th>\n",
       "      <th>service</th>\n",
       "      <th>flag</th>\n",
       "      <th>src_bytes</th>\n",
       "      <th>dst_bytes</th>\n",
       "      <th>land</th>\n",
       "      <th>wrong_fragment</th>\n",
       "      <th>urgent</th>\n",
       "      <th>hot</th>\n",
       "      <th>...</th>\n",
       "      <th>dst_host_same_srv_rate</th>\n",
       "      <th>dst_host_diff_srv_rate</th>\n",
       "      <th>dst_host_same_src_port_rate</th>\n",
       "      <th>dst_host_srv_diff_host_rate</th>\n",
       "      <th>dst_host_serror_rate</th>\n",
       "      <th>dst_host_srv_serror_rate</th>\n",
       "      <th>dst_host_rerror_rate</th>\n",
       "      <th>dst_host_srv_rerror_rate</th>\n",
       "      <th>attack</th>\n",
       "      <th>last_flag</th>\n",
       "    </tr>\n",
       "  </thead>\n",
       "  <tbody>\n",
       "    <tr>\n",
       "      <th>0</th>\n",
       "      <td>0</td>\n",
       "      <td>udp</td>\n",
       "      <td>other</td>\n",
       "      <td>SF</td>\n",
       "      <td>146</td>\n",
       "      <td>0</td>\n",
       "      <td>0</td>\n",
       "      <td>0</td>\n",
       "      <td>0</td>\n",
       "      <td>0</td>\n",
       "      <td>...</td>\n",
       "      <td>0.00</td>\n",
       "      <td>0.60</td>\n",
       "      <td>0.88</td>\n",
       "      <td>0.00</td>\n",
       "      <td>0.00</td>\n",
       "      <td>0.00</td>\n",
       "      <td>0.0</td>\n",
       "      <td>0.00</td>\n",
       "      <td>normal</td>\n",
       "      <td>15</td>\n",
       "    </tr>\n",
       "    <tr>\n",
       "      <th>1</th>\n",
       "      <td>0</td>\n",
       "      <td>tcp</td>\n",
       "      <td>private</td>\n",
       "      <td>S0</td>\n",
       "      <td>0</td>\n",
       "      <td>0</td>\n",
       "      <td>0</td>\n",
       "      <td>0</td>\n",
       "      <td>0</td>\n",
       "      <td>0</td>\n",
       "      <td>...</td>\n",
       "      <td>0.10</td>\n",
       "      <td>0.05</td>\n",
       "      <td>0.00</td>\n",
       "      <td>0.00</td>\n",
       "      <td>1.00</td>\n",
       "      <td>1.00</td>\n",
       "      <td>0.0</td>\n",
       "      <td>0.00</td>\n",
       "      <td>neptune</td>\n",
       "      <td>19</td>\n",
       "    </tr>\n",
       "    <tr>\n",
       "      <th>2</th>\n",
       "      <td>0</td>\n",
       "      <td>tcp</td>\n",
       "      <td>http</td>\n",
       "      <td>SF</td>\n",
       "      <td>232</td>\n",
       "      <td>8153</td>\n",
       "      <td>0</td>\n",
       "      <td>0</td>\n",
       "      <td>0</td>\n",
       "      <td>0</td>\n",
       "      <td>...</td>\n",
       "      <td>1.00</td>\n",
       "      <td>0.00</td>\n",
       "      <td>0.03</td>\n",
       "      <td>0.04</td>\n",
       "      <td>0.03</td>\n",
       "      <td>0.01</td>\n",
       "      <td>0.0</td>\n",
       "      <td>0.01</td>\n",
       "      <td>normal</td>\n",
       "      <td>21</td>\n",
       "    </tr>\n",
       "    <tr>\n",
       "      <th>3</th>\n",
       "      <td>0</td>\n",
       "      <td>tcp</td>\n",
       "      <td>http</td>\n",
       "      <td>SF</td>\n",
       "      <td>199</td>\n",
       "      <td>420</td>\n",
       "      <td>0</td>\n",
       "      <td>0</td>\n",
       "      <td>0</td>\n",
       "      <td>0</td>\n",
       "      <td>...</td>\n",
       "      <td>1.00</td>\n",
       "      <td>0.00</td>\n",
       "      <td>0.00</td>\n",
       "      <td>0.00</td>\n",
       "      <td>0.00</td>\n",
       "      <td>0.00</td>\n",
       "      <td>0.0</td>\n",
       "      <td>0.00</td>\n",
       "      <td>normal</td>\n",
       "      <td>21</td>\n",
       "    </tr>\n",
       "    <tr>\n",
       "      <th>4</th>\n",
       "      <td>0</td>\n",
       "      <td>tcp</td>\n",
       "      <td>private</td>\n",
       "      <td>REJ</td>\n",
       "      <td>0</td>\n",
       "      <td>0</td>\n",
       "      <td>0</td>\n",
       "      <td>0</td>\n",
       "      <td>0</td>\n",
       "      <td>0</td>\n",
       "      <td>...</td>\n",
       "      <td>0.07</td>\n",
       "      <td>0.07</td>\n",
       "      <td>0.00</td>\n",
       "      <td>0.00</td>\n",
       "      <td>0.00</td>\n",
       "      <td>0.00</td>\n",
       "      <td>1.0</td>\n",
       "      <td>1.00</td>\n",
       "      <td>neptune</td>\n",
       "      <td>21</td>\n",
       "    </tr>\n",
       "  </tbody>\n",
       "</table>\n",
       "<p>5 rows × 43 columns</p>\n",
       "</div>"
      ],
      "text/plain": [
       "   duration protocol_type  service flag  src_bytes  dst_bytes  land  \\\n",
       "0         0           udp    other   SF        146          0     0   \n",
       "1         0           tcp  private   S0          0          0     0   \n",
       "2         0           tcp     http   SF        232       8153     0   \n",
       "3         0           tcp     http   SF        199        420     0   \n",
       "4         0           tcp  private  REJ          0          0     0   \n",
       "\n",
       "   wrong_fragment  urgent  hot  ...  dst_host_same_srv_rate  \\\n",
       "0               0       0    0  ...                    0.00   \n",
       "1               0       0    0  ...                    0.10   \n",
       "2               0       0    0  ...                    1.00   \n",
       "3               0       0    0  ...                    1.00   \n",
       "4               0       0    0  ...                    0.07   \n",
       "\n",
       "   dst_host_diff_srv_rate  dst_host_same_src_port_rate  \\\n",
       "0                    0.60                         0.88   \n",
       "1                    0.05                         0.00   \n",
       "2                    0.00                         0.03   \n",
       "3                    0.00                         0.00   \n",
       "4                    0.07                         0.00   \n",
       "\n",
       "   dst_host_srv_diff_host_rate  dst_host_serror_rate  \\\n",
       "0                         0.00                  0.00   \n",
       "1                         0.00                  1.00   \n",
       "2                         0.04                  0.03   \n",
       "3                         0.00                  0.00   \n",
       "4                         0.00                  0.00   \n",
       "\n",
       "   dst_host_srv_serror_rate  dst_host_rerror_rate  dst_host_srv_rerror_rate  \\\n",
       "0                      0.00                   0.0                      0.00   \n",
       "1                      1.00                   0.0                      0.00   \n",
       "2                      0.01                   0.0                      0.01   \n",
       "3                      0.00                   0.0                      0.00   \n",
       "4                      0.00                   1.0                      1.00   \n",
       "\n",
       "    attack  last_flag  \n",
       "0   normal         15  \n",
       "1  neptune         19  \n",
       "2   normal         21  \n",
       "3   normal         21  \n",
       "4  neptune         21  \n",
       "\n",
       "[5 rows x 43 columns]"
      ]
     },
     "execution_count": 7,
     "metadata": {},
     "output_type": "execute_result"
    }
   ],
   "source": [
    "data_train.head()"
   ]
  },
  {
   "cell_type": "code",
   "execution_count": 8,
   "id": "7722f28b",
   "metadata": {},
   "outputs": [
    {
     "data": {
      "text/html": [
       "<div>\n",
       "<style scoped>\n",
       "    .dataframe tbody tr th:only-of-type {\n",
       "        vertical-align: middle;\n",
       "    }\n",
       "\n",
       "    .dataframe tbody tr th {\n",
       "        vertical-align: top;\n",
       "    }\n",
       "\n",
       "    .dataframe thead th {\n",
       "        text-align: right;\n",
       "    }\n",
       "</style>\n",
       "<table border=\"1\" class=\"dataframe\">\n",
       "  <thead>\n",
       "    <tr style=\"text-align: right;\">\n",
       "      <th></th>\n",
       "      <th>duration</th>\n",
       "      <th>protocol_type</th>\n",
       "      <th>service</th>\n",
       "      <th>flag</th>\n",
       "      <th>src_bytes</th>\n",
       "      <th>dst_bytes</th>\n",
       "      <th>land</th>\n",
       "      <th>wrong_fragment</th>\n",
       "      <th>urgent</th>\n",
       "      <th>hot</th>\n",
       "      <th>...</th>\n",
       "      <th>dst_host_same_srv_rate</th>\n",
       "      <th>dst_host_diff_srv_rate</th>\n",
       "      <th>dst_host_same_src_port_rate</th>\n",
       "      <th>dst_host_srv_diff_host_rate</th>\n",
       "      <th>dst_host_serror_rate</th>\n",
       "      <th>dst_host_srv_serror_rate</th>\n",
       "      <th>dst_host_rerror_rate</th>\n",
       "      <th>dst_host_srv_rerror_rate</th>\n",
       "      <th>attack</th>\n",
       "      <th>last_flag</th>\n",
       "    </tr>\n",
       "  </thead>\n",
       "  <tbody>\n",
       "    <tr>\n",
       "      <th>0</th>\n",
       "      <td>0</td>\n",
       "      <td>tcp</td>\n",
       "      <td>private</td>\n",
       "      <td>REJ</td>\n",
       "      <td>0</td>\n",
       "      <td>0</td>\n",
       "      <td>0</td>\n",
       "      <td>0</td>\n",
       "      <td>0</td>\n",
       "      <td>0</td>\n",
       "      <td>...</td>\n",
       "      <td>0.00</td>\n",
       "      <td>0.06</td>\n",
       "      <td>0.00</td>\n",
       "      <td>0.00</td>\n",
       "      <td>0.00</td>\n",
       "      <td>0.0</td>\n",
       "      <td>1.00</td>\n",
       "      <td>1.00</td>\n",
       "      <td>neptune</td>\n",
       "      <td>21</td>\n",
       "    </tr>\n",
       "    <tr>\n",
       "      <th>1</th>\n",
       "      <td>2</td>\n",
       "      <td>tcp</td>\n",
       "      <td>ftp_data</td>\n",
       "      <td>SF</td>\n",
       "      <td>12983</td>\n",
       "      <td>0</td>\n",
       "      <td>0</td>\n",
       "      <td>0</td>\n",
       "      <td>0</td>\n",
       "      <td>0</td>\n",
       "      <td>...</td>\n",
       "      <td>0.61</td>\n",
       "      <td>0.04</td>\n",
       "      <td>0.61</td>\n",
       "      <td>0.02</td>\n",
       "      <td>0.00</td>\n",
       "      <td>0.0</td>\n",
       "      <td>0.00</td>\n",
       "      <td>0.00</td>\n",
       "      <td>normal</td>\n",
       "      <td>21</td>\n",
       "    </tr>\n",
       "    <tr>\n",
       "      <th>2</th>\n",
       "      <td>0</td>\n",
       "      <td>icmp</td>\n",
       "      <td>eco_i</td>\n",
       "      <td>SF</td>\n",
       "      <td>20</td>\n",
       "      <td>0</td>\n",
       "      <td>0</td>\n",
       "      <td>0</td>\n",
       "      <td>0</td>\n",
       "      <td>0</td>\n",
       "      <td>...</td>\n",
       "      <td>1.00</td>\n",
       "      <td>0.00</td>\n",
       "      <td>1.00</td>\n",
       "      <td>0.28</td>\n",
       "      <td>0.00</td>\n",
       "      <td>0.0</td>\n",
       "      <td>0.00</td>\n",
       "      <td>0.00</td>\n",
       "      <td>saint</td>\n",
       "      <td>15</td>\n",
       "    </tr>\n",
       "    <tr>\n",
       "      <th>3</th>\n",
       "      <td>1</td>\n",
       "      <td>tcp</td>\n",
       "      <td>telnet</td>\n",
       "      <td>RSTO</td>\n",
       "      <td>0</td>\n",
       "      <td>15</td>\n",
       "      <td>0</td>\n",
       "      <td>0</td>\n",
       "      <td>0</td>\n",
       "      <td>0</td>\n",
       "      <td>...</td>\n",
       "      <td>0.31</td>\n",
       "      <td>0.17</td>\n",
       "      <td>0.03</td>\n",
       "      <td>0.02</td>\n",
       "      <td>0.00</td>\n",
       "      <td>0.0</td>\n",
       "      <td>0.83</td>\n",
       "      <td>0.71</td>\n",
       "      <td>mscan</td>\n",
       "      <td>11</td>\n",
       "    </tr>\n",
       "    <tr>\n",
       "      <th>4</th>\n",
       "      <td>0</td>\n",
       "      <td>tcp</td>\n",
       "      <td>http</td>\n",
       "      <td>SF</td>\n",
       "      <td>267</td>\n",
       "      <td>14515</td>\n",
       "      <td>0</td>\n",
       "      <td>0</td>\n",
       "      <td>0</td>\n",
       "      <td>0</td>\n",
       "      <td>...</td>\n",
       "      <td>1.00</td>\n",
       "      <td>0.00</td>\n",
       "      <td>0.01</td>\n",
       "      <td>0.03</td>\n",
       "      <td>0.01</td>\n",
       "      <td>0.0</td>\n",
       "      <td>0.00</td>\n",
       "      <td>0.00</td>\n",
       "      <td>normal</td>\n",
       "      <td>21</td>\n",
       "    </tr>\n",
       "  </tbody>\n",
       "</table>\n",
       "<p>5 rows × 43 columns</p>\n",
       "</div>"
      ],
      "text/plain": [
       "   duration protocol_type   service  flag  src_bytes  dst_bytes  land  \\\n",
       "0         0           tcp   private   REJ          0          0     0   \n",
       "1         2           tcp  ftp_data    SF      12983          0     0   \n",
       "2         0          icmp     eco_i    SF         20          0     0   \n",
       "3         1           tcp    telnet  RSTO          0         15     0   \n",
       "4         0           tcp      http    SF        267      14515     0   \n",
       "\n",
       "   wrong_fragment  urgent  hot  ...  dst_host_same_srv_rate  \\\n",
       "0               0       0    0  ...                    0.00   \n",
       "1               0       0    0  ...                    0.61   \n",
       "2               0       0    0  ...                    1.00   \n",
       "3               0       0    0  ...                    0.31   \n",
       "4               0       0    0  ...                    1.00   \n",
       "\n",
       "   dst_host_diff_srv_rate  dst_host_same_src_port_rate  \\\n",
       "0                    0.06                         0.00   \n",
       "1                    0.04                         0.61   \n",
       "2                    0.00                         1.00   \n",
       "3                    0.17                         0.03   \n",
       "4                    0.00                         0.01   \n",
       "\n",
       "   dst_host_srv_diff_host_rate  dst_host_serror_rate  \\\n",
       "0                         0.00                  0.00   \n",
       "1                         0.02                  0.00   \n",
       "2                         0.28                  0.00   \n",
       "3                         0.02                  0.00   \n",
       "4                         0.03                  0.01   \n",
       "\n",
       "   dst_host_srv_serror_rate  dst_host_rerror_rate  dst_host_srv_rerror_rate  \\\n",
       "0                       0.0                  1.00                      1.00   \n",
       "1                       0.0                  0.00                      0.00   \n",
       "2                       0.0                  0.00                      0.00   \n",
       "3                       0.0                  0.83                      0.71   \n",
       "4                       0.0                  0.00                      0.00   \n",
       "\n",
       "    attack  last_flag  \n",
       "0  neptune         21  \n",
       "1   normal         21  \n",
       "2    saint         15  \n",
       "3    mscan         11  \n",
       "4   normal         21  \n",
       "\n",
       "[5 rows x 43 columns]"
      ]
     },
     "execution_count": 8,
     "metadata": {},
     "output_type": "execute_result"
    }
   ],
   "source": [
    "data_test.head()"
   ]
  },
  {
   "cell_type": "markdown",
   "id": "b1a566ea",
   "metadata": {},
   "source": [
    "## Profile Report"
   ]
  },
  {
   "cell_type": "code",
   "execution_count": 9,
   "id": "8722e5ea",
   "metadata": {},
   "outputs": [],
   "source": [
    "#profile_report=ProfileReport(data)"
   ]
  },
  {
   "cell_type": "code",
   "execution_count": 10,
   "id": "dbf9b969",
   "metadata": {},
   "outputs": [],
   "source": [
    "#profile_report.to_file('profile_report.html')"
   ]
  },
  {
   "cell_type": "code",
   "execution_count": 11,
   "id": "710a02f4",
   "metadata": {},
   "outputs": [
    {
     "data": {
      "text/html": [
       "<div>\n",
       "<style scoped>\n",
       "    .dataframe tbody tr th:only-of-type {\n",
       "        vertical-align: middle;\n",
       "    }\n",
       "\n",
       "    .dataframe tbody tr th {\n",
       "        vertical-align: top;\n",
       "    }\n",
       "\n",
       "    .dataframe thead th {\n",
       "        text-align: right;\n",
       "    }\n",
       "</style>\n",
       "<table border=\"1\" class=\"dataframe\">\n",
       "  <thead>\n",
       "    <tr style=\"text-align: right;\">\n",
       "      <th></th>\n",
       "      <th>duration</th>\n",
       "      <th>src_bytes</th>\n",
       "      <th>dst_bytes</th>\n",
       "      <th>land</th>\n",
       "      <th>wrong_fragment</th>\n",
       "      <th>urgent</th>\n",
       "      <th>hot</th>\n",
       "      <th>num_failed_logins</th>\n",
       "      <th>logged_in</th>\n",
       "      <th>num_compromised</th>\n",
       "      <th>...</th>\n",
       "      <th>dst_host_srv_count</th>\n",
       "      <th>dst_host_same_srv_rate</th>\n",
       "      <th>dst_host_diff_srv_rate</th>\n",
       "      <th>dst_host_same_src_port_rate</th>\n",
       "      <th>dst_host_srv_diff_host_rate</th>\n",
       "      <th>dst_host_serror_rate</th>\n",
       "      <th>dst_host_srv_serror_rate</th>\n",
       "      <th>dst_host_rerror_rate</th>\n",
       "      <th>dst_host_srv_rerror_rate</th>\n",
       "      <th>last_flag</th>\n",
       "    </tr>\n",
       "  </thead>\n",
       "  <tbody>\n",
       "    <tr>\n",
       "      <th>count</th>\n",
       "      <td>125972.000000</td>\n",
       "      <td>1.259720e+05</td>\n",
       "      <td>1.259720e+05</td>\n",
       "      <td>125972.000000</td>\n",
       "      <td>125972.000000</td>\n",
       "      <td>125972.000000</td>\n",
       "      <td>125972.000000</td>\n",
       "      <td>125972.000000</td>\n",
       "      <td>125972.000000</td>\n",
       "      <td>125972.000000</td>\n",
       "      <td>...</td>\n",
       "      <td>125972.000000</td>\n",
       "      <td>125972.000000</td>\n",
       "      <td>125972.000000</td>\n",
       "      <td>125972.000000</td>\n",
       "      <td>125972.000000</td>\n",
       "      <td>125972.000000</td>\n",
       "      <td>125972.000000</td>\n",
       "      <td>125972.000000</td>\n",
       "      <td>125972.000000</td>\n",
       "      <td>125972.000000</td>\n",
       "    </tr>\n",
       "    <tr>\n",
       "      <th>mean</th>\n",
       "      <td>287.146929</td>\n",
       "      <td>4.556710e+04</td>\n",
       "      <td>1.977927e+04</td>\n",
       "      <td>0.000198</td>\n",
       "      <td>0.022688</td>\n",
       "      <td>0.000111</td>\n",
       "      <td>0.204411</td>\n",
       "      <td>0.001222</td>\n",
       "      <td>0.395739</td>\n",
       "      <td>0.279253</td>\n",
       "      <td>...</td>\n",
       "      <td>115.653725</td>\n",
       "      <td>0.521244</td>\n",
       "      <td>0.082952</td>\n",
       "      <td>0.148379</td>\n",
       "      <td>0.032543</td>\n",
       "      <td>0.284455</td>\n",
       "      <td>0.278487</td>\n",
       "      <td>0.118832</td>\n",
       "      <td>0.120241</td>\n",
       "      <td>19.504056</td>\n",
       "    </tr>\n",
       "    <tr>\n",
       "      <th>std</th>\n",
       "      <td>2604.525522</td>\n",
       "      <td>5.870354e+06</td>\n",
       "      <td>4.021285e+06</td>\n",
       "      <td>0.014086</td>\n",
       "      <td>0.253531</td>\n",
       "      <td>0.014366</td>\n",
       "      <td>2.149977</td>\n",
       "      <td>0.045239</td>\n",
       "      <td>0.489011</td>\n",
       "      <td>23.942137</td>\n",
       "      <td>...</td>\n",
       "      <td>110.702886</td>\n",
       "      <td>0.448950</td>\n",
       "      <td>0.188922</td>\n",
       "      <td>0.308998</td>\n",
       "      <td>0.112564</td>\n",
       "      <td>0.444785</td>\n",
       "      <td>0.445670</td>\n",
       "      <td>0.306559</td>\n",
       "      <td>0.319460</td>\n",
       "      <td>2.291512</td>\n",
       "    </tr>\n",
       "    <tr>\n",
       "      <th>min</th>\n",
       "      <td>0.000000</td>\n",
       "      <td>0.000000e+00</td>\n",
       "      <td>0.000000e+00</td>\n",
       "      <td>0.000000</td>\n",
       "      <td>0.000000</td>\n",
       "      <td>0.000000</td>\n",
       "      <td>0.000000</td>\n",
       "      <td>0.000000</td>\n",
       "      <td>0.000000</td>\n",
       "      <td>0.000000</td>\n",
       "      <td>...</td>\n",
       "      <td>0.000000</td>\n",
       "      <td>0.000000</td>\n",
       "      <td>0.000000</td>\n",
       "      <td>0.000000</td>\n",
       "      <td>0.000000</td>\n",
       "      <td>0.000000</td>\n",
       "      <td>0.000000</td>\n",
       "      <td>0.000000</td>\n",
       "      <td>0.000000</td>\n",
       "      <td>0.000000</td>\n",
       "    </tr>\n",
       "    <tr>\n",
       "      <th>25%</th>\n",
       "      <td>0.000000</td>\n",
       "      <td>0.000000e+00</td>\n",
       "      <td>0.000000e+00</td>\n",
       "      <td>0.000000</td>\n",
       "      <td>0.000000</td>\n",
       "      <td>0.000000</td>\n",
       "      <td>0.000000</td>\n",
       "      <td>0.000000</td>\n",
       "      <td>0.000000</td>\n",
       "      <td>0.000000</td>\n",
       "      <td>...</td>\n",
       "      <td>10.000000</td>\n",
       "      <td>0.050000</td>\n",
       "      <td>0.000000</td>\n",
       "      <td>0.000000</td>\n",
       "      <td>0.000000</td>\n",
       "      <td>0.000000</td>\n",
       "      <td>0.000000</td>\n",
       "      <td>0.000000</td>\n",
       "      <td>0.000000</td>\n",
       "      <td>18.000000</td>\n",
       "    </tr>\n",
       "    <tr>\n",
       "      <th>50%</th>\n",
       "      <td>0.000000</td>\n",
       "      <td>4.400000e+01</td>\n",
       "      <td>0.000000e+00</td>\n",
       "      <td>0.000000</td>\n",
       "      <td>0.000000</td>\n",
       "      <td>0.000000</td>\n",
       "      <td>0.000000</td>\n",
       "      <td>0.000000</td>\n",
       "      <td>0.000000</td>\n",
       "      <td>0.000000</td>\n",
       "      <td>...</td>\n",
       "      <td>63.000000</td>\n",
       "      <td>0.510000</td>\n",
       "      <td>0.020000</td>\n",
       "      <td>0.000000</td>\n",
       "      <td>0.000000</td>\n",
       "      <td>0.000000</td>\n",
       "      <td>0.000000</td>\n",
       "      <td>0.000000</td>\n",
       "      <td>0.000000</td>\n",
       "      <td>20.000000</td>\n",
       "    </tr>\n",
       "    <tr>\n",
       "      <th>75%</th>\n",
       "      <td>0.000000</td>\n",
       "      <td>2.760000e+02</td>\n",
       "      <td>5.160000e+02</td>\n",
       "      <td>0.000000</td>\n",
       "      <td>0.000000</td>\n",
       "      <td>0.000000</td>\n",
       "      <td>0.000000</td>\n",
       "      <td>0.000000</td>\n",
       "      <td>1.000000</td>\n",
       "      <td>0.000000</td>\n",
       "      <td>...</td>\n",
       "      <td>255.000000</td>\n",
       "      <td>1.000000</td>\n",
       "      <td>0.070000</td>\n",
       "      <td>0.060000</td>\n",
       "      <td>0.020000</td>\n",
       "      <td>1.000000</td>\n",
       "      <td>1.000000</td>\n",
       "      <td>0.000000</td>\n",
       "      <td>0.000000</td>\n",
       "      <td>21.000000</td>\n",
       "    </tr>\n",
       "    <tr>\n",
       "      <th>max</th>\n",
       "      <td>42908.000000</td>\n",
       "      <td>1.379964e+09</td>\n",
       "      <td>1.309937e+09</td>\n",
       "      <td>1.000000</td>\n",
       "      <td>3.000000</td>\n",
       "      <td>3.000000</td>\n",
       "      <td>77.000000</td>\n",
       "      <td>5.000000</td>\n",
       "      <td>1.000000</td>\n",
       "      <td>7479.000000</td>\n",
       "      <td>...</td>\n",
       "      <td>255.000000</td>\n",
       "      <td>1.000000</td>\n",
       "      <td>1.000000</td>\n",
       "      <td>1.000000</td>\n",
       "      <td>1.000000</td>\n",
       "      <td>1.000000</td>\n",
       "      <td>1.000000</td>\n",
       "      <td>1.000000</td>\n",
       "      <td>1.000000</td>\n",
       "      <td>21.000000</td>\n",
       "    </tr>\n",
       "  </tbody>\n",
       "</table>\n",
       "<p>8 rows × 39 columns</p>\n",
       "</div>"
      ],
      "text/plain": [
       "            duration     src_bytes     dst_bytes           land  \\\n",
       "count  125972.000000  1.259720e+05  1.259720e+05  125972.000000   \n",
       "mean      287.146929  4.556710e+04  1.977927e+04       0.000198   \n",
       "std      2604.525522  5.870354e+06  4.021285e+06       0.014086   \n",
       "min         0.000000  0.000000e+00  0.000000e+00       0.000000   \n",
       "25%         0.000000  0.000000e+00  0.000000e+00       0.000000   \n",
       "50%         0.000000  4.400000e+01  0.000000e+00       0.000000   \n",
       "75%         0.000000  2.760000e+02  5.160000e+02       0.000000   \n",
       "max     42908.000000  1.379964e+09  1.309937e+09       1.000000   \n",
       "\n",
       "       wrong_fragment         urgent            hot  num_failed_logins  \\\n",
       "count   125972.000000  125972.000000  125972.000000      125972.000000   \n",
       "mean         0.022688       0.000111       0.204411           0.001222   \n",
       "std          0.253531       0.014366       2.149977           0.045239   \n",
       "min          0.000000       0.000000       0.000000           0.000000   \n",
       "25%          0.000000       0.000000       0.000000           0.000000   \n",
       "50%          0.000000       0.000000       0.000000           0.000000   \n",
       "75%          0.000000       0.000000       0.000000           0.000000   \n",
       "max          3.000000       3.000000      77.000000           5.000000   \n",
       "\n",
       "           logged_in  num_compromised  ...  dst_host_srv_count  \\\n",
       "count  125972.000000    125972.000000  ...       125972.000000   \n",
       "mean        0.395739         0.279253  ...          115.653725   \n",
       "std         0.489011        23.942137  ...          110.702886   \n",
       "min         0.000000         0.000000  ...            0.000000   \n",
       "25%         0.000000         0.000000  ...           10.000000   \n",
       "50%         0.000000         0.000000  ...           63.000000   \n",
       "75%         1.000000         0.000000  ...          255.000000   \n",
       "max         1.000000      7479.000000  ...          255.000000   \n",
       "\n",
       "       dst_host_same_srv_rate  dst_host_diff_srv_rate  \\\n",
       "count           125972.000000           125972.000000   \n",
       "mean                 0.521244                0.082952   \n",
       "std                  0.448950                0.188922   \n",
       "min                  0.000000                0.000000   \n",
       "25%                  0.050000                0.000000   \n",
       "50%                  0.510000                0.020000   \n",
       "75%                  1.000000                0.070000   \n",
       "max                  1.000000                1.000000   \n",
       "\n",
       "       dst_host_same_src_port_rate  dst_host_srv_diff_host_rate  \\\n",
       "count                125972.000000                125972.000000   \n",
       "mean                      0.148379                     0.032543   \n",
       "std                       0.308998                     0.112564   \n",
       "min                       0.000000                     0.000000   \n",
       "25%                       0.000000                     0.000000   \n",
       "50%                       0.000000                     0.000000   \n",
       "75%                       0.060000                     0.020000   \n",
       "max                       1.000000                     1.000000   \n",
       "\n",
       "       dst_host_serror_rate  dst_host_srv_serror_rate  dst_host_rerror_rate  \\\n",
       "count         125972.000000             125972.000000         125972.000000   \n",
       "mean               0.284455                  0.278487              0.118832   \n",
       "std                0.444785                  0.445670              0.306559   \n",
       "min                0.000000                  0.000000              0.000000   \n",
       "25%                0.000000                  0.000000              0.000000   \n",
       "50%                0.000000                  0.000000              0.000000   \n",
       "75%                1.000000                  1.000000              0.000000   \n",
       "max                1.000000                  1.000000              1.000000   \n",
       "\n",
       "       dst_host_srv_rerror_rate      last_flag  \n",
       "count             125972.000000  125972.000000  \n",
       "mean                   0.120241      19.504056  \n",
       "std                    0.319460       2.291512  \n",
       "min                    0.000000       0.000000  \n",
       "25%                    0.000000      18.000000  \n",
       "50%                    0.000000      20.000000  \n",
       "75%                    0.000000      21.000000  \n",
       "max                    1.000000      21.000000  \n",
       "\n",
       "[8 rows x 39 columns]"
      ]
     },
     "execution_count": 11,
     "metadata": {},
     "output_type": "execute_result"
    }
   ],
   "source": [
    "data_train.describe()"
   ]
  },
  {
   "cell_type": "code",
   "execution_count": 12,
   "id": "d98bfa5b",
   "metadata": {},
   "outputs": [
    {
     "data": {
      "text/plain": [
       "0    125972\n",
       "Name: num_outbound_cmds, dtype: int64"
      ]
     },
     "execution_count": 12,
     "metadata": {},
     "output_type": "execute_result"
    }
   ],
   "source": [
    "data_train.num_outbound_cmds.value_counts()"
   ]
  },
  {
   "cell_type": "code",
   "execution_count": 13,
   "id": "5925c1e0",
   "metadata": {},
   "outputs": [
    {
     "data": {
      "text/plain": [
       "0    22543\n",
       "Name: num_outbound_cmds, dtype: int64"
      ]
     },
     "execution_count": 13,
     "metadata": {},
     "output_type": "execute_result"
    }
   ],
   "source": [
    "data_test.num_outbound_cmds.value_counts()"
   ]
  },
  {
   "cell_type": "code",
   "execution_count": 14,
   "id": "08900cad",
   "metadata": {},
   "outputs": [],
   "source": [
    "#Removing the feature 'num_outbound_cmds' because of constant values in it\n",
    "data_train.drop(columns='num_outbound_cmds',inplace=True)\n",
    "data_test.drop(columns='num_outbound_cmds',inplace=True)"
   ]
  },
  {
   "cell_type": "markdown",
   "id": "29a63303",
   "metadata": {},
   "source": [
    "## Missing Value Treatment"
   ]
  },
  {
   "cell_type": "code",
   "execution_count": 15,
   "id": "f5275b41",
   "metadata": {},
   "outputs": [
    {
     "data": {
      "text/plain": [
       "duration                       0\n",
       "protocol_type                  0\n",
       "service                        0\n",
       "flag                           0\n",
       "src_bytes                      0\n",
       "dst_bytes                      0\n",
       "land                           0\n",
       "wrong_fragment                 0\n",
       "urgent                         0\n",
       "hot                            0\n",
       "num_failed_logins              0\n",
       "logged_in                      0\n",
       "num_compromised                0\n",
       "root_shell                     0\n",
       "su_attempted                   0\n",
       "num_root                       0\n",
       "num_file_creations             0\n",
       "num_shells                     0\n",
       "num_access_files               0\n",
       "is_host_login                  0\n",
       "is_guest_login                 0\n",
       "count                          0\n",
       "srv_count                      0\n",
       "serror_rate                    0\n",
       "srv_serror_rate                0\n",
       "rerror_rate                    0\n",
       "srv_rerror_rate                0\n",
       "same_srv_rate                  0\n",
       "diff_srv_rate                  0\n",
       "srv_diff_host_rate             0\n",
       "dst_host_count                 0\n",
       "dst_host_srv_count             0\n",
       "dst_host_same_srv_rate         0\n",
       "dst_host_diff_srv_rate         0\n",
       "dst_host_same_src_port_rate    0\n",
       "dst_host_srv_diff_host_rate    0\n",
       "dst_host_serror_rate           0\n",
       "dst_host_srv_serror_rate       0\n",
       "dst_host_rerror_rate           0\n",
       "dst_host_srv_rerror_rate       0\n",
       "attack                         0\n",
       "last_flag                      0\n",
       "dtype: int64"
      ]
     },
     "execution_count": 15,
     "metadata": {},
     "output_type": "execute_result"
    }
   ],
   "source": [
    "data_train.isna().sum()"
   ]
  },
  {
   "cell_type": "markdown",
   "id": "36503cc6",
   "metadata": {},
   "source": [
    "## Check for Duplicate Rows"
   ]
  },
  {
   "cell_type": "code",
   "execution_count": 16,
   "id": "21cfab39",
   "metadata": {},
   "outputs": [
    {
     "data": {
      "text/plain": [
       "0"
      ]
     },
     "execution_count": 16,
     "metadata": {},
     "output_type": "execute_result"
    }
   ],
   "source": [
    "data_train.duplicated().sum()"
   ]
  },
  {
   "cell_type": "markdown",
   "id": "472dad85",
   "metadata": {},
   "source": [
    "## Scalling Continious Features"
   ]
  },
  {
   "cell_type": "code",
   "execution_count": 17,
   "id": "a43cedef",
   "metadata": {},
   "outputs": [
    {
     "data": {
      "text/plain": [
       "duration                         int64\n",
       "protocol_type                   object\n",
       "service                         object\n",
       "flag                            object\n",
       "src_bytes                        int64\n",
       "dst_bytes                        int64\n",
       "land                             int64\n",
       "wrong_fragment                   int64\n",
       "urgent                           int64\n",
       "hot                              int64\n",
       "num_failed_logins                int64\n",
       "logged_in                        int64\n",
       "num_compromised                  int64\n",
       "root_shell                       int64\n",
       "su_attempted                     int64\n",
       "num_root                         int64\n",
       "num_file_creations               int64\n",
       "num_shells                       int64\n",
       "num_access_files                 int64\n",
       "is_host_login                    int64\n",
       "is_guest_login                   int64\n",
       "count                            int64\n",
       "srv_count                        int64\n",
       "serror_rate                    float64\n",
       "srv_serror_rate                float64\n",
       "rerror_rate                    float64\n",
       "srv_rerror_rate                float64\n",
       "same_srv_rate                  float64\n",
       "diff_srv_rate                  float64\n",
       "srv_diff_host_rate             float64\n",
       "dst_host_count                   int64\n",
       "dst_host_srv_count               int64\n",
       "dst_host_same_srv_rate         float64\n",
       "dst_host_diff_srv_rate         float64\n",
       "dst_host_same_src_port_rate    float64\n",
       "dst_host_srv_diff_host_rate    float64\n",
       "dst_host_serror_rate           float64\n",
       "dst_host_srv_serror_rate       float64\n",
       "dst_host_rerror_rate           float64\n",
       "dst_host_srv_rerror_rate       float64\n",
       "attack                          object\n",
       "last_flag                        int64\n",
       "dtype: object"
      ]
     },
     "execution_count": 17,
     "metadata": {},
     "output_type": "execute_result"
    }
   ],
   "source": [
    "data_train.dtypes"
   ]
  },
  {
   "cell_type": "code",
   "execution_count": 18,
   "id": "f7d44ee7",
   "metadata": {},
   "outputs": [
    {
     "data": {
      "text/html": [
       "<div>\n",
       "<style scoped>\n",
       "    .dataframe tbody tr th:only-of-type {\n",
       "        vertical-align: middle;\n",
       "    }\n",
       "\n",
       "    .dataframe tbody tr th {\n",
       "        vertical-align: top;\n",
       "    }\n",
       "\n",
       "    .dataframe thead th {\n",
       "        text-align: right;\n",
       "    }\n",
       "</style>\n",
       "<table border=\"1\" class=\"dataframe\">\n",
       "  <thead>\n",
       "    <tr style=\"text-align: right;\">\n",
       "      <th></th>\n",
       "      <th>count</th>\n",
       "      <th>mean</th>\n",
       "      <th>std</th>\n",
       "      <th>min</th>\n",
       "      <th>25%</th>\n",
       "      <th>50%</th>\n",
       "      <th>75%</th>\n",
       "      <th>max</th>\n",
       "    </tr>\n",
       "  </thead>\n",
       "  <tbody>\n",
       "    <tr>\n",
       "      <th>duration</th>\n",
       "      <td>125972.0</td>\n",
       "      <td>287.146929</td>\n",
       "      <td>2.604526e+03</td>\n",
       "      <td>0.0</td>\n",
       "      <td>0.00</td>\n",
       "      <td>0.00</td>\n",
       "      <td>0.00</td>\n",
       "      <td>4.290800e+04</td>\n",
       "    </tr>\n",
       "    <tr>\n",
       "      <th>src_bytes</th>\n",
       "      <td>125972.0</td>\n",
       "      <td>45567.100824</td>\n",
       "      <td>5.870354e+06</td>\n",
       "      <td>0.0</td>\n",
       "      <td>0.00</td>\n",
       "      <td>44.00</td>\n",
       "      <td>276.00</td>\n",
       "      <td>1.379964e+09</td>\n",
       "    </tr>\n",
       "    <tr>\n",
       "      <th>dst_bytes</th>\n",
       "      <td>125972.0</td>\n",
       "      <td>19779.271433</td>\n",
       "      <td>4.021285e+06</td>\n",
       "      <td>0.0</td>\n",
       "      <td>0.00</td>\n",
       "      <td>0.00</td>\n",
       "      <td>516.00</td>\n",
       "      <td>1.309937e+09</td>\n",
       "    </tr>\n",
       "    <tr>\n",
       "      <th>land</th>\n",
       "      <td>125972.0</td>\n",
       "      <td>0.000198</td>\n",
       "      <td>1.408613e-02</td>\n",
       "      <td>0.0</td>\n",
       "      <td>0.00</td>\n",
       "      <td>0.00</td>\n",
       "      <td>0.00</td>\n",
       "      <td>1.000000e+00</td>\n",
       "    </tr>\n",
       "    <tr>\n",
       "      <th>wrong_fragment</th>\n",
       "      <td>125972.0</td>\n",
       "      <td>0.022688</td>\n",
       "      <td>2.535310e-01</td>\n",
       "      <td>0.0</td>\n",
       "      <td>0.00</td>\n",
       "      <td>0.00</td>\n",
       "      <td>0.00</td>\n",
       "      <td>3.000000e+00</td>\n",
       "    </tr>\n",
       "    <tr>\n",
       "      <th>urgent</th>\n",
       "      <td>125972.0</td>\n",
       "      <td>0.000111</td>\n",
       "      <td>1.436608e-02</td>\n",
       "      <td>0.0</td>\n",
       "      <td>0.00</td>\n",
       "      <td>0.00</td>\n",
       "      <td>0.00</td>\n",
       "      <td>3.000000e+00</td>\n",
       "    </tr>\n",
       "    <tr>\n",
       "      <th>hot</th>\n",
       "      <td>125972.0</td>\n",
       "      <td>0.204411</td>\n",
       "      <td>2.149977e+00</td>\n",
       "      <td>0.0</td>\n",
       "      <td>0.00</td>\n",
       "      <td>0.00</td>\n",
       "      <td>0.00</td>\n",
       "      <td>7.700000e+01</td>\n",
       "    </tr>\n",
       "    <tr>\n",
       "      <th>num_failed_logins</th>\n",
       "      <td>125972.0</td>\n",
       "      <td>0.001222</td>\n",
       "      <td>4.523932e-02</td>\n",
       "      <td>0.0</td>\n",
       "      <td>0.00</td>\n",
       "      <td>0.00</td>\n",
       "      <td>0.00</td>\n",
       "      <td>5.000000e+00</td>\n",
       "    </tr>\n",
       "    <tr>\n",
       "      <th>logged_in</th>\n",
       "      <td>125972.0</td>\n",
       "      <td>0.395739</td>\n",
       "      <td>4.890107e-01</td>\n",
       "      <td>0.0</td>\n",
       "      <td>0.00</td>\n",
       "      <td>0.00</td>\n",
       "      <td>1.00</td>\n",
       "      <td>1.000000e+00</td>\n",
       "    </tr>\n",
       "    <tr>\n",
       "      <th>num_compromised</th>\n",
       "      <td>125972.0</td>\n",
       "      <td>0.279253</td>\n",
       "      <td>2.394214e+01</td>\n",
       "      <td>0.0</td>\n",
       "      <td>0.00</td>\n",
       "      <td>0.00</td>\n",
       "      <td>0.00</td>\n",
       "      <td>7.479000e+03</td>\n",
       "    </tr>\n",
       "    <tr>\n",
       "      <th>root_shell</th>\n",
       "      <td>125972.0</td>\n",
       "      <td>0.001342</td>\n",
       "      <td>3.660299e-02</td>\n",
       "      <td>0.0</td>\n",
       "      <td>0.00</td>\n",
       "      <td>0.00</td>\n",
       "      <td>0.00</td>\n",
       "      <td>1.000000e+00</td>\n",
       "    </tr>\n",
       "    <tr>\n",
       "      <th>su_attempted</th>\n",
       "      <td>125972.0</td>\n",
       "      <td>0.001103</td>\n",
       "      <td>4.515456e-02</td>\n",
       "      <td>0.0</td>\n",
       "      <td>0.00</td>\n",
       "      <td>0.00</td>\n",
       "      <td>0.00</td>\n",
       "      <td>2.000000e+00</td>\n",
       "    </tr>\n",
       "    <tr>\n",
       "      <th>num_root</th>\n",
       "      <td>125972.0</td>\n",
       "      <td>0.302194</td>\n",
       "      <td>2.439971e+01</td>\n",
       "      <td>0.0</td>\n",
       "      <td>0.00</td>\n",
       "      <td>0.00</td>\n",
       "      <td>0.00</td>\n",
       "      <td>7.468000e+03</td>\n",
       "    </tr>\n",
       "    <tr>\n",
       "      <th>num_file_creations</th>\n",
       "      <td>125972.0</td>\n",
       "      <td>0.012669</td>\n",
       "      <td>4.839370e-01</td>\n",
       "      <td>0.0</td>\n",
       "      <td>0.00</td>\n",
       "      <td>0.00</td>\n",
       "      <td>0.00</td>\n",
       "      <td>4.300000e+01</td>\n",
       "    </tr>\n",
       "    <tr>\n",
       "      <th>num_shells</th>\n",
       "      <td>125972.0</td>\n",
       "      <td>0.000413</td>\n",
       "      <td>2.218122e-02</td>\n",
       "      <td>0.0</td>\n",
       "      <td>0.00</td>\n",
       "      <td>0.00</td>\n",
       "      <td>0.00</td>\n",
       "      <td>2.000000e+00</td>\n",
       "    </tr>\n",
       "    <tr>\n",
       "      <th>num_access_files</th>\n",
       "      <td>125972.0</td>\n",
       "      <td>0.004096</td>\n",
       "      <td>9.936995e-02</td>\n",
       "      <td>0.0</td>\n",
       "      <td>0.00</td>\n",
       "      <td>0.00</td>\n",
       "      <td>0.00</td>\n",
       "      <td>9.000000e+00</td>\n",
       "    </tr>\n",
       "    <tr>\n",
       "      <th>is_host_login</th>\n",
       "      <td>125972.0</td>\n",
       "      <td>0.000008</td>\n",
       "      <td>2.817494e-03</td>\n",
       "      <td>0.0</td>\n",
       "      <td>0.00</td>\n",
       "      <td>0.00</td>\n",
       "      <td>0.00</td>\n",
       "      <td>1.000000e+00</td>\n",
       "    </tr>\n",
       "    <tr>\n",
       "      <th>is_guest_login</th>\n",
       "      <td>125972.0</td>\n",
       "      <td>0.009423</td>\n",
       "      <td>9.661271e-02</td>\n",
       "      <td>0.0</td>\n",
       "      <td>0.00</td>\n",
       "      <td>0.00</td>\n",
       "      <td>0.00</td>\n",
       "      <td>1.000000e+00</td>\n",
       "    </tr>\n",
       "    <tr>\n",
       "      <th>count</th>\n",
       "      <td>125972.0</td>\n",
       "      <td>84.108207</td>\n",
       "      <td>1.145088e+02</td>\n",
       "      <td>0.0</td>\n",
       "      <td>2.00</td>\n",
       "      <td>14.00</td>\n",
       "      <td>143.00</td>\n",
       "      <td>5.110000e+02</td>\n",
       "    </tr>\n",
       "    <tr>\n",
       "      <th>srv_count</th>\n",
       "      <td>125972.0</td>\n",
       "      <td>27.738093</td>\n",
       "      <td>7.263609e+01</td>\n",
       "      <td>0.0</td>\n",
       "      <td>2.00</td>\n",
       "      <td>8.00</td>\n",
       "      <td>18.00</td>\n",
       "      <td>5.110000e+02</td>\n",
       "    </tr>\n",
       "    <tr>\n",
       "      <th>serror_rate</th>\n",
       "      <td>125972.0</td>\n",
       "      <td>0.284487</td>\n",
       "      <td>4.464567e-01</td>\n",
       "      <td>0.0</td>\n",
       "      <td>0.00</td>\n",
       "      <td>0.00</td>\n",
       "      <td>1.00</td>\n",
       "      <td>1.000000e+00</td>\n",
       "    </tr>\n",
       "    <tr>\n",
       "      <th>srv_serror_rate</th>\n",
       "      <td>125972.0</td>\n",
       "      <td>0.282488</td>\n",
       "      <td>4.470236e-01</td>\n",
       "      <td>0.0</td>\n",
       "      <td>0.00</td>\n",
       "      <td>0.00</td>\n",
       "      <td>1.00</td>\n",
       "      <td>1.000000e+00</td>\n",
       "    </tr>\n",
       "    <tr>\n",
       "      <th>rerror_rate</th>\n",
       "      <td>125972.0</td>\n",
       "      <td>0.119959</td>\n",
       "      <td>3.204366e-01</td>\n",
       "      <td>0.0</td>\n",
       "      <td>0.00</td>\n",
       "      <td>0.00</td>\n",
       "      <td>0.00</td>\n",
       "      <td>1.000000e+00</td>\n",
       "    </tr>\n",
       "    <tr>\n",
       "      <th>srv_rerror_rate</th>\n",
       "      <td>125972.0</td>\n",
       "      <td>0.121184</td>\n",
       "      <td>3.236483e-01</td>\n",
       "      <td>0.0</td>\n",
       "      <td>0.00</td>\n",
       "      <td>0.00</td>\n",
       "      <td>0.00</td>\n",
       "      <td>1.000000e+00</td>\n",
       "    </tr>\n",
       "    <tr>\n",
       "      <th>same_srv_rate</th>\n",
       "      <td>125972.0</td>\n",
       "      <td>0.660925</td>\n",
       "      <td>4.396236e-01</td>\n",
       "      <td>0.0</td>\n",
       "      <td>0.09</td>\n",
       "      <td>1.00</td>\n",
       "      <td>1.00</td>\n",
       "      <td>1.000000e+00</td>\n",
       "    </tr>\n",
       "    <tr>\n",
       "      <th>diff_srv_rate</th>\n",
       "      <td>125972.0</td>\n",
       "      <td>0.063053</td>\n",
       "      <td>1.803150e-01</td>\n",
       "      <td>0.0</td>\n",
       "      <td>0.00</td>\n",
       "      <td>0.00</td>\n",
       "      <td>0.06</td>\n",
       "      <td>1.000000e+00</td>\n",
       "    </tr>\n",
       "    <tr>\n",
       "      <th>srv_diff_host_rate</th>\n",
       "      <td>125972.0</td>\n",
       "      <td>0.097322</td>\n",
       "      <td>2.598314e-01</td>\n",
       "      <td>0.0</td>\n",
       "      <td>0.00</td>\n",
       "      <td>0.00</td>\n",
       "      <td>0.00</td>\n",
       "      <td>1.000000e+00</td>\n",
       "    </tr>\n",
       "    <tr>\n",
       "      <th>dst_host_count</th>\n",
       "      <td>125972.0</td>\n",
       "      <td>182.149200</td>\n",
       "      <td>9.920657e+01</td>\n",
       "      <td>0.0</td>\n",
       "      <td>82.00</td>\n",
       "      <td>255.00</td>\n",
       "      <td>255.00</td>\n",
       "      <td>2.550000e+02</td>\n",
       "    </tr>\n",
       "    <tr>\n",
       "      <th>dst_host_srv_count</th>\n",
       "      <td>125972.0</td>\n",
       "      <td>115.653725</td>\n",
       "      <td>1.107029e+02</td>\n",
       "      <td>0.0</td>\n",
       "      <td>10.00</td>\n",
       "      <td>63.00</td>\n",
       "      <td>255.00</td>\n",
       "      <td>2.550000e+02</td>\n",
       "    </tr>\n",
       "    <tr>\n",
       "      <th>dst_host_same_srv_rate</th>\n",
       "      <td>125972.0</td>\n",
       "      <td>0.521244</td>\n",
       "      <td>4.489501e-01</td>\n",
       "      <td>0.0</td>\n",
       "      <td>0.05</td>\n",
       "      <td>0.51</td>\n",
       "      <td>1.00</td>\n",
       "      <td>1.000000e+00</td>\n",
       "    </tr>\n",
       "    <tr>\n",
       "      <th>dst_host_diff_srv_rate</th>\n",
       "      <td>125972.0</td>\n",
       "      <td>0.082952</td>\n",
       "      <td>1.889225e-01</td>\n",
       "      <td>0.0</td>\n",
       "      <td>0.00</td>\n",
       "      <td>0.02</td>\n",
       "      <td>0.07</td>\n",
       "      <td>1.000000e+00</td>\n",
       "    </tr>\n",
       "    <tr>\n",
       "      <th>dst_host_same_src_port_rate</th>\n",
       "      <td>125972.0</td>\n",
       "      <td>0.148379</td>\n",
       "      <td>3.089984e-01</td>\n",
       "      <td>0.0</td>\n",
       "      <td>0.00</td>\n",
       "      <td>0.00</td>\n",
       "      <td>0.06</td>\n",
       "      <td>1.000000e+00</td>\n",
       "    </tr>\n",
       "    <tr>\n",
       "      <th>dst_host_srv_diff_host_rate</th>\n",
       "      <td>125972.0</td>\n",
       "      <td>0.032543</td>\n",
       "      <td>1.125642e-01</td>\n",
       "      <td>0.0</td>\n",
       "      <td>0.00</td>\n",
       "      <td>0.00</td>\n",
       "      <td>0.02</td>\n",
       "      <td>1.000000e+00</td>\n",
       "    </tr>\n",
       "    <tr>\n",
       "      <th>dst_host_serror_rate</th>\n",
       "      <td>125972.0</td>\n",
       "      <td>0.284455</td>\n",
       "      <td>4.447851e-01</td>\n",
       "      <td>0.0</td>\n",
       "      <td>0.00</td>\n",
       "      <td>0.00</td>\n",
       "      <td>1.00</td>\n",
       "      <td>1.000000e+00</td>\n",
       "    </tr>\n",
       "    <tr>\n",
       "      <th>dst_host_srv_serror_rate</th>\n",
       "      <td>125972.0</td>\n",
       "      <td>0.278487</td>\n",
       "      <td>4.456702e-01</td>\n",
       "      <td>0.0</td>\n",
       "      <td>0.00</td>\n",
       "      <td>0.00</td>\n",
       "      <td>1.00</td>\n",
       "      <td>1.000000e+00</td>\n",
       "    </tr>\n",
       "    <tr>\n",
       "      <th>dst_host_rerror_rate</th>\n",
       "      <td>125972.0</td>\n",
       "      <td>0.118832</td>\n",
       "      <td>3.065586e-01</td>\n",
       "      <td>0.0</td>\n",
       "      <td>0.00</td>\n",
       "      <td>0.00</td>\n",
       "      <td>0.00</td>\n",
       "      <td>1.000000e+00</td>\n",
       "    </tr>\n",
       "    <tr>\n",
       "      <th>dst_host_srv_rerror_rate</th>\n",
       "      <td>125972.0</td>\n",
       "      <td>0.120241</td>\n",
       "      <td>3.194605e-01</td>\n",
       "      <td>0.0</td>\n",
       "      <td>0.00</td>\n",
       "      <td>0.00</td>\n",
       "      <td>0.00</td>\n",
       "      <td>1.000000e+00</td>\n",
       "    </tr>\n",
       "    <tr>\n",
       "      <th>last_flag</th>\n",
       "      <td>125972.0</td>\n",
       "      <td>19.504056</td>\n",
       "      <td>2.291512e+00</td>\n",
       "      <td>0.0</td>\n",
       "      <td>18.00</td>\n",
       "      <td>20.00</td>\n",
       "      <td>21.00</td>\n",
       "      <td>2.100000e+01</td>\n",
       "    </tr>\n",
       "  </tbody>\n",
       "</table>\n",
       "</div>"
      ],
      "text/plain": [
       "                                count          mean           std  min    25%  \\\n",
       "duration                     125972.0    287.146929  2.604526e+03  0.0   0.00   \n",
       "src_bytes                    125972.0  45567.100824  5.870354e+06  0.0   0.00   \n",
       "dst_bytes                    125972.0  19779.271433  4.021285e+06  0.0   0.00   \n",
       "land                         125972.0      0.000198  1.408613e-02  0.0   0.00   \n",
       "wrong_fragment               125972.0      0.022688  2.535310e-01  0.0   0.00   \n",
       "urgent                       125972.0      0.000111  1.436608e-02  0.0   0.00   \n",
       "hot                          125972.0      0.204411  2.149977e+00  0.0   0.00   \n",
       "num_failed_logins            125972.0      0.001222  4.523932e-02  0.0   0.00   \n",
       "logged_in                    125972.0      0.395739  4.890107e-01  0.0   0.00   \n",
       "num_compromised              125972.0      0.279253  2.394214e+01  0.0   0.00   \n",
       "root_shell                   125972.0      0.001342  3.660299e-02  0.0   0.00   \n",
       "su_attempted                 125972.0      0.001103  4.515456e-02  0.0   0.00   \n",
       "num_root                     125972.0      0.302194  2.439971e+01  0.0   0.00   \n",
       "num_file_creations           125972.0      0.012669  4.839370e-01  0.0   0.00   \n",
       "num_shells                   125972.0      0.000413  2.218122e-02  0.0   0.00   \n",
       "num_access_files             125972.0      0.004096  9.936995e-02  0.0   0.00   \n",
       "is_host_login                125972.0      0.000008  2.817494e-03  0.0   0.00   \n",
       "is_guest_login               125972.0      0.009423  9.661271e-02  0.0   0.00   \n",
       "count                        125972.0     84.108207  1.145088e+02  0.0   2.00   \n",
       "srv_count                    125972.0     27.738093  7.263609e+01  0.0   2.00   \n",
       "serror_rate                  125972.0      0.284487  4.464567e-01  0.0   0.00   \n",
       "srv_serror_rate              125972.0      0.282488  4.470236e-01  0.0   0.00   \n",
       "rerror_rate                  125972.0      0.119959  3.204366e-01  0.0   0.00   \n",
       "srv_rerror_rate              125972.0      0.121184  3.236483e-01  0.0   0.00   \n",
       "same_srv_rate                125972.0      0.660925  4.396236e-01  0.0   0.09   \n",
       "diff_srv_rate                125972.0      0.063053  1.803150e-01  0.0   0.00   \n",
       "srv_diff_host_rate           125972.0      0.097322  2.598314e-01  0.0   0.00   \n",
       "dst_host_count               125972.0    182.149200  9.920657e+01  0.0  82.00   \n",
       "dst_host_srv_count           125972.0    115.653725  1.107029e+02  0.0  10.00   \n",
       "dst_host_same_srv_rate       125972.0      0.521244  4.489501e-01  0.0   0.05   \n",
       "dst_host_diff_srv_rate       125972.0      0.082952  1.889225e-01  0.0   0.00   \n",
       "dst_host_same_src_port_rate  125972.0      0.148379  3.089984e-01  0.0   0.00   \n",
       "dst_host_srv_diff_host_rate  125972.0      0.032543  1.125642e-01  0.0   0.00   \n",
       "dst_host_serror_rate         125972.0      0.284455  4.447851e-01  0.0   0.00   \n",
       "dst_host_srv_serror_rate     125972.0      0.278487  4.456702e-01  0.0   0.00   \n",
       "dst_host_rerror_rate         125972.0      0.118832  3.065586e-01  0.0   0.00   \n",
       "dst_host_srv_rerror_rate     125972.0      0.120241  3.194605e-01  0.0   0.00   \n",
       "last_flag                    125972.0     19.504056  2.291512e+00  0.0  18.00   \n",
       "\n",
       "                                50%     75%           max  \n",
       "duration                       0.00    0.00  4.290800e+04  \n",
       "src_bytes                     44.00  276.00  1.379964e+09  \n",
       "dst_bytes                      0.00  516.00  1.309937e+09  \n",
       "land                           0.00    0.00  1.000000e+00  \n",
       "wrong_fragment                 0.00    0.00  3.000000e+00  \n",
       "urgent                         0.00    0.00  3.000000e+00  \n",
       "hot                            0.00    0.00  7.700000e+01  \n",
       "num_failed_logins              0.00    0.00  5.000000e+00  \n",
       "logged_in                      0.00    1.00  1.000000e+00  \n",
       "num_compromised                0.00    0.00  7.479000e+03  \n",
       "root_shell                     0.00    0.00  1.000000e+00  \n",
       "su_attempted                   0.00    0.00  2.000000e+00  \n",
       "num_root                       0.00    0.00  7.468000e+03  \n",
       "num_file_creations             0.00    0.00  4.300000e+01  \n",
       "num_shells                     0.00    0.00  2.000000e+00  \n",
       "num_access_files               0.00    0.00  9.000000e+00  \n",
       "is_host_login                  0.00    0.00  1.000000e+00  \n",
       "is_guest_login                 0.00    0.00  1.000000e+00  \n",
       "count                         14.00  143.00  5.110000e+02  \n",
       "srv_count                      8.00   18.00  5.110000e+02  \n",
       "serror_rate                    0.00    1.00  1.000000e+00  \n",
       "srv_serror_rate                0.00    1.00  1.000000e+00  \n",
       "rerror_rate                    0.00    0.00  1.000000e+00  \n",
       "srv_rerror_rate                0.00    0.00  1.000000e+00  \n",
       "same_srv_rate                  1.00    1.00  1.000000e+00  \n",
       "diff_srv_rate                  0.00    0.06  1.000000e+00  \n",
       "srv_diff_host_rate             0.00    0.00  1.000000e+00  \n",
       "dst_host_count               255.00  255.00  2.550000e+02  \n",
       "dst_host_srv_count            63.00  255.00  2.550000e+02  \n",
       "dst_host_same_srv_rate         0.51    1.00  1.000000e+00  \n",
       "dst_host_diff_srv_rate         0.02    0.07  1.000000e+00  \n",
       "dst_host_same_src_port_rate    0.00    0.06  1.000000e+00  \n",
       "dst_host_srv_diff_host_rate    0.00    0.02  1.000000e+00  \n",
       "dst_host_serror_rate           0.00    1.00  1.000000e+00  \n",
       "dst_host_srv_serror_rate       0.00    1.00  1.000000e+00  \n",
       "dst_host_rerror_rate           0.00    0.00  1.000000e+00  \n",
       "dst_host_srv_rerror_rate       0.00    0.00  1.000000e+00  \n",
       "last_flag                     20.00   21.00  2.100000e+01  "
      ]
     },
     "execution_count": 18,
     "metadata": {},
     "output_type": "execute_result"
    }
   ],
   "source": [
    "data_train.select_dtypes(include=['int64','float64']).describe().T"
   ]
  },
  {
   "cell_type": "code",
   "execution_count": 19,
   "id": "64090242",
   "metadata": {},
   "outputs": [],
   "source": [
    "cont_cols=data_train.select_dtypes(include=['int64','float64']).columns"
   ]
  },
  {
   "cell_type": "code",
   "execution_count": 20,
   "id": "cb8ee162",
   "metadata": {},
   "outputs": [],
   "source": [
    "scaler = StandardScaler()\n",
    "sc_train = scaler.fit_transform(data_train.select_dtypes(include=['float64','int64']))\n",
    "sc_test = scaler.fit_transform(data_test.select_dtypes(include=['float64','int64']))"
   ]
  },
  {
   "cell_type": "code",
   "execution_count": 21,
   "id": "5718286d",
   "metadata": {},
   "outputs": [],
   "source": [
    "sc_traindf = pd.DataFrame(sc_train, columns = cont_cols)\n",
    "sc_testdf = pd.DataFrame(sc_test, columns = cont_cols)"
   ]
  },
  {
   "cell_type": "markdown",
   "id": "0038f07c",
   "metadata": {},
   "source": [
    "## Encoding Categorical Features"
   ]
  },
  {
   "cell_type": "code",
   "execution_count": 22,
   "id": "bc583e43",
   "metadata": {},
   "outputs": [
    {
     "data": {
      "text/html": [
       "<div>\n",
       "<style scoped>\n",
       "    .dataframe tbody tr th:only-of-type {\n",
       "        vertical-align: middle;\n",
       "    }\n",
       "\n",
       "    .dataframe tbody tr th {\n",
       "        vertical-align: top;\n",
       "    }\n",
       "\n",
       "    .dataframe thead th {\n",
       "        text-align: right;\n",
       "    }\n",
       "</style>\n",
       "<table border=\"1\" class=\"dataframe\">\n",
       "  <thead>\n",
       "    <tr style=\"text-align: right;\">\n",
       "      <th></th>\n",
       "      <th>protocol_type</th>\n",
       "      <th>service</th>\n",
       "      <th>flag</th>\n",
       "      <th>attack</th>\n",
       "    </tr>\n",
       "  </thead>\n",
       "  <tbody>\n",
       "    <tr>\n",
       "      <th>0</th>\n",
       "      <td>udp</td>\n",
       "      <td>other</td>\n",
       "      <td>SF</td>\n",
       "      <td>normal</td>\n",
       "    </tr>\n",
       "    <tr>\n",
       "      <th>1</th>\n",
       "      <td>tcp</td>\n",
       "      <td>private</td>\n",
       "      <td>S0</td>\n",
       "      <td>neptune</td>\n",
       "    </tr>\n",
       "    <tr>\n",
       "      <th>2</th>\n",
       "      <td>tcp</td>\n",
       "      <td>http</td>\n",
       "      <td>SF</td>\n",
       "      <td>normal</td>\n",
       "    </tr>\n",
       "    <tr>\n",
       "      <th>3</th>\n",
       "      <td>tcp</td>\n",
       "      <td>http</td>\n",
       "      <td>SF</td>\n",
       "      <td>normal</td>\n",
       "    </tr>\n",
       "    <tr>\n",
       "      <th>4</th>\n",
       "      <td>tcp</td>\n",
       "      <td>private</td>\n",
       "      <td>REJ</td>\n",
       "      <td>neptune</td>\n",
       "    </tr>\n",
       "  </tbody>\n",
       "</table>\n",
       "</div>"
      ],
      "text/plain": [
       "  protocol_type  service flag   attack\n",
       "0           udp    other   SF   normal\n",
       "1           tcp  private   S0  neptune\n",
       "2           tcp     http   SF   normal\n",
       "3           tcp     http   SF   normal\n",
       "4           tcp  private  REJ  neptune"
      ]
     },
     "execution_count": 22,
     "metadata": {},
     "output_type": "execute_result"
    }
   ],
   "source": [
    "data_train.select_dtypes(include=['object']).head()"
   ]
  },
  {
   "cell_type": "code",
   "execution_count": 23,
   "id": "572bd269",
   "metadata": {},
   "outputs": [
    {
     "data": {
      "text/plain": [
       "tcp     102688\n",
       "udp      14993\n",
       "icmp      8291\n",
       "Name: protocol_type, dtype: int64"
      ]
     },
     "execution_count": 23,
     "metadata": {},
     "output_type": "execute_result"
    }
   ],
   "source": [
    "data_train.protocol_type.value_counts()"
   ]
  },
  {
   "cell_type": "code",
   "execution_count": 24,
   "id": "79c7ad69",
   "metadata": {},
   "outputs": [
    {
     "data": {
      "text/plain": [
       "70"
      ]
     },
     "execution_count": 24,
     "metadata": {},
     "output_type": "execute_result"
    }
   ],
   "source": [
    "data_train.service.value_counts().count()"
   ]
  },
  {
   "cell_type": "code",
   "execution_count": 25,
   "id": "8c10bfdf",
   "metadata": {},
   "outputs": [
    {
     "data": {
      "text/plain": [
       "11"
      ]
     },
     "execution_count": 25,
     "metadata": {},
     "output_type": "execute_result"
    }
   ],
   "source": [
    "data_train.flag.value_counts().count()"
   ]
  },
  {
   "cell_type": "code",
   "execution_count": 26,
   "id": "882c5cf4",
   "metadata": {},
   "outputs": [],
   "source": [
    "#dropping feature 'service' because of high number of distinct values\n",
    "data_train.drop(columns='service',inplace=True)\n",
    "data_test.drop(columns='service',inplace=True)"
   ]
  },
  {
   "cell_type": "code",
   "execution_count": 27,
   "id": "b42d5146",
   "metadata": {},
   "outputs": [
    {
     "data": {
      "text/html": [
       "<div>\n",
       "<style scoped>\n",
       "    .dataframe tbody tr th:only-of-type {\n",
       "        vertical-align: middle;\n",
       "    }\n",
       "\n",
       "    .dataframe tbody tr th {\n",
       "        vertical-align: top;\n",
       "    }\n",
       "\n",
       "    .dataframe thead th {\n",
       "        text-align: right;\n",
       "    }\n",
       "</style>\n",
       "<table border=\"1\" class=\"dataframe\">\n",
       "  <thead>\n",
       "    <tr style=\"text-align: right;\">\n",
       "      <th></th>\n",
       "      <th>protocol_type</th>\n",
       "      <th>flag</th>\n",
       "      <th>attack</th>\n",
       "    </tr>\n",
       "  </thead>\n",
       "  <tbody>\n",
       "    <tr>\n",
       "      <th>0</th>\n",
       "      <td>udp</td>\n",
       "      <td>SF</td>\n",
       "      <td>normal</td>\n",
       "    </tr>\n",
       "    <tr>\n",
       "      <th>1</th>\n",
       "      <td>tcp</td>\n",
       "      <td>S0</td>\n",
       "      <td>neptune</td>\n",
       "    </tr>\n",
       "    <tr>\n",
       "      <th>2</th>\n",
       "      <td>tcp</td>\n",
       "      <td>SF</td>\n",
       "      <td>normal</td>\n",
       "    </tr>\n",
       "    <tr>\n",
       "      <th>3</th>\n",
       "      <td>tcp</td>\n",
       "      <td>SF</td>\n",
       "      <td>normal</td>\n",
       "    </tr>\n",
       "    <tr>\n",
       "      <th>4</th>\n",
       "      <td>tcp</td>\n",
       "      <td>REJ</td>\n",
       "      <td>neptune</td>\n",
       "    </tr>\n",
       "  </tbody>\n",
       "</table>\n",
       "</div>"
      ],
      "text/plain": [
       "  protocol_type flag   attack\n",
       "0           udp   SF   normal\n",
       "1           tcp   S0  neptune\n",
       "2           tcp   SF   normal\n",
       "3           tcp   SF   normal\n",
       "4           tcp  REJ  neptune"
      ]
     },
     "execution_count": 27,
     "metadata": {},
     "output_type": "execute_result"
    }
   ],
   "source": [
    "data_train.select_dtypes(include=['object']).head()"
   ]
  },
  {
   "cell_type": "code",
   "execution_count": 28,
   "id": "7ec2bc04",
   "metadata": {},
   "outputs": [
    {
     "data": {
      "text/plain": [
       "normal             67342\n",
       "neptune            41214\n",
       "satan               3633\n",
       "ipsweep             3599\n",
       "portsweep           2931\n",
       "smurf               2646\n",
       "nmap                1493\n",
       "back                 956\n",
       "teardrop             892\n",
       "warezclient          890\n",
       "pod                  201\n",
       "guess_passwd          53\n",
       "buffer_overflow       30\n",
       "warezmaster           20\n",
       "land                  18\n",
       "imap                  11\n",
       "rootkit               10\n",
       "loadmodule             9\n",
       "ftp_write              8\n",
       "multihop               7\n",
       "phf                    4\n",
       "perl                   3\n",
       "spy                    2\n",
       "Name: attack, dtype: int64"
      ]
     },
     "execution_count": 28,
     "metadata": {},
     "output_type": "execute_result"
    }
   ],
   "source": [
    "data_train.attack.value_counts()"
   ]
  },
  {
   "cell_type": "markdown",
   "id": "381f843a",
   "metadata": {},
   "source": [
    "### Separating Target Variable"
   ]
  },
  {
   "cell_type": "code",
   "execution_count": 29,
   "id": "7137f00d",
   "metadata": {},
   "outputs": [],
   "source": [
    "Y_train=data_train.attack.copy()\n",
    "Y_test=data_test.attack.copy()"
   ]
  },
  {
   "cell_type": "code",
   "execution_count": 30,
   "id": "94291f3d",
   "metadata": {},
   "outputs": [
    {
     "name": "stdout",
     "output_type": "stream",
     "text": [
      "(125972,) (22543,)\n"
     ]
    }
   ],
   "source": [
    "print(Y_train.shape,Y_test.shape)"
   ]
  },
  {
   "cell_type": "code",
   "execution_count": 31,
   "id": "75fc31bc",
   "metadata": {},
   "outputs": [],
   "source": [
    "data_train.drop(columns=['attack'],inplace=True)\n",
    "data_test.drop(columns=['attack'],inplace=True)"
   ]
  },
  {
   "cell_type": "code",
   "execution_count": 32,
   "id": "e0273787",
   "metadata": {},
   "outputs": [
    {
     "name": "stdout",
     "output_type": "stream",
     "text": [
      "(125972, 40) (22543, 40)\n"
     ]
    }
   ],
   "source": [
    "print(data_train.shape,data_test.shape)"
   ]
  },
  {
   "cell_type": "code",
   "execution_count": 33,
   "id": "019a8a9e",
   "metadata": {},
   "outputs": [
    {
     "data": {
      "text/plain": [
       "tcp     102688\n",
       "udp      14993\n",
       "icmp      8291\n",
       "Name: protocol_type, dtype: int64"
      ]
     },
     "execution_count": 33,
     "metadata": {},
     "output_type": "execute_result"
    }
   ],
   "source": [
    "data_train.protocol_type.value_counts()"
   ]
  },
  {
   "cell_type": "code",
   "execution_count": 34,
   "id": "934cbc2e",
   "metadata": {},
   "outputs": [
    {
     "data": {
      "text/plain": [
       "SF        74944\n",
       "S0        34851\n",
       "REJ       11233\n",
       "RSTR       2421\n",
       "RSTO       1562\n",
       "S1          365\n",
       "SH          271\n",
       "S2          127\n",
       "RSTOS0      103\n",
       "S3           49\n",
       "OTH          46\n",
       "Name: flag, dtype: int64"
      ]
     },
     "execution_count": 34,
     "metadata": {},
     "output_type": "execute_result"
    }
   ],
   "source": [
    "data_train.flag.value_counts()"
   ]
  },
  {
   "cell_type": "code",
   "execution_count": 35,
   "id": "829bad5b",
   "metadata": {},
   "outputs": [],
   "source": [
    "train_cat=data_train.select_dtypes(include=['object'])\n",
    "test_cat=data_test.select_dtypes(include=['object'])"
   ]
  },
  {
   "cell_type": "code",
   "execution_count": 36,
   "id": "9436d7fa",
   "metadata": {},
   "outputs": [],
   "source": [
    "# protocol_type feature mapping\n",
    "pmap = {'icmp':0, 'tcp':1, 'udp':2}\n",
    "train_cat['protocol_type'] = train_cat['protocol_type'].map(pmap)\n",
    "test_cat['protocol_type'] = test_cat['protocol_type'].map(pmap)"
   ]
  },
  {
   "cell_type": "code",
   "execution_count": 37,
   "id": "2153686b",
   "metadata": {},
   "outputs": [],
   "source": [
    "# flag feature mapping\n",
    "fmap = {'SF':0, 'S0':1, 'REJ':2, 'RSTR':3, 'RSTO':4, 'SH':5, 'S1':6, 'S2':7, 'RSTOS0':8, 'S3':9, 'OTH':10}\n",
    "train_cat['flag'] = train_cat['flag'].map(fmap)\n",
    "test_cat['flag'] = test_cat['flag'].map(fmap)"
   ]
  },
  {
   "cell_type": "code",
   "execution_count": 38,
   "id": "434e804e",
   "metadata": {},
   "outputs": [
    {
     "data": {
      "text/plain": [
       "SF        74944\n",
       "S0        34851\n",
       "REJ       11233\n",
       "RSTR       2421\n",
       "RSTO       1562\n",
       "S1          365\n",
       "SH          271\n",
       "S2          127\n",
       "RSTOS0      103\n",
       "S3           49\n",
       "OTH          46\n",
       "Name: flag, dtype: int64"
      ]
     },
     "execution_count": 38,
     "metadata": {},
     "output_type": "execute_result"
    }
   ],
   "source": [
    "data_train.flag.value_counts()"
   ]
  },
  {
   "cell_type": "code",
   "execution_count": 39,
   "id": "f7b7f407",
   "metadata": {},
   "outputs": [
    {
     "data": {
      "text/plain": [
       "0     74944\n",
       "1     34851\n",
       "2     11233\n",
       "3      2421\n",
       "4      1562\n",
       "6       365\n",
       "5       271\n",
       "7       127\n",
       "8       103\n",
       "9        49\n",
       "10       46\n",
       "Name: flag, dtype: int64"
      ]
     },
     "execution_count": 39,
     "metadata": {},
     "output_type": "execute_result"
    }
   ],
   "source": [
    "train_cat.flag.value_counts()"
   ]
  },
  {
   "cell_type": "code",
   "execution_count": 40,
   "id": "c4295c44",
   "metadata": {},
   "outputs": [],
   "source": [
    "X_train=pd.concat([sc_traindf,train_cat],axis=1)\n",
    "X_test=pd.concat([sc_testdf,test_cat],axis=1)"
   ]
  },
  {
   "cell_type": "code",
   "execution_count": 41,
   "id": "2889f716",
   "metadata": {},
   "outputs": [
    {
     "name": "stdout",
     "output_type": "stream",
     "text": [
      "(125972, 40) (22543, 40)\n"
     ]
    }
   ],
   "source": [
    "print(X_train.shape,X_test.shape)"
   ]
  },
  {
   "cell_type": "code",
   "execution_count": 42,
   "id": "0d947645",
   "metadata": {},
   "outputs": [
    {
     "data": {
      "text/plain": [
       "normal             67342\n",
       "neptune            41214\n",
       "satan               3633\n",
       "ipsweep             3599\n",
       "portsweep           2931\n",
       "smurf               2646\n",
       "nmap                1493\n",
       "back                 956\n",
       "teardrop             892\n",
       "warezclient          890\n",
       "pod                  201\n",
       "guess_passwd          53\n",
       "buffer_overflow       30\n",
       "warezmaster           20\n",
       "land                  18\n",
       "imap                  11\n",
       "rootkit               10\n",
       "loadmodule             9\n",
       "ftp_write              8\n",
       "multihop               7\n",
       "phf                    4\n",
       "perl                   3\n",
       "spy                    2\n",
       "Name: attack, dtype: int64"
      ]
     },
     "execution_count": 42,
     "metadata": {},
     "output_type": "execute_result"
    }
   ],
   "source": [
    "Y_train.value_counts()"
   ]
  },
  {
   "cell_type": "code",
   "execution_count": 43,
   "id": "ac7d221c",
   "metadata": {},
   "outputs": [
    {
     "data": {
      "text/plain": [
       "normal             9711\n",
       "neptune            4656\n",
       "guess_passwd       1231\n",
       "mscan               996\n",
       "warezmaster         944\n",
       "apache2             737\n",
       "satan               735\n",
       "processtable        685\n",
       "smurf               665\n",
       "back                359\n",
       "snmpguess           331\n",
       "saint               319\n",
       "mailbomb            293\n",
       "snmpgetattack       178\n",
       "portsweep           157\n",
       "ipsweep             141\n",
       "httptunnel          133\n",
       "nmap                 73\n",
       "pod                  41\n",
       "buffer_overflow      20\n",
       "multihop             18\n",
       "named                17\n",
       "ps                   15\n",
       "sendmail             14\n",
       "xterm                13\n",
       "rootkit              13\n",
       "teardrop             12\n",
       "xlock                 9\n",
       "land                  7\n",
       "xsnoop                4\n",
       "ftp_write             3\n",
       "phf                   2\n",
       "sqlattack             2\n",
       "perl                  2\n",
       "loadmodule            2\n",
       "worm                  2\n",
       "udpstorm              2\n",
       "imap                  1\n",
       "Name: attack, dtype: int64"
      ]
     },
     "execution_count": 43,
     "metadata": {},
     "output_type": "execute_result"
    }
   ],
   "source": [
    "Y_test.value_counts()"
   ]
  },
  {
   "cell_type": "code",
   "execution_count": 44,
   "id": "f844af73",
   "metadata": {},
   "outputs": [],
   "source": [
    "def Y_encoding(feature):\n",
    "    if feature=='normal':\n",
    "        return 1\n",
    "    elif feature in ['back','land','neptune','pod','smurf','teardrop','apache2','udpstorm','processtable','worm']:\n",
    "        return 2\n",
    "    elif feature in ['satan','ipsweep','nmap','portsweep','saint','mscan']:\n",
    "        return 3\n",
    "    elif feature in ['guess_passwd','ftp_write','imap','phf','multihop','warezmaster','warezclient','spy','xlock','xsnoop','snmpguess','snmpgetattack','httptunnel','sendmail','named']:\n",
    "        return 4\n",
    "    else:\n",
    "        return 5\n",
    "            "
   ]
  },
  {
   "cell_type": "code",
   "execution_count": 45,
   "id": "7a893ba1",
   "metadata": {},
   "outputs": [],
   "source": [
    "Y_train=Y_train.apply(lambda x : Y_encoding(x))\n",
    "Y_test=Y_test.apply(lambda x : Y_encoding(x))"
   ]
  },
  {
   "cell_type": "markdown",
   "id": "76ad2309",
   "metadata": {},
   "source": [
    "## Final X and Y Variables"
   ]
  },
  {
   "cell_type": "code",
   "execution_count": 46,
   "id": "a3519a5f",
   "metadata": {},
   "outputs": [
    {
     "name": "stdout",
     "output_type": "stream",
     "text": [
      "(125972, 40)\n",
      "(22543, 40)\n",
      "(125972,)\n",
      "(22543,)\n"
     ]
    }
   ],
   "source": [
    "print(X_train.shape)\n",
    "print(X_test.shape)\n",
    "print(Y_train.shape)\n",
    "print(Y_test.shape)"
   ]
  },
  {
   "cell_type": "markdown",
   "id": "5dbfb12c",
   "metadata": {},
   "source": [
    "## Correlation Matrix"
   ]
  },
  {
   "cell_type": "code",
   "execution_count": 47,
   "id": "e123b390",
   "metadata": {},
   "outputs": [],
   "source": [
    "X_Y_train=pd.concat([X_train,Y_train],axis=1)"
   ]
  },
  {
   "cell_type": "code",
   "execution_count": 48,
   "id": "3853d3b6",
   "metadata": {},
   "outputs": [],
   "source": [
    "corr=X_Y_train.corr()"
   ]
  },
  {
   "cell_type": "code",
   "execution_count": 49,
   "id": "03b3107c",
   "metadata": {},
   "outputs": [],
   "source": [
    "corr.to_excel('correlation.xlsx')"
   ]
  },
  {
   "cell_type": "code",
   "execution_count": 50,
   "id": "c9713b20",
   "metadata": {},
   "outputs": [],
   "source": [
    "#Due to high correlation between some of the X variables(Multicollineirity), we can eliminate one of the variables from them."
   ]
  },
  {
   "cell_type": "code",
   "execution_count": 51,
   "id": "5546585f",
   "metadata": {},
   "outputs": [],
   "source": [
    "# 'num_compromised' and 'num_root' is highly correlated corr= 0.998833452579197\n",
    "# 'srv_serror_rate' and 'serror_rate' is highly correlated corr= 0.993289221195889\n",
    "# 'srv_rerror_rate' and 'rerror_rate' is highly correlated corr= 0.989007640750548\n",
    "# 'dst_host_serror_rate' and 'serror_rate' is highly correlated corr= 0.97937301627761\n",
    "# 'dst_host_serror_rate' and 'srv_serror_rate' is highly correlated corr= 0.977595940313845\n",
    "# 'dst_host_srv_serror_rate' and 'serror_rate' is highly correlated corr= 0.981138899594504\n",
    "# 'dst_host_srv_serror_rate' and 'srv_serror_rate' is highly correlated corr= 0.986251673592385\n",
    "# 'dst_host_rerror_rate' and 'rerror_rate' is highly correlated corr= 0.926748537274097\n",
    "# 'dst_host_srv_rerror_rate' and 'rerror_rate' is highly correlated corr= 0.964448625753412\n",
    "# 'dst_host_rerror_rate' and 'srv_rerror_rate' is highly correlated corr= 0.91782236269517\n",
    "# 'dst_host_srv_rerror_rate' and 'srv_rerror_rate' is highly correlated corr= 0.970207964137131\n",
    "# 'dst_host_srv_serror_rate' and 'dst_host_serror_rate' is highly correlated corr= 0.98505217622061\n",
    "# 'dst_host_srv_rerror_rate' and 'dst_host_rerror_rate' is highly correlated corr= 0.924687925687878"
   ]
  },
  {
   "cell_type": "code",
   "execution_count": 52,
   "id": "3d7a74d4",
   "metadata": {},
   "outputs": [],
   "source": [
    "X_train.drop(columns=['num_root','srv_serror_rate','srv_rerror_rate',\n",
    "                      'dst_host_srv_serror_rate','dst_host_serror_rate',\n",
    "                      'dst_host_rerror_rate','dst_host_srv_rerror_rate',\n",
    "                      'dst_host_same_srv_rate'],inplace=True)\n",
    "X_test.drop(columns=['num_root','srv_serror_rate','srv_rerror_rate',\n",
    "                      'dst_host_srv_serror_rate','dst_host_serror_rate',\n",
    "                      'dst_host_rerror_rate','dst_host_srv_rerror_rate',\n",
    "                      'dst_host_same_srv_rate'],inplace=True)"
   ]
  },
  {
   "cell_type": "markdown",
   "id": "b1239b4c",
   "metadata": {},
   "source": [
    "## Feature Importance"
   ]
  },
  {
   "cell_type": "markdown",
   "id": "4fc2cfc1",
   "metadata": {},
   "source": [
    "### Recursive Feature Elimination"
   ]
  },
  {
   "cell_type": "code",
   "execution_count": 53,
   "id": "1f1d0aa0",
   "metadata": {},
   "outputs": [],
   "source": [
    "rfe=RFE(RandomForestClassifier(),n_features_to_select=15)"
   ]
  },
  {
   "cell_type": "code",
   "execution_count": 54,
   "id": "735e4bd7",
   "metadata": {},
   "outputs": [],
   "source": [
    "rfe=rfe.fit(X_train,Y_train)"
   ]
  },
  {
   "cell_type": "code",
   "execution_count": 55,
   "id": "8eef1d9c",
   "metadata": {},
   "outputs": [],
   "source": [
    "rfe_cols=list(X_train.columns[rfe.support_])"
   ]
  },
  {
   "cell_type": "code",
   "execution_count": 56,
   "id": "aab404a1",
   "metadata": {},
   "outputs": [
    {
     "data": {
      "text/plain": [
       "['src_bytes',\n",
       " 'dst_bytes',\n",
       " 'logged_in',\n",
       " 'count',\n",
       " 'srv_count',\n",
       " 'serror_rate',\n",
       " 'same_srv_rate',\n",
       " 'diff_srv_rate',\n",
       " 'dst_host_srv_count',\n",
       " 'dst_host_diff_srv_rate',\n",
       " 'dst_host_same_src_port_rate',\n",
       " 'dst_host_srv_diff_host_rate',\n",
       " 'last_flag',\n",
       " 'protocol_type',\n",
       " 'flag']"
      ]
     },
     "execution_count": 56,
     "metadata": {},
     "output_type": "execute_result"
    }
   ],
   "source": [
    "rfe_cols"
   ]
  },
  {
   "cell_type": "markdown",
   "id": "a5b05579",
   "metadata": {},
   "source": [
    "### Feature Importance from RF"
   ]
  },
  {
   "cell_type": "code",
   "execution_count": 57,
   "id": "ca9d62c5",
   "metadata": {},
   "outputs": [],
   "source": [
    "rfc = RandomForestClassifier()"
   ]
  },
  {
   "cell_type": "code",
   "execution_count": 58,
   "id": "3662e9b0",
   "metadata": {},
   "outputs": [],
   "source": [
    "rfc=rfc.fit(X_train,Y_train)"
   ]
  },
  {
   "cell_type": "code",
   "execution_count": 59,
   "id": "6d4f972e",
   "metadata": {},
   "outputs": [],
   "source": [
    "rfc_cols=np.round(rfc.feature_importances_,3)"
   ]
  },
  {
   "cell_type": "code",
   "execution_count": 60,
   "id": "285f68eb",
   "metadata": {},
   "outputs": [
    {
     "data": {
      "text/plain": [
       "array([0.004, 0.182, 0.089, 0.   , 0.007, 0.   , 0.005, 0.   , 0.031,\n",
       "       0.005, 0.   , 0.   , 0.   , 0.   , 0.   , 0.   , 0.001, 0.066,\n",
       "       0.031, 0.046, 0.01 , 0.083, 0.1  , 0.007, 0.017, 0.048, 0.059,\n",
       "       0.052, 0.016, 0.058, 0.03 , 0.052])"
      ]
     },
     "execution_count": 60,
     "metadata": {},
     "output_type": "execute_result"
    }
   ],
   "source": [
    "rfc_cols"
   ]
  },
  {
   "cell_type": "code",
   "execution_count": 61,
   "id": "45a183b2",
   "metadata": {},
   "outputs": [],
   "source": [
    "imp_rf_df=pd.DataFrame(rfc_cols,index=X_train.columns).reset_index(drop=False).sort_values(by=0,ascending=False)"
   ]
  },
  {
   "cell_type": "code",
   "execution_count": 62,
   "id": "a4fa90a0",
   "metadata": {},
   "outputs": [
    {
     "data": {
      "text/html": [
       "<div>\n",
       "<style scoped>\n",
       "    .dataframe tbody tr th:only-of-type {\n",
       "        vertical-align: middle;\n",
       "    }\n",
       "\n",
       "    .dataframe tbody tr th {\n",
       "        vertical-align: top;\n",
       "    }\n",
       "\n",
       "    .dataframe thead th {\n",
       "        text-align: right;\n",
       "    }\n",
       "</style>\n",
       "<table border=\"1\" class=\"dataframe\">\n",
       "  <thead>\n",
       "    <tr style=\"text-align: right;\">\n",
       "      <th></th>\n",
       "      <th>features</th>\n",
       "      <th>importance</th>\n",
       "    </tr>\n",
       "  </thead>\n",
       "  <tbody>\n",
       "    <tr>\n",
       "      <th>1</th>\n",
       "      <td>src_bytes</td>\n",
       "      <td>0.182</td>\n",
       "    </tr>\n",
       "    <tr>\n",
       "      <th>22</th>\n",
       "      <td>diff_srv_rate</td>\n",
       "      <td>0.100</td>\n",
       "    </tr>\n",
       "    <tr>\n",
       "      <th>2</th>\n",
       "      <td>dst_bytes</td>\n",
       "      <td>0.089</td>\n",
       "    </tr>\n",
       "    <tr>\n",
       "      <th>21</th>\n",
       "      <td>same_srv_rate</td>\n",
       "      <td>0.083</td>\n",
       "    </tr>\n",
       "    <tr>\n",
       "      <th>17</th>\n",
       "      <td>count</td>\n",
       "      <td>0.066</td>\n",
       "    </tr>\n",
       "    <tr>\n",
       "      <th>26</th>\n",
       "      <td>dst_host_diff_srv_rate</td>\n",
       "      <td>0.059</td>\n",
       "    </tr>\n",
       "    <tr>\n",
       "      <th>29</th>\n",
       "      <td>last_flag</td>\n",
       "      <td>0.058</td>\n",
       "    </tr>\n",
       "    <tr>\n",
       "      <th>31</th>\n",
       "      <td>flag</td>\n",
       "      <td>0.052</td>\n",
       "    </tr>\n",
       "    <tr>\n",
       "      <th>27</th>\n",
       "      <td>dst_host_same_src_port_rate</td>\n",
       "      <td>0.052</td>\n",
       "    </tr>\n",
       "    <tr>\n",
       "      <th>25</th>\n",
       "      <td>dst_host_srv_count</td>\n",
       "      <td>0.048</td>\n",
       "    </tr>\n",
       "    <tr>\n",
       "      <th>19</th>\n",
       "      <td>serror_rate</td>\n",
       "      <td>0.046</td>\n",
       "    </tr>\n",
       "    <tr>\n",
       "      <th>8</th>\n",
       "      <td>logged_in</td>\n",
       "      <td>0.031</td>\n",
       "    </tr>\n",
       "    <tr>\n",
       "      <th>18</th>\n",
       "      <td>srv_count</td>\n",
       "      <td>0.031</td>\n",
       "    </tr>\n",
       "    <tr>\n",
       "      <th>30</th>\n",
       "      <td>protocol_type</td>\n",
       "      <td>0.030</td>\n",
       "    </tr>\n",
       "    <tr>\n",
       "      <th>24</th>\n",
       "      <td>dst_host_count</td>\n",
       "      <td>0.017</td>\n",
       "    </tr>\n",
       "    <tr>\n",
       "      <th>28</th>\n",
       "      <td>dst_host_srv_diff_host_rate</td>\n",
       "      <td>0.016</td>\n",
       "    </tr>\n",
       "    <tr>\n",
       "      <th>20</th>\n",
       "      <td>rerror_rate</td>\n",
       "      <td>0.010</td>\n",
       "    </tr>\n",
       "    <tr>\n",
       "      <th>23</th>\n",
       "      <td>srv_diff_host_rate</td>\n",
       "      <td>0.007</td>\n",
       "    </tr>\n",
       "    <tr>\n",
       "      <th>4</th>\n",
       "      <td>wrong_fragment</td>\n",
       "      <td>0.007</td>\n",
       "    </tr>\n",
       "    <tr>\n",
       "      <th>9</th>\n",
       "      <td>num_compromised</td>\n",
       "      <td>0.005</td>\n",
       "    </tr>\n",
       "    <tr>\n",
       "      <th>6</th>\n",
       "      <td>hot</td>\n",
       "      <td>0.005</td>\n",
       "    </tr>\n",
       "    <tr>\n",
       "      <th>0</th>\n",
       "      <td>duration</td>\n",
       "      <td>0.004</td>\n",
       "    </tr>\n",
       "    <tr>\n",
       "      <th>16</th>\n",
       "      <td>is_guest_login</td>\n",
       "      <td>0.001</td>\n",
       "    </tr>\n",
       "    <tr>\n",
       "      <th>15</th>\n",
       "      <td>is_host_login</td>\n",
       "      <td>0.000</td>\n",
       "    </tr>\n",
       "    <tr>\n",
       "      <th>14</th>\n",
       "      <td>num_access_files</td>\n",
       "      <td>0.000</td>\n",
       "    </tr>\n",
       "    <tr>\n",
       "      <th>13</th>\n",
       "      <td>num_shells</td>\n",
       "      <td>0.000</td>\n",
       "    </tr>\n",
       "    <tr>\n",
       "      <th>12</th>\n",
       "      <td>num_file_creations</td>\n",
       "      <td>0.000</td>\n",
       "    </tr>\n",
       "    <tr>\n",
       "      <th>11</th>\n",
       "      <td>su_attempted</td>\n",
       "      <td>0.000</td>\n",
       "    </tr>\n",
       "    <tr>\n",
       "      <th>10</th>\n",
       "      <td>root_shell</td>\n",
       "      <td>0.000</td>\n",
       "    </tr>\n",
       "    <tr>\n",
       "      <th>7</th>\n",
       "      <td>num_failed_logins</td>\n",
       "      <td>0.000</td>\n",
       "    </tr>\n",
       "    <tr>\n",
       "      <th>5</th>\n",
       "      <td>urgent</td>\n",
       "      <td>0.000</td>\n",
       "    </tr>\n",
       "    <tr>\n",
       "      <th>3</th>\n",
       "      <td>land</td>\n",
       "      <td>0.000</td>\n",
       "    </tr>\n",
       "  </tbody>\n",
       "</table>\n",
       "</div>"
      ],
      "text/plain": [
       "                       features  importance\n",
       "1                     src_bytes       0.182\n",
       "22                diff_srv_rate       0.100\n",
       "2                     dst_bytes       0.089\n",
       "21                same_srv_rate       0.083\n",
       "17                        count       0.066\n",
       "26       dst_host_diff_srv_rate       0.059\n",
       "29                    last_flag       0.058\n",
       "31                         flag       0.052\n",
       "27  dst_host_same_src_port_rate       0.052\n",
       "25           dst_host_srv_count       0.048\n",
       "19                  serror_rate       0.046\n",
       "8                     logged_in       0.031\n",
       "18                    srv_count       0.031\n",
       "30                protocol_type       0.030\n",
       "24               dst_host_count       0.017\n",
       "28  dst_host_srv_diff_host_rate       0.016\n",
       "20                  rerror_rate       0.010\n",
       "23           srv_diff_host_rate       0.007\n",
       "4                wrong_fragment       0.007\n",
       "9               num_compromised       0.005\n",
       "6                           hot       0.005\n",
       "0                      duration       0.004\n",
       "16               is_guest_login       0.001\n",
       "15                is_host_login       0.000\n",
       "14             num_access_files       0.000\n",
       "13                   num_shells       0.000\n",
       "12           num_file_creations       0.000\n",
       "11                 su_attempted       0.000\n",
       "10                   root_shell       0.000\n",
       "7             num_failed_logins       0.000\n",
       "5                        urgent       0.000\n",
       "3                          land       0.000"
      ]
     },
     "execution_count": 62,
     "metadata": {},
     "output_type": "execute_result"
    }
   ],
   "source": [
    "imp_rf_df.rename(columns={'index':'features',0:'importance'},inplace=True)\n",
    "imp_rf_df"
   ]
  },
  {
   "cell_type": "code",
   "execution_count": 63,
   "id": "500d6ba3",
   "metadata": {},
   "outputs": [
    {
     "data": {
      "image/png": "[encoded data removed]",
      "text/plain": [
       "<Figure size 1080x720 with 1 Axes>"
      ]
     },
     "metadata": {
      "needs_background": "light"
     },
     "output_type": "display_data"
    }
   ],
   "source": [
    "plt.figure(figsize=(15,10))\n",
    "sns.barplot(x='features',y='importance',data=imp_rf_df,)\n",
    "plt.xticks(rotation=80)\n",
    "plt.show()"
   ]
  },
  {
   "cell_type": "code",
   "execution_count": 64,
   "id": "8b99edd4",
   "metadata": {},
   "outputs": [],
   "source": [
    "rfc_cols=list(imp_rf_df['features'].head(15))"
   ]
  },
  {
   "cell_type": "code",
   "execution_count": 65,
   "id": "5343fe20",
   "metadata": {},
   "outputs": [
    {
     "data": {
      "text/plain": [
       "['src_bytes',\n",
       " 'diff_srv_rate',\n",
       " 'dst_bytes',\n",
       " 'same_srv_rate',\n",
       " 'count',\n",
       " 'dst_host_diff_srv_rate',\n",
       " 'last_flag',\n",
       " 'flag',\n",
       " 'dst_host_same_src_port_rate',\n",
       " 'dst_host_srv_count',\n",
       " 'serror_rate',\n",
       " 'logged_in',\n",
       " 'srv_count',\n",
       " 'protocol_type',\n",
       " 'dst_host_count']"
      ]
     },
     "execution_count": 65,
     "metadata": {},
     "output_type": "execute_result"
    }
   ],
   "source": [
    "rfc_cols"
   ]
  },
  {
   "cell_type": "code",
   "execution_count": 66,
   "id": "58899e52",
   "metadata": {},
   "outputs": [],
   "source": [
    "#Combining Results\n",
    "final_cols=list(set(rfe_cols+rfc_cols))"
   ]
  },
  {
   "cell_type": "code",
   "execution_count": 67,
   "id": "07b006de",
   "metadata": {},
   "outputs": [],
   "source": [
    "X_train=X_train[final_cols].copy()\n",
    "X_test=X_test[final_cols].copy()"
   ]
  },
  {
   "cell_type": "code",
   "execution_count": 68,
   "id": "2c59d139",
   "metadata": {},
   "outputs": [
    {
     "name": "stdout",
     "output_type": "stream",
     "text": [
      "(125972, 16)\n",
      "(125972,)\n",
      "(22543, 16)\n",
      "(22543,)\n"
     ]
    }
   ],
   "source": [
    "print(X_train.shape)\n",
    "print(Y_train.shape)\n",
    "\n",
    "print(X_test.shape)\n",
    "print(Y_test.shape)"
   ]
  },
  {
   "cell_type": "markdown",
   "id": "b91b6e7b",
   "metadata": {},
   "source": [
    "## Modelling"
   ]
  },
  {
   "cell_type": "markdown",
   "id": "8ba2f321",
   "metadata": {},
   "source": [
    "### 1.Logistic Regression"
   ]
  },
  {
   "cell_type": "code",
   "execution_count": 69,
   "id": "7378b742",
   "metadata": {},
   "outputs": [],
   "source": [
    "lr=LogisticRegression()"
   ]
  },
  {
   "cell_type": "code",
   "execution_count": 70,
   "id": "a8322f42",
   "metadata": {},
   "outputs": [],
   "source": [
    "lr=lr.fit(X_train,Y_train)"
   ]
  },
  {
   "cell_type": "code",
   "execution_count": 71,
   "id": "a68fecf7",
   "metadata": {},
   "outputs": [
    {
     "name": "stdout",
     "output_type": "stream",
     "text": [
      "TRAIN ACCURACY OF LOGISTIC REGRESSION\n",
      "===============================================================\n",
      "Accuracy Score:  0.962523417902391\n",
      "===============================================================\n",
      "Confusion Matrix: \n",
      "[[65488  1012   755    86     1]\n",
      " [ 1193 44353   334    47     0]\n",
      " [  830   130 10680    15     1]\n",
      " [   89    93    81   728     4]\n",
      " [    1     1     6    42     2]]\n",
      "===============================================================\n",
      "Classification Report: \n",
      "              precision    recall  f1-score   support\n",
      "\n",
      "           1       0.97      0.97      0.97     67342\n",
      "           2       0.97      0.97      0.97     45927\n",
      "           3       0.90      0.92      0.91     11656\n",
      "           4       0.79      0.73      0.76       995\n",
      "           5       0.25      0.04      0.07        52\n",
      "\n",
      "    accuracy                           0.96    125972\n",
      "   macro avg       0.78      0.72      0.74    125972\n",
      "weighted avg       0.96      0.96      0.96    125972\n",
      "\n"
     ]
    }
   ],
   "source": [
    "print(\"TRAIN ACCURACY OF LOGISTIC REGRESSION\")\n",
    "print('===============================================================')\n",
    "print('Accuracy Score: ',metrics.accuracy_score(Y_train,lr.predict(X_train)))\n",
    "print('===============================================================')\n",
    "print('Confusion Matrix: ')\n",
    "print(metrics.confusion_matrix(Y_train,lr.predict(X_train)))\n",
    "print('===============================================================')\n",
    "print('Classification Report: ')\n",
    "print(metrics.classification_report(Y_train,lr.predict(X_train)))"
   ]
  },
  {
   "cell_type": "code",
   "execution_count": 72,
   "id": "ba25a9d5",
   "metadata": {},
   "outputs": [
    {
     "name": "stdout",
     "output_type": "stream",
     "text": [
      "TEST ACCURACY OF LOGISTIC REGRESSION\n",
      "===============================================================\n",
      "Accuracy Score:  0.7289180676928536\n",
      "===============================================================\n",
      "Confusion Matrix: \n",
      "[[9018  460  233    0    0]\n",
      " [1193 5912   61    0    0]\n",
      " [ 423  507 1491    0    0]\n",
      " [1787  738  349   11    0]\n",
      " [ 304   38   10    8    0]]\n",
      "===============================================================\n",
      "Classification Report: \n",
      "              precision    recall  f1-score   support\n",
      "\n",
      "           1       0.71      0.93      0.80      9711\n",
      "           2       0.77      0.83      0.80      7166\n",
      "           3       0.70      0.62      0.65      2421\n",
      "           4       0.58      0.00      0.01      2885\n",
      "           5       0.00      0.00      0.00       360\n",
      "\n",
      "    accuracy                           0.73     22543\n",
      "   macro avg       0.55      0.47      0.45     22543\n",
      "weighted avg       0.70      0.73      0.67     22543\n",
      "\n"
     ]
    }
   ],
   "source": [
    "print(\"TEST ACCURACY OF LOGISTIC REGRESSION\")\n",
    "print('===============================================================')\n",
    "print('Accuracy Score: ',metrics.accuracy_score(Y_test,lr.predict(X_test)))\n",
    "print('===============================================================')\n",
    "print('Confusion Matrix: ')\n",
    "print(metrics.confusion_matrix(Y_test,lr.predict(X_test)))\n",
    "print('===============================================================')\n",
    "print('Classification Report: ')\n",
    "print(metrics.classification_report(Y_test,lr.predict(X_test)))"
   ]
  },
  {
   "cell_type": "markdown",
   "id": "13f1f1e9",
   "metadata": {},
   "source": [
    "### 2. K-Neighbors Classifier"
   ]
  },
  {
   "cell_type": "code",
   "execution_count": 73,
   "id": "59ee9c72",
   "metadata": {},
   "outputs": [],
   "source": [
    "knn=KNeighborsClassifier()"
   ]
  },
  {
   "cell_type": "code",
   "execution_count": 74,
   "id": "49a387a8",
   "metadata": {},
   "outputs": [],
   "source": [
    "knn=knn.fit(X_train,Y_train)"
   ]
  },
  {
   "cell_type": "code",
   "execution_count": 75,
   "id": "99239355",
   "metadata": {},
   "outputs": [
    {
     "name": "stdout",
     "output_type": "stream",
     "text": [
      "TRAIN ACCURACY OF K-Neighbors Classifier\n",
      "===============================================================\n",
      "Accuracy Score:  0.9983409011526371\n",
      "===============================================================\n",
      "Confusion Matrix: \n",
      "[[67270    15    30    27     0]\n",
      " [   20 45878    29     0     0]\n",
      " [   20    10 11621     3     2]\n",
      " [   26     1     4   961     3]\n",
      " [    7     1     4     7    33]]\n",
      "===============================================================\n",
      "Classification Report: \n",
      "              precision    recall  f1-score   support\n",
      "\n",
      "           1       1.00      1.00      1.00     67342\n",
      "           2       1.00      1.00      1.00     45927\n",
      "           3       0.99      1.00      1.00     11656\n",
      "           4       0.96      0.97      0.96       995\n",
      "           5       0.87      0.63      0.73        52\n",
      "\n",
      "    accuracy                           1.00    125972\n",
      "   macro avg       0.96      0.92      0.94    125972\n",
      "weighted avg       1.00      1.00      1.00    125972\n",
      "\n"
     ]
    }
   ],
   "source": [
    "print(\"TRAIN ACCURACY OF K-Neighbors Classifier\")\n",
    "print('===============================================================')\n",
    "print('Accuracy Score: ',metrics.accuracy_score(Y_train,knn.predict(X_train)))\n",
    "print('===============================================================')\n",
    "print('Confusion Matrix: ')\n",
    "print(metrics.confusion_matrix(Y_train,knn.predict(X_train)))\n",
    "print('===============================================================')\n",
    "print('Classification Report: ')\n",
    "print(metrics.classification_report(Y_train,knn.predict(X_train)))"
   ]
  },
  {
   "cell_type": "code",
   "execution_count": 76,
   "id": "f48c0e86",
   "metadata": {},
   "outputs": [
    {
     "name": "stdout",
     "output_type": "stream",
     "text": [
      "TEST ACCURACY OF K-Neighbors Classifier\n",
      "===============================================================\n",
      "Accuracy Score:  0.750210708423901\n",
      "===============================================================\n",
      "Confusion Matrix: \n",
      "[[9486   33  189    3    0]\n",
      " [1249 5865   52    0    0]\n",
      " [ 693  207 1521    0    0]\n",
      " [2429  251  165   40    0]\n",
      " [ 303   21    3   33    0]]\n",
      "===============================================================\n",
      "Classification Report: \n",
      "              precision    recall  f1-score   support\n",
      "\n",
      "           1       0.67      0.98      0.79      9711\n",
      "           2       0.92      0.82      0.87      7166\n",
      "           3       0.79      0.63      0.70      2421\n",
      "           4       0.53      0.01      0.03      2885\n",
      "           5       0.00      0.00      0.00       360\n",
      "\n",
      "    accuracy                           0.75     22543\n",
      "   macro avg       0.58      0.49      0.48     22543\n",
      "weighted avg       0.73      0.75      0.70     22543\n",
      "\n"
     ]
    }
   ],
   "source": [
    "print(\"TEST ACCURACY OF K-Neighbors Classifier\")\n",
    "print('===============================================================')\n",
    "print('Accuracy Score: ',metrics.accuracy_score(Y_test,knn.predict(X_test)))\n",
    "print('===============================================================')\n",
    "print('Confusion Matrix: ')\n",
    "print(metrics.confusion_matrix(Y_test,knn.predict(X_test)))\n",
    "print('===============================================================')\n",
    "print('Classification Report: ')\n",
    "print(metrics.classification_report(Y_test,knn.predict(X_test)))"
   ]
  },
  {
   "cell_type": "markdown",
   "id": "63a169da",
   "metadata": {},
   "source": [
    "### 3. Decision Tree Classifier"
   ]
  },
  {
   "cell_type": "code",
   "execution_count": 77,
   "id": "4e0e93a6",
   "metadata": {},
   "outputs": [],
   "source": [
    "dt=DecisionTreeClassifier()"
   ]
  },
  {
   "cell_type": "code",
   "execution_count": 78,
   "id": "be0dadcc",
   "metadata": {},
   "outputs": [],
   "source": [
    "dt=dt.fit(X_train,Y_train)"
   ]
  },
  {
   "cell_type": "code",
   "execution_count": 79,
   "id": "0859b8e9",
   "metadata": {},
   "outputs": [
    {
     "name": "stdout",
     "output_type": "stream",
     "text": [
      "TRAIN ACCURACY OF Decision Tree Classifier\n",
      "===============================================================\n",
      "Accuracy Score:  1.0\n",
      "===============================================================\n",
      "Confusion Matrix: \n",
      "[[67342     0     0     0     0]\n",
      " [    0 45927     0     0     0]\n",
      " [    0     0 11656     0     0]\n",
      " [    0     0     0   995     0]\n",
      " [    0     0     0     0    52]]\n",
      "===============================================================\n",
      "Classification Report: \n",
      "              precision    recall  f1-score   support\n",
      "\n",
      "           1       1.00      1.00      1.00     67342\n",
      "           2       1.00      1.00      1.00     45927\n",
      "           3       1.00      1.00      1.00     11656\n",
      "           4       1.00      1.00      1.00       995\n",
      "           5       1.00      1.00      1.00        52\n",
      "\n",
      "    accuracy                           1.00    125972\n",
      "   macro avg       1.00      1.00      1.00    125972\n",
      "weighted avg       1.00      1.00      1.00    125972\n",
      "\n"
     ]
    }
   ],
   "source": [
    "print(\"TRAIN ACCURACY OF Decision Tree Classifier\")\n",
    "print('===============================================================')\n",
    "print('Accuracy Score: ',metrics.accuracy_score(Y_train,dt.predict(X_train)))\n",
    "print('===============================================================')\n",
    "print('Confusion Matrix: ')\n",
    "print(metrics.confusion_matrix(Y_train,dt.predict(X_train)))\n",
    "print('===============================================================')\n",
    "print('Classification Report: ')\n",
    "print(metrics.classification_report(Y_train,dt.predict(X_train)))"
   ]
  },
  {
   "cell_type": "code",
   "execution_count": 80,
   "id": "6cbb67ad",
   "metadata": {},
   "outputs": [
    {
     "name": "stdout",
     "output_type": "stream",
     "text": [
      "TEST ACCURACY OF Decision Tree Classifier\n",
      "===============================================================\n",
      "Accuracy Score:  0.679501397329548\n",
      "===============================================================\n",
      "Confusion Matrix: \n",
      "[[8354  668  492  188    9]\n",
      " [1199 5501  410   56    0]\n",
      " [ 390  722 1266   41    2]\n",
      " [1684  501  503  197    0]\n",
      " [ 197  118   40    5    0]]\n",
      "===============================================================\n",
      "Classification Report: \n",
      "              precision    recall  f1-score   support\n",
      "\n",
      "           1       0.71      0.86      0.78      9711\n",
      "           2       0.73      0.77      0.75      7166\n",
      "           3       0.47      0.52      0.49      2421\n",
      "           4       0.40      0.07      0.12      2885\n",
      "           5       0.00      0.00      0.00       360\n",
      "\n",
      "    accuracy                           0.68     22543\n",
      "   macro avg       0.46      0.44      0.43     22543\n",
      "weighted avg       0.64      0.68      0.64     22543\n",
      "\n"
     ]
    }
   ],
   "source": [
    "print(\"TEST ACCURACY OF Decision Tree Classifier\")\n",
    "print('===============================================================')\n",
    "print('Accuracy Score: ',metrics.accuracy_score(Y_test,dt.predict(X_test)))\n",
    "print('===============================================================')\n",
    "print('Confusion Matrix: ')\n",
    "print(metrics.confusion_matrix(Y_test,dt.predict(X_test)))\n",
    "print('===============================================================')\n",
    "print('Classification Report: ')\n",
    "print(metrics.classification_report(Y_test,dt.predict(X_test)))"
   ]
  },
  {
   "cell_type": "markdown",
   "id": "ab841493",
   "metadata": {},
   "source": [
    "### 4. Random Forest Classifier"
   ]
  },
  {
   "cell_type": "code",
   "execution_count": 81,
   "id": "05804fe3",
   "metadata": {},
   "outputs": [],
   "source": [
    "rf=RandomForestClassifier()"
   ]
  },
  {
   "cell_type": "code",
   "execution_count": 82,
   "id": "395724eb",
   "metadata": {},
   "outputs": [],
   "source": [
    "rf=rf.fit(X_train,Y_train)"
   ]
  },
  {
   "cell_type": "code",
   "execution_count": 83,
   "id": "5015a797",
   "metadata": {},
   "outputs": [
    {
     "name": "stdout",
     "output_type": "stream",
     "text": [
      "TRAIN ACCURACY OF Random Forest Classifier\n",
      "===============================================================\n",
      "Accuracy Score:  1.0\n",
      "===============================================================\n",
      "Confusion Matrix: \n",
      "[[67342     0     0     0     0]\n",
      " [    0 45927     0     0     0]\n",
      " [    0     0 11656     0     0]\n",
      " [    0     0     0   995     0]\n",
      " [    0     0     0     0    52]]\n",
      "===============================================================\n",
      "Classification Report: \n",
      "              precision    recall  f1-score   support\n",
      "\n",
      "           1       1.00      1.00      1.00     67342\n",
      "           2       1.00      1.00      1.00     45927\n",
      "           3       1.00      1.00      1.00     11656\n",
      "           4       1.00      1.00      1.00       995\n",
      "           5       1.00      1.00      1.00        52\n",
      "\n",
      "    accuracy                           1.00    125972\n",
      "   macro avg       1.00      1.00      1.00    125972\n",
      "weighted avg       1.00      1.00      1.00    125972\n",
      "\n"
     ]
    }
   ],
   "source": [
    "print(\"TRAIN ACCURACY OF Random Forest Classifier\")\n",
    "print('===============================================================')\n",
    "print('Accuracy Score: ',metrics.accuracy_score(Y_train,rf.predict(X_train)))\n",
    "print('===============================================================')\n",
    "print('Confusion Matrix: ')\n",
    "print(metrics.confusion_matrix(Y_train,rf.predict(X_train)))\n",
    "print('===============================================================')\n",
    "print('Classification Report: ')\n",
    "print(metrics.classification_report(Y_train,rf.predict(X_train)))"
   ]
  },
  {
   "cell_type": "code",
   "execution_count": 84,
   "id": "ff36f47b",
   "metadata": {},
   "outputs": [
    {
     "name": "stdout",
     "output_type": "stream",
     "text": [
      "TEST ACCURACY OF Random Forest Classifier\n",
      "===============================================================\n",
      "Accuracy Score:  0.7152552898904316\n",
      "===============================================================\n",
      "Confusion Matrix: \n",
      "[[9337   28  346    0    0]\n",
      " [1561 5095  510    0    0]\n",
      " [ 525  205 1691    0    0]\n",
      " [2686    2  197    0    0]\n",
      " [ 354    0    5    0    1]]\n",
      "===============================================================\n",
      "Classification Report: \n",
      "              precision    recall  f1-score   support\n",
      "\n",
      "           1       0.65      0.96      0.77      9711\n",
      "           2       0.96      0.71      0.82      7166\n",
      "           3       0.62      0.70      0.65      2421\n",
      "           4       0.00      0.00      0.00      2885\n",
      "           5       1.00      0.00      0.01       360\n",
      "\n",
      "    accuracy                           0.72     22543\n",
      "   macro avg       0.64      0.47      0.45     22543\n",
      "weighted avg       0.66      0.72      0.66     22543\n",
      "\n"
     ]
    }
   ],
   "source": [
    "print(\"TEST ACCURACY OF Random Forest Classifier\")\n",
    "print('===============================================================')\n",
    "print('Accuracy Score: ',metrics.accuracy_score(Y_test,rf.predict(X_test)))\n",
    "print('===============================================================')\n",
    "print('Confusion Matrix: ')\n",
    "print(metrics.confusion_matrix(Y_test,rf.predict(X_test)))\n",
    "print('===============================================================')\n",
    "print('Classification Report: ')\n",
    "print(metrics.classification_report(Y_test,rf.predict(X_test)))"
   ]
  },
  {
   "cell_type": "markdown",
   "id": "3533e8fc",
   "metadata": {},
   "source": [
    "### 5. Naive Bayes Classifier"
   ]
  },
  {
   "cell_type": "code",
   "execution_count": 85,
   "id": "0ebb2cea",
   "metadata": {},
   "outputs": [],
   "source": [
    "#Because Multinomial Naive Bayes Classifier does not allow negative values.\n",
    "mm_scaler=MinMaxScaler()\n",
    "mm_scaler_train=mm_scaler.fit_transform(X_train)\n",
    "mm_scaler_test=mm_scaler.fit_transform(X_test)"
   ]
  },
  {
   "cell_type": "code",
   "execution_count": 86,
   "id": "ee10b901",
   "metadata": {},
   "outputs": [],
   "source": [
    "X_train_mm_scaler=pd.DataFrame(mm_scaler_train,columns=X_train.columns)\n",
    "X_test_mm_scaler=pd.DataFrame(mm_scaler_test,columns=X_test.columns)"
   ]
  },
  {
   "cell_type": "code",
   "execution_count": 87,
   "id": "fbba6fdc",
   "metadata": {},
   "outputs": [],
   "source": [
    "mnb=MultinomialNB()"
   ]
  },
  {
   "cell_type": "code",
   "execution_count": 88,
   "id": "ff7446ef",
   "metadata": {},
   "outputs": [],
   "source": [
    "mnb=mnb.fit(X_train_mm_scaler,Y_train)"
   ]
  },
  {
   "cell_type": "code",
   "execution_count": 89,
   "id": "87848fe1",
   "metadata": {},
   "outputs": [
    {
     "name": "stdout",
     "output_type": "stream",
     "text": [
      "TRAIN ACCURACY OF Naive Bayes\n",
      "===============================================================\n",
      "Accuracy Score:  0.8926825008732099\n",
      "===============================================================\n",
      "Confusion Matrix: \n",
      "[[64107   964  2271     0     0]\n",
      " [ 3733 42093   101     0     0]\n",
      " [ 2891  2512  6253     0     0]\n",
      " [  981    11     3     0     0]\n",
      " [   50     2     0     0     0]]\n",
      "===============================================================\n",
      "Classification Report: \n",
      "              precision    recall  f1-score   support\n",
      "\n",
      "           1       0.89      0.95      0.92     67342\n",
      "           2       0.92      0.92      0.92     45927\n",
      "           3       0.72      0.54      0.62     11656\n",
      "           4       0.00      0.00      0.00       995\n",
      "           5       0.00      0.00      0.00        52\n",
      "\n",
      "    accuracy                           0.89    125972\n",
      "   macro avg       0.51      0.48      0.49    125972\n",
      "weighted avg       0.88      0.89      0.89    125972\n",
      "\n"
     ]
    }
   ],
   "source": [
    "print(\"TRAIN ACCURACY OF Naive Bayes\")\n",
    "print('===============================================================')\n",
    "print('Accuracy Score: ',metrics.accuracy_score(Y_train,mnb.predict(X_train_mm_scaler)))\n",
    "print('===============================================================')\n",
    "print('Confusion Matrix: ')\n",
    "print(metrics.confusion_matrix(Y_train,mnb.predict(X_train_mm_scaler)))\n",
    "print('===============================================================')\n",
    "print('Classification Report: ')\n",
    "print(metrics.classification_report(Y_train,mnb.predict(X_train_mm_scaler)))"
   ]
  },
  {
   "cell_type": "code",
   "execution_count": 90,
   "id": "813fc6f5",
   "metadata": {},
   "outputs": [
    {
     "name": "stdout",
     "output_type": "stream",
     "text": [
      "TEST ACCURACY OF Naive Bayes Classifier\n",
      "===============================================================\n",
      "Accuracy Score:  0.6853125138623963\n",
      "===============================================================\n",
      "Confusion Matrix: \n",
      "[[9456   23  232    0    0]\n",
      " [1968 5144   54    0    0]\n",
      " [ 539 1033  849    0    0]\n",
      " [2751   28  106    0    0]\n",
      " [ 356    0    4    0    0]]\n",
      "===============================================================\n",
      "Classification Report: \n",
      "              precision    recall  f1-score   support\n",
      "\n",
      "           1       0.63      0.97      0.76      9711\n",
      "           2       0.83      0.72      0.77      7166\n",
      "           3       0.68      0.35      0.46      2421\n",
      "           4       0.00      0.00      0.00      2885\n",
      "           5       0.00      0.00      0.00       360\n",
      "\n",
      "    accuracy                           0.69     22543\n",
      "   macro avg       0.43      0.41      0.40     22543\n",
      "weighted avg       0.61      0.69      0.62     22543\n",
      "\n"
     ]
    }
   ],
   "source": [
    "print(\"TEST ACCURACY OF Naive Bayes Classifier\")\n",
    "print('===============================================================')\n",
    "print('Accuracy Score: ',metrics.accuracy_score(Y_test,mnb.predict(X_test_mm_scaler)))\n",
    "print('===============================================================')\n",
    "print('Confusion Matrix: ')\n",
    "print(metrics.confusion_matrix(Y_test,mnb.predict(X_test_mm_scaler)))\n",
    "print('===============================================================')\n",
    "print('Classification Report: ')\n",
    "print(metrics.classification_report(Y_test,mnb.predict(X_test_mm_scaler)))"
   ]
  },
  {
   "cell_type": "markdown",
   "id": "43c2664d",
   "metadata": {},
   "source": [
    "### 5. XGBOOST Classifier "
   ]
  },
  {
   "cell_type": "code",
   "execution_count": 91,
   "id": "8b40c794",
   "metadata": {},
   "outputs": [],
   "source": [
    "xgc=xgboost.XGBClassifier()"
   ]
  },
  {
   "cell_type": "code",
   "execution_count": 92,
   "id": "8b1de6c5",
   "metadata": {},
   "outputs": [
    {
     "name": "stdout",
     "output_type": "stream",
     "text": [
      "[01:12:23] WARNING: C:/Users/Administrator/workspace/xgboost-win64_release_1.4.0/src/learner.cc:1095: Starting in XGBoost 1.3.0, the default evaluation metric used with the objective 'multi:softprob' was changed from 'merror' to 'mlogloss'. Explicitly set eval_metric if you'd like to restore the old behavior.\n"
     ]
    }
   ],
   "source": [
    "xgc=xgc.fit(X_train,Y_train)"
   ]
  },
  {
   "cell_type": "code",
   "execution_count": 93,
   "id": "e4e113a1",
   "metadata": {},
   "outputs": [
    {
     "name": "stdout",
     "output_type": "stream",
     "text": [
      "TRAIN ACCURACY OF XGBoost Classifier\n",
      "===============================================================\n",
      "Accuracy Score:  1.0\n",
      "===============================================================\n",
      "Confusion Matrix: \n",
      "[[67342     0     0     0     0]\n",
      " [    0 45927     0     0     0]\n",
      " [    0     0 11656     0     0]\n",
      " [    0     0     0   995     0]\n",
      " [    0     0     0     0    52]]\n",
      "===============================================================\n",
      "Classification Report: \n",
      "              precision    recall  f1-score   support\n",
      "\n",
      "           1       1.00      1.00      1.00     67342\n",
      "           2       1.00      1.00      1.00     45927\n",
      "           3       1.00      1.00      1.00     11656\n",
      "           4       1.00      1.00      1.00       995\n",
      "           5       1.00      1.00      1.00        52\n",
      "\n",
      "    accuracy                           1.00    125972\n",
      "   macro avg       1.00      1.00      1.00    125972\n",
      "weighted avg       1.00      1.00      1.00    125972\n",
      "\n"
     ]
    }
   ],
   "source": [
    "print(\"TRAIN ACCURACY OF XGBoost Classifier\")\n",
    "print('===============================================================')\n",
    "print('Accuracy Score: ',metrics.accuracy_score(Y_train,xgc.predict(X_train)))\n",
    "print('===============================================================')\n",
    "print('Confusion Matrix: ')\n",
    "print(metrics.confusion_matrix(Y_train,xgc.predict(X_train)))\n",
    "print('===============================================================')\n",
    "print('Classification Report: ')\n",
    "print(metrics.classification_report(Y_train,xgc.predict(X_train)))"
   ]
  },
  {
   "cell_type": "code",
   "execution_count": 94,
   "id": "1c8f9318",
   "metadata": {},
   "outputs": [
    {
     "name": "stdout",
     "output_type": "stream",
     "text": [
      "TEST ACCURACY OF XGBoost Classifier\n",
      "===============================================================\n",
      "Accuracy Score:  0.7203566517322451\n",
      "===============================================================\n",
      "Confusion Matrix: \n",
      "[[9292   32  387    0    0]\n",
      " [1870 5145  149    0    2]\n",
      " [ 461  178 1782    0    0]\n",
      " [2363    5  498    0   19]\n",
      " [ 288    0   52    0   20]]\n",
      "===============================================================\n",
      "Classification Report: \n",
      "              precision    recall  f1-score   support\n",
      "\n",
      "           1       0.65      0.96      0.77      9711\n",
      "           2       0.96      0.72      0.82      7166\n",
      "           3       0.62      0.74      0.67      2421\n",
      "           4       0.00      0.00      0.00      2885\n",
      "           5       0.49      0.06      0.10       360\n",
      "\n",
      "    accuracy                           0.72     22543\n",
      "   macro avg       0.54      0.49      0.47     22543\n",
      "weighted avg       0.66      0.72      0.67     22543\n",
      "\n"
     ]
    }
   ],
   "source": [
    "print(\"TEST ACCURACY OF XGBoost Classifier\")\n",
    "print('===============================================================')\n",
    "print('Accuracy Score: ',metrics.accuracy_score(Y_test,xgc.predict(X_test)))\n",
    "print('===============================================================')\n",
    "print('Confusion Matrix: ')\n",
    "print(metrics.confusion_matrix(Y_test,xgc.predict(X_test)))\n",
    "print('===============================================================')\n",
    "print('Classification Report: ')\n",
    "print(metrics.classification_report(Y_test,xgc.predict(X_test)))"
   ]
  },
  {
   "cell_type": "markdown",
   "id": "df0eb8df",
   "metadata": {},
   "source": [
    "# ===============HAPPY LEARNING==============="
   ]
  }
 ],
 "metadata": {
  "kernelspec": {
   "display_name": "Python 3",
   "language": "python",
   "name": "python3"
  },
  "language_info": {
   "codemirror_mode": {
    "name": "ipython",
    "version": 3
   },
   "file_extension": ".py",
   "mimetype": "text/x-python",
   "name": "python",
   "nbconvert_exporter": "python",
   "pygments_lexer": "ipython3",
   "version": "3.8.8"
  }
 },
 "nbformat": 4,
 "nbformat_minor": 5
}
