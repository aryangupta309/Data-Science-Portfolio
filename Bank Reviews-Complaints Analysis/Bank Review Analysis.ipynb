{
 "cells": [
  {
   "cell_type": "markdown",
   "id": "b50846af",
   "metadata": {},
   "source": [
    "# BANK REVIEWS ANALYSIS"
   ]
  },
  {
   "cell_type": "markdown",
   "id": "5d872875",
   "metadata": {},
   "source": [
    "## Problem Statement"
   ]
  },
  {
   "cell_type": "markdown",
   "id": "0a649c78",
   "metadata": {},
   "source": [
    "### Central banks collecting information about customer satisfaction with the services provided by different bank. Also collects the information about the complaints.\n",
    "### • Bank users give ratings and write reviews about services on central bank websites. These reviews and ratings help to banks evaluate services provided and take necessary to action improve customer service. While ratings are useful to convey the overall experience, they do not convey the context which led a reviewer to that experience.\n",
    "### • If we look at only the rating, it is difficult to guess why the user rated the service as 4 stars. However, after reading the review, it is not difficult to identify that the review talks about good \"service\" and “expectations’\n"
   ]
  },
  {
   "cell_type": "markdown",
   "id": "a96c46d5",
   "metadata": {},
   "source": [
    "### The objective of this project is to analyze customer reviews and predict customer satisfaction with the reviews\n",
    "#### • Data processing\n",
    "#### • Key positive words/negative words (most frequent words)\n",
    "#### • Classification of reviews into positive, negative and neutral\n",
    "#### • Identify key themes of problems (using clustering, topic models)\n",
    "#### • Predicting star ratings using reviews\n",
    "#### • Perform intent analysis\n"
   ]
  },
  {
   "cell_type": "markdown",
   "id": "5e82e19a",
   "metadata": {},
   "source": [
    "# Importing Libraries"
   ]
  },
  {
   "cell_type": "code",
   "execution_count": 1,
   "id": "9b37d1e3",
   "metadata": {},
   "outputs": [],
   "source": [
    "import numpy as np\n",
    "import pandas as pd\n",
    "import matplotlib.pyplot as plt\n",
    "import seaborn as sns\n",
    "%matplotlib inline\n",
    "\n",
    "import re\n",
    "\n",
    "import nltk\n",
    "from textblob import TextBlob\n",
    "from wordcloud import WordCloud\n",
    "from nltk.corpus import stopwords\n",
    "\n",
    "from sklearn.feature_extraction.text import CountVectorizer\n",
    "from sklearn.model_selection import train_test_split\n",
    "from sklearn.naive_bayes import MultinomialNB, BernoulliNB\n",
    "from sklearn.ensemble import RandomForestClassifier\n",
    "from sklearn.neural_network import MLPClassifier\n",
    "from sklearn.metrics import accuracy_score, classification_report, confusion_matrix\n",
    "\n",
    "from sklearn.cluster import KMeans\n",
    "from sklearn.metrics import silhouette_score\n",
    "\n",
    "from sklearn.decomposition import LatentDirichletAllocation\n",
    "\n",
    "import warnings\n",
    "warnings.filterwarnings('ignore')"
   ]
  },
  {
   "cell_type": "markdown",
   "id": "cdfc3f86",
   "metadata": {},
   "source": [
    "# Loading Data"
   ]
  },
  {
   "cell_type": "code",
   "execution_count": 2,
   "id": "74345050",
   "metadata": {},
   "outputs": [],
   "source": [
    "bank=pd.read_excel('BankReviews.xlsx')"
   ]
  },
  {
   "cell_type": "code",
   "execution_count": 3,
   "id": "d0e48938",
   "metadata": {},
   "outputs": [
    {
     "data": {
      "text/html": [
       "<div>\n",
       "<style scoped>\n",
       "    .dataframe tbody tr th:only-of-type {\n",
       "        vertical-align: middle;\n",
       "    }\n",
       "\n",
       "    .dataframe tbody tr th {\n",
       "        vertical-align: top;\n",
       "    }\n",
       "\n",
       "    .dataframe thead th {\n",
       "        text-align: right;\n",
       "    }\n",
       "</style>\n",
       "<table border=\"1\" class=\"dataframe\">\n",
       "  <thead>\n",
       "    <tr style=\"text-align: right;\">\n",
       "      <th></th>\n",
       "      <th>Date</th>\n",
       "      <th>Stars</th>\n",
       "      <th>Reviews</th>\n",
       "      <th>BankName</th>\n",
       "    </tr>\n",
       "  </thead>\n",
       "  <tbody>\n",
       "    <tr>\n",
       "      <th>0</th>\n",
       "      <td>2017-04-10</td>\n",
       "      <td>5</td>\n",
       "      <td>Great job, Wyndham Capital! Each person was pr...</td>\n",
       "      <td>Wyndham Capital Mortgage</td>\n",
       "    </tr>\n",
       "    <tr>\n",
       "      <th>1</th>\n",
       "      <td>2017-02-10</td>\n",
       "      <td>5</td>\n",
       "      <td>Matthew Richardson is professional and helpful...</td>\n",
       "      <td>Wyndham Capital Mortgage</td>\n",
       "    </tr>\n",
       "    <tr>\n",
       "      <th>2</th>\n",
       "      <td>2017-08-21</td>\n",
       "      <td>5</td>\n",
       "      <td>We had a past experience with Wyndham Mortgage...</td>\n",
       "      <td>Wyndham Capital Mortgage</td>\n",
       "    </tr>\n",
       "    <tr>\n",
       "      <th>3</th>\n",
       "      <td>2017-12-17</td>\n",
       "      <td>5</td>\n",
       "      <td>We have been dealing with Brad Thomka from the...</td>\n",
       "      <td>Wyndham Capital Mortgage</td>\n",
       "    </tr>\n",
       "    <tr>\n",
       "      <th>4</th>\n",
       "      <td>2016-05-27</td>\n",
       "      <td>5</td>\n",
       "      <td>I can't express how grateful I am for the supp...</td>\n",
       "      <td>Wyndham Capital Mortgage</td>\n",
       "    </tr>\n",
       "  </tbody>\n",
       "</table>\n",
       "</div>"
      ],
      "text/plain": [
       "        Date  Stars                                            Reviews  \\\n",
       "0 2017-04-10      5  Great job, Wyndham Capital! Each person was pr...   \n",
       "1 2017-02-10      5  Matthew Richardson is professional and helpful...   \n",
       "2 2017-08-21      5  We had a past experience with Wyndham Mortgage...   \n",
       "3 2017-12-17      5  We have been dealing with Brad Thomka from the...   \n",
       "4 2016-05-27      5  I can't express how grateful I am for the supp...   \n",
       "\n",
       "                   BankName  \n",
       "0  Wyndham Capital Mortgage  \n",
       "1  Wyndham Capital Mortgage  \n",
       "2  Wyndham Capital Mortgage  \n",
       "3  Wyndham Capital Mortgage  \n",
       "4  Wyndham Capital Mortgage  "
      ]
     },
     "execution_count": 3,
     "metadata": {},
     "output_type": "execute_result"
    }
   ],
   "source": [
    "bank.head()"
   ]
  },
  {
   "cell_type": "markdown",
   "id": "8d554d26",
   "metadata": {},
   "source": [
    "## EDA"
   ]
  },
  {
   "cell_type": "code",
   "execution_count": 4,
   "id": "ebfacead",
   "metadata": {},
   "outputs": [
    {
     "name": "stdout",
     "output_type": "stream",
     "text": [
      "<class 'pandas.core.frame.DataFrame'>\n",
      "RangeIndex: 505 entries, 0 to 504\n",
      "Data columns (total 4 columns):\n",
      " #   Column    Non-Null Count  Dtype         \n",
      "---  ------    --------------  -----         \n",
      " 0   Date      505 non-null    datetime64[ns]\n",
      " 1   Stars     505 non-null    int64         \n",
      " 2   Reviews   505 non-null    object        \n",
      " 3   BankName  505 non-null    object        \n",
      "dtypes: datetime64[ns](1), int64(1), object(2)\n",
      "memory usage: 15.9+ KB\n"
     ]
    }
   ],
   "source": [
    "bank.info()"
   ]
  },
  {
   "cell_type": "code",
   "execution_count": 5,
   "id": "591c8821",
   "metadata": {},
   "outputs": [
    {
     "data": {
      "text/plain": [
       "5    410\n",
       "1     95\n",
       "Name: Stars, dtype: int64"
      ]
     },
     "execution_count": 5,
     "metadata": {},
     "output_type": "execute_result"
    }
   ],
   "source": [
    "bank.Stars.value_counts()"
   ]
  },
  {
   "cell_type": "code",
   "execution_count": 6,
   "id": "82fb65c8",
   "metadata": {},
   "outputs": [
    {
     "data": {
      "image/png": "[encoded data removed]",
      "text/plain": [
       "<Figure size 432x288 with 1 Axes>"
      ]
     },
     "metadata": {
      "needs_background": "light"
     },
     "output_type": "display_data"
    }
   ],
   "source": [
    "sns.countplot('Stars',data=bank)\n",
    "plt.show()"
   ]
  },
  {
   "cell_type": "code",
   "execution_count": 7,
   "id": "5ca5018b",
   "metadata": {},
   "outputs": [
    {
     "data": {
      "text/plain": [
       "Date        0\n",
       "Stars       0\n",
       "Reviews     0\n",
       "BankName    0\n",
       "dtype: int64"
      ]
     },
     "execution_count": 7,
     "metadata": {},
     "output_type": "execute_result"
    }
   ],
   "source": [
    "bank.isna().sum()"
   ]
  },
  {
   "cell_type": "code",
   "execution_count": 8,
   "id": "717f09c8",
   "metadata": {},
   "outputs": [],
   "source": [
    "#Removing unwanted symbols and numbers from the reviews and performing case standardization\n",
    "def remove_punctutions(x):\n",
    "    x=re.sub('[^a-zA-Z ]','',x)\n",
    "    x=re.sub('[0-9]',\"\",x)\n",
    "    x=re.sub('xD','',x)\n",
    "    x=x.strip()\n",
    "    return x.lower()"
   ]
  },
  {
   "cell_type": "code",
   "execution_count": 9,
   "id": "3cb6016d",
   "metadata": {},
   "outputs": [],
   "source": [
    "bank['reviews_clean']=bank['Reviews'].apply(lambda x: remove_punctutions(x))"
   ]
  },
  {
   "cell_type": "code",
   "execution_count": 10,
   "id": "517b03c5",
   "metadata": {},
   "outputs": [],
   "source": [
    "#finding polarity of the reviews\n",
    "def polarity(review):\n",
    "    temp=TextBlob(review)\n",
    "    return temp.polarity"
   ]
  },
  {
   "cell_type": "code",
   "execution_count": 11,
   "id": "c6d8f5f7",
   "metadata": {},
   "outputs": [],
   "source": [
    "bank['polarity']=bank['reviews_clean'].apply(lambda x : polarity(x))"
   ]
  },
  {
   "cell_type": "code",
   "execution_count": 12,
   "id": "5f7489d3",
   "metadata": {},
   "outputs": [
    {
     "data": {
      "text/html": [
       "<div>\n",
       "<style scoped>\n",
       "    .dataframe tbody tr th:only-of-type {\n",
       "        vertical-align: middle;\n",
       "    }\n",
       "\n",
       "    .dataframe tbody tr th {\n",
       "        vertical-align: top;\n",
       "    }\n",
       "\n",
       "    .dataframe thead th {\n",
       "        text-align: right;\n",
       "    }\n",
       "</style>\n",
       "<table border=\"1\" class=\"dataframe\">\n",
       "  <thead>\n",
       "    <tr style=\"text-align: right;\">\n",
       "      <th></th>\n",
       "      <th>Date</th>\n",
       "      <th>Stars</th>\n",
       "      <th>Reviews</th>\n",
       "      <th>BankName</th>\n",
       "      <th>reviews_clean</th>\n",
       "      <th>polarity</th>\n",
       "    </tr>\n",
       "  </thead>\n",
       "  <tbody>\n",
       "    <tr>\n",
       "      <th>0</th>\n",
       "      <td>2017-04-10</td>\n",
       "      <td>5</td>\n",
       "      <td>Great job, Wyndham Capital! Each person was pr...</td>\n",
       "      <td>Wyndham Capital Mortgage</td>\n",
       "      <td>great job wyndham capital each person was prof...</td>\n",
       "      <td>0.433333</td>\n",
       "    </tr>\n",
       "    <tr>\n",
       "      <th>1</th>\n",
       "      <td>2017-02-10</td>\n",
       "      <td>5</td>\n",
       "      <td>Matthew Richardson is professional and helpful...</td>\n",
       "      <td>Wyndham Capital Mortgage</td>\n",
       "      <td>matthew richardson is professional and helpful...</td>\n",
       "      <td>0.453333</td>\n",
       "    </tr>\n",
       "    <tr>\n",
       "      <th>2</th>\n",
       "      <td>2017-08-21</td>\n",
       "      <td>5</td>\n",
       "      <td>We had a past experience with Wyndham Mortgage...</td>\n",
       "      <td>Wyndham Capital Mortgage</td>\n",
       "      <td>we had a past experience with wyndham mortgage...</td>\n",
       "      <td>-0.030106</td>\n",
       "    </tr>\n",
       "    <tr>\n",
       "      <th>3</th>\n",
       "      <td>2017-12-17</td>\n",
       "      <td>5</td>\n",
       "      <td>We have been dealing with Brad Thomka from the...</td>\n",
       "      <td>Wyndham Capital Mortgage</td>\n",
       "      <td>we have been dealing with brad thomka from the...</td>\n",
       "      <td>0.067698</td>\n",
       "    </tr>\n",
       "    <tr>\n",
       "      <th>4</th>\n",
       "      <td>2016-05-27</td>\n",
       "      <td>5</td>\n",
       "      <td>I can't express how grateful I am for the supp...</td>\n",
       "      <td>Wyndham Capital Mortgage</td>\n",
       "      <td>i cant express how grateful i am for the suppo...</td>\n",
       "      <td>0.115000</td>\n",
       "    </tr>\n",
       "  </tbody>\n",
       "</table>\n",
       "</div>"
      ],
      "text/plain": [
       "        Date  Stars                                            Reviews  \\\n",
       "0 2017-04-10      5  Great job, Wyndham Capital! Each person was pr...   \n",
       "1 2017-02-10      5  Matthew Richardson is professional and helpful...   \n",
       "2 2017-08-21      5  We had a past experience with Wyndham Mortgage...   \n",
       "3 2017-12-17      5  We have been dealing with Brad Thomka from the...   \n",
       "4 2016-05-27      5  I can't express how grateful I am for the supp...   \n",
       "\n",
       "                   BankName  \\\n",
       "0  Wyndham Capital Mortgage   \n",
       "1  Wyndham Capital Mortgage   \n",
       "2  Wyndham Capital Mortgage   \n",
       "3  Wyndham Capital Mortgage   \n",
       "4  Wyndham Capital Mortgage   \n",
       "\n",
       "                                       reviews_clean  polarity  \n",
       "0  great job wyndham capital each person was prof...  0.433333  \n",
       "1  matthew richardson is professional and helpful...  0.453333  \n",
       "2  we had a past experience with wyndham mortgage... -0.030106  \n",
       "3  we have been dealing with brad thomka from the...  0.067698  \n",
       "4  i cant express how grateful i am for the suppo...  0.115000  "
      ]
     },
     "execution_count": 12,
     "metadata": {},
     "output_type": "execute_result"
    }
   ],
   "source": [
    "bank.head()"
   ]
  },
  {
   "cell_type": "code",
   "execution_count": 13,
   "id": "bcb5bc3a",
   "metadata": {},
   "outputs": [],
   "source": [
    "def polarity_cat(polarity):\n",
    "    if polarity > 0:\n",
    "        return 'Positive'\n",
    "    elif polarity == 0:\n",
    "        return 'Neutral'\n",
    "    else:\n",
    "        return 'Negative' "
   ]
  },
  {
   "cell_type": "code",
   "execution_count": 14,
   "id": "808cb338",
   "metadata": {},
   "outputs": [],
   "source": [
    "bank['polarity_cat']=bank['polarity'].apply(lambda x : polarity_cat(x))"
   ]
  },
  {
   "cell_type": "code",
   "execution_count": 15,
   "id": "073532f3",
   "metadata": {},
   "outputs": [
    {
     "data": {
      "text/html": [
       "<div>\n",
       "<style scoped>\n",
       "    .dataframe tbody tr th:only-of-type {\n",
       "        vertical-align: middle;\n",
       "    }\n",
       "\n",
       "    .dataframe tbody tr th {\n",
       "        vertical-align: top;\n",
       "    }\n",
       "\n",
       "    .dataframe thead th {\n",
       "        text-align: right;\n",
       "    }\n",
       "</style>\n",
       "<table border=\"1\" class=\"dataframe\">\n",
       "  <thead>\n",
       "    <tr style=\"text-align: right;\">\n",
       "      <th></th>\n",
       "      <th>Date</th>\n",
       "      <th>Stars</th>\n",
       "      <th>Reviews</th>\n",
       "      <th>BankName</th>\n",
       "      <th>reviews_clean</th>\n",
       "      <th>polarity</th>\n",
       "      <th>polarity_cat</th>\n",
       "    </tr>\n",
       "  </thead>\n",
       "  <tbody>\n",
       "    <tr>\n",
       "      <th>0</th>\n",
       "      <td>2017-04-10</td>\n",
       "      <td>5</td>\n",
       "      <td>Great job, Wyndham Capital! Each person was pr...</td>\n",
       "      <td>Wyndham Capital Mortgage</td>\n",
       "      <td>great job wyndham capital each person was prof...</td>\n",
       "      <td>0.433333</td>\n",
       "      <td>Positive</td>\n",
       "    </tr>\n",
       "    <tr>\n",
       "      <th>1</th>\n",
       "      <td>2017-02-10</td>\n",
       "      <td>5</td>\n",
       "      <td>Matthew Richardson is professional and helpful...</td>\n",
       "      <td>Wyndham Capital Mortgage</td>\n",
       "      <td>matthew richardson is professional and helpful...</td>\n",
       "      <td>0.453333</td>\n",
       "      <td>Positive</td>\n",
       "    </tr>\n",
       "    <tr>\n",
       "      <th>2</th>\n",
       "      <td>2017-08-21</td>\n",
       "      <td>5</td>\n",
       "      <td>We had a past experience with Wyndham Mortgage...</td>\n",
       "      <td>Wyndham Capital Mortgage</td>\n",
       "      <td>we had a past experience with wyndham mortgage...</td>\n",
       "      <td>-0.030106</td>\n",
       "      <td>Negative</td>\n",
       "    </tr>\n",
       "    <tr>\n",
       "      <th>3</th>\n",
       "      <td>2017-12-17</td>\n",
       "      <td>5</td>\n",
       "      <td>We have been dealing with Brad Thomka from the...</td>\n",
       "      <td>Wyndham Capital Mortgage</td>\n",
       "      <td>we have been dealing with brad thomka from the...</td>\n",
       "      <td>0.067698</td>\n",
       "      <td>Positive</td>\n",
       "    </tr>\n",
       "    <tr>\n",
       "      <th>4</th>\n",
       "      <td>2016-05-27</td>\n",
       "      <td>5</td>\n",
       "      <td>I can't express how grateful I am for the supp...</td>\n",
       "      <td>Wyndham Capital Mortgage</td>\n",
       "      <td>i cant express how grateful i am for the suppo...</td>\n",
       "      <td>0.115000</td>\n",
       "      <td>Positive</td>\n",
       "    </tr>\n",
       "  </tbody>\n",
       "</table>\n",
       "</div>"
      ],
      "text/plain": [
       "        Date  Stars                                            Reviews  \\\n",
       "0 2017-04-10      5  Great job, Wyndham Capital! Each person was pr...   \n",
       "1 2017-02-10      5  Matthew Richardson is professional and helpful...   \n",
       "2 2017-08-21      5  We had a past experience with Wyndham Mortgage...   \n",
       "3 2017-12-17      5  We have been dealing with Brad Thomka from the...   \n",
       "4 2016-05-27      5  I can't express how grateful I am for the supp...   \n",
       "\n",
       "                   BankName  \\\n",
       "0  Wyndham Capital Mortgage   \n",
       "1  Wyndham Capital Mortgage   \n",
       "2  Wyndham Capital Mortgage   \n",
       "3  Wyndham Capital Mortgage   \n",
       "4  Wyndham Capital Mortgage   \n",
       "\n",
       "                                       reviews_clean  polarity polarity_cat  \n",
       "0  great job wyndham capital each person was prof...  0.433333     Positive  \n",
       "1  matthew richardson is professional and helpful...  0.453333     Positive  \n",
       "2  we had a past experience with wyndham mortgage... -0.030106     Negative  \n",
       "3  we have been dealing with brad thomka from the...  0.067698     Positive  \n",
       "4  i cant express how grateful i am for the suppo...  0.115000     Positive  "
      ]
     },
     "execution_count": 15,
     "metadata": {},
     "output_type": "execute_result"
    }
   ],
   "source": [
    "bank.head()"
   ]
  },
  {
   "cell_type": "code",
   "execution_count": 16,
   "id": "26413c36",
   "metadata": {},
   "outputs": [
    {
     "data": {
      "text/plain": [
       "Positive    467\n",
       "Negative     34\n",
       "Neutral       4\n",
       "Name: polarity_cat, dtype: int64"
      ]
     },
     "execution_count": 16,
     "metadata": {},
     "output_type": "execute_result"
    }
   ],
   "source": [
    "bank.polarity_cat.value_counts()"
   ]
  },
  {
   "cell_type": "code",
   "execution_count": 17,
   "id": "cee315c2",
   "metadata": {},
   "outputs": [
    {
     "data": {
      "image/png": "[encoded data removed]",
      "text/plain": [
       "<Figure size 432x288 with 1 Axes>"
      ]
     },
     "metadata": {
      "needs_background": "light"
     },
     "output_type": "display_data"
    }
   ],
   "source": [
    "sns.countplot('polarity_cat',data=bank,orient='v')\n",
    "plt.title('Reviews Classification',fontsize=20)\n",
    "plt.xlabel('Reviews Categories',fontsize=15)\n",
    "plt.ylabel('#Count',fontsize=15)\n",
    "plt.show()"
   ]
  },
  {
   "cell_type": "code",
   "execution_count": 18,
   "id": "5b555371",
   "metadata": {},
   "outputs": [],
   "source": [
    "pos_rev=bank.reviews_clean[bank.polarity_cat=='Positive']"
   ]
  },
  {
   "cell_type": "code",
   "execution_count": 19,
   "id": "82b05c4f",
   "metadata": {},
   "outputs": [
    {
     "data": {
      "text/plain": [
       "0      great job wyndham capital each person was prof...\n",
       "1      matthew richardson is professional and helpful...\n",
       "3      we have been dealing with brad thomka from the...\n",
       "4      i cant express how grateful i am for the suppo...\n",
       "5      i had the pleasure of working with wyndham cap...\n",
       "                             ...                        \n",
       "500    i never write reviews but had to this time to ...\n",
       "501    it all started when bob g ran a credit check w...\n",
       "502    what a horrible experience we have excellent c...\n",
       "503    rep was extremely professional friendly and he...\n",
       "504    i was working with a loan consultant from nasb...\n",
       "Name: reviews_clean, Length: 467, dtype: object"
      ]
     },
     "execution_count": 19,
     "metadata": {},
     "output_type": "execute_result"
    }
   ],
   "source": [
    "pos_rev"
   ]
  },
  {
   "cell_type": "code",
   "execution_count": 20,
   "id": "26227e5f",
   "metadata": {},
   "outputs": [],
   "source": [
    "neg_rev=bank.reviews_clean[bank.polarity_cat=='Negative']"
   ]
  },
  {
   "cell_type": "code",
   "execution_count": 21,
   "id": "0910c955",
   "metadata": {},
   "outputs": [
    {
     "data": {
      "text/plain": [
       "2     we had a past experience with wyndham mortgage...\n",
       "17    this was the worst experience ever it was like...\n",
       "39    the closing process for a va loan went smoothl...\n",
       "40    miserable experience they screwed up everythin...\n",
       "44    this lender contacted my previous phone number...\n",
       "Name: reviews_clean, dtype: object"
      ]
     },
     "execution_count": 21,
     "metadata": {},
     "output_type": "execute_result"
    }
   ],
   "source": [
    "neg_rev.head()"
   ]
  },
  {
   "cell_type": "code",
   "execution_count": 22,
   "id": "65242fb9",
   "metadata": {},
   "outputs": [],
   "source": [
    "#Combining all positive and negative review for Wordcloud\n",
    "def combine_text_function(x):\n",
    "    combine_text=''\n",
    "    for i in x:\n",
    "        combine_text+=i\n",
    "    return combine_text"
   ]
  },
  {
   "cell_type": "code",
   "execution_count": 23,
   "id": "52fc1eb9",
   "metadata": {},
   "outputs": [],
   "source": [
    "pos_rev_comb=combine_text_function(pos_rev)"
   ]
  },
  {
   "cell_type": "code",
   "execution_count": 24,
   "id": "a604b2db",
   "metadata": {},
   "outputs": [],
   "source": [
    "neg_rev_comb=combine_text_function(neg_rev)"
   ]
  },
  {
   "cell_type": "code",
   "execution_count": 25,
   "id": "4d6f82e2",
   "metadata": {},
   "outputs": [],
   "source": [
    "w_pos=WordCloud(max_font_size=80, max_words=100,background_color=\"white\").generate(pos_rev_comb)\n",
    "w_neg=WordCloud(max_font_size=80, max_words=100,background_color=\"white\").generate(neg_rev_comb)"
   ]
  },
  {
   "cell_type": "code",
   "execution_count": 26,
   "id": "8fdd131f",
   "metadata": {},
   "outputs": [
    {
     "data": {
      "image/png": "[encoded data removed]",
      "text/plain": [
       "<Figure size 792x648 with 1 Axes>"
      ]
     },
     "metadata": {
      "needs_background": "light"
     },
     "output_type": "display_data"
    }
   ],
   "source": [
    "plt.figure(figsize=(11,9))\n",
    "plt.imshow(w_pos)\n",
    "plt.title('Positive Reviews WordCloud',fontsize=20)\n",
    "plt.axis(\"off\")\n",
    "plt.show()"
   ]
  },
  {
   "cell_type": "code",
   "execution_count": 27,
   "id": "9e140af4",
   "metadata": {},
   "outputs": [
    {
     "data": {
      "image/png": "[encoded data removed]",
      "text/plain": [
       "<Figure size 792x648 with 1 Axes>"
      ]
     },
     "metadata": {
      "needs_background": "light"
     },
     "output_type": "display_data"
    }
   ],
   "source": [
    "plt.figure(figsize=(11,9))\n",
    "plt.imshow(w_neg)\n",
    "plt.title('Negative Reviews WordCloud',fontsize=20)\n",
    "plt.axis(\"off\")\n",
    "plt.show()"
   ]
  },
  {
   "cell_type": "markdown",
   "id": "47355549",
   "metadata": {},
   "source": [
    "# Text Cleaning"
   ]
  },
  {
   "cell_type": "code",
   "execution_count": 28,
   "id": "7f1fed3e",
   "metadata": {},
   "outputs": [
    {
     "data": {
      "text/html": [
       "<div>\n",
       "<style scoped>\n",
       "    .dataframe tbody tr th:only-of-type {\n",
       "        vertical-align: middle;\n",
       "    }\n",
       "\n",
       "    .dataframe tbody tr th {\n",
       "        vertical-align: top;\n",
       "    }\n",
       "\n",
       "    .dataframe thead th {\n",
       "        text-align: right;\n",
       "    }\n",
       "</style>\n",
       "<table border=\"1\" class=\"dataframe\">\n",
       "  <thead>\n",
       "    <tr style=\"text-align: right;\">\n",
       "      <th></th>\n",
       "      <th>Date</th>\n",
       "      <th>Stars</th>\n",
       "      <th>Reviews</th>\n",
       "      <th>BankName</th>\n",
       "      <th>reviews_clean</th>\n",
       "      <th>polarity</th>\n",
       "      <th>polarity_cat</th>\n",
       "    </tr>\n",
       "  </thead>\n",
       "  <tbody>\n",
       "    <tr>\n",
       "      <th>0</th>\n",
       "      <td>2017-04-10</td>\n",
       "      <td>5</td>\n",
       "      <td>Great job, Wyndham Capital! Each person was pr...</td>\n",
       "      <td>Wyndham Capital Mortgage</td>\n",
       "      <td>great job wyndham capital each person was prof...</td>\n",
       "      <td>0.433333</td>\n",
       "      <td>Positive</td>\n",
       "    </tr>\n",
       "    <tr>\n",
       "      <th>1</th>\n",
       "      <td>2017-02-10</td>\n",
       "      <td>5</td>\n",
       "      <td>Matthew Richardson is professional and helpful...</td>\n",
       "      <td>Wyndham Capital Mortgage</td>\n",
       "      <td>matthew richardson is professional and helpful...</td>\n",
       "      <td>0.453333</td>\n",
       "      <td>Positive</td>\n",
       "    </tr>\n",
       "    <tr>\n",
       "      <th>2</th>\n",
       "      <td>2017-08-21</td>\n",
       "      <td>5</td>\n",
       "      <td>We had a past experience with Wyndham Mortgage...</td>\n",
       "      <td>Wyndham Capital Mortgage</td>\n",
       "      <td>we had a past experience with wyndham mortgage...</td>\n",
       "      <td>-0.030106</td>\n",
       "      <td>Negative</td>\n",
       "    </tr>\n",
       "    <tr>\n",
       "      <th>3</th>\n",
       "      <td>2017-12-17</td>\n",
       "      <td>5</td>\n",
       "      <td>We have been dealing with Brad Thomka from the...</td>\n",
       "      <td>Wyndham Capital Mortgage</td>\n",
       "      <td>we have been dealing with brad thomka from the...</td>\n",
       "      <td>0.067698</td>\n",
       "      <td>Positive</td>\n",
       "    </tr>\n",
       "    <tr>\n",
       "      <th>4</th>\n",
       "      <td>2016-05-27</td>\n",
       "      <td>5</td>\n",
       "      <td>I can't express how grateful I am for the supp...</td>\n",
       "      <td>Wyndham Capital Mortgage</td>\n",
       "      <td>i cant express how grateful i am for the suppo...</td>\n",
       "      <td>0.115000</td>\n",
       "      <td>Positive</td>\n",
       "    </tr>\n",
       "  </tbody>\n",
       "</table>\n",
       "</div>"
      ],
      "text/plain": [
       "        Date  Stars                                            Reviews  \\\n",
       "0 2017-04-10      5  Great job, Wyndham Capital! Each person was pr...   \n",
       "1 2017-02-10      5  Matthew Richardson is professional and helpful...   \n",
       "2 2017-08-21      5  We had a past experience with Wyndham Mortgage...   \n",
       "3 2017-12-17      5  We have been dealing with Brad Thomka from the...   \n",
       "4 2016-05-27      5  I can't express how grateful I am for the supp...   \n",
       "\n",
       "                   BankName  \\\n",
       "0  Wyndham Capital Mortgage   \n",
       "1  Wyndham Capital Mortgage   \n",
       "2  Wyndham Capital Mortgage   \n",
       "3  Wyndham Capital Mortgage   \n",
       "4  Wyndham Capital Mortgage   \n",
       "\n",
       "                                       reviews_clean  polarity polarity_cat  \n",
       "0  great job wyndham capital each person was prof...  0.433333     Positive  \n",
       "1  matthew richardson is professional and helpful...  0.453333     Positive  \n",
       "2  we had a past experience with wyndham mortgage... -0.030106     Negative  \n",
       "3  we have been dealing with brad thomka from the...  0.067698     Positive  \n",
       "4  i cant express how grateful i am for the suppo...  0.115000     Positive  "
      ]
     },
     "execution_count": 28,
     "metadata": {},
     "output_type": "execute_result"
    }
   ],
   "source": [
    "bank.head()"
   ]
  },
  {
   "cell_type": "code",
   "execution_count": 29,
   "id": "1bcbb110",
   "metadata": {},
   "outputs": [
    {
     "data": {
      "text/plain": [
       "Positive    63\n",
       "Negative    28\n",
       "Neutral      4\n",
       "Name: polarity_cat, dtype: int64"
      ]
     },
     "execution_count": 29,
     "metadata": {},
     "output_type": "execute_result"
    }
   ],
   "source": [
    "(bank.polarity_cat[bank.Stars==1]).value_counts()"
   ]
  },
  {
   "cell_type": "markdown",
   "id": "05bbb4fe",
   "metadata": {},
   "source": [
    "### Tokenization"
   ]
  },
  {
   "cell_type": "code",
   "execution_count": 30,
   "id": "46c4c9d4",
   "metadata": {},
   "outputs": [],
   "source": [
    "def token(word):\n",
    "    return word.split(' ')"
   ]
  },
  {
   "cell_type": "code",
   "execution_count": 31,
   "id": "ed1c2fc4",
   "metadata": {},
   "outputs": [],
   "source": [
    "bank['reviews_token']=bank['reviews_clean'].apply(lambda x : token(x))"
   ]
  },
  {
   "cell_type": "code",
   "execution_count": 32,
   "id": "3b48b7f2",
   "metadata": {},
   "outputs": [
    {
     "data": {
      "text/html": [
       "<div>\n",
       "<style scoped>\n",
       "    .dataframe tbody tr th:only-of-type {\n",
       "        vertical-align: middle;\n",
       "    }\n",
       "\n",
       "    .dataframe tbody tr th {\n",
       "        vertical-align: top;\n",
       "    }\n",
       "\n",
       "    .dataframe thead th {\n",
       "        text-align: right;\n",
       "    }\n",
       "</style>\n",
       "<table border=\"1\" class=\"dataframe\">\n",
       "  <thead>\n",
       "    <tr style=\"text-align: right;\">\n",
       "      <th></th>\n",
       "      <th>Date</th>\n",
       "      <th>Stars</th>\n",
       "      <th>Reviews</th>\n",
       "      <th>BankName</th>\n",
       "      <th>reviews_clean</th>\n",
       "      <th>polarity</th>\n",
       "      <th>polarity_cat</th>\n",
       "      <th>reviews_token</th>\n",
       "    </tr>\n",
       "  </thead>\n",
       "  <tbody>\n",
       "    <tr>\n",
       "      <th>0</th>\n",
       "      <td>2017-04-10</td>\n",
       "      <td>5</td>\n",
       "      <td>Great job, Wyndham Capital! Each person was pr...</td>\n",
       "      <td>Wyndham Capital Mortgage</td>\n",
       "      <td>great job wyndham capital each person was prof...</td>\n",
       "      <td>0.433333</td>\n",
       "      <td>Positive</td>\n",
       "      <td>[great, job, wyndham, capital, each, person, w...</td>\n",
       "    </tr>\n",
       "    <tr>\n",
       "      <th>1</th>\n",
       "      <td>2017-02-10</td>\n",
       "      <td>5</td>\n",
       "      <td>Matthew Richardson is professional and helpful...</td>\n",
       "      <td>Wyndham Capital Mortgage</td>\n",
       "      <td>matthew richardson is professional and helpful...</td>\n",
       "      <td>0.453333</td>\n",
       "      <td>Positive</td>\n",
       "      <td>[matthew, richardson, is, professional, and, h...</td>\n",
       "    </tr>\n",
       "    <tr>\n",
       "      <th>2</th>\n",
       "      <td>2017-08-21</td>\n",
       "      <td>5</td>\n",
       "      <td>We had a past experience with Wyndham Mortgage...</td>\n",
       "      <td>Wyndham Capital Mortgage</td>\n",
       "      <td>we had a past experience with wyndham mortgage...</td>\n",
       "      <td>-0.030106</td>\n",
       "      <td>Negative</td>\n",
       "      <td>[we, had, a, past, experience, with, wyndham, ...</td>\n",
       "    </tr>\n",
       "    <tr>\n",
       "      <th>3</th>\n",
       "      <td>2017-12-17</td>\n",
       "      <td>5</td>\n",
       "      <td>We have been dealing with Brad Thomka from the...</td>\n",
       "      <td>Wyndham Capital Mortgage</td>\n",
       "      <td>we have been dealing with brad thomka from the...</td>\n",
       "      <td>0.067698</td>\n",
       "      <td>Positive</td>\n",
       "      <td>[we, have, been, dealing, with, brad, thomka, ...</td>\n",
       "    </tr>\n",
       "    <tr>\n",
       "      <th>4</th>\n",
       "      <td>2016-05-27</td>\n",
       "      <td>5</td>\n",
       "      <td>I can't express how grateful I am for the supp...</td>\n",
       "      <td>Wyndham Capital Mortgage</td>\n",
       "      <td>i cant express how grateful i am for the suppo...</td>\n",
       "      <td>0.115000</td>\n",
       "      <td>Positive</td>\n",
       "      <td>[i, cant, express, how, grateful, i, am, for, ...</td>\n",
       "    </tr>\n",
       "  </tbody>\n",
       "</table>\n",
       "</div>"
      ],
      "text/plain": [
       "        Date  Stars                                            Reviews  \\\n",
       "0 2017-04-10      5  Great job, Wyndham Capital! Each person was pr...   \n",
       "1 2017-02-10      5  Matthew Richardson is professional and helpful...   \n",
       "2 2017-08-21      5  We had a past experience with Wyndham Mortgage...   \n",
       "3 2017-12-17      5  We have been dealing with Brad Thomka from the...   \n",
       "4 2016-05-27      5  I can't express how grateful I am for the supp...   \n",
       "\n",
       "                   BankName  \\\n",
       "0  Wyndham Capital Mortgage   \n",
       "1  Wyndham Capital Mortgage   \n",
       "2  Wyndham Capital Mortgage   \n",
       "3  Wyndham Capital Mortgage   \n",
       "4  Wyndham Capital Mortgage   \n",
       "\n",
       "                                       reviews_clean  polarity polarity_cat  \\\n",
       "0  great job wyndham capital each person was prof...  0.433333     Positive   \n",
       "1  matthew richardson is professional and helpful...  0.453333     Positive   \n",
       "2  we had a past experience with wyndham mortgage... -0.030106     Negative   \n",
       "3  we have been dealing with brad thomka from the...  0.067698     Positive   \n",
       "4  i cant express how grateful i am for the suppo...  0.115000     Positive   \n",
       "\n",
       "                                       reviews_token  \n",
       "0  [great, job, wyndham, capital, each, person, w...  \n",
       "1  [matthew, richardson, is, professional, and, h...  \n",
       "2  [we, had, a, past, experience, with, wyndham, ...  \n",
       "3  [we, have, been, dealing, with, brad, thomka, ...  \n",
       "4  [i, cant, express, how, grateful, i, am, for, ...  "
      ]
     },
     "execution_count": 32,
     "metadata": {},
     "output_type": "execute_result"
    }
   ],
   "source": [
    "bank.head()"
   ]
  },
  {
   "cell_type": "markdown",
   "id": "900961fb",
   "metadata": {},
   "source": [
    "### Typo Corrections"
   ]
  },
  {
   "cell_type": "code",
   "execution_count": 33,
   "id": "756803d8",
   "metadata": {},
   "outputs": [],
   "source": [
    "def typo(text):\n",
    "    typo_list=[]\n",
    "    for word in text:\n",
    "        tb=TextBlob(word)\n",
    "        typo_list.append(tb.correct().raw)\n",
    "    return typo_list"
   ]
  },
  {
   "cell_type": "code",
   "execution_count": 34,
   "id": "5bbc1054",
   "metadata": {},
   "outputs": [],
   "source": [
    "bank['reviews_typo']=bank['reviews_token'].apply(lambda x : typo(x))"
   ]
  },
  {
   "cell_type": "code",
   "execution_count": 35,
   "id": "89aaf19a",
   "metadata": {},
   "outputs": [
    {
     "data": {
      "text/html": [
       "<div>\n",
       "<style scoped>\n",
       "    .dataframe tbody tr th:only-of-type {\n",
       "        vertical-align: middle;\n",
       "    }\n",
       "\n",
       "    .dataframe tbody tr th {\n",
       "        vertical-align: top;\n",
       "    }\n",
       "\n",
       "    .dataframe thead th {\n",
       "        text-align: right;\n",
       "    }\n",
       "</style>\n",
       "<table border=\"1\" class=\"dataframe\">\n",
       "  <thead>\n",
       "    <tr style=\"text-align: right;\">\n",
       "      <th></th>\n",
       "      <th>Date</th>\n",
       "      <th>Stars</th>\n",
       "      <th>Reviews</th>\n",
       "      <th>BankName</th>\n",
       "      <th>reviews_clean</th>\n",
       "      <th>polarity</th>\n",
       "      <th>polarity_cat</th>\n",
       "      <th>reviews_token</th>\n",
       "      <th>reviews_typo</th>\n",
       "    </tr>\n",
       "  </thead>\n",
       "  <tbody>\n",
       "    <tr>\n",
       "      <th>0</th>\n",
       "      <td>2017-04-10</td>\n",
       "      <td>5</td>\n",
       "      <td>Great job, Wyndham Capital! Each person was pr...</td>\n",
       "      <td>Wyndham Capital Mortgage</td>\n",
       "      <td>great job wyndham capital each person was prof...</td>\n",
       "      <td>0.433333</td>\n",
       "      <td>Positive</td>\n",
       "      <td>[great, job, wyndham, capital, each, person, w...</td>\n",
       "      <td>[great, job, wyndham, capital, each, person, w...</td>\n",
       "    </tr>\n",
       "    <tr>\n",
       "      <th>1</th>\n",
       "      <td>2017-02-10</td>\n",
       "      <td>5</td>\n",
       "      <td>Matthew Richardson is professional and helpful...</td>\n",
       "      <td>Wyndham Capital Mortgage</td>\n",
       "      <td>matthew richardson is professional and helpful...</td>\n",
       "      <td>0.453333</td>\n",
       "      <td>Positive</td>\n",
       "      <td>[matthew, richardson, is, professional, and, h...</td>\n",
       "      <td>[matthew, richardson, is, professional, and, h...</td>\n",
       "    </tr>\n",
       "    <tr>\n",
       "      <th>2</th>\n",
       "      <td>2017-08-21</td>\n",
       "      <td>5</td>\n",
       "      <td>We had a past experience with Wyndham Mortgage...</td>\n",
       "      <td>Wyndham Capital Mortgage</td>\n",
       "      <td>we had a past experience with wyndham mortgage...</td>\n",
       "      <td>-0.030106</td>\n",
       "      <td>Negative</td>\n",
       "      <td>[we, had, a, past, experience, with, wyndham, ...</td>\n",
       "      <td>[we, had, a, past, experience, with, wyndham, ...</td>\n",
       "    </tr>\n",
       "    <tr>\n",
       "      <th>3</th>\n",
       "      <td>2017-12-17</td>\n",
       "      <td>5</td>\n",
       "      <td>We have been dealing with Brad Thomka from the...</td>\n",
       "      <td>Wyndham Capital Mortgage</td>\n",
       "      <td>we have been dealing with brad thomka from the...</td>\n",
       "      <td>0.067698</td>\n",
       "      <td>Positive</td>\n",
       "      <td>[we, have, been, dealing, with, brad, thomka, ...</td>\n",
       "      <td>[we, have, been, dealing, with, bad, thomas, f...</td>\n",
       "    </tr>\n",
       "    <tr>\n",
       "      <th>4</th>\n",
       "      <td>2016-05-27</td>\n",
       "      <td>5</td>\n",
       "      <td>I can't express how grateful I am for the supp...</td>\n",
       "      <td>Wyndham Capital Mortgage</td>\n",
       "      <td>i cant express how grateful i am for the suppo...</td>\n",
       "      <td>0.115000</td>\n",
       "      <td>Positive</td>\n",
       "      <td>[i, cant, express, how, grateful, i, am, for, ...</td>\n",
       "      <td>[i, can, express, how, grateful, i, am, for, t...</td>\n",
       "    </tr>\n",
       "  </tbody>\n",
       "</table>\n",
       "</div>"
      ],
      "text/plain": [
       "        Date  Stars                                            Reviews  \\\n",
       "0 2017-04-10      5  Great job, Wyndham Capital! Each person was pr...   \n",
       "1 2017-02-10      5  Matthew Richardson is professional and helpful...   \n",
       "2 2017-08-21      5  We had a past experience with Wyndham Mortgage...   \n",
       "3 2017-12-17      5  We have been dealing with Brad Thomka from the...   \n",
       "4 2016-05-27      5  I can't express how grateful I am for the supp...   \n",
       "\n",
       "                   BankName  \\\n",
       "0  Wyndham Capital Mortgage   \n",
       "1  Wyndham Capital Mortgage   \n",
       "2  Wyndham Capital Mortgage   \n",
       "3  Wyndham Capital Mortgage   \n",
       "4  Wyndham Capital Mortgage   \n",
       "\n",
       "                                       reviews_clean  polarity polarity_cat  \\\n",
       "0  great job wyndham capital each person was prof...  0.433333     Positive   \n",
       "1  matthew richardson is professional and helpful...  0.453333     Positive   \n",
       "2  we had a past experience with wyndham mortgage... -0.030106     Negative   \n",
       "3  we have been dealing with brad thomka from the...  0.067698     Positive   \n",
       "4  i cant express how grateful i am for the suppo...  0.115000     Positive   \n",
       "\n",
       "                                       reviews_token  \\\n",
       "0  [great, job, wyndham, capital, each, person, w...   \n",
       "1  [matthew, richardson, is, professional, and, h...   \n",
       "2  [we, had, a, past, experience, with, wyndham, ...   \n",
       "3  [we, have, been, dealing, with, brad, thomka, ...   \n",
       "4  [i, cant, express, how, grateful, i, am, for, ...   \n",
       "\n",
       "                                        reviews_typo  \n",
       "0  [great, job, wyndham, capital, each, person, w...  \n",
       "1  [matthew, richardson, is, professional, and, h...  \n",
       "2  [we, had, a, past, experience, with, wyndham, ...  \n",
       "3  [we, have, been, dealing, with, bad, thomas, f...  \n",
       "4  [i, can, express, how, grateful, i, am, for, t...  "
      ]
     },
     "execution_count": 35,
     "metadata": {},
     "output_type": "execute_result"
    }
   ],
   "source": [
    "bank.head()"
   ]
  },
  {
   "cell_type": "markdown",
   "id": "dd97d6bd",
   "metadata": {},
   "source": [
    "### Removing Stopwords"
   ]
  },
  {
   "cell_type": "code",
   "execution_count": 36,
   "id": "493572f7",
   "metadata": {},
   "outputs": [],
   "source": [
    "list_stopwords=stopwords.words('english')"
   ]
  },
  {
   "cell_type": "code",
   "execution_count": 37,
   "id": "f0be5340",
   "metadata": {},
   "outputs": [
    {
     "data": {
      "text/plain": [
       "179"
      ]
     },
     "execution_count": 37,
     "metadata": {},
     "output_type": "execute_result"
    }
   ],
   "source": [
    "len(list_stopwords)"
   ]
  },
  {
   "cell_type": "code",
   "execution_count": 38,
   "id": "534ebd9b",
   "metadata": {},
   "outputs": [],
   "source": [
    "def rem_stopwords(x):\n",
    "    for i in x:\n",
    "        if i in list_stopwords:\n",
    "            x.remove(i)\n",
    "    return x"
   ]
  },
  {
   "cell_type": "code",
   "execution_count": 39,
   "id": "fc195393",
   "metadata": {},
   "outputs": [],
   "source": [
    "bank['reviews_stopwords']=bank['reviews_typo'].apply(lambda x : rem_stopwords(x))"
   ]
  },
  {
   "cell_type": "code",
   "execution_count": 40,
   "id": "32d24042",
   "metadata": {},
   "outputs": [
    {
     "data": {
      "text/plain": [
       "0      [great, job, wyndham, capital, person, profess...\n",
       "1      [matthew, richardson, professional, helpful, h...\n",
       "2      [had, past, experience, wyndham, mortgage, wou...\n",
       "3      [have, dealing, bad, thomas, beginning, what, ...\n",
       "4      [can, express, grateful, am, support, each, pr...\n",
       "                             ...                        \n",
       "500    [never, write, reviews, time, prevent, anyone,...\n",
       "501    [all, started, bob, g, ran, credit, check, wit...\n",
       "502    [horrible, experience, have, excellent, credit...\n",
       "503    [rep, extremely, professional, friendly, helpf...\n",
       "504    [working, loan, consultant, naso, told, would,...\n",
       "Name: reviews_stopwords, Length: 505, dtype: object"
      ]
     },
     "execution_count": 40,
     "metadata": {},
     "output_type": "execute_result"
    }
   ],
   "source": [
    "bank.reviews_stopwords"
   ]
  },
  {
   "cell_type": "markdown",
   "id": "0bf80226",
   "metadata": {},
   "source": [
    "### Stemming and Lemmatization"
   ]
  },
  {
   "cell_type": "markdown",
   "id": "42b93f60",
   "metadata": {},
   "source": [
    "#### Stemming"
   ]
  },
  {
   "cell_type": "code",
   "execution_count": 41,
   "id": "cb1711f7",
   "metadata": {},
   "outputs": [],
   "source": [
    "ps=nltk.stem.PorterStemmer()"
   ]
  },
  {
   "cell_type": "code",
   "execution_count": 42,
   "id": "e62852b2",
   "metadata": {},
   "outputs": [],
   "source": [
    "def stem(text):\n",
    "    temp_stem=[]\n",
    "    for word in text:\n",
    "        temp_stem.append(ps.stem(word))\n",
    "    return temp_stem"
   ]
  },
  {
   "cell_type": "code",
   "execution_count": 43,
   "id": "6c13f05a",
   "metadata": {},
   "outputs": [],
   "source": [
    "bank['reviews_stem']=bank['reviews_stopwords'].apply(lambda x : stem(x))"
   ]
  },
  {
   "cell_type": "markdown",
   "id": "cc98945a",
   "metadata": {},
   "source": [
    "#### Lemmatization"
   ]
  },
  {
   "cell_type": "code",
   "execution_count": 44,
   "id": "d8c867b7",
   "metadata": {},
   "outputs": [],
   "source": [
    "wn=nltk.wordnet.WordNetLemmatizer()"
   ]
  },
  {
   "cell_type": "code",
   "execution_count": 45,
   "id": "7b02adfd",
   "metadata": {},
   "outputs": [],
   "source": [
    "def lemma(text):\n",
    "    temp_lemma=[]\n",
    "    for word in text:\n",
    "        temp_lemma.append(wn.lemmatize(word))\n",
    "    return temp_lemma"
   ]
  },
  {
   "cell_type": "code",
   "execution_count": 46,
   "id": "0f1379ee",
   "metadata": {},
   "outputs": [],
   "source": [
    "bank['reviews_stem_lemma']=bank['reviews_stem'].apply(lambda x : lemma(x))"
   ]
  },
  {
   "cell_type": "code",
   "execution_count": 47,
   "id": "14ffcae6",
   "metadata": {},
   "outputs": [
    {
     "data": {
      "text/html": [
       "<div>\n",
       "<style scoped>\n",
       "    .dataframe tbody tr th:only-of-type {\n",
       "        vertical-align: middle;\n",
       "    }\n",
       "\n",
       "    .dataframe tbody tr th {\n",
       "        vertical-align: top;\n",
       "    }\n",
       "\n",
       "    .dataframe thead th {\n",
       "        text-align: right;\n",
       "    }\n",
       "</style>\n",
       "<table border=\"1\" class=\"dataframe\">\n",
       "  <thead>\n",
       "    <tr style=\"text-align: right;\">\n",
       "      <th></th>\n",
       "      <th>Date</th>\n",
       "      <th>Stars</th>\n",
       "      <th>Reviews</th>\n",
       "      <th>BankName</th>\n",
       "      <th>reviews_clean</th>\n",
       "      <th>polarity</th>\n",
       "      <th>polarity_cat</th>\n",
       "      <th>reviews_token</th>\n",
       "      <th>reviews_typo</th>\n",
       "      <th>reviews_stopwords</th>\n",
       "      <th>reviews_stem</th>\n",
       "      <th>reviews_stem_lemma</th>\n",
       "    </tr>\n",
       "  </thead>\n",
       "  <tbody>\n",
       "    <tr>\n",
       "      <th>0</th>\n",
       "      <td>2017-04-10</td>\n",
       "      <td>5</td>\n",
       "      <td>Great job, Wyndham Capital! Each person was pr...</td>\n",
       "      <td>Wyndham Capital Mortgage</td>\n",
       "      <td>great job wyndham capital each person was prof...</td>\n",
       "      <td>0.433333</td>\n",
       "      <td>Positive</td>\n",
       "      <td>[great, job, wyndham, capital, each, person, w...</td>\n",
       "      <td>[great, job, wyndham, capital, person, profess...</td>\n",
       "      <td>[great, job, wyndham, capital, person, profess...</td>\n",
       "      <td>[great, job, wyndham, capit, person, professio...</td>\n",
       "      <td>[great, job, wyndham, capit, person, professio...</td>\n",
       "    </tr>\n",
       "    <tr>\n",
       "      <th>1</th>\n",
       "      <td>2017-02-10</td>\n",
       "      <td>5</td>\n",
       "      <td>Matthew Richardson is professional and helpful...</td>\n",
       "      <td>Wyndham Capital Mortgage</td>\n",
       "      <td>matthew richardson is professional and helpful...</td>\n",
       "      <td>0.453333</td>\n",
       "      <td>Positive</td>\n",
       "      <td>[matthew, richardson, is, professional, and, h...</td>\n",
       "      <td>[matthew, richardson, professional, helpful, h...</td>\n",
       "      <td>[matthew, richardson, professional, helpful, h...</td>\n",
       "      <td>[matthew, richardson, profession, help, help, ...</td>\n",
       "      <td>[matthew, richardson, profession, help, help, ...</td>\n",
       "    </tr>\n",
       "    <tr>\n",
       "      <th>2</th>\n",
       "      <td>2017-08-21</td>\n",
       "      <td>5</td>\n",
       "      <td>We had a past experience with Wyndham Mortgage...</td>\n",
       "      <td>Wyndham Capital Mortgage</td>\n",
       "      <td>we had a past experience with wyndham mortgage...</td>\n",
       "      <td>-0.030106</td>\n",
       "      <td>Negative</td>\n",
       "      <td>[we, had, a, past, experience, with, wyndham, ...</td>\n",
       "      <td>[had, past, experience, wyndham, mortgage, wou...</td>\n",
       "      <td>[had, past, experience, wyndham, mortgage, wou...</td>\n",
       "      <td>[had, past, experi, wyndham, mortgag, would, w...</td>\n",
       "      <td>[had, past, experi, wyndham, mortgag, would, w...</td>\n",
       "    </tr>\n",
       "    <tr>\n",
       "      <th>3</th>\n",
       "      <td>2017-12-17</td>\n",
       "      <td>5</td>\n",
       "      <td>We have been dealing with Brad Thomka from the...</td>\n",
       "      <td>Wyndham Capital Mortgage</td>\n",
       "      <td>we have been dealing with brad thomka from the...</td>\n",
       "      <td>0.067698</td>\n",
       "      <td>Positive</td>\n",
       "      <td>[we, have, been, dealing, with, brad, thomka, ...</td>\n",
       "      <td>[have, dealing, bad, thomas, beginning, what, ...</td>\n",
       "      <td>[have, dealing, bad, thomas, beginning, what, ...</td>\n",
       "      <td>[have, deal, bad, thoma, begin, what, start, d...</td>\n",
       "      <td>[have, deal, bad, thoma, begin, what, start, d...</td>\n",
       "    </tr>\n",
       "    <tr>\n",
       "      <th>4</th>\n",
       "      <td>2016-05-27</td>\n",
       "      <td>5</td>\n",
       "      <td>I can't express how grateful I am for the supp...</td>\n",
       "      <td>Wyndham Capital Mortgage</td>\n",
       "      <td>i cant express how grateful i am for the suppo...</td>\n",
       "      <td>0.115000</td>\n",
       "      <td>Positive</td>\n",
       "      <td>[i, cant, express, how, grateful, i, am, for, ...</td>\n",
       "      <td>[can, express, grateful, am, support, each, pr...</td>\n",
       "      <td>[can, express, grateful, am, support, each, pr...</td>\n",
       "      <td>[can, express, grate, am, support, each, provi...</td>\n",
       "      <td>[can, express, grate, am, support, each, provi...</td>\n",
       "    </tr>\n",
       "  </tbody>\n",
       "</table>\n",
       "</div>"
      ],
      "text/plain": [
       "        Date  Stars                                            Reviews  \\\n",
       "0 2017-04-10      5  Great job, Wyndham Capital! Each person was pr...   \n",
       "1 2017-02-10      5  Matthew Richardson is professional and helpful...   \n",
       "2 2017-08-21      5  We had a past experience with Wyndham Mortgage...   \n",
       "3 2017-12-17      5  We have been dealing with Brad Thomka from the...   \n",
       "4 2016-05-27      5  I can't express how grateful I am for the supp...   \n",
       "\n",
       "                   BankName  \\\n",
       "0  Wyndham Capital Mortgage   \n",
       "1  Wyndham Capital Mortgage   \n",
       "2  Wyndham Capital Mortgage   \n",
       "3  Wyndham Capital Mortgage   \n",
       "4  Wyndham Capital Mortgage   \n",
       "\n",
       "                                       reviews_clean  polarity polarity_cat  \\\n",
       "0  great job wyndham capital each person was prof...  0.433333     Positive   \n",
       "1  matthew richardson is professional and helpful...  0.453333     Positive   \n",
       "2  we had a past experience with wyndham mortgage... -0.030106     Negative   \n",
       "3  we have been dealing with brad thomka from the...  0.067698     Positive   \n",
       "4  i cant express how grateful i am for the suppo...  0.115000     Positive   \n",
       "\n",
       "                                       reviews_token  \\\n",
       "0  [great, job, wyndham, capital, each, person, w...   \n",
       "1  [matthew, richardson, is, professional, and, h...   \n",
       "2  [we, had, a, past, experience, with, wyndham, ...   \n",
       "3  [we, have, been, dealing, with, brad, thomka, ...   \n",
       "4  [i, cant, express, how, grateful, i, am, for, ...   \n",
       "\n",
       "                                        reviews_typo  \\\n",
       "0  [great, job, wyndham, capital, person, profess...   \n",
       "1  [matthew, richardson, professional, helpful, h...   \n",
       "2  [had, past, experience, wyndham, mortgage, wou...   \n",
       "3  [have, dealing, bad, thomas, beginning, what, ...   \n",
       "4  [can, express, grateful, am, support, each, pr...   \n",
       "\n",
       "                                   reviews_stopwords  \\\n",
       "0  [great, job, wyndham, capital, person, profess...   \n",
       "1  [matthew, richardson, professional, helpful, h...   \n",
       "2  [had, past, experience, wyndham, mortgage, wou...   \n",
       "3  [have, dealing, bad, thomas, beginning, what, ...   \n",
       "4  [can, express, grateful, am, support, each, pr...   \n",
       "\n",
       "                                        reviews_stem  \\\n",
       "0  [great, job, wyndham, capit, person, professio...   \n",
       "1  [matthew, richardson, profession, help, help, ...   \n",
       "2  [had, past, experi, wyndham, mortgag, would, w...   \n",
       "3  [have, deal, bad, thoma, begin, what, start, d...   \n",
       "4  [can, express, grate, am, support, each, provi...   \n",
       "\n",
       "                                  reviews_stem_lemma  \n",
       "0  [great, job, wyndham, capit, person, professio...  \n",
       "1  [matthew, richardson, profession, help, help, ...  \n",
       "2  [had, past, experi, wyndham, mortgag, would, w...  \n",
       "3  [have, deal, bad, thoma, begin, what, start, d...  \n",
       "4  [can, express, grate, am, support, each, provi...  "
      ]
     },
     "execution_count": 47,
     "metadata": {},
     "output_type": "execute_result"
    }
   ],
   "source": [
    "bank.head()"
   ]
  },
  {
   "cell_type": "markdown",
   "id": "a2acb5c1",
   "metadata": {},
   "source": [
    "## Final Cleaned Reviews"
   ]
  },
  {
   "cell_type": "code",
   "execution_count": 48,
   "id": "47bf3fb0",
   "metadata": {},
   "outputs": [],
   "source": [
    "def cleaned(text):\n",
    "    return ' '.join(text)"
   ]
  },
  {
   "cell_type": "code",
   "execution_count": 49,
   "id": "59afc8b0",
   "metadata": {},
   "outputs": [],
   "source": [
    "bank['reviews_cleaned_final']=bank['reviews_stem_lemma'].apply(lambda x : cleaned(x))"
   ]
  },
  {
   "cell_type": "code",
   "execution_count": 50,
   "id": "2ca4ed81",
   "metadata": {},
   "outputs": [
    {
     "data": {
      "text/html": [
       "<div>\n",
       "<style scoped>\n",
       "    .dataframe tbody tr th:only-of-type {\n",
       "        vertical-align: middle;\n",
       "    }\n",
       "\n",
       "    .dataframe tbody tr th {\n",
       "        vertical-align: top;\n",
       "    }\n",
       "\n",
       "    .dataframe thead th {\n",
       "        text-align: right;\n",
       "    }\n",
       "</style>\n",
       "<table border=\"1\" class=\"dataframe\">\n",
       "  <thead>\n",
       "    <tr style=\"text-align: right;\">\n",
       "      <th></th>\n",
       "      <th>Date</th>\n",
       "      <th>Stars</th>\n",
       "      <th>Reviews</th>\n",
       "      <th>BankName</th>\n",
       "      <th>reviews_clean</th>\n",
       "      <th>polarity</th>\n",
       "      <th>polarity_cat</th>\n",
       "      <th>reviews_token</th>\n",
       "      <th>reviews_typo</th>\n",
       "      <th>reviews_stopwords</th>\n",
       "      <th>reviews_stem</th>\n",
       "      <th>reviews_stem_lemma</th>\n",
       "      <th>reviews_cleaned_final</th>\n",
       "    </tr>\n",
       "  </thead>\n",
       "  <tbody>\n",
       "    <tr>\n",
       "      <th>0</th>\n",
       "      <td>2017-04-10</td>\n",
       "      <td>5</td>\n",
       "      <td>Great job, Wyndham Capital! Each person was pr...</td>\n",
       "      <td>Wyndham Capital Mortgage</td>\n",
       "      <td>great job wyndham capital each person was prof...</td>\n",
       "      <td>0.433333</td>\n",
       "      <td>Positive</td>\n",
       "      <td>[great, job, wyndham, capital, each, person, w...</td>\n",
       "      <td>[great, job, wyndham, capital, person, profess...</td>\n",
       "      <td>[great, job, wyndham, capital, person, profess...</td>\n",
       "      <td>[great, job, wyndham, capit, person, professio...</td>\n",
       "      <td>[great, job, wyndham, capit, person, professio...</td>\n",
       "      <td>great job wyndham capit person profession help...</td>\n",
       "    </tr>\n",
       "    <tr>\n",
       "      <th>1</th>\n",
       "      <td>2017-02-10</td>\n",
       "      <td>5</td>\n",
       "      <td>Matthew Richardson is professional and helpful...</td>\n",
       "      <td>Wyndham Capital Mortgage</td>\n",
       "      <td>matthew richardson is professional and helpful...</td>\n",
       "      <td>0.453333</td>\n",
       "      <td>Positive</td>\n",
       "      <td>[matthew, richardson, is, professional, and, h...</td>\n",
       "      <td>[matthew, richardson, professional, helpful, h...</td>\n",
       "      <td>[matthew, richardson, professional, helpful, h...</td>\n",
       "      <td>[matthew, richardson, profession, help, help, ...</td>\n",
       "      <td>[matthew, richardson, profession, help, help, ...</td>\n",
       "      <td>matthew richardson profession help help u find...</td>\n",
       "    </tr>\n",
       "    <tr>\n",
       "      <th>2</th>\n",
       "      <td>2017-08-21</td>\n",
       "      <td>5</td>\n",
       "      <td>We had a past experience with Wyndham Mortgage...</td>\n",
       "      <td>Wyndham Capital Mortgage</td>\n",
       "      <td>we had a past experience with wyndham mortgage...</td>\n",
       "      <td>-0.030106</td>\n",
       "      <td>Negative</td>\n",
       "      <td>[we, had, a, past, experience, with, wyndham, ...</td>\n",
       "      <td>[had, past, experience, wyndham, mortgage, wou...</td>\n",
       "      <td>[had, past, experience, wyndham, mortgage, wou...</td>\n",
       "      <td>[had, past, experi, wyndham, mortgag, would, w...</td>\n",
       "      <td>[had, past, experi, wyndham, mortgag, would, w...</td>\n",
       "      <td>had past experi wyndham mortgag would without ...</td>\n",
       "    </tr>\n",
       "    <tr>\n",
       "      <th>3</th>\n",
       "      <td>2017-12-17</td>\n",
       "      <td>5</td>\n",
       "      <td>We have been dealing with Brad Thomka from the...</td>\n",
       "      <td>Wyndham Capital Mortgage</td>\n",
       "      <td>we have been dealing with brad thomka from the...</td>\n",
       "      <td>0.067698</td>\n",
       "      <td>Positive</td>\n",
       "      <td>[we, have, been, dealing, with, brad, thomka, ...</td>\n",
       "      <td>[have, dealing, bad, thomas, beginning, what, ...</td>\n",
       "      <td>[have, dealing, bad, thomas, beginning, what, ...</td>\n",
       "      <td>[have, deal, bad, thoma, begin, what, start, d...</td>\n",
       "      <td>[have, deal, bad, thoma, begin, what, start, d...</td>\n",
       "      <td>have deal bad thoma begin what start distress ...</td>\n",
       "    </tr>\n",
       "    <tr>\n",
       "      <th>4</th>\n",
       "      <td>2016-05-27</td>\n",
       "      <td>5</td>\n",
       "      <td>I can't express how grateful I am for the supp...</td>\n",
       "      <td>Wyndham Capital Mortgage</td>\n",
       "      <td>i cant express how grateful i am for the suppo...</td>\n",
       "      <td>0.115000</td>\n",
       "      <td>Positive</td>\n",
       "      <td>[i, cant, express, how, grateful, i, am, for, ...</td>\n",
       "      <td>[can, express, grateful, am, support, each, pr...</td>\n",
       "      <td>[can, express, grateful, am, support, each, pr...</td>\n",
       "      <td>[can, express, grate, am, support, each, provi...</td>\n",
       "      <td>[can, express, grate, am, support, each, provi...</td>\n",
       "      <td>can express grate am support each provid my fa...</td>\n",
       "    </tr>\n",
       "  </tbody>\n",
       "</table>\n",
       "</div>"
      ],
      "text/plain": [
       "        Date  Stars                                            Reviews  \\\n",
       "0 2017-04-10      5  Great job, Wyndham Capital! Each person was pr...   \n",
       "1 2017-02-10      5  Matthew Richardson is professional and helpful...   \n",
       "2 2017-08-21      5  We had a past experience with Wyndham Mortgage...   \n",
       "3 2017-12-17      5  We have been dealing with Brad Thomka from the...   \n",
       "4 2016-05-27      5  I can't express how grateful I am for the supp...   \n",
       "\n",
       "                   BankName  \\\n",
       "0  Wyndham Capital Mortgage   \n",
       "1  Wyndham Capital Mortgage   \n",
       "2  Wyndham Capital Mortgage   \n",
       "3  Wyndham Capital Mortgage   \n",
       "4  Wyndham Capital Mortgage   \n",
       "\n",
       "                                       reviews_clean  polarity polarity_cat  \\\n",
       "0  great job wyndham capital each person was prof...  0.433333     Positive   \n",
       "1  matthew richardson is professional and helpful...  0.453333     Positive   \n",
       "2  we had a past experience with wyndham mortgage... -0.030106     Negative   \n",
       "3  we have been dealing with brad thomka from the...  0.067698     Positive   \n",
       "4  i cant express how grateful i am for the suppo...  0.115000     Positive   \n",
       "\n",
       "                                       reviews_token  \\\n",
       "0  [great, job, wyndham, capital, each, person, w...   \n",
       "1  [matthew, richardson, is, professional, and, h...   \n",
       "2  [we, had, a, past, experience, with, wyndham, ...   \n",
       "3  [we, have, been, dealing, with, brad, thomka, ...   \n",
       "4  [i, cant, express, how, grateful, i, am, for, ...   \n",
       "\n",
       "                                        reviews_typo  \\\n",
       "0  [great, job, wyndham, capital, person, profess...   \n",
       "1  [matthew, richardson, professional, helpful, h...   \n",
       "2  [had, past, experience, wyndham, mortgage, wou...   \n",
       "3  [have, dealing, bad, thomas, beginning, what, ...   \n",
       "4  [can, express, grateful, am, support, each, pr...   \n",
       "\n",
       "                                   reviews_stopwords  \\\n",
       "0  [great, job, wyndham, capital, person, profess...   \n",
       "1  [matthew, richardson, professional, helpful, h...   \n",
       "2  [had, past, experience, wyndham, mortgage, wou...   \n",
       "3  [have, dealing, bad, thomas, beginning, what, ...   \n",
       "4  [can, express, grateful, am, support, each, pr...   \n",
       "\n",
       "                                        reviews_stem  \\\n",
       "0  [great, job, wyndham, capit, person, professio...   \n",
       "1  [matthew, richardson, profession, help, help, ...   \n",
       "2  [had, past, experi, wyndham, mortgag, would, w...   \n",
       "3  [have, deal, bad, thoma, begin, what, start, d...   \n",
       "4  [can, express, grate, am, support, each, provi...   \n",
       "\n",
       "                                  reviews_stem_lemma  \\\n",
       "0  [great, job, wyndham, capit, person, professio...   \n",
       "1  [matthew, richardson, profession, help, help, ...   \n",
       "2  [had, past, experi, wyndham, mortgag, would, w...   \n",
       "3  [have, deal, bad, thoma, begin, what, start, d...   \n",
       "4  [can, express, grate, am, support, each, provi...   \n",
       "\n",
       "                               reviews_cleaned_final  \n",
       "0  great job wyndham capit person profession help...  \n",
       "1  matthew richardson profession help help u find...  \n",
       "2  had past experi wyndham mortgag would without ...  \n",
       "3  have deal bad thoma begin what start distress ...  \n",
       "4  can express grate am support each provid my fa...  "
      ]
     },
     "execution_count": 50,
     "metadata": {},
     "output_type": "execute_result"
    }
   ],
   "source": [
    "bank.head()"
   ]
  },
  {
   "cell_type": "markdown",
   "id": "5435e2dd",
   "metadata": {},
   "source": [
    "# Creating DTM (Count Vectorizer)"
   ]
  },
  {
   "cell_type": "code",
   "execution_count": 51,
   "id": "3d16cd2c",
   "metadata": {},
   "outputs": [],
   "source": [
    "count_vect=CountVectorizer(stop_words='english',ngram_range=(1,2))"
   ]
  },
  {
   "cell_type": "code",
   "execution_count": 52,
   "id": "99eb9171",
   "metadata": {},
   "outputs": [],
   "source": [
    "dtm=count_vect.fit_transform(bank['reviews_cleaned_final'])"
   ]
  },
  {
   "cell_type": "code",
   "execution_count": 53,
   "id": "7a760e0e",
   "metadata": {},
   "outputs": [],
   "source": [
    "dtm=dtm.todense()"
   ]
  },
  {
   "cell_type": "code",
   "execution_count": 54,
   "id": "30e10a89",
   "metadata": {},
   "outputs": [],
   "source": [
    "dtm_final=pd.DataFrame(data=dtm,columns=count_vect.get_feature_names())"
   ]
  },
  {
   "cell_type": "code",
   "execution_count": 55,
   "id": "18a17ffe",
   "metadata": {},
   "outputs": [
    {
     "data": {
      "text/html": [
       "<div>\n",
       "<style scoped>\n",
       "    .dataframe tbody tr th:only-of-type {\n",
       "        vertical-align: middle;\n",
       "    }\n",
       "\n",
       "    .dataframe tbody tr th {\n",
       "        vertical-align: top;\n",
       "    }\n",
       "\n",
       "    .dataframe thead th {\n",
       "        text-align: right;\n",
       "    }\n",
       "</style>\n",
       "<table border=\"1\" class=\"dataframe\">\n",
       "  <thead>\n",
       "    <tr style=\"text-align: right;\">\n",
       "      <th></th>\n",
       "      <th>aaron</th>\n",
       "      <th>aaron anyon</th>\n",
       "      <th>aaron custom</th>\n",
       "      <th>aaron cut</th>\n",
       "      <th>aaron everyth</th>\n",
       "      <th>aaron extrem</th>\n",
       "      <th>aaron fought</th>\n",
       "      <th>aaron guarante</th>\n",
       "      <th>aaron howev</th>\n",
       "      <th>aaron look</th>\n",
       "      <th>...</th>\n",
       "      <th>year wa</th>\n",
       "      <th>year want</th>\n",
       "      <th>year work</th>\n",
       "      <th>yelp</th>\n",
       "      <th>yelp review</th>\n",
       "      <th>yep</th>\n",
       "      <th>yep paid</th>\n",
       "      <th>zero</th>\n",
       "      <th>zero option</th>\n",
       "      <th>zero point</th>\n",
       "    </tr>\n",
       "  </thead>\n",
       "  <tbody>\n",
       "    <tr>\n",
       "      <th>0</th>\n",
       "      <td>0</td>\n",
       "      <td>0</td>\n",
       "      <td>0</td>\n",
       "      <td>0</td>\n",
       "      <td>0</td>\n",
       "      <td>0</td>\n",
       "      <td>0</td>\n",
       "      <td>0</td>\n",
       "      <td>0</td>\n",
       "      <td>0</td>\n",
       "      <td>...</td>\n",
       "      <td>0</td>\n",
       "      <td>0</td>\n",
       "      <td>0</td>\n",
       "      <td>0</td>\n",
       "      <td>0</td>\n",
       "      <td>0</td>\n",
       "      <td>0</td>\n",
       "      <td>0</td>\n",
       "      <td>0</td>\n",
       "      <td>0</td>\n",
       "    </tr>\n",
       "    <tr>\n",
       "      <th>1</th>\n",
       "      <td>0</td>\n",
       "      <td>0</td>\n",
       "      <td>0</td>\n",
       "      <td>0</td>\n",
       "      <td>0</td>\n",
       "      <td>0</td>\n",
       "      <td>0</td>\n",
       "      <td>0</td>\n",
       "      <td>0</td>\n",
       "      <td>0</td>\n",
       "      <td>...</td>\n",
       "      <td>0</td>\n",
       "      <td>0</td>\n",
       "      <td>0</td>\n",
       "      <td>0</td>\n",
       "      <td>0</td>\n",
       "      <td>0</td>\n",
       "      <td>0</td>\n",
       "      <td>0</td>\n",
       "      <td>0</td>\n",
       "      <td>0</td>\n",
       "    </tr>\n",
       "    <tr>\n",
       "      <th>2</th>\n",
       "      <td>0</td>\n",
       "      <td>0</td>\n",
       "      <td>0</td>\n",
       "      <td>0</td>\n",
       "      <td>0</td>\n",
       "      <td>0</td>\n",
       "      <td>0</td>\n",
       "      <td>0</td>\n",
       "      <td>0</td>\n",
       "      <td>0</td>\n",
       "      <td>...</td>\n",
       "      <td>0</td>\n",
       "      <td>0</td>\n",
       "      <td>0</td>\n",
       "      <td>0</td>\n",
       "      <td>0</td>\n",
       "      <td>0</td>\n",
       "      <td>0</td>\n",
       "      <td>0</td>\n",
       "      <td>0</td>\n",
       "      <td>0</td>\n",
       "    </tr>\n",
       "    <tr>\n",
       "      <th>3</th>\n",
       "      <td>0</td>\n",
       "      <td>0</td>\n",
       "      <td>0</td>\n",
       "      <td>0</td>\n",
       "      <td>0</td>\n",
       "      <td>0</td>\n",
       "      <td>0</td>\n",
       "      <td>0</td>\n",
       "      <td>0</td>\n",
       "      <td>0</td>\n",
       "      <td>...</td>\n",
       "      <td>0</td>\n",
       "      <td>0</td>\n",
       "      <td>0</td>\n",
       "      <td>0</td>\n",
       "      <td>0</td>\n",
       "      <td>0</td>\n",
       "      <td>0</td>\n",
       "      <td>0</td>\n",
       "      <td>0</td>\n",
       "      <td>0</td>\n",
       "    </tr>\n",
       "    <tr>\n",
       "      <th>4</th>\n",
       "      <td>0</td>\n",
       "      <td>0</td>\n",
       "      <td>0</td>\n",
       "      <td>0</td>\n",
       "      <td>0</td>\n",
       "      <td>0</td>\n",
       "      <td>0</td>\n",
       "      <td>0</td>\n",
       "      <td>0</td>\n",
       "      <td>0</td>\n",
       "      <td>...</td>\n",
       "      <td>0</td>\n",
       "      <td>0</td>\n",
       "      <td>0</td>\n",
       "      <td>0</td>\n",
       "      <td>0</td>\n",
       "      <td>0</td>\n",
       "      <td>0</td>\n",
       "      <td>0</td>\n",
       "      <td>0</td>\n",
       "      <td>0</td>\n",
       "    </tr>\n",
       "    <tr>\n",
       "      <th>...</th>\n",
       "      <td>...</td>\n",
       "      <td>...</td>\n",
       "      <td>...</td>\n",
       "      <td>...</td>\n",
       "      <td>...</td>\n",
       "      <td>...</td>\n",
       "      <td>...</td>\n",
       "      <td>...</td>\n",
       "      <td>...</td>\n",
       "      <td>...</td>\n",
       "      <td>...</td>\n",
       "      <td>...</td>\n",
       "      <td>...</td>\n",
       "      <td>...</td>\n",
       "      <td>...</td>\n",
       "      <td>...</td>\n",
       "      <td>...</td>\n",
       "      <td>...</td>\n",
       "      <td>...</td>\n",
       "      <td>...</td>\n",
       "      <td>...</td>\n",
       "    </tr>\n",
       "    <tr>\n",
       "      <th>500</th>\n",
       "      <td>0</td>\n",
       "      <td>0</td>\n",
       "      <td>0</td>\n",
       "      <td>0</td>\n",
       "      <td>0</td>\n",
       "      <td>0</td>\n",
       "      <td>0</td>\n",
       "      <td>0</td>\n",
       "      <td>0</td>\n",
       "      <td>0</td>\n",
       "      <td>...</td>\n",
       "      <td>0</td>\n",
       "      <td>0</td>\n",
       "      <td>0</td>\n",
       "      <td>0</td>\n",
       "      <td>0</td>\n",
       "      <td>0</td>\n",
       "      <td>0</td>\n",
       "      <td>0</td>\n",
       "      <td>0</td>\n",
       "      <td>0</td>\n",
       "    </tr>\n",
       "    <tr>\n",
       "      <th>501</th>\n",
       "      <td>0</td>\n",
       "      <td>0</td>\n",
       "      <td>0</td>\n",
       "      <td>0</td>\n",
       "      <td>0</td>\n",
       "      <td>0</td>\n",
       "      <td>0</td>\n",
       "      <td>0</td>\n",
       "      <td>0</td>\n",
       "      <td>0</td>\n",
       "      <td>...</td>\n",
       "      <td>1</td>\n",
       "      <td>0</td>\n",
       "      <td>0</td>\n",
       "      <td>0</td>\n",
       "      <td>0</td>\n",
       "      <td>0</td>\n",
       "      <td>0</td>\n",
       "      <td>0</td>\n",
       "      <td>0</td>\n",
       "      <td>0</td>\n",
       "    </tr>\n",
       "    <tr>\n",
       "      <th>502</th>\n",
       "      <td>0</td>\n",
       "      <td>0</td>\n",
       "      <td>0</td>\n",
       "      <td>0</td>\n",
       "      <td>0</td>\n",
       "      <td>0</td>\n",
       "      <td>0</td>\n",
       "      <td>0</td>\n",
       "      <td>0</td>\n",
       "      <td>0</td>\n",
       "      <td>...</td>\n",
       "      <td>0</td>\n",
       "      <td>0</td>\n",
       "      <td>0</td>\n",
       "      <td>0</td>\n",
       "      <td>0</td>\n",
       "      <td>0</td>\n",
       "      <td>0</td>\n",
       "      <td>0</td>\n",
       "      <td>0</td>\n",
       "      <td>0</td>\n",
       "    </tr>\n",
       "    <tr>\n",
       "      <th>503</th>\n",
       "      <td>0</td>\n",
       "      <td>0</td>\n",
       "      <td>0</td>\n",
       "      <td>0</td>\n",
       "      <td>0</td>\n",
       "      <td>0</td>\n",
       "      <td>0</td>\n",
       "      <td>0</td>\n",
       "      <td>0</td>\n",
       "      <td>0</td>\n",
       "      <td>...</td>\n",
       "      <td>0</td>\n",
       "      <td>0</td>\n",
       "      <td>0</td>\n",
       "      <td>0</td>\n",
       "      <td>0</td>\n",
       "      <td>0</td>\n",
       "      <td>0</td>\n",
       "      <td>0</td>\n",
       "      <td>0</td>\n",
       "      <td>0</td>\n",
       "    </tr>\n",
       "    <tr>\n",
       "      <th>504</th>\n",
       "      <td>0</td>\n",
       "      <td>0</td>\n",
       "      <td>0</td>\n",
       "      <td>0</td>\n",
       "      <td>0</td>\n",
       "      <td>0</td>\n",
       "      <td>0</td>\n",
       "      <td>0</td>\n",
       "      <td>0</td>\n",
       "      <td>0</td>\n",
       "      <td>...</td>\n",
       "      <td>0</td>\n",
       "      <td>0</td>\n",
       "      <td>0</td>\n",
       "      <td>0</td>\n",
       "      <td>0</td>\n",
       "      <td>0</td>\n",
       "      <td>0</td>\n",
       "      <td>0</td>\n",
       "      <td>0</td>\n",
       "      <td>0</td>\n",
       "    </tr>\n",
       "  </tbody>\n",
       "</table>\n",
       "<p>505 rows × 10952 columns</p>\n",
       "</div>"
      ],
      "text/plain": [
       "     aaron  aaron anyon  aaron custom  aaron cut  aaron everyth  aaron extrem  \\\n",
       "0        0            0             0          0              0             0   \n",
       "1        0            0             0          0              0             0   \n",
       "2        0            0             0          0              0             0   \n",
       "3        0            0             0          0              0             0   \n",
       "4        0            0             0          0              0             0   \n",
       "..     ...          ...           ...        ...            ...           ...   \n",
       "500      0            0             0          0              0             0   \n",
       "501      0            0             0          0              0             0   \n",
       "502      0            0             0          0              0             0   \n",
       "503      0            0             0          0              0             0   \n",
       "504      0            0             0          0              0             0   \n",
       "\n",
       "     aaron fought  aaron guarante  aaron howev  aaron look  ...  year wa  \\\n",
       "0               0               0            0           0  ...        0   \n",
       "1               0               0            0           0  ...        0   \n",
       "2               0               0            0           0  ...        0   \n",
       "3               0               0            0           0  ...        0   \n",
       "4               0               0            0           0  ...        0   \n",
       "..            ...             ...          ...         ...  ...      ...   \n",
       "500             0               0            0           0  ...        0   \n",
       "501             0               0            0           0  ...        1   \n",
       "502             0               0            0           0  ...        0   \n",
       "503             0               0            0           0  ...        0   \n",
       "504             0               0            0           0  ...        0   \n",
       "\n",
       "     year want  year work  yelp  yelp review  yep  yep paid  zero  \\\n",
       "0            0          0     0            0    0         0     0   \n",
       "1            0          0     0            0    0         0     0   \n",
       "2            0          0     0            0    0         0     0   \n",
       "3            0          0     0            0    0         0     0   \n",
       "4            0          0     0            0    0         0     0   \n",
       "..         ...        ...   ...          ...  ...       ...   ...   \n",
       "500          0          0     0            0    0         0     0   \n",
       "501          0          0     0            0    0         0     0   \n",
       "502          0          0     0            0    0         0     0   \n",
       "503          0          0     0            0    0         0     0   \n",
       "504          0          0     0            0    0         0     0   \n",
       "\n",
       "     zero option  zero point  \n",
       "0              0           0  \n",
       "1              0           0  \n",
       "2              0           0  \n",
       "3              0           0  \n",
       "4              0           0  \n",
       "..           ...         ...  \n",
       "500            0           0  \n",
       "501            0           0  \n",
       "502            0           0  \n",
       "503            0           0  \n",
       "504            0           0  \n",
       "\n",
       "[505 rows x 10952 columns]"
      ]
     },
     "execution_count": 55,
     "metadata": {},
     "output_type": "execute_result"
    }
   ],
   "source": [
    "dtm_final"
   ]
  },
  {
   "cell_type": "markdown",
   "id": "224a13a5",
   "metadata": {},
   "source": [
    "## Classification of Reviews into Positive, Negative and Neutral"
   ]
  },
  {
   "cell_type": "code",
   "execution_count": 56,
   "id": "6821a780",
   "metadata": {},
   "outputs": [],
   "source": [
    "#Positive ---> 2\n",
    "#Neutral ----> 1\n",
    "#Negative ----> 0\n",
    "def flag(df):\n",
    "    if df=='Positive':\n",
    "        return 2\n",
    "    elif df=='Neutral':\n",
    "        return 1\n",
    "    else: \n",
    "        return 0"
   ]
  },
  {
   "cell_type": "code",
   "execution_count": 57,
   "id": "8961831a",
   "metadata": {},
   "outputs": [],
   "source": [
    "dtm_final['target_y']=bank['polarity_cat'].apply(lambda x:flag(x))"
   ]
  },
  {
   "cell_type": "code",
   "execution_count": 58,
   "id": "b56e6666",
   "metadata": {},
   "outputs": [
    {
     "data": {
      "text/plain": [
       "2    467\n",
       "0     34\n",
       "1      4\n",
       "Name: target_y, dtype: int64"
      ]
     },
     "execution_count": 58,
     "metadata": {},
     "output_type": "execute_result"
    }
   ],
   "source": [
    "dtm_final['target_y'].value_counts()"
   ]
  },
  {
   "cell_type": "code",
   "execution_count": 59,
   "id": "57f2af99",
   "metadata": {},
   "outputs": [],
   "source": [
    "X=dtm_final.drop(columns=['target_y'])\n",
    "Y=dtm_final['target_y']"
   ]
  },
  {
   "cell_type": "code",
   "execution_count": 60,
   "id": "5ed81233",
   "metadata": {},
   "outputs": [
    {
     "data": {
      "text/plain": [
       "(505, 10952)"
      ]
     },
     "execution_count": 60,
     "metadata": {},
     "output_type": "execute_result"
    }
   ],
   "source": [
    "X.shape"
   ]
  },
  {
   "cell_type": "code",
   "execution_count": 61,
   "id": "b6685503",
   "metadata": {},
   "outputs": [
    {
     "data": {
      "text/plain": [
       "(505,)"
      ]
     },
     "execution_count": 61,
     "metadata": {},
     "output_type": "execute_result"
    }
   ],
   "source": [
    "Y.shape"
   ]
  },
  {
   "cell_type": "markdown",
   "id": "cf0e073d",
   "metadata": {},
   "source": [
    "## Train Test Split"
   ]
  },
  {
   "cell_type": "code",
   "execution_count": 62,
   "id": "a460d9cf",
   "metadata": {},
   "outputs": [],
   "source": [
    "X_train,X_test,Y_train,Y_test=train_test_split(X,Y,test_size=0.3,random_state=101)"
   ]
  },
  {
   "cell_type": "code",
   "execution_count": 63,
   "id": "c4b9a515",
   "metadata": {},
   "outputs": [
    {
     "name": "stdout",
     "output_type": "stream",
     "text": [
      "(353, 10952)\n",
      "(353,)\n",
      "(152, 10952)\n",
      "(152,)\n"
     ]
    }
   ],
   "source": [
    "print(X_train.shape)\n",
    "print(Y_train.shape)\n",
    "print(X_test.shape)\n",
    "print(Y_test.shape)"
   ]
  },
  {
   "cell_type": "markdown",
   "id": "14ff71c7",
   "metadata": {},
   "source": [
    "# Model Building"
   ]
  },
  {
   "cell_type": "markdown",
   "id": "7196aca2",
   "metadata": {},
   "source": [
    "### Naive Bayes"
   ]
  },
  {
   "cell_type": "code",
   "execution_count": 64,
   "id": "4c2748d5",
   "metadata": {},
   "outputs": [],
   "source": [
    "mnb=MultinomialNB()"
   ]
  },
  {
   "cell_type": "code",
   "execution_count": 65,
   "id": "b8667850",
   "metadata": {},
   "outputs": [],
   "source": [
    "mnb=mnb.fit(X_train,Y_train)"
   ]
  },
  {
   "cell_type": "code",
   "execution_count": 66,
   "id": "980d4263",
   "metadata": {},
   "outputs": [],
   "source": [
    "mnb_train_pred=mnb.predict(X_train)"
   ]
  },
  {
   "cell_type": "code",
   "execution_count": 67,
   "id": "6c4bf368",
   "metadata": {},
   "outputs": [],
   "source": [
    "mnb_test_pred=mnb.predict(X_test)"
   ]
  },
  {
   "cell_type": "markdown",
   "id": "65fb385d",
   "metadata": {},
   "source": [
    "#### Train Performace Metrics"
   ]
  },
  {
   "cell_type": "code",
   "execution_count": 68,
   "id": "043e662f",
   "metadata": {},
   "outputs": [
    {
     "name": "stdout",
     "output_type": "stream",
     "text": [
      "Accuracy Score of Train for Naive Bayes Model :  0.9915014164305949\n",
      "\n",
      "============================================================\n",
      "\n",
      "Confusion Matrix of Train for Naive Bayes Model : \n",
      " [[ 22   0   2]\n",
      " [  0   2   1]\n",
      " [  0   0 326]]\n",
      "\n",
      "============================================================\n",
      "\n",
      "Classification Report of Train for Naive Bayes Model : \n",
      "\n",
      "               precision    recall  f1-score   support\n",
      "\n",
      "           0       1.00      0.92      0.96        24\n",
      "           1       1.00      0.67      0.80         3\n",
      "           2       0.99      1.00      1.00       326\n",
      "\n",
      "    accuracy                           0.99       353\n",
      "   macro avg       1.00      0.86      0.92       353\n",
      "weighted avg       0.99      0.99      0.99       353\n",
      "\n"
     ]
    }
   ],
   "source": [
    "print('Accuracy Score of Train for Naive Bayes Model : ',accuracy_score(Y_train,mnb_train_pred))\n",
    "print('\\n============================================================\\n')\n",
    "print('Confusion Matrix of Train for Naive Bayes Model : \\n',confusion_matrix(Y_train,mnb_train_pred))\n",
    "print('\\n============================================================\\n')\n",
    "print('Classification Report of Train for Naive Bayes Model : \\n\\n',classification_report(Y_train,mnb_train_pred))"
   ]
  },
  {
   "cell_type": "markdown",
   "id": "7b8601fc",
   "metadata": {},
   "source": [
    "#### Test Performace Metrics"
   ]
  },
  {
   "cell_type": "code",
   "execution_count": 69,
   "id": "74a2c8e5",
   "metadata": {},
   "outputs": [
    {
     "name": "stdout",
     "output_type": "stream",
     "text": [
      "Accuracy Score of Test for Naive Bayes Model :  0.875\n",
      "\n",
      "============================================================\n",
      "\n",
      "Confusion Matrix of Test for Naive Bayes Model : \n",
      " [[  2   0   8]\n",
      " [  0   0   1]\n",
      " [ 10   0 131]]\n",
      "\n",
      "============================================================\n",
      "\n",
      "Classification Report of Test for Naive Bayes Model : \n",
      "\n",
      "               precision    recall  f1-score   support\n",
      "\n",
      "           0       0.17      0.20      0.18        10\n",
      "           1       0.00      0.00      0.00         1\n",
      "           2       0.94      0.93      0.93       141\n",
      "\n",
      "    accuracy                           0.88       152\n",
      "   macro avg       0.37      0.38      0.37       152\n",
      "weighted avg       0.88      0.88      0.88       152\n",
      "\n"
     ]
    }
   ],
   "source": [
    "print('Accuracy Score of Test for Naive Bayes Model : ',accuracy_score(Y_test,mnb_test_pred))\n",
    "print('\\n============================================================\\n')\n",
    "print('Confusion Matrix of Test for Naive Bayes Model : \\n',confusion_matrix(Y_test,mnb_test_pred))\n",
    "print('\\n============================================================\\n')\n",
    "print('Classification Report of Test for Naive Bayes Model : \\n\\n',classification_report(Y_test,mnb_test_pred))"
   ]
  },
  {
   "cell_type": "markdown",
   "id": "975141c0",
   "metadata": {},
   "source": [
    "### RandomForest Classifier"
   ]
  },
  {
   "cell_type": "code",
   "execution_count": 70,
   "id": "b813c5c6",
   "metadata": {},
   "outputs": [],
   "source": [
    "rfc=RandomForestClassifier()"
   ]
  },
  {
   "cell_type": "code",
   "execution_count": 71,
   "id": "71790cef",
   "metadata": {},
   "outputs": [],
   "source": [
    "rfc=rfc.fit(X_train,Y_train)"
   ]
  },
  {
   "cell_type": "code",
   "execution_count": 72,
   "id": "7fb14bc4",
   "metadata": {},
   "outputs": [],
   "source": [
    "rfc_train_pred=rfc.predict(X_train)"
   ]
  },
  {
   "cell_type": "code",
   "execution_count": 73,
   "id": "b64319d0",
   "metadata": {},
   "outputs": [],
   "source": [
    "rfc_test_pred=rfc.predict(X_test)"
   ]
  },
  {
   "cell_type": "markdown",
   "id": "10694971",
   "metadata": {},
   "source": [
    "#### Train Performace Metrics"
   ]
  },
  {
   "cell_type": "code",
   "execution_count": 74,
   "id": "a284fcf5",
   "metadata": {},
   "outputs": [
    {
     "name": "stdout",
     "output_type": "stream",
     "text": [
      "Accuracy Score of Train for Random Forest Classifier Model :  1.0\n",
      "\n",
      "============================================================\n",
      "\n",
      "Confusion Matrix of Train for Random Forest Classifier Model : \n",
      " [[ 24   0   0]\n",
      " [  0   3   0]\n",
      " [  0   0 326]]\n",
      "\n",
      "============================================================\n",
      "\n",
      "Classification Report of Train for Random Forest Classifier Model : \n",
      "\n",
      "               precision    recall  f1-score   support\n",
      "\n",
      "           0       1.00      1.00      1.00        24\n",
      "           1       1.00      1.00      1.00         3\n",
      "           2       1.00      1.00      1.00       326\n",
      "\n",
      "    accuracy                           1.00       353\n",
      "   macro avg       1.00      1.00      1.00       353\n",
      "weighted avg       1.00      1.00      1.00       353\n",
      "\n"
     ]
    }
   ],
   "source": [
    "print('Accuracy Score of Train for Random Forest Classifier Model : ',accuracy_score(Y_train,rfc_train_pred))\n",
    "print('\\n============================================================\\n')\n",
    "print('Confusion Matrix of Train for Random Forest Classifier Model : \\n',confusion_matrix(Y_train,rfc_train_pred))\n",
    "print('\\n============================================================\\n')\n",
    "print('Classification Report of Train for Random Forest Classifier Model : \\n\\n',classification_report(Y_train,rfc_train_pred))"
   ]
  },
  {
   "cell_type": "markdown",
   "id": "ac278e86",
   "metadata": {},
   "source": [
    "#### Test Performace Metrics"
   ]
  },
  {
   "cell_type": "code",
   "execution_count": 75,
   "id": "91f46b4e",
   "metadata": {},
   "outputs": [
    {
     "name": "stdout",
     "output_type": "stream",
     "text": [
      "Accuracy Score of Test for Random Forest Classifier Model :  0.9210526315789473\n",
      "\n",
      "============================================================\n",
      "\n",
      "Confusion Matrix of Test for Random Forest Classifier Model : \n",
      " [[  1   0   9]\n",
      " [  0   0   1]\n",
      " [  2   0 139]]\n",
      "\n",
      "============================================================\n",
      "\n",
      "Classification Report of Test for Random Forest Classifier Model : \n",
      "\n",
      "               precision    recall  f1-score   support\n",
      "\n",
      "           0       0.33      0.10      0.15        10\n",
      "           1       0.00      0.00      0.00         1\n",
      "           2       0.93      0.99      0.96       141\n",
      "\n",
      "    accuracy                           0.92       152\n",
      "   macro avg       0.42      0.36      0.37       152\n",
      "weighted avg       0.89      0.92      0.90       152\n",
      "\n"
     ]
    }
   ],
   "source": [
    "print('Accuracy Score of Test for Random Forest Classifier Model : ',accuracy_score(Y_test,rfc_test_pred))\n",
    "print('\\n============================================================\\n')\n",
    "print('Confusion Matrix of Test for Random Forest Classifier Model : \\n',confusion_matrix(Y_test,rfc_test_pred))\n",
    "print('\\n============================================================\\n')\n",
    "print('Classification Report of Test for Random Forest Classifier Model : \\n\\n',classification_report(Y_test,rfc_test_pred))"
   ]
  },
  {
   "cell_type": "markdown",
   "id": "b0663d71",
   "metadata": {},
   "source": [
    "### ANN Classifier"
   ]
  },
  {
   "cell_type": "code",
   "execution_count": 76,
   "id": "d8a5680a",
   "metadata": {},
   "outputs": [],
   "source": [
    "mlp=MLPClassifier()"
   ]
  },
  {
   "cell_type": "code",
   "execution_count": 77,
   "id": "ee450e63",
   "metadata": {},
   "outputs": [],
   "source": [
    "mlp=mlp.fit(X_train,Y_train)"
   ]
  },
  {
   "cell_type": "code",
   "execution_count": 78,
   "id": "b6d70497",
   "metadata": {},
   "outputs": [],
   "source": [
    "mlp_train_pred=mlp.predict(X_train)"
   ]
  },
  {
   "cell_type": "code",
   "execution_count": 79,
   "id": "c965ea34",
   "metadata": {},
   "outputs": [],
   "source": [
    "mlp_test_pred=mlp.predict(X_test)"
   ]
  },
  {
   "cell_type": "markdown",
   "id": "18e69bfe",
   "metadata": {},
   "source": [
    "#### Train Performace Metrics"
   ]
  },
  {
   "cell_type": "code",
   "execution_count": 80,
   "id": "88637874",
   "metadata": {},
   "outputs": [
    {
     "name": "stdout",
     "output_type": "stream",
     "text": [
      "Accuracy Score of Train for ANN Classifier Model :  1.0\n",
      "\n",
      "============================================================\n",
      "\n",
      "Confusion Matrix of Train for ANN Classifier Model : \n",
      " [[ 24   0   0]\n",
      " [  0   3   0]\n",
      " [  0   0 326]]\n",
      "\n",
      "============================================================\n",
      "\n",
      "Classification Report of Train for ANN Classifier Model : \n",
      "\n",
      "               precision    recall  f1-score   support\n",
      "\n",
      "           0       1.00      1.00      1.00        24\n",
      "           1       1.00      1.00      1.00         3\n",
      "           2       1.00      1.00      1.00       326\n",
      "\n",
      "    accuracy                           1.00       353\n",
      "   macro avg       1.00      1.00      1.00       353\n",
      "weighted avg       1.00      1.00      1.00       353\n",
      "\n"
     ]
    }
   ],
   "source": [
    "print('Accuracy Score of Train for ANN Classifier Model : ',accuracy_score(Y_train,mlp_train_pred))\n",
    "print('\\n============================================================\\n')\n",
    "print('Confusion Matrix of Train for ANN Classifier Model : \\n',confusion_matrix(Y_train,mlp_train_pred))\n",
    "print('\\n============================================================\\n')\n",
    "print('Classification Report of Train for ANN Classifier Model : \\n\\n',classification_report(Y_train,mlp_train_pred))"
   ]
  },
  {
   "cell_type": "markdown",
   "id": "1a049afa",
   "metadata": {},
   "source": [
    "#### Test Performace Metrics"
   ]
  },
  {
   "cell_type": "code",
   "execution_count": 81,
   "id": "b5d5911e",
   "metadata": {},
   "outputs": [
    {
     "name": "stdout",
     "output_type": "stream",
     "text": [
      "Accuracy Score of Test for ANN Classifier Model :  0.9210526315789473\n",
      "\n",
      "============================================================\n",
      "\n",
      "Confusion Matrix of Test for ANN Classifier Model : \n",
      " [[  1   0   9]\n",
      " [  0   0   1]\n",
      " [  2   0 139]]\n",
      "\n",
      "============================================================\n",
      "\n",
      "Classification Report of Test for ANN Classifier Model : \n",
      "\n",
      "               precision    recall  f1-score   support\n",
      "\n",
      "           0       0.33      0.10      0.15        10\n",
      "           1       0.00      0.00      0.00         1\n",
      "           2       0.93      0.99      0.96       141\n",
      "\n",
      "    accuracy                           0.92       152\n",
      "   macro avg       0.42      0.36      0.37       152\n",
      "weighted avg       0.89      0.92      0.90       152\n",
      "\n"
     ]
    }
   ],
   "source": [
    "print('Accuracy Score of Test for ANN Classifier Model : ',accuracy_score(Y_test,mlp_test_pred))\n",
    "print('\\n============================================================\\n')\n",
    "print('Confusion Matrix of Test for ANN Classifier Model : \\n',confusion_matrix(Y_test,mlp_test_pred))\n",
    "print('\\n============================================================\\n')\n",
    "print('Classification Report of Test for ANN Classifier Model : \\n\\n',classification_report(Y_test,mlp_test_pred))"
   ]
  },
  {
   "cell_type": "markdown",
   "id": "50c62eee",
   "metadata": {},
   "source": [
    "## Inference:\n",
    "### Both Random Forest Classifier and ANN Classifier (Multilayer Perceptron) doing good in predicting the customer reviews into Positive (2), Negative (0) and Neutral (1)"
   ]
  },
  {
   "cell_type": "markdown",
   "id": "065eb400",
   "metadata": {},
   "source": [
    "# Topic Modelling"
   ]
  },
  {
   "cell_type": "code",
   "execution_count": 82,
   "id": "6c450d6b",
   "metadata": {},
   "outputs": [],
   "source": [
    "km=KMeans(n_clusters=5)"
   ]
  },
  {
   "cell_type": "code",
   "execution_count": 83,
   "id": "cc2091a5",
   "metadata": {},
   "outputs": [],
   "source": [
    "km=km.fit(X)"
   ]
  },
  {
   "cell_type": "code",
   "execution_count": 84,
   "id": "a42dd252",
   "metadata": {},
   "outputs": [
    {
     "data": {
      "text/plain": [
       "36145.210020876824"
      ]
     },
     "execution_count": 84,
     "metadata": {},
     "output_type": "execute_result"
    }
   ],
   "source": [
    "km.inertia_"
   ]
  },
  {
   "cell_type": "markdown",
   "id": "d332100e",
   "metadata": {},
   "source": [
    "### Finding Best Value of K"
   ]
  },
  {
   "cell_type": "code",
   "execution_count": 85,
   "id": "1a0149d3",
   "metadata": {},
   "outputs": [],
   "source": [
    "cluster_error=[]\n",
    "for cluster in [1,2,3,4,5,6]:\n",
    "    km=KMeans(n_clusters=cluster)\n",
    "    km=km.fit(X)\n",
    "    cluster_error.append(km.inertia_) "
   ]
  },
  {
   "cell_type": "code",
   "execution_count": 86,
   "id": "6405e9e1",
   "metadata": {},
   "outputs": [
    {
     "data": {
      "image/png": "[encoded data removed]",
      "text/plain": [
       "<Figure size 720x360 with 1 Axes>"
      ]
     },
     "metadata": {
      "needs_background": "light"
     },
     "output_type": "display_data"
    }
   ],
   "source": [
    "plt.figure(figsize=(10,5))\n",
    "sns.lineplot(x=np.array(range(1,7)),y=np.array(cluster_error))\n",
    "plt.show()"
   ]
  },
  {
   "cell_type": "code",
   "execution_count": 87,
   "id": "44bf467f",
   "metadata": {},
   "outputs": [],
   "source": [
    "sc_score=[]\n",
    "for i in [2,3,4,5,6]:\n",
    "    km=KMeans(n_clusters=i)\n",
    "    km=km.fit(X)\n",
    "    sc_score.append(silhouette_score(X,km.labels_))"
   ]
  },
  {
   "cell_type": "code",
   "execution_count": 88,
   "id": "6bd22863",
   "metadata": {},
   "outputs": [
    {
     "data": {
      "image/png": "[encoded data removed]",
      "text/plain": [
       "<Figure size 720x360 with 1 Axes>"
      ]
     },
     "metadata": {
      "needs_background": "light"
     },
     "output_type": "display_data"
    }
   ],
   "source": [
    "plt.figure(figsize=(10,5))\n",
    "sns.lineplot(x=np.array(range(2,7)),y=np.array(sc_score))\n",
    "plt.show()"
   ]
  },
  {
   "cell_type": "markdown",
   "id": "be6f17b8",
   "metadata": {},
   "source": [
    "### Inference--> From above two test we can conclude that k=2 is the best value of K for our data."
   ]
  },
  {
   "cell_type": "code",
   "execution_count": 89,
   "id": "a4e95999",
   "metadata": {},
   "outputs": [],
   "source": [
    "kmean=KMeans(n_clusters=3)"
   ]
  },
  {
   "cell_type": "code",
   "execution_count": 90,
   "id": "671f9b56",
   "metadata": {},
   "outputs": [],
   "source": [
    "kmean=kmean.fit(X)"
   ]
  },
  {
   "cell_type": "code",
   "execution_count": 91,
   "id": "4958a3ec",
   "metadata": {},
   "outputs": [
    {
     "data": {
      "text/plain": [
       "array([2, 2, 2, 2, 2, 2, 2, 2, 2, 2, 2, 2, 2, 2, 2, 2, 2, 2, 2, 2, 2, 2,\n",
       "       2, 2, 2, 2, 2, 2, 2, 2, 2, 2, 2, 2, 2, 2, 2, 2, 2, 2, 2, 2, 2, 0,\n",
       "       2, 2, 2, 2, 2, 2, 2, 2, 2, 2, 2, 2, 2, 2, 2, 2, 2, 2, 2, 2, 2, 2,\n",
       "       2, 2, 2, 2, 2, 2, 2, 2, 2, 2, 2, 2, 2, 2, 2, 2, 2, 2, 2, 2, 2, 2,\n",
       "       2, 2, 2, 2, 2, 2, 2, 2, 2, 2, 2, 2, 2, 2, 2, 2, 2, 2, 2, 2, 2, 2,\n",
       "       2, 2, 2, 2, 2, 2, 2, 2, 2, 2, 2, 2, 2, 2, 2, 2, 2, 2, 2, 2, 2, 2,\n",
       "       2, 2, 2, 2, 2, 2, 1, 2, 2, 2, 2, 2, 2, 2, 2, 2, 2, 2, 2, 2, 2, 2,\n",
       "       2, 1, 2, 2, 2, 2, 2, 2, 2, 2, 2, 2, 2, 2, 2, 2, 2, 2, 2, 2, 2, 2,\n",
       "       2, 2, 2, 2, 2, 2, 2, 2, 2, 2, 2, 2, 2, 2, 2, 2, 2, 2, 2, 2, 2, 2,\n",
       "       2, 2, 2, 2, 2, 2, 2, 2, 2, 2, 2, 2, 2, 2, 2, 2, 2, 2, 2, 2, 2, 2,\n",
       "       2, 2, 2, 2, 2, 0, 2, 2, 0, 2, 2, 2, 2, 0, 2, 2, 2, 0, 2, 2, 2, 2,\n",
       "       2, 2, 2, 2, 2, 2, 2, 2, 2, 2, 2, 2, 2, 2, 2, 2, 2, 2, 2, 2, 2, 2,\n",
       "       2, 2, 2, 2, 2, 2, 2, 2, 2, 2, 2, 2, 2, 2, 2, 2, 2, 2, 2, 2, 2, 2,\n",
       "       2, 2, 2, 2, 2, 2, 2, 2, 2, 2, 2, 2, 2, 2, 2, 2, 2, 2, 2, 2, 2, 2,\n",
       "       2, 2, 2, 2, 2, 2, 2, 2, 2, 2, 2, 2, 2, 2, 2, 2, 2, 2, 2, 2, 2, 2,\n",
       "       2, 2, 2, 2, 2, 2, 2, 2, 2, 2, 2, 2, 2, 2, 2, 2, 2, 2, 2, 2, 2, 2,\n",
       "       2, 2, 2, 2, 2, 2, 2, 2, 2, 2, 2, 2, 2, 2, 2, 2, 2, 2, 2, 2, 2, 2,\n",
       "       2, 2, 2, 2, 2, 2, 2, 2, 2, 2, 2, 2, 2, 2, 2, 2, 2, 2, 2, 2, 2, 2,\n",
       "       2, 2, 2, 2, 2, 2, 2, 2, 2, 2, 2, 2, 2, 2, 2, 2, 2, 2, 2, 2, 2, 2,\n",
       "       2, 2, 2, 2, 2, 2, 2, 2, 2, 2, 2, 2, 2, 2, 2, 2, 2, 2, 2, 2, 2, 2,\n",
       "       2, 2, 2, 2, 2, 2, 2, 2, 2, 2, 2, 2, 2, 2, 2, 2, 2, 2, 2, 2, 2, 2,\n",
       "       2, 2, 2, 2, 2, 2, 2, 2, 2, 2, 2, 2, 2, 2, 2, 2, 2, 2, 2, 2, 2, 2,\n",
       "       2, 2, 2, 2, 2, 2, 2, 2, 2, 2, 2, 2, 2, 0, 2, 2, 0, 2, 2, 2, 2])"
      ]
     },
     "execution_count": 91,
     "metadata": {},
     "output_type": "execute_result"
    }
   ],
   "source": [
    "kmean.labels_"
   ]
  },
  {
   "cell_type": "code",
   "execution_count": 92,
   "id": "dd4174bd",
   "metadata": {},
   "outputs": [
    {
     "data": {
      "text/plain": [
       "array([[6.93889390e-18, 0.00000000e+00, 0.00000000e+00, ...,\n",
       "        0.00000000e+00, 0.00000000e+00, 0.00000000e+00],\n",
       "       [0.00000000e+00, 0.00000000e+00, 0.00000000e+00, ...,\n",
       "        0.00000000e+00, 0.00000000e+00, 0.00000000e+00],\n",
       "       [4.63709677e-02, 4.03225806e-03, 4.03225806e-03, ...,\n",
       "        4.03225806e-03, 2.01612903e-03, 2.01612903e-03]])"
      ]
     },
     "execution_count": 92,
     "metadata": {},
     "output_type": "execute_result"
    }
   ],
   "source": [
    "kmean.cluster_centers_"
   ]
  },
  {
   "cell_type": "markdown",
   "id": "ee932620",
   "metadata": {},
   "source": [
    "### K Means is found out to be not working as good as expected, Let's try LDA"
   ]
  },
  {
   "cell_type": "code",
   "execution_count": 93,
   "id": "75f14ecc",
   "metadata": {},
   "outputs": [],
   "source": [
    "lda=LatentDirichletAllocation(n_components=10, learning_method='online', max_iter=50)\n",
    "lda=lda.fit(X)"
   ]
  },
  {
   "cell_type": "code",
   "execution_count": 94,
   "id": "b61c992d",
   "metadata": {},
   "outputs": [
    {
     "data": {
      "text/html": [
       "<div>\n",
       "<style scoped>\n",
       "    .dataframe tbody tr th:only-of-type {\n",
       "        vertical-align: middle;\n",
       "    }\n",
       "\n",
       "    .dataframe tbody tr th {\n",
       "        vertical-align: top;\n",
       "    }\n",
       "\n",
       "    .dataframe thead th {\n",
       "        text-align: right;\n",
       "    }\n",
       "</style>\n",
       "<table border=\"1\" class=\"dataframe\">\n",
       "  <thead>\n",
       "    <tr style=\"text-align: right;\">\n",
       "      <th></th>\n",
       "      <th>0</th>\n",
       "      <th>1</th>\n",
       "      <th>2</th>\n",
       "      <th>3</th>\n",
       "      <th>4</th>\n",
       "      <th>5</th>\n",
       "      <th>6</th>\n",
       "      <th>7</th>\n",
       "      <th>8</th>\n",
       "      <th>9</th>\n",
       "    </tr>\n",
       "  </thead>\n",
       "  <tbody>\n",
       "    <tr>\n",
       "      <th>aaron</th>\n",
       "      <td>0.100032</td>\n",
       "      <td>0.100053</td>\n",
       "      <td>0.100034</td>\n",
       "      <td>3.106198</td>\n",
       "      <td>0.100038</td>\n",
       "      <td>6.262135</td>\n",
       "      <td>0.100038</td>\n",
       "      <td>4.805454</td>\n",
       "      <td>0.100155</td>\n",
       "      <td>9.999176</td>\n",
       "    </tr>\n",
       "    <tr>\n",
       "      <th>aaron anyon</th>\n",
       "      <td>0.100032</td>\n",
       "      <td>0.100029</td>\n",
       "      <td>0.100027</td>\n",
       "      <td>0.100032</td>\n",
       "      <td>0.100038</td>\n",
       "      <td>0.100029</td>\n",
       "      <td>0.100032</td>\n",
       "      <td>0.100126</td>\n",
       "      <td>0.100049</td>\n",
       "      <td>2.155225</td>\n",
       "    </tr>\n",
       "    <tr>\n",
       "      <th>aaron custom</th>\n",
       "      <td>0.100030</td>\n",
       "      <td>0.100030</td>\n",
       "      <td>0.100037</td>\n",
       "      <td>0.100036</td>\n",
       "      <td>0.100032</td>\n",
       "      <td>0.100028</td>\n",
       "      <td>0.100038</td>\n",
       "      <td>0.100131</td>\n",
       "      <td>0.100046</td>\n",
       "      <td>2.155216</td>\n",
       "    </tr>\n",
       "    <tr>\n",
       "      <th>aaron cut</th>\n",
       "      <td>0.100039</td>\n",
       "      <td>0.100037</td>\n",
       "      <td>0.100032</td>\n",
       "      <td>0.100028</td>\n",
       "      <td>0.100035</td>\n",
       "      <td>1.180983</td>\n",
       "      <td>0.100026</td>\n",
       "      <td>0.100114</td>\n",
       "      <td>0.100035</td>\n",
       "      <td>0.100035</td>\n",
       "    </tr>\n",
       "    <tr>\n",
       "      <th>aaron everyth</th>\n",
       "      <td>0.100034</td>\n",
       "      <td>0.100033</td>\n",
       "      <td>0.100027</td>\n",
       "      <td>0.100032</td>\n",
       "      <td>0.100034</td>\n",
       "      <td>2.155316</td>\n",
       "      <td>0.100032</td>\n",
       "      <td>0.100037</td>\n",
       "      <td>0.100029</td>\n",
       "      <td>0.100047</td>\n",
       "    </tr>\n",
       "    <tr>\n",
       "      <th>...</th>\n",
       "      <td>...</td>\n",
       "      <td>...</td>\n",
       "      <td>...</td>\n",
       "      <td>...</td>\n",
       "      <td>...</td>\n",
       "      <td>...</td>\n",
       "      <td>...</td>\n",
       "      <td>...</td>\n",
       "      <td>...</td>\n",
       "      <td>...</td>\n",
       "    </tr>\n",
       "    <tr>\n",
       "      <th>yep</th>\n",
       "      <td>0.100038</td>\n",
       "      <td>0.100033</td>\n",
       "      <td>0.100034</td>\n",
       "      <td>0.100027</td>\n",
       "      <td>0.100027</td>\n",
       "      <td>0.100041</td>\n",
       "      <td>0.100035</td>\n",
       "      <td>1.051171</td>\n",
       "      <td>0.100030</td>\n",
       "      <td>0.100036</td>\n",
       "    </tr>\n",
       "    <tr>\n",
       "      <th>yep paid</th>\n",
       "      <td>0.100032</td>\n",
       "      <td>0.100036</td>\n",
       "      <td>0.100026</td>\n",
       "      <td>0.100034</td>\n",
       "      <td>0.100036</td>\n",
       "      <td>0.100033</td>\n",
       "      <td>0.100031</td>\n",
       "      <td>1.051181</td>\n",
       "      <td>0.100040</td>\n",
       "      <td>0.100032</td>\n",
       "    </tr>\n",
       "    <tr>\n",
       "      <th>zero</th>\n",
       "      <td>0.100031</td>\n",
       "      <td>0.100051</td>\n",
       "      <td>0.100036</td>\n",
       "      <td>0.100031</td>\n",
       "      <td>0.100030</td>\n",
       "      <td>2.002307</td>\n",
       "      <td>0.100032</td>\n",
       "      <td>0.100033</td>\n",
       "      <td>0.100036</td>\n",
       "      <td>0.100032</td>\n",
       "    </tr>\n",
       "    <tr>\n",
       "      <th>zero option</th>\n",
       "      <td>0.100031</td>\n",
       "      <td>0.100033</td>\n",
       "      <td>0.100030</td>\n",
       "      <td>0.100035</td>\n",
       "      <td>0.100032</td>\n",
       "      <td>1.051182</td>\n",
       "      <td>0.100038</td>\n",
       "      <td>0.100033</td>\n",
       "      <td>0.100034</td>\n",
       "      <td>0.100032</td>\n",
       "    </tr>\n",
       "    <tr>\n",
       "      <th>zero point</th>\n",
       "      <td>0.100034</td>\n",
       "      <td>0.100055</td>\n",
       "      <td>0.100032</td>\n",
       "      <td>0.100031</td>\n",
       "      <td>0.100036</td>\n",
       "      <td>1.051162</td>\n",
       "      <td>0.100038</td>\n",
       "      <td>0.100034</td>\n",
       "      <td>0.100030</td>\n",
       "      <td>0.100035</td>\n",
       "    </tr>\n",
       "  </tbody>\n",
       "</table>\n",
       "<p>10952 rows × 10 columns</p>\n",
       "</div>"
      ],
      "text/plain": [
       "                      0         1         2         3         4         5  \\\n",
       "aaron          0.100032  0.100053  0.100034  3.106198  0.100038  6.262135   \n",
       "aaron anyon    0.100032  0.100029  0.100027  0.100032  0.100038  0.100029   \n",
       "aaron custom   0.100030  0.100030  0.100037  0.100036  0.100032  0.100028   \n",
       "aaron cut      0.100039  0.100037  0.100032  0.100028  0.100035  1.180983   \n",
       "aaron everyth  0.100034  0.100033  0.100027  0.100032  0.100034  2.155316   \n",
       "...                 ...       ...       ...       ...       ...       ...   \n",
       "yep            0.100038  0.100033  0.100034  0.100027  0.100027  0.100041   \n",
       "yep paid       0.100032  0.100036  0.100026  0.100034  0.100036  0.100033   \n",
       "zero           0.100031  0.100051  0.100036  0.100031  0.100030  2.002307   \n",
       "zero option    0.100031  0.100033  0.100030  0.100035  0.100032  1.051182   \n",
       "zero point     0.100034  0.100055  0.100032  0.100031  0.100036  1.051162   \n",
       "\n",
       "                      6         7         8         9  \n",
       "aaron          0.100038  4.805454  0.100155  9.999176  \n",
       "aaron anyon    0.100032  0.100126  0.100049  2.155225  \n",
       "aaron custom   0.100038  0.100131  0.100046  2.155216  \n",
       "aaron cut      0.100026  0.100114  0.100035  0.100035  \n",
       "aaron everyth  0.100032  0.100037  0.100029  0.100047  \n",
       "...                 ...       ...       ...       ...  \n",
       "yep            0.100035  1.051171  0.100030  0.100036  \n",
       "yep paid       0.100031  1.051181  0.100040  0.100032  \n",
       "zero           0.100032  0.100033  0.100036  0.100032  \n",
       "zero option    0.100038  0.100033  0.100034  0.100032  \n",
       "zero point     0.100038  0.100034  0.100030  0.100035  \n",
       "\n",
       "[10952 rows x 10 columns]"
      ]
     },
     "execution_count": 94,
     "metadata": {},
     "output_type": "execute_result"
    }
   ],
   "source": [
    "pd.DataFrame(data=lda.components_,columns=X.columns).T"
   ]
  },
  {
   "cell_type": "code",
   "execution_count": 95,
   "id": "1224aee2",
   "metadata": {},
   "outputs": [],
   "source": [
    "terms=pd.Series(X.columns)"
   ]
  },
  {
   "cell_type": "code",
   "execution_count": 96,
   "id": "5a6b6eef",
   "metadata": {},
   "outputs": [
    {
     "data": {
      "text/plain": [
       "0                aaron\n",
       "1          aaron anyon\n",
       "2         aaron custom\n",
       "3            aaron cut\n",
       "4        aaron everyth\n",
       "             ...      \n",
       "10947              yep\n",
       "10948         yep paid\n",
       "10949             zero\n",
       "10950      zero option\n",
       "10951       zero point\n",
       "Length: 10952, dtype: object"
      ]
     },
     "execution_count": 96,
     "metadata": {},
     "output_type": "execute_result"
    }
   ],
   "source": [
    "terms"
   ]
  },
  {
   "cell_type": "code",
   "execution_count": 97,
   "id": "1979c508",
   "metadata": {},
   "outputs": [],
   "source": [
    "temp=(lda.components_)[0].argsort()[:20]"
   ]
  },
  {
   "cell_type": "code",
   "execution_count": 98,
   "id": "b06a9881",
   "metadata": {},
   "outputs": [
    {
     "data": {
      "text/plain": [
       "array(['firm talk', 'despit le', 'presenc', 'knew understood',\n",
       "       'thank dean', 'accept person', 'guy begin', 'everyon wa',\n",
       "       'benefici loan', 'said day', 'messag remain', 'recommend sam',\n",
       "       'spoke broker', 'time frame', 'capit seven', 'rascal extrem',\n",
       "       'hard sale', 'longer', 'commun realli', 'ask send'], dtype=object)"
      ]
     },
     "execution_count": 98,
     "metadata": {},
     "output_type": "execute_result"
    }
   ],
   "source": [
    "terms.iloc[temp.tolist()].values"
   ]
  },
  {
   "cell_type": "code",
   "execution_count": 99,
   "id": "5425f5e4",
   "metadata": {},
   "outputs": [
    {
     "name": "stdout",
     "output_type": "stream",
     "text": [
      "Topic 1 words are :  firm talk,despit le,presenc,knew understood,thank dean,accept person,guy begin,everyon wa,benefici loan,said day,messag remain,recommend sam,spoke broker,time frame,capit seven,rascal extrem,hard sale,longer,commun realli,ask send,differ compoentsfe,prompt approv,buy attitud,addressresolv,fred awesom,past far,deliv everyth,sign noth,kirk ask,kept deal\n",
      "\n",
      "\n",
      "Topic 2 words are :  respond ani,chose home,wa mostli,woe,estim fact,compani help,opinion,knowledg exceed,help secur,implac read,worth believ,somebodi,process smooth,philip great,secur,close suggest,wa hous,sure happi,histori check,believ close,peter wa,process introduc,whi hire,chose work,june lee,vari,capit profession,home look,later wa,frequent reli\n",
      "\n",
      "\n",
      "Topic 3 words are :  work great,self sale,deserv special,cost quit,fianc,come,forgot use,use compani,work penni,sure got,letter horribl,skill alway,sensit,level experienc,mani coordin,everi hour,cost titl,suitabl come,profession avail,disappoint,fast husband,email modif,job financ,overal insight,send financi,noth someon,servic easi,servic unabl,sell reactor,requir inform\n",
      "\n",
      "\n",
      "Topic 4 words are :  worth worri,grandson,chri help,techniqu,option tabl,deal previou,close help,extern account,retir challeng,clarifi,profession time,question settl,monthslong process,fee waivedth,standard number,ask hi,differ team,lender time,time respons,remain,cost lower,start wa,reactor susan,tri right,plea check,hire gr,indebt,human possibl,latest technolog,wa complet\n",
      "\n",
      "\n",
      "Topic 5 words are :  stuck ass,wast credit,cost titl,job process,kati,hold cost,late work,ask questionshi,bid amaz,accommod inform,skill,nervou,loan fit,text dozen,mean known,loan doubt,know step,person said,rook,favor,need read,thou pitch,inferior,steve,review deal,time compani,held week,naso week,paramet took,provid requir\n",
      "\n",
      "\n",
      "Topic 6 words are :  thought difficult,sever home,apart,inform email,close read,maribelfirst time,underwrit guidelin,relianc pleasur,complex,reach triumph,day paid,rich great,wonder sever,applic close,step great,offic happi,issu devast,apprais took,right provid,steve veri,quot abil,line listen,rep donna,easi deal,know process,solv recommend,disclosur increas,respons document,use futur,famili friend\n",
      "\n",
      "\n",
      "Topic 7 words are :  relat loan,frequent reli,thumb,need evalu,texa,came result,choos,lower pay,sent thi,told peopl,fast pace,knowledg entir,make process,know decid,progress accomplish,got quickli,step requir,effici wa,appar broker,kirk state,calm help,close just,opportun quit,step statu,text tom,triumph,appar end,naso debat,cover cost,john hi\n",
      "\n",
      "\n",
      "Topic 8 words are :  plu,processor absolut,rook mistak,current mortgag,hothous,drive,expir idea,ani error,air point,happi commun,ask total,told rate,make experi,applic wa,glad went,got document,experi screw,clear thi,known someth,sale loan,nervou afford,profession time,mistak person,slightli beat,ask copi,round rate,hello lawyer,nick thing,satisfi appreci,dealt quickli\n",
      "\n",
      "\n",
      "Topic 9 words are :  process close,rel fast,tomorrow,recommend sam,andi read,told just,everyth discrep,januari th,rate said,pay howev,went pretti,ken true,aaron extrem,applic produc,cost lower,shop lender,manag wrong,process quickli,charg late,rude,attorney use,kept word,togeth did,highli person,time home,casethey,wa awesom,faith,provid famili,bellezza relianc\n",
      "\n",
      "\n",
      "Topic 10 words are :  away guarante,appreci approach,process say,stephani awesom,didn use,dilig thorough,competit assur,tension,ill pay,wa honest,left process,stress free,understood heard,veri home,work robert,specif remain,mean known,distress frustrat,twice answer,dollar month,hang,homebuy process,met bryant,lender strict,hi client,staff stop,manag follow,perfectli fine,normal busi,candl\n",
      "\n",
      "\n"
     ]
    }
   ],
   "source": [
    "for i in range(0,10):\n",
    "    topic_words=(lda.components_)[i].argsort()[:30]\n",
    "    words=terms.iloc[topic_words.tolist()].values\n",
    "    print(\"Topic \"+str(i+1)+' words are : ',','.join(words))\n",
    "    print('\\n')\n",
    "    "
   ]
  },
  {
   "cell_type": "markdown",
   "id": "6e8f1b58",
   "metadata": {},
   "source": [
    "# Predicting Star Ratings"
   ]
  },
  {
   "cell_type": "code",
   "execution_count": 100,
   "id": "8ae3752a",
   "metadata": {},
   "outputs": [
    {
     "data": {
      "text/html": [
       "<div>\n",
       "<style scoped>\n",
       "    .dataframe tbody tr th:only-of-type {\n",
       "        vertical-align: middle;\n",
       "    }\n",
       "\n",
       "    .dataframe tbody tr th {\n",
       "        vertical-align: top;\n",
       "    }\n",
       "\n",
       "    .dataframe thead th {\n",
       "        text-align: right;\n",
       "    }\n",
       "</style>\n",
       "<table border=\"1\" class=\"dataframe\">\n",
       "  <thead>\n",
       "    <tr style=\"text-align: right;\">\n",
       "      <th></th>\n",
       "      <th>aaron</th>\n",
       "      <th>aaron anyon</th>\n",
       "      <th>aaron custom</th>\n",
       "      <th>aaron cut</th>\n",
       "      <th>aaron everyth</th>\n",
       "      <th>aaron extrem</th>\n",
       "      <th>aaron fought</th>\n",
       "      <th>aaron guarante</th>\n",
       "      <th>aaron howev</th>\n",
       "      <th>aaron look</th>\n",
       "      <th>...</th>\n",
       "      <th>year wa</th>\n",
       "      <th>year want</th>\n",
       "      <th>year work</th>\n",
       "      <th>yelp</th>\n",
       "      <th>yelp review</th>\n",
       "      <th>yep</th>\n",
       "      <th>yep paid</th>\n",
       "      <th>zero</th>\n",
       "      <th>zero option</th>\n",
       "      <th>zero point</th>\n",
       "    </tr>\n",
       "  </thead>\n",
       "  <tbody>\n",
       "    <tr>\n",
       "      <th>0</th>\n",
       "      <td>0</td>\n",
       "      <td>0</td>\n",
       "      <td>0</td>\n",
       "      <td>0</td>\n",
       "      <td>0</td>\n",
       "      <td>0</td>\n",
       "      <td>0</td>\n",
       "      <td>0</td>\n",
       "      <td>0</td>\n",
       "      <td>0</td>\n",
       "      <td>...</td>\n",
       "      <td>0</td>\n",
       "      <td>0</td>\n",
       "      <td>0</td>\n",
       "      <td>0</td>\n",
       "      <td>0</td>\n",
       "      <td>0</td>\n",
       "      <td>0</td>\n",
       "      <td>0</td>\n",
       "      <td>0</td>\n",
       "      <td>0</td>\n",
       "    </tr>\n",
       "    <tr>\n",
       "      <th>1</th>\n",
       "      <td>0</td>\n",
       "      <td>0</td>\n",
       "      <td>0</td>\n",
       "      <td>0</td>\n",
       "      <td>0</td>\n",
       "      <td>0</td>\n",
       "      <td>0</td>\n",
       "      <td>0</td>\n",
       "      <td>0</td>\n",
       "      <td>0</td>\n",
       "      <td>...</td>\n",
       "      <td>0</td>\n",
       "      <td>0</td>\n",
       "      <td>0</td>\n",
       "      <td>0</td>\n",
       "      <td>0</td>\n",
       "      <td>0</td>\n",
       "      <td>0</td>\n",
       "      <td>0</td>\n",
       "      <td>0</td>\n",
       "      <td>0</td>\n",
       "    </tr>\n",
       "    <tr>\n",
       "      <th>2</th>\n",
       "      <td>0</td>\n",
       "      <td>0</td>\n",
       "      <td>0</td>\n",
       "      <td>0</td>\n",
       "      <td>0</td>\n",
       "      <td>0</td>\n",
       "      <td>0</td>\n",
       "      <td>0</td>\n",
       "      <td>0</td>\n",
       "      <td>0</td>\n",
       "      <td>...</td>\n",
       "      <td>0</td>\n",
       "      <td>0</td>\n",
       "      <td>0</td>\n",
       "      <td>0</td>\n",
       "      <td>0</td>\n",
       "      <td>0</td>\n",
       "      <td>0</td>\n",
       "      <td>0</td>\n",
       "      <td>0</td>\n",
       "      <td>0</td>\n",
       "    </tr>\n",
       "    <tr>\n",
       "      <th>3</th>\n",
       "      <td>0</td>\n",
       "      <td>0</td>\n",
       "      <td>0</td>\n",
       "      <td>0</td>\n",
       "      <td>0</td>\n",
       "      <td>0</td>\n",
       "      <td>0</td>\n",
       "      <td>0</td>\n",
       "      <td>0</td>\n",
       "      <td>0</td>\n",
       "      <td>...</td>\n",
       "      <td>0</td>\n",
       "      <td>0</td>\n",
       "      <td>0</td>\n",
       "      <td>0</td>\n",
       "      <td>0</td>\n",
       "      <td>0</td>\n",
       "      <td>0</td>\n",
       "      <td>0</td>\n",
       "      <td>0</td>\n",
       "      <td>0</td>\n",
       "    </tr>\n",
       "    <tr>\n",
       "      <th>4</th>\n",
       "      <td>0</td>\n",
       "      <td>0</td>\n",
       "      <td>0</td>\n",
       "      <td>0</td>\n",
       "      <td>0</td>\n",
       "      <td>0</td>\n",
       "      <td>0</td>\n",
       "      <td>0</td>\n",
       "      <td>0</td>\n",
       "      <td>0</td>\n",
       "      <td>...</td>\n",
       "      <td>0</td>\n",
       "      <td>0</td>\n",
       "      <td>0</td>\n",
       "      <td>0</td>\n",
       "      <td>0</td>\n",
       "      <td>0</td>\n",
       "      <td>0</td>\n",
       "      <td>0</td>\n",
       "      <td>0</td>\n",
       "      <td>0</td>\n",
       "    </tr>\n",
       "    <tr>\n",
       "      <th>...</th>\n",
       "      <td>...</td>\n",
       "      <td>...</td>\n",
       "      <td>...</td>\n",
       "      <td>...</td>\n",
       "      <td>...</td>\n",
       "      <td>...</td>\n",
       "      <td>...</td>\n",
       "      <td>...</td>\n",
       "      <td>...</td>\n",
       "      <td>...</td>\n",
       "      <td>...</td>\n",
       "      <td>...</td>\n",
       "      <td>...</td>\n",
       "      <td>...</td>\n",
       "      <td>...</td>\n",
       "      <td>...</td>\n",
       "      <td>...</td>\n",
       "      <td>...</td>\n",
       "      <td>...</td>\n",
       "      <td>...</td>\n",
       "      <td>...</td>\n",
       "    </tr>\n",
       "    <tr>\n",
       "      <th>500</th>\n",
       "      <td>0</td>\n",
       "      <td>0</td>\n",
       "      <td>0</td>\n",
       "      <td>0</td>\n",
       "      <td>0</td>\n",
       "      <td>0</td>\n",
       "      <td>0</td>\n",
       "      <td>0</td>\n",
       "      <td>0</td>\n",
       "      <td>0</td>\n",
       "      <td>...</td>\n",
       "      <td>0</td>\n",
       "      <td>0</td>\n",
       "      <td>0</td>\n",
       "      <td>0</td>\n",
       "      <td>0</td>\n",
       "      <td>0</td>\n",
       "      <td>0</td>\n",
       "      <td>0</td>\n",
       "      <td>0</td>\n",
       "      <td>0</td>\n",
       "    </tr>\n",
       "    <tr>\n",
       "      <th>501</th>\n",
       "      <td>0</td>\n",
       "      <td>0</td>\n",
       "      <td>0</td>\n",
       "      <td>0</td>\n",
       "      <td>0</td>\n",
       "      <td>0</td>\n",
       "      <td>0</td>\n",
       "      <td>0</td>\n",
       "      <td>0</td>\n",
       "      <td>0</td>\n",
       "      <td>...</td>\n",
       "      <td>1</td>\n",
       "      <td>0</td>\n",
       "      <td>0</td>\n",
       "      <td>0</td>\n",
       "      <td>0</td>\n",
       "      <td>0</td>\n",
       "      <td>0</td>\n",
       "      <td>0</td>\n",
       "      <td>0</td>\n",
       "      <td>0</td>\n",
       "    </tr>\n",
       "    <tr>\n",
       "      <th>502</th>\n",
       "      <td>0</td>\n",
       "      <td>0</td>\n",
       "      <td>0</td>\n",
       "      <td>0</td>\n",
       "      <td>0</td>\n",
       "      <td>0</td>\n",
       "      <td>0</td>\n",
       "      <td>0</td>\n",
       "      <td>0</td>\n",
       "      <td>0</td>\n",
       "      <td>...</td>\n",
       "      <td>0</td>\n",
       "      <td>0</td>\n",
       "      <td>0</td>\n",
       "      <td>0</td>\n",
       "      <td>0</td>\n",
       "      <td>0</td>\n",
       "      <td>0</td>\n",
       "      <td>0</td>\n",
       "      <td>0</td>\n",
       "      <td>0</td>\n",
       "    </tr>\n",
       "    <tr>\n",
       "      <th>503</th>\n",
       "      <td>0</td>\n",
       "      <td>0</td>\n",
       "      <td>0</td>\n",
       "      <td>0</td>\n",
       "      <td>0</td>\n",
       "      <td>0</td>\n",
       "      <td>0</td>\n",
       "      <td>0</td>\n",
       "      <td>0</td>\n",
       "      <td>0</td>\n",
       "      <td>...</td>\n",
       "      <td>0</td>\n",
       "      <td>0</td>\n",
       "      <td>0</td>\n",
       "      <td>0</td>\n",
       "      <td>0</td>\n",
       "      <td>0</td>\n",
       "      <td>0</td>\n",
       "      <td>0</td>\n",
       "      <td>0</td>\n",
       "      <td>0</td>\n",
       "    </tr>\n",
       "    <tr>\n",
       "      <th>504</th>\n",
       "      <td>0</td>\n",
       "      <td>0</td>\n",
       "      <td>0</td>\n",
       "      <td>0</td>\n",
       "      <td>0</td>\n",
       "      <td>0</td>\n",
       "      <td>0</td>\n",
       "      <td>0</td>\n",
       "      <td>0</td>\n",
       "      <td>0</td>\n",
       "      <td>...</td>\n",
       "      <td>0</td>\n",
       "      <td>0</td>\n",
       "      <td>0</td>\n",
       "      <td>0</td>\n",
       "      <td>0</td>\n",
       "      <td>0</td>\n",
       "      <td>0</td>\n",
       "      <td>0</td>\n",
       "      <td>0</td>\n",
       "      <td>0</td>\n",
       "    </tr>\n",
       "  </tbody>\n",
       "</table>\n",
       "<p>505 rows × 10952 columns</p>\n",
       "</div>"
      ],
      "text/plain": [
       "     aaron  aaron anyon  aaron custom  aaron cut  aaron everyth  aaron extrem  \\\n",
       "0        0            0             0          0              0             0   \n",
       "1        0            0             0          0              0             0   \n",
       "2        0            0             0          0              0             0   \n",
       "3        0            0             0          0              0             0   \n",
       "4        0            0             0          0              0             0   \n",
       "..     ...          ...           ...        ...            ...           ...   \n",
       "500      0            0             0          0              0             0   \n",
       "501      0            0             0          0              0             0   \n",
       "502      0            0             0          0              0             0   \n",
       "503      0            0             0          0              0             0   \n",
       "504      0            0             0          0              0             0   \n",
       "\n",
       "     aaron fought  aaron guarante  aaron howev  aaron look  ...  year wa  \\\n",
       "0               0               0            0           0  ...        0   \n",
       "1               0               0            0           0  ...        0   \n",
       "2               0               0            0           0  ...        0   \n",
       "3               0               0            0           0  ...        0   \n",
       "4               0               0            0           0  ...        0   \n",
       "..            ...             ...          ...         ...  ...      ...   \n",
       "500             0               0            0           0  ...        0   \n",
       "501             0               0            0           0  ...        1   \n",
       "502             0               0            0           0  ...        0   \n",
       "503             0               0            0           0  ...        0   \n",
       "504             0               0            0           0  ...        0   \n",
       "\n",
       "     year want  year work  yelp  yelp review  yep  yep paid  zero  \\\n",
       "0            0          0     0            0    0         0     0   \n",
       "1            0          0     0            0    0         0     0   \n",
       "2            0          0     0            0    0         0     0   \n",
       "3            0          0     0            0    0         0     0   \n",
       "4            0          0     0            0    0         0     0   \n",
       "..         ...        ...   ...          ...  ...       ...   ...   \n",
       "500          0          0     0            0    0         0     0   \n",
       "501          0          0     0            0    0         0     0   \n",
       "502          0          0     0            0    0         0     0   \n",
       "503          0          0     0            0    0         0     0   \n",
       "504          0          0     0            0    0         0     0   \n",
       "\n",
       "     zero option  zero point  \n",
       "0              0           0  \n",
       "1              0           0  \n",
       "2              0           0  \n",
       "3              0           0  \n",
       "4              0           0  \n",
       "..           ...         ...  \n",
       "500            0           0  \n",
       "501            0           0  \n",
       "502            0           0  \n",
       "503            0           0  \n",
       "504            0           0  \n",
       "\n",
       "[505 rows x 10952 columns]"
      ]
     },
     "execution_count": 100,
     "metadata": {},
     "output_type": "execute_result"
    }
   ],
   "source": [
    "X"
   ]
  },
  {
   "cell_type": "code",
   "execution_count": 101,
   "id": "ec01677b",
   "metadata": {},
   "outputs": [],
   "source": [
    "X_train_stars,X_test_stars,Y_train_stars,Y_test_stars=train_test_split(X,bank.Stars,test_size=0.3,random_state=101)"
   ]
  },
  {
   "cell_type": "code",
   "execution_count": 102,
   "id": "cb8548fd",
   "metadata": {},
   "outputs": [
    {
     "data": {
      "text/plain": [
       "(152, 10952)"
      ]
     },
     "execution_count": 102,
     "metadata": {},
     "output_type": "execute_result"
    }
   ],
   "source": [
    "X_test_stars.shape"
   ]
  },
  {
   "cell_type": "code",
   "execution_count": 103,
   "id": "288bf657",
   "metadata": {},
   "outputs": [
    {
     "data": {
      "text/plain": [
       "(152, 10952)"
      ]
     },
     "execution_count": 103,
     "metadata": {},
     "output_type": "execute_result"
    }
   ],
   "source": [
    "X_test_stars.shape"
   ]
  },
  {
   "cell_type": "markdown",
   "id": "1c15e469",
   "metadata": {},
   "source": [
    "### Naive Bayes Classifier"
   ]
  },
  {
   "cell_type": "code",
   "execution_count": 104,
   "id": "2d8f1aca",
   "metadata": {},
   "outputs": [],
   "source": [
    "bnb=BernoulliNB()"
   ]
  },
  {
   "cell_type": "code",
   "execution_count": 105,
   "id": "8c7fed98",
   "metadata": {},
   "outputs": [],
   "source": [
    "bnb=bnb.fit(X_train_stars,Y_train_stars)"
   ]
  },
  {
   "cell_type": "code",
   "execution_count": 106,
   "id": "4d1522c0",
   "metadata": {},
   "outputs": [],
   "source": [
    "bnb_train_pred_stars=bnb.predict(X_train_stars)"
   ]
  },
  {
   "cell_type": "code",
   "execution_count": 107,
   "id": "644eda7f",
   "metadata": {},
   "outputs": [],
   "source": [
    "bnb_test_pred_stars=bnb.predict(X_test_stars)"
   ]
  },
  {
   "cell_type": "markdown",
   "id": "af477727",
   "metadata": {},
   "source": [
    "#### Train Performace Metrics"
   ]
  },
  {
   "cell_type": "code",
   "execution_count": 108,
   "id": "26bc059f",
   "metadata": {},
   "outputs": [
    {
     "name": "stdout",
     "output_type": "stream",
     "text": [
      "Accuracy Score of Train for Naive Bayes Classifier Model :  0.8923512747875354\n",
      "\n",
      "============================================================\n",
      "\n",
      "Confusion Matrix of Train for Naive Bayes Classifier Model : \n",
      " [[ 21  38]\n",
      " [  0 294]]\n",
      "\n",
      "============================================================\n",
      "\n",
      "Classification Report of Train for Naive Bayes Classifier Model : \n",
      "\n",
      "               precision    recall  f1-score   support\n",
      "\n",
      "           1       1.00      0.36      0.53        59\n",
      "           5       0.89      1.00      0.94       294\n",
      "\n",
      "    accuracy                           0.89       353\n",
      "   macro avg       0.94      0.68      0.73       353\n",
      "weighted avg       0.90      0.89      0.87       353\n",
      "\n"
     ]
    }
   ],
   "source": [
    "print('Accuracy Score of Train for Naive Bayes Classifier Model : ',accuracy_score(Y_train_stars,bnb_train_pred_stars))\n",
    "print('\\n============================================================\\n')\n",
    "print('Confusion Matrix of Train for Naive Bayes Classifier Model : \\n',confusion_matrix(Y_train_stars,bnb_train_pred_stars))\n",
    "print('\\n============================================================\\n')\n",
    "print('Classification Report of Train for Naive Bayes Classifier Model : \\n\\n',classification_report(Y_train_stars,bnb_train_pred_stars))"
   ]
  },
  {
   "cell_type": "markdown",
   "id": "7f98635a",
   "metadata": {},
   "source": [
    "#### Test Performace Metrics"
   ]
  },
  {
   "cell_type": "code",
   "execution_count": 109,
   "id": "eadb2c78",
   "metadata": {},
   "outputs": [
    {
     "name": "stdout",
     "output_type": "stream",
     "text": [
      "Accuracy Score of Test for Naive Bayes Classifier Model :  0.8421052631578947\n",
      "\n",
      "============================================================\n",
      "\n",
      "Confusion Matrix of Test for Naive Bayes Classifier Model : \n",
      " [[ 14  22]\n",
      " [  2 114]]\n",
      "\n",
      "============================================================\n",
      "\n",
      "Classification Report of Test for Naive Bayes Classifier Model : \n",
      "\n",
      "               precision    recall  f1-score   support\n",
      "\n",
      "           1       0.88      0.39      0.54        36\n",
      "           5       0.84      0.98      0.90       116\n",
      "\n",
      "    accuracy                           0.84       152\n",
      "   macro avg       0.86      0.69      0.72       152\n",
      "weighted avg       0.85      0.84      0.82       152\n",
      "\n"
     ]
    }
   ],
   "source": [
    "print('Accuracy Score of Test for Naive Bayes Classifier Model : ',accuracy_score(Y_test_stars,bnb_test_pred_stars))\n",
    "print('\\n============================================================\\n')\n",
    "print('Confusion Matrix of Test for Naive Bayes Classifier Model : \\n',confusion_matrix(Y_test_stars,bnb_test_pred_stars))\n",
    "print('\\n============================================================\\n')\n",
    "print('Classification Report of Test for Naive Bayes Classifier Model : \\n\\n',classification_report(Y_test_stars,bnb_test_pred_stars))"
   ]
  },
  {
   "cell_type": "markdown",
   "id": "afb04146",
   "metadata": {},
   "source": [
    "### ANN Classifier"
   ]
  },
  {
   "cell_type": "code",
   "execution_count": 110,
   "id": "721aa955",
   "metadata": {},
   "outputs": [],
   "source": [
    "mlp=MLPClassifier()"
   ]
  },
  {
   "cell_type": "code",
   "execution_count": 111,
   "id": "b7ef16c5",
   "metadata": {},
   "outputs": [],
   "source": [
    "mlp=mlp.fit(X_train_stars,Y_train_stars)"
   ]
  },
  {
   "cell_type": "code",
   "execution_count": 112,
   "id": "0fcee138",
   "metadata": {},
   "outputs": [],
   "source": [
    "mlp_train_pred_stars=mlp.predict(X_train_stars)"
   ]
  },
  {
   "cell_type": "code",
   "execution_count": 113,
   "id": "28f89ae7",
   "metadata": {},
   "outputs": [],
   "source": [
    "mlp_test_pred_stars=mlp.predict(X_test_stars)"
   ]
  },
  {
   "cell_type": "markdown",
   "id": "ca57f5bf",
   "metadata": {},
   "source": [
    "#### Train Performace Metrics"
   ]
  },
  {
   "cell_type": "code",
   "execution_count": 114,
   "id": "792fd7e3",
   "metadata": {},
   "outputs": [
    {
     "name": "stdout",
     "output_type": "stream",
     "text": [
      "Accuracy Score of Train for ANN Classifier Model :  1.0\n",
      "\n",
      "============================================================\n",
      "\n",
      "Confusion Matrix of Train for ANN Classifier Model : \n",
      " [[ 59   0]\n",
      " [  0 294]]\n",
      "\n",
      "============================================================\n",
      "\n",
      "Classification Report of Train for ANN Classifier Model : \n",
      "\n",
      "               precision    recall  f1-score   support\n",
      "\n",
      "           1       1.00      1.00      1.00        59\n",
      "           5       1.00      1.00      1.00       294\n",
      "\n",
      "    accuracy                           1.00       353\n",
      "   macro avg       1.00      1.00      1.00       353\n",
      "weighted avg       1.00      1.00      1.00       353\n",
      "\n"
     ]
    }
   ],
   "source": [
    "print('Accuracy Score of Train for ANN Classifier Model : ',accuracy_score(Y_train_stars,mlp_train_pred_stars))\n",
    "print('\\n============================================================\\n')\n",
    "print('Confusion Matrix of Train for ANN Classifier Model : \\n',confusion_matrix(Y_train_stars,mlp_train_pred_stars))\n",
    "print('\\n============================================================\\n')\n",
    "print('Classification Report of Train for ANN Classifier Model : \\n\\n',classification_report(Y_train_stars,mlp_train_pred_stars))"
   ]
  },
  {
   "cell_type": "markdown",
   "id": "15d01812",
   "metadata": {},
   "source": [
    "#### Test Performace Metrics"
   ]
  },
  {
   "cell_type": "code",
   "execution_count": 115,
   "id": "ed3da3e3",
   "metadata": {},
   "outputs": [
    {
     "name": "stdout",
     "output_type": "stream",
     "text": [
      "Accuracy Score of Test for ANN Classifier Model :  0.8618421052631579\n",
      "\n",
      "============================================================\n",
      "\n",
      "Confusion Matrix of Test for ANN Classifier Model : \n",
      " [[ 15  21]\n",
      " [  0 116]]\n",
      "\n",
      "============================================================\n",
      "\n",
      "Classification Report of Test for ANN Classifier Model : \n",
      "\n",
      "               precision    recall  f1-score   support\n",
      "\n",
      "           1       1.00      0.42      0.59        36\n",
      "           5       0.85      1.00      0.92       116\n",
      "\n",
      "    accuracy                           0.86       152\n",
      "   macro avg       0.92      0.71      0.75       152\n",
      "weighted avg       0.88      0.86      0.84       152\n",
      "\n"
     ]
    }
   ],
   "source": [
    "print('Accuracy Score of Test for ANN Classifier Model : ',accuracy_score(Y_test_stars,mlp_test_pred_stars))\n",
    "print('\\n============================================================\\n')\n",
    "print('Confusion Matrix of Test for ANN Classifier Model : \\n',confusion_matrix(Y_test_stars,mlp_test_pred_stars))\n",
    "print('\\n============================================================\\n')\n",
    "print('Classification Report of Test for ANN Classifier Model : \\n\\n',classification_report(Y_test_stars,mlp_test_pred_stars))"
   ]
  },
  {
   "cell_type": "code",
   "execution_count": 118,
   "id": "53df4585",
   "metadata": {},
   "outputs": [
    {
     "data": {
      "image/png": "[encoded data removed]",
      "text/plain": [
       "<Figure size 432x288 with 2 Axes>"
      ]
     },
     "metadata": {
      "needs_background": "light"
     },
     "output_type": "display_data"
    }
   ],
   "source": [
    "sns.heatmap(np.corrcoef(Y_test_stars,mlp_test_pred_stars))\n",
    "plt.show()"
   ]
  },
  {
   "cell_type": "markdown",
   "id": "f3cfbe82",
   "metadata": {},
   "source": [
    "## =====================HAPPY LEARNING===================="
   ]
  },
  {
   "cell_type": "code",
   "execution_count": null,
   "id": "bc434c84",
   "metadata": {},
   "outputs": [],
   "source": []
  }
 ],
 "metadata": {
  "kernelspec": {
   "display_name": "Python 3",
   "language": "python",
   "name": "python3"
  },
  "language_info": {
   "codemirror_mode": {
    "name": "ipython",
    "version": 3
   },
   "file_extension": ".py",
   "mimetype": "text/x-python",
   "name": "python",
   "nbconvert_exporter": "python",
   "pygments_lexer": "ipython3",
   "version": "3.8.8"
  }
 },
 "nbformat": 4,
 "nbformat_minor": 5
}
