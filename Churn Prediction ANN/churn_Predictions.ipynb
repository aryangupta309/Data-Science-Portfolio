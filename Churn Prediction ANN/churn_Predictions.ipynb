{
 "cells": [
  {
   "cell_type": "code",
   "execution_count": 88,
   "metadata": {},
   "outputs": [],
   "source": [
    "#importing libraries\n",
    "import numpy as np\n",
    "import pandas as pd\n",
    "from sklearn.preprocessing import StandardScaler\n",
    "from sklearn.model_selection import train_test_split\n",
    "from sklearn.metrics import confusion_matrix , classification_report\n",
    "from keras.models import Sequential\n",
    "from keras.layers import Dense\n",
    "import keras_tuner as kt\n",
    "from tensorflow import keras"
   ]
  },
  {
   "cell_type": "code",
   "execution_count": 89,
   "metadata": {},
   "outputs": [],
   "source": [
    "#loading Dataset\n",
    "churn=pd.read_csv('E:\\projects\\Churn_Prediction_ANN\\Churn_Predictions.csv')"
   ]
  },
  {
   "cell_type": "code",
   "execution_count": 90,
   "metadata": {},
   "outputs": [
    {
     "data": {
      "text/html": [
       "<div>\n",
       "<style scoped>\n",
       "    .dataframe tbody tr th:only-of-type {\n",
       "        vertical-align: middle;\n",
       "    }\n",
       "\n",
       "    .dataframe tbody tr th {\n",
       "        vertical-align: top;\n",
       "    }\n",
       "\n",
       "    .dataframe thead th {\n",
       "        text-align: right;\n",
       "    }\n",
       "</style>\n",
       "<table border=\"1\" class=\"dataframe\">\n",
       "  <thead>\n",
       "    <tr style=\"text-align: right;\">\n",
       "      <th></th>\n",
       "      <th>RowNumber</th>\n",
       "      <th>CustomerId</th>\n",
       "      <th>Surname</th>\n",
       "      <th>CreditScore</th>\n",
       "      <th>Geography</th>\n",
       "      <th>Gender</th>\n",
       "      <th>Age</th>\n",
       "      <th>Tenure</th>\n",
       "      <th>Balance</th>\n",
       "      <th>NumOfProducts</th>\n",
       "      <th>HasCrCard</th>\n",
       "      <th>IsActiveMember</th>\n",
       "      <th>EstimatedSalary</th>\n",
       "      <th>Exited</th>\n",
       "    </tr>\n",
       "  </thead>\n",
       "  <tbody>\n",
       "    <tr>\n",
       "      <th>0</th>\n",
       "      <td>1</td>\n",
       "      <td>15634602</td>\n",
       "      <td>Hargrave</td>\n",
       "      <td>619</td>\n",
       "      <td>France</td>\n",
       "      <td>Female</td>\n",
       "      <td>42</td>\n",
       "      <td>2</td>\n",
       "      <td>0.00</td>\n",
       "      <td>1</td>\n",
       "      <td>1</td>\n",
       "      <td>1</td>\n",
       "      <td>101348.88</td>\n",
       "      <td>1</td>\n",
       "    </tr>\n",
       "    <tr>\n",
       "      <th>1</th>\n",
       "      <td>2</td>\n",
       "      <td>15647311</td>\n",
       "      <td>Hill</td>\n",
       "      <td>608</td>\n",
       "      <td>Spain</td>\n",
       "      <td>Female</td>\n",
       "      <td>41</td>\n",
       "      <td>1</td>\n",
       "      <td>83807.86</td>\n",
       "      <td>1</td>\n",
       "      <td>0</td>\n",
       "      <td>1</td>\n",
       "      <td>112542.58</td>\n",
       "      <td>0</td>\n",
       "    </tr>\n",
       "    <tr>\n",
       "      <th>2</th>\n",
       "      <td>3</td>\n",
       "      <td>15619304</td>\n",
       "      <td>Onio</td>\n",
       "      <td>502</td>\n",
       "      <td>France</td>\n",
       "      <td>Female</td>\n",
       "      <td>42</td>\n",
       "      <td>8</td>\n",
       "      <td>159660.80</td>\n",
       "      <td>3</td>\n",
       "      <td>1</td>\n",
       "      <td>0</td>\n",
       "      <td>113931.57</td>\n",
       "      <td>1</td>\n",
       "    </tr>\n",
       "    <tr>\n",
       "      <th>3</th>\n",
       "      <td>4</td>\n",
       "      <td>15701354</td>\n",
       "      <td>Boni</td>\n",
       "      <td>699</td>\n",
       "      <td>France</td>\n",
       "      <td>Female</td>\n",
       "      <td>39</td>\n",
       "      <td>1</td>\n",
       "      <td>0.00</td>\n",
       "      <td>2</td>\n",
       "      <td>0</td>\n",
       "      <td>0</td>\n",
       "      <td>93826.63</td>\n",
       "      <td>0</td>\n",
       "    </tr>\n",
       "    <tr>\n",
       "      <th>4</th>\n",
       "      <td>5</td>\n",
       "      <td>15737888</td>\n",
       "      <td>Mitchell</td>\n",
       "      <td>850</td>\n",
       "      <td>Spain</td>\n",
       "      <td>Female</td>\n",
       "      <td>43</td>\n",
       "      <td>2</td>\n",
       "      <td>125510.82</td>\n",
       "      <td>1</td>\n",
       "      <td>1</td>\n",
       "      <td>1</td>\n",
       "      <td>79084.10</td>\n",
       "      <td>0</td>\n",
       "    </tr>\n",
       "  </tbody>\n",
       "</table>\n",
       "</div>"
      ],
      "text/plain": [
       "   RowNumber  CustomerId   Surname  CreditScore Geography  Gender  Age  \\\n",
       "0          1    15634602  Hargrave          619    France  Female   42   \n",
       "1          2    15647311      Hill          608     Spain  Female   41   \n",
       "2          3    15619304      Onio          502    France  Female   42   \n",
       "3          4    15701354      Boni          699    France  Female   39   \n",
       "4          5    15737888  Mitchell          850     Spain  Female   43   \n",
       "\n",
       "   Tenure    Balance  NumOfProducts  HasCrCard  IsActiveMember  \\\n",
       "0       2       0.00              1          1               1   \n",
       "1       1   83807.86              1          0               1   \n",
       "2       8  159660.80              3          1               0   \n",
       "3       1       0.00              2          0               0   \n",
       "4       2  125510.82              1          1               1   \n",
       "\n",
       "   EstimatedSalary  Exited  \n",
       "0        101348.88       1  \n",
       "1        112542.58       0  \n",
       "2        113931.57       1  \n",
       "3         93826.63       0  \n",
       "4         79084.10       0  "
      ]
     },
     "execution_count": 90,
     "metadata": {},
     "output_type": "execute_result"
    }
   ],
   "source": [
    "churn.head()"
   ]
  },
  {
   "cell_type": "code",
   "execution_count": 91,
   "metadata": {},
   "outputs": [
    {
     "data": {
      "text/plain": [
       "(10000, 14)"
      ]
     },
     "execution_count": 91,
     "metadata": {},
     "output_type": "execute_result"
    }
   ],
   "source": [
    "churn.shape"
   ]
  },
  {
   "cell_type": "code",
   "execution_count": 92,
   "metadata": {},
   "outputs": [
    {
     "name": "stdout",
     "output_type": "stream",
     "text": [
      "<class 'pandas.core.frame.DataFrame'>\n",
      "RangeIndex: 10000 entries, 0 to 9999\n",
      "Data columns (total 14 columns):\n",
      " #   Column           Non-Null Count  Dtype  \n",
      "---  ------           --------------  -----  \n",
      " 0   RowNumber        10000 non-null  int64  \n",
      " 1   CustomerId       10000 non-null  int64  \n",
      " 2   Surname          10000 non-null  object \n",
      " 3   CreditScore      10000 non-null  int64  \n",
      " 4   Geography        10000 non-null  object \n",
      " 5   Gender           10000 non-null  object \n",
      " 6   Age              10000 non-null  int64  \n",
      " 7   Tenure           10000 non-null  int64  \n",
      " 8   Balance          10000 non-null  float64\n",
      " 9   NumOfProducts    10000 non-null  int64  \n",
      " 10  HasCrCard        10000 non-null  int64  \n",
      " 11  IsActiveMember   10000 non-null  int64  \n",
      " 12  EstimatedSalary  10000 non-null  float64\n",
      " 13  Exited           10000 non-null  int64  \n",
      "dtypes: float64(2), int64(9), object(3)\n",
      "memory usage: 1.1+ MB\n"
     ]
    }
   ],
   "source": [
    "churn.info()"
   ]
  },
  {
   "cell_type": "code",
   "execution_count": 93,
   "metadata": {},
   "outputs": [],
   "source": [
    "#dropping feature beacause of high number of distinct values.\n",
    "churn.drop(columns=['RowNumber','CustomerId','Surname'],inplace=True)"
   ]
  },
  {
   "cell_type": "code",
   "execution_count": 94,
   "metadata": {},
   "outputs": [
    {
     "data": {
      "text/plain": [
       "(10000, 11)"
      ]
     },
     "execution_count": 94,
     "metadata": {},
     "output_type": "execute_result"
    }
   ],
   "source": [
    "churn.shape"
   ]
  },
  {
   "cell_type": "code",
   "execution_count": 95,
   "metadata": {},
   "outputs": [],
   "source": [
    "cat=churn[['Geography','Gender']]"
   ]
  },
  {
   "cell_type": "code",
   "execution_count": 96,
   "metadata": {},
   "outputs": [],
   "source": [
    "cont=churn.drop(cat.columns,axis=1)"
   ]
  },
  {
   "cell_type": "code",
   "execution_count": 97,
   "metadata": {},
   "outputs": [
    {
     "data": {
      "text/plain": [
       "(10000, 2)"
      ]
     },
     "execution_count": 97,
     "metadata": {},
     "output_type": "execute_result"
    }
   ],
   "source": [
    "cat.shape"
   ]
  },
  {
   "cell_type": "code",
   "execution_count": 98,
   "metadata": {},
   "outputs": [
    {
     "data": {
      "text/plain": [
       "(10000, 9)"
      ]
     },
     "execution_count": 98,
     "metadata": {},
     "output_type": "execute_result"
    }
   ],
   "source": [
    "cont.shape"
   ]
  },
  {
   "cell_type": "code",
   "execution_count": 99,
   "metadata": {},
   "outputs": [],
   "source": [
    "#Handling categorical data\n",
    "#One-hot encoding\n",
    "cat_dummies=pd.get_dummies(data=cat)"
   ]
  },
  {
   "cell_type": "code",
   "execution_count": 100,
   "metadata": {},
   "outputs": [
    {
     "data": {
      "text/plain": [
       "France     5014\n",
       "Germany    2509\n",
       "Spain      2477\n",
       "Name: Geography, dtype: int64"
      ]
     },
     "execution_count": 100,
     "metadata": {},
     "output_type": "execute_result"
    }
   ],
   "source": [
    "churn['Geography'].value_counts()"
   ]
  },
  {
   "cell_type": "code",
   "execution_count": 101,
   "metadata": {},
   "outputs": [
    {
     "data": {
      "text/html": [
       "<div>\n",
       "<style scoped>\n",
       "    .dataframe tbody tr th:only-of-type {\n",
       "        vertical-align: middle;\n",
       "    }\n",
       "\n",
       "    .dataframe tbody tr th {\n",
       "        vertical-align: top;\n",
       "    }\n",
       "\n",
       "    .dataframe thead th {\n",
       "        text-align: right;\n",
       "    }\n",
       "</style>\n",
       "<table border=\"1\" class=\"dataframe\">\n",
       "  <thead>\n",
       "    <tr style=\"text-align: right;\">\n",
       "      <th></th>\n",
       "      <th>Geography_France</th>\n",
       "      <th>Geography_Germany</th>\n",
       "      <th>Geography_Spain</th>\n",
       "      <th>Gender_Female</th>\n",
       "      <th>Gender_Male</th>\n",
       "    </tr>\n",
       "  </thead>\n",
       "  <tbody>\n",
       "    <tr>\n",
       "      <th>0</th>\n",
       "      <td>1</td>\n",
       "      <td>0</td>\n",
       "      <td>0</td>\n",
       "      <td>1</td>\n",
       "      <td>0</td>\n",
       "    </tr>\n",
       "    <tr>\n",
       "      <th>1</th>\n",
       "      <td>0</td>\n",
       "      <td>0</td>\n",
       "      <td>1</td>\n",
       "      <td>1</td>\n",
       "      <td>0</td>\n",
       "    </tr>\n",
       "    <tr>\n",
       "      <th>2</th>\n",
       "      <td>1</td>\n",
       "      <td>0</td>\n",
       "      <td>0</td>\n",
       "      <td>1</td>\n",
       "      <td>0</td>\n",
       "    </tr>\n",
       "    <tr>\n",
       "      <th>3</th>\n",
       "      <td>1</td>\n",
       "      <td>0</td>\n",
       "      <td>0</td>\n",
       "      <td>1</td>\n",
       "      <td>0</td>\n",
       "    </tr>\n",
       "    <tr>\n",
       "      <th>4</th>\n",
       "      <td>0</td>\n",
       "      <td>0</td>\n",
       "      <td>1</td>\n",
       "      <td>1</td>\n",
       "      <td>0</td>\n",
       "    </tr>\n",
       "  </tbody>\n",
       "</table>\n",
       "</div>"
      ],
      "text/plain": [
       "   Geography_France  Geography_Germany  Geography_Spain  Gender_Female  \\\n",
       "0                 1                  0                0              1   \n",
       "1                 0                  0                1              1   \n",
       "2                 1                  0                0              1   \n",
       "3                 1                  0                0              1   \n",
       "4                 0                  0                1              1   \n",
       "\n",
       "   Gender_Male  \n",
       "0            0  \n",
       "1            0  \n",
       "2            0  \n",
       "3            0  \n",
       "4            0  "
      ]
     },
     "execution_count": 101,
     "metadata": {},
     "output_type": "execute_result"
    }
   ],
   "source": [
    "cat_dummies.head()"
   ]
  },
  {
   "cell_type": "code",
   "execution_count": 102,
   "metadata": {},
   "outputs": [],
   "source": [
    "churn_final=pd.concat([cat_dummies,cont],axis=1)"
   ]
  },
  {
   "cell_type": "code",
   "execution_count": 103,
   "metadata": {},
   "outputs": [
    {
     "data": {
      "text/html": [
       "<div>\n",
       "<style scoped>\n",
       "    .dataframe tbody tr th:only-of-type {\n",
       "        vertical-align: middle;\n",
       "    }\n",
       "\n",
       "    .dataframe tbody tr th {\n",
       "        vertical-align: top;\n",
       "    }\n",
       "\n",
       "    .dataframe thead th {\n",
       "        text-align: right;\n",
       "    }\n",
       "</style>\n",
       "<table border=\"1\" class=\"dataframe\">\n",
       "  <thead>\n",
       "    <tr style=\"text-align: right;\">\n",
       "      <th></th>\n",
       "      <th>Geography_France</th>\n",
       "      <th>Geography_Germany</th>\n",
       "      <th>Geography_Spain</th>\n",
       "      <th>Gender_Female</th>\n",
       "      <th>Gender_Male</th>\n",
       "      <th>CreditScore</th>\n",
       "      <th>Age</th>\n",
       "      <th>Tenure</th>\n",
       "      <th>Balance</th>\n",
       "      <th>NumOfProducts</th>\n",
       "      <th>HasCrCard</th>\n",
       "      <th>IsActiveMember</th>\n",
       "      <th>EstimatedSalary</th>\n",
       "      <th>Exited</th>\n",
       "    </tr>\n",
       "  </thead>\n",
       "  <tbody>\n",
       "    <tr>\n",
       "      <th>0</th>\n",
       "      <td>1</td>\n",
       "      <td>0</td>\n",
       "      <td>0</td>\n",
       "      <td>1</td>\n",
       "      <td>0</td>\n",
       "      <td>619</td>\n",
       "      <td>42</td>\n",
       "      <td>2</td>\n",
       "      <td>0.00</td>\n",
       "      <td>1</td>\n",
       "      <td>1</td>\n",
       "      <td>1</td>\n",
       "      <td>101348.88</td>\n",
       "      <td>1</td>\n",
       "    </tr>\n",
       "    <tr>\n",
       "      <th>1</th>\n",
       "      <td>0</td>\n",
       "      <td>0</td>\n",
       "      <td>1</td>\n",
       "      <td>1</td>\n",
       "      <td>0</td>\n",
       "      <td>608</td>\n",
       "      <td>41</td>\n",
       "      <td>1</td>\n",
       "      <td>83807.86</td>\n",
       "      <td>1</td>\n",
       "      <td>0</td>\n",
       "      <td>1</td>\n",
       "      <td>112542.58</td>\n",
       "      <td>0</td>\n",
       "    </tr>\n",
       "    <tr>\n",
       "      <th>2</th>\n",
       "      <td>1</td>\n",
       "      <td>0</td>\n",
       "      <td>0</td>\n",
       "      <td>1</td>\n",
       "      <td>0</td>\n",
       "      <td>502</td>\n",
       "      <td>42</td>\n",
       "      <td>8</td>\n",
       "      <td>159660.80</td>\n",
       "      <td>3</td>\n",
       "      <td>1</td>\n",
       "      <td>0</td>\n",
       "      <td>113931.57</td>\n",
       "      <td>1</td>\n",
       "    </tr>\n",
       "    <tr>\n",
       "      <th>3</th>\n",
       "      <td>1</td>\n",
       "      <td>0</td>\n",
       "      <td>0</td>\n",
       "      <td>1</td>\n",
       "      <td>0</td>\n",
       "      <td>699</td>\n",
       "      <td>39</td>\n",
       "      <td>1</td>\n",
       "      <td>0.00</td>\n",
       "      <td>2</td>\n",
       "      <td>0</td>\n",
       "      <td>0</td>\n",
       "      <td>93826.63</td>\n",
       "      <td>0</td>\n",
       "    </tr>\n",
       "    <tr>\n",
       "      <th>4</th>\n",
       "      <td>0</td>\n",
       "      <td>0</td>\n",
       "      <td>1</td>\n",
       "      <td>1</td>\n",
       "      <td>0</td>\n",
       "      <td>850</td>\n",
       "      <td>43</td>\n",
       "      <td>2</td>\n",
       "      <td>125510.82</td>\n",
       "      <td>1</td>\n",
       "      <td>1</td>\n",
       "      <td>1</td>\n",
       "      <td>79084.10</td>\n",
       "      <td>0</td>\n",
       "    </tr>\n",
       "  </tbody>\n",
       "</table>\n",
       "</div>"
      ],
      "text/plain": [
       "   Geography_France  Geography_Germany  Geography_Spain  Gender_Female  \\\n",
       "0                 1                  0                0              1   \n",
       "1                 0                  0                1              1   \n",
       "2                 1                  0                0              1   \n",
       "3                 1                  0                0              1   \n",
       "4                 0                  0                1              1   \n",
       "\n",
       "   Gender_Male  CreditScore  Age  Tenure    Balance  NumOfProducts  HasCrCard  \\\n",
       "0            0          619   42       2       0.00              1          1   \n",
       "1            0          608   41       1   83807.86              1          0   \n",
       "2            0          502   42       8  159660.80              3          1   \n",
       "3            0          699   39       1       0.00              2          0   \n",
       "4            0          850   43       2  125510.82              1          1   \n",
       "\n",
       "   IsActiveMember  EstimatedSalary  Exited  \n",
       "0               1        101348.88       1  \n",
       "1               1        112542.58       0  \n",
       "2               0        113931.57       1  \n",
       "3               0         93826.63       0  \n",
       "4               1         79084.10       0  "
      ]
     },
     "execution_count": 103,
     "metadata": {},
     "output_type": "execute_result"
    }
   ],
   "source": [
    "churn_final.head()"
   ]
  },
  {
   "cell_type": "code",
   "execution_count": 104,
   "metadata": {},
   "outputs": [
    {
     "data": {
      "text/plain": [
       "Geography_France     0\n",
       "Geography_Germany    0\n",
       "Geography_Spain      0\n",
       "Gender_Female        0\n",
       "Gender_Male          0\n",
       "CreditScore          0\n",
       "Age                  0\n",
       "Tenure               0\n",
       "Balance              0\n",
       "NumOfProducts        0\n",
       "HasCrCard            0\n",
       "IsActiveMember       0\n",
       "EstimatedSalary      0\n",
       "Exited               0\n",
       "dtype: int64"
      ]
     },
     "execution_count": 104,
     "metadata": {},
     "output_type": "execute_result"
    }
   ],
   "source": [
    "#check for missings\n",
    "churn_final.isnull().sum()"
   ]
  },
  {
   "cell_type": "code",
   "execution_count": 105,
   "metadata": {},
   "outputs": [],
   "source": [
    "#spliting X and Y features\n",
    "X=churn_final.drop(columns=['Exited'])\n",
    "Y=churn_final['Exited'].copy()"
   ]
  },
  {
   "cell_type": "code",
   "execution_count": 106,
   "metadata": {},
   "outputs": [
    {
     "name": "stdout",
     "output_type": "stream",
     "text": [
      "(10000, 13) (10000,)\n"
     ]
    }
   ],
   "source": [
    "print(X.shape,Y.shape)"
   ]
  },
  {
   "cell_type": "code",
   "execution_count": 107,
   "metadata": {},
   "outputs": [],
   "source": [
    "X_stan=StandardScaler()"
   ]
  },
  {
   "cell_type": "code",
   "execution_count": 108,
   "metadata": {},
   "outputs": [],
   "source": [
    "X_stan=X_stan.fit_transform(X)"
   ]
  },
  {
   "cell_type": "code",
   "execution_count": 109,
   "metadata": {},
   "outputs": [],
   "source": [
    "X_stan=pd.DataFrame(X_stan,columns=X.columns)"
   ]
  },
  {
   "cell_type": "code",
   "execution_count": 110,
   "metadata": {},
   "outputs": [
    {
     "data": {
      "text/html": [
       "<div>\n",
       "<style scoped>\n",
       "    .dataframe tbody tr th:only-of-type {\n",
       "        vertical-align: middle;\n",
       "    }\n",
       "\n",
       "    .dataframe tbody tr th {\n",
       "        vertical-align: top;\n",
       "    }\n",
       "\n",
       "    .dataframe thead th {\n",
       "        text-align: right;\n",
       "    }\n",
       "</style>\n",
       "<table border=\"1\" class=\"dataframe\">\n",
       "  <thead>\n",
       "    <tr style=\"text-align: right;\">\n",
       "      <th></th>\n",
       "      <th>Geography_France</th>\n",
       "      <th>Geography_Germany</th>\n",
       "      <th>Geography_Spain</th>\n",
       "      <th>Gender_Female</th>\n",
       "      <th>Gender_Male</th>\n",
       "      <th>CreditScore</th>\n",
       "      <th>Age</th>\n",
       "      <th>Tenure</th>\n",
       "      <th>Balance</th>\n",
       "      <th>NumOfProducts</th>\n",
       "      <th>HasCrCard</th>\n",
       "      <th>IsActiveMember</th>\n",
       "      <th>EstimatedSalary</th>\n",
       "    </tr>\n",
       "  </thead>\n",
       "  <tbody>\n",
       "    <tr>\n",
       "      <th>0</th>\n",
       "      <td>0.997204</td>\n",
       "      <td>-0.578736</td>\n",
       "      <td>-0.573809</td>\n",
       "      <td>1.095988</td>\n",
       "      <td>-1.095988</td>\n",
       "      <td>-0.326221</td>\n",
       "      <td>0.293517</td>\n",
       "      <td>-1.041760</td>\n",
       "      <td>-1.225848</td>\n",
       "      <td>-0.911583</td>\n",
       "      <td>0.646092</td>\n",
       "      <td>0.970243</td>\n",
       "      <td>0.021886</td>\n",
       "    </tr>\n",
       "    <tr>\n",
       "      <th>1</th>\n",
       "      <td>-1.002804</td>\n",
       "      <td>-0.578736</td>\n",
       "      <td>1.742740</td>\n",
       "      <td>1.095988</td>\n",
       "      <td>-1.095988</td>\n",
       "      <td>-0.440036</td>\n",
       "      <td>0.198164</td>\n",
       "      <td>-1.387538</td>\n",
       "      <td>0.117350</td>\n",
       "      <td>-0.911583</td>\n",
       "      <td>-1.547768</td>\n",
       "      <td>0.970243</td>\n",
       "      <td>0.216534</td>\n",
       "    </tr>\n",
       "    <tr>\n",
       "      <th>2</th>\n",
       "      <td>0.997204</td>\n",
       "      <td>-0.578736</td>\n",
       "      <td>-0.573809</td>\n",
       "      <td>1.095988</td>\n",
       "      <td>-1.095988</td>\n",
       "      <td>-1.536794</td>\n",
       "      <td>0.293517</td>\n",
       "      <td>1.032908</td>\n",
       "      <td>1.333053</td>\n",
       "      <td>2.527057</td>\n",
       "      <td>0.646092</td>\n",
       "      <td>-1.030670</td>\n",
       "      <td>0.240687</td>\n",
       "    </tr>\n",
       "    <tr>\n",
       "      <th>3</th>\n",
       "      <td>0.997204</td>\n",
       "      <td>-0.578736</td>\n",
       "      <td>-0.573809</td>\n",
       "      <td>1.095988</td>\n",
       "      <td>-1.095988</td>\n",
       "      <td>0.501521</td>\n",
       "      <td>0.007457</td>\n",
       "      <td>-1.387538</td>\n",
       "      <td>-1.225848</td>\n",
       "      <td>0.807737</td>\n",
       "      <td>-1.547768</td>\n",
       "      <td>-1.030670</td>\n",
       "      <td>-0.108918</td>\n",
       "    </tr>\n",
       "    <tr>\n",
       "      <th>4</th>\n",
       "      <td>-1.002804</td>\n",
       "      <td>-0.578736</td>\n",
       "      <td>1.742740</td>\n",
       "      <td>1.095988</td>\n",
       "      <td>-1.095988</td>\n",
       "      <td>2.063884</td>\n",
       "      <td>0.388871</td>\n",
       "      <td>-1.041760</td>\n",
       "      <td>0.785728</td>\n",
       "      <td>-0.911583</td>\n",
       "      <td>0.646092</td>\n",
       "      <td>0.970243</td>\n",
       "      <td>-0.365276</td>\n",
       "    </tr>\n",
       "    <tr>\n",
       "      <th>...</th>\n",
       "      <td>...</td>\n",
       "      <td>...</td>\n",
       "      <td>...</td>\n",
       "      <td>...</td>\n",
       "      <td>...</td>\n",
       "      <td>...</td>\n",
       "      <td>...</td>\n",
       "      <td>...</td>\n",
       "      <td>...</td>\n",
       "      <td>...</td>\n",
       "      <td>...</td>\n",
       "      <td>...</td>\n",
       "      <td>...</td>\n",
       "    </tr>\n",
       "    <tr>\n",
       "      <th>9995</th>\n",
       "      <td>0.997204</td>\n",
       "      <td>-0.578736</td>\n",
       "      <td>-0.573809</td>\n",
       "      <td>-0.912419</td>\n",
       "      <td>0.912419</td>\n",
       "      <td>1.246488</td>\n",
       "      <td>0.007457</td>\n",
       "      <td>-0.004426</td>\n",
       "      <td>-1.225848</td>\n",
       "      <td>0.807737</td>\n",
       "      <td>0.646092</td>\n",
       "      <td>-1.030670</td>\n",
       "      <td>-0.066419</td>\n",
       "    </tr>\n",
       "    <tr>\n",
       "      <th>9996</th>\n",
       "      <td>0.997204</td>\n",
       "      <td>-0.578736</td>\n",
       "      <td>-0.573809</td>\n",
       "      <td>-0.912419</td>\n",
       "      <td>0.912419</td>\n",
       "      <td>-1.391939</td>\n",
       "      <td>-0.373958</td>\n",
       "      <td>1.724464</td>\n",
       "      <td>-0.306379</td>\n",
       "      <td>-0.911583</td>\n",
       "      <td>0.646092</td>\n",
       "      <td>0.970243</td>\n",
       "      <td>0.027988</td>\n",
       "    </tr>\n",
       "    <tr>\n",
       "      <th>9997</th>\n",
       "      <td>0.997204</td>\n",
       "      <td>-0.578736</td>\n",
       "      <td>-0.573809</td>\n",
       "      <td>1.095988</td>\n",
       "      <td>-1.095988</td>\n",
       "      <td>0.604988</td>\n",
       "      <td>-0.278604</td>\n",
       "      <td>0.687130</td>\n",
       "      <td>-1.225848</td>\n",
       "      <td>-0.911583</td>\n",
       "      <td>-1.547768</td>\n",
       "      <td>0.970243</td>\n",
       "      <td>-1.008643</td>\n",
       "    </tr>\n",
       "    <tr>\n",
       "      <th>9998</th>\n",
       "      <td>-1.002804</td>\n",
       "      <td>1.727904</td>\n",
       "      <td>-0.573809</td>\n",
       "      <td>-0.912419</td>\n",
       "      <td>0.912419</td>\n",
       "      <td>1.256835</td>\n",
       "      <td>0.293517</td>\n",
       "      <td>-0.695982</td>\n",
       "      <td>-0.022608</td>\n",
       "      <td>0.807737</td>\n",
       "      <td>0.646092</td>\n",
       "      <td>-1.030670</td>\n",
       "      <td>-0.125231</td>\n",
       "    </tr>\n",
       "    <tr>\n",
       "      <th>9999</th>\n",
       "      <td>0.997204</td>\n",
       "      <td>-0.578736</td>\n",
       "      <td>-0.573809</td>\n",
       "      <td>1.095988</td>\n",
       "      <td>-1.095988</td>\n",
       "      <td>1.463771</td>\n",
       "      <td>-1.041433</td>\n",
       "      <td>-0.350204</td>\n",
       "      <td>0.859965</td>\n",
       "      <td>-0.911583</td>\n",
       "      <td>0.646092</td>\n",
       "      <td>-1.030670</td>\n",
       "      <td>-1.076370</td>\n",
       "    </tr>\n",
       "  </tbody>\n",
       "</table>\n",
       "<p>10000 rows × 13 columns</p>\n",
       "</div>"
      ],
      "text/plain": [
       "      Geography_France  Geography_Germany  Geography_Spain  Gender_Female  \\\n",
       "0             0.997204          -0.578736        -0.573809       1.095988   \n",
       "1            -1.002804          -0.578736         1.742740       1.095988   \n",
       "2             0.997204          -0.578736        -0.573809       1.095988   \n",
       "3             0.997204          -0.578736        -0.573809       1.095988   \n",
       "4            -1.002804          -0.578736         1.742740       1.095988   \n",
       "...                ...                ...              ...            ...   \n",
       "9995          0.997204          -0.578736        -0.573809      -0.912419   \n",
       "9996          0.997204          -0.578736        -0.573809      -0.912419   \n",
       "9997          0.997204          -0.578736        -0.573809       1.095988   \n",
       "9998         -1.002804           1.727904        -0.573809      -0.912419   \n",
       "9999          0.997204          -0.578736        -0.573809       1.095988   \n",
       "\n",
       "      Gender_Male  CreditScore       Age    Tenure   Balance  NumOfProducts  \\\n",
       "0       -1.095988    -0.326221  0.293517 -1.041760 -1.225848      -0.911583   \n",
       "1       -1.095988    -0.440036  0.198164 -1.387538  0.117350      -0.911583   \n",
       "2       -1.095988    -1.536794  0.293517  1.032908  1.333053       2.527057   \n",
       "3       -1.095988     0.501521  0.007457 -1.387538 -1.225848       0.807737   \n",
       "4       -1.095988     2.063884  0.388871 -1.041760  0.785728      -0.911583   \n",
       "...           ...          ...       ...       ...       ...            ...   \n",
       "9995     0.912419     1.246488  0.007457 -0.004426 -1.225848       0.807737   \n",
       "9996     0.912419    -1.391939 -0.373958  1.724464 -0.306379      -0.911583   \n",
       "9997    -1.095988     0.604988 -0.278604  0.687130 -1.225848      -0.911583   \n",
       "9998     0.912419     1.256835  0.293517 -0.695982 -0.022608       0.807737   \n",
       "9999    -1.095988     1.463771 -1.041433 -0.350204  0.859965      -0.911583   \n",
       "\n",
       "      HasCrCard  IsActiveMember  EstimatedSalary  \n",
       "0      0.646092        0.970243         0.021886  \n",
       "1     -1.547768        0.970243         0.216534  \n",
       "2      0.646092       -1.030670         0.240687  \n",
       "3     -1.547768       -1.030670        -0.108918  \n",
       "4      0.646092        0.970243        -0.365276  \n",
       "...         ...             ...              ...  \n",
       "9995   0.646092       -1.030670        -0.066419  \n",
       "9996   0.646092        0.970243         0.027988  \n",
       "9997  -1.547768        0.970243        -1.008643  \n",
       "9998   0.646092       -1.030670        -0.125231  \n",
       "9999   0.646092       -1.030670        -1.076370  \n",
       "\n",
       "[10000 rows x 13 columns]"
      ]
     },
     "execution_count": 110,
     "metadata": {},
     "output_type": "execute_result"
    }
   ],
   "source": [
    "X_stan"
   ]
  },
  {
   "cell_type": "code",
   "execution_count": 111,
   "metadata": {},
   "outputs": [],
   "source": [
    "X_train, X_test, y_train, y_test = train_test_split(X,Y,test_size=0.2,random_state=5)"
   ]
  },
  {
   "cell_type": "code",
   "execution_count": 112,
   "metadata": {},
   "outputs": [
    {
     "data": {
      "text/plain": [
       "(8000, 13)"
      ]
     },
     "execution_count": 112,
     "metadata": {},
     "output_type": "execute_result"
    }
   ],
   "source": [
    "X_train.shape"
   ]
  },
  {
   "cell_type": "code",
   "execution_count": 113,
   "metadata": {},
   "outputs": [
    {
     "data": {
      "text/plain": [
       "(2000, 13)"
      ]
     },
     "execution_count": 113,
     "metadata": {},
     "output_type": "execute_result"
    }
   ],
   "source": [
    "X_test.shape"
   ]
  },
  {
   "cell_type": "code",
   "execution_count": 114,
   "metadata": {},
   "outputs": [
    {
     "name": "stdout",
     "output_type": "stream",
     "text": [
      "Epoch 1/100\n",
      "250/250 [==============================] - 1s 889us/step - loss: 545.1890 - accuracy: 0.6747\n",
      "Epoch 2/100\n",
      "250/250 [==============================] - 0s 892us/step - loss: 64.0207 - accuracy: 0.6811\n",
      "Epoch 3/100\n",
      "250/250 [==============================] - 0s 902us/step - loss: 58.4846 - accuracy: 0.6886\n",
      "Epoch 4/100\n",
      "250/250 [==============================] - 0s 903us/step - loss: 59.2384 - accuracy: 0.6865\n",
      "Epoch 5/100\n",
      "250/250 [==============================] - 0s 905us/step - loss: 47.3815 - accuracy: 0.6789\n",
      "Epoch 6/100\n",
      "250/250 [==============================] - 0s 903us/step - loss: 58.6537 - accuracy: 0.6846\n",
      "Epoch 7/100\n",
      "250/250 [==============================] - 0s 891us/step - loss: 41.7583 - accuracy: 0.6850\n",
      "Epoch 8/100\n",
      "250/250 [==============================] - 0s 921us/step - loss: 50.0249 - accuracy: 0.6852\n",
      "Epoch 9/100\n",
      "250/250 [==============================] - 0s 893us/step - loss: 53.9202 - accuracy: 0.6710\n",
      "Epoch 10/100\n",
      "250/250 [==============================] - 0s 892us/step - loss: 53.1536 - accuracy: 0.6841\n",
      "Epoch 11/100\n",
      "250/250 [==============================] - 0s 891us/step - loss: 59.7216 - accuracy: 0.6789\n",
      "Epoch 12/100\n",
      "250/250 [==============================] - 0s 906us/step - loss: 40.9746 - accuracy: 0.6837\n",
      "Epoch 13/100\n",
      "250/250 [==============================] - 0s 899us/step - loss: 46.6399 - accuracy: 0.6833\n",
      "Epoch 14/100\n",
      "250/250 [==============================] - 0s 893us/step - loss: 42.8077 - accuracy: 0.6804\n",
      "Epoch 15/100\n",
      "250/250 [==============================] - 0s 889us/step - loss: 37.0022 - accuracy: 0.6901\n",
      "Epoch 16/100\n",
      "250/250 [==============================] - 0s 885us/step - loss: 49.4584 - accuracy: 0.6784\n",
      "Epoch 17/100\n",
      "250/250 [==============================] - 0s 893us/step - loss: 42.4256 - accuracy: 0.6820\n",
      "Epoch 18/100\n",
      "250/250 [==============================] - 0s 883us/step - loss: 39.9865 - accuracy: 0.6859\n",
      "Epoch 19/100\n",
      "250/250 [==============================] - 0s 793us/step - loss: 40.4976 - accuracy: 0.6874\n",
      "Epoch 20/100\n",
      "250/250 [==============================] - 0s 805us/step - loss: 37.9768 - accuracy: 0.6774\n",
      "Epoch 21/100\n",
      "250/250 [==============================] - 0s 801us/step - loss: 31.7745 - accuracy: 0.6881\n",
      "Epoch 22/100\n",
      "250/250 [==============================] - 0s 857us/step - loss: 33.4606 - accuracy: 0.6867\n",
      "Epoch 23/100\n",
      "250/250 [==============================] - 0s 801us/step - loss: 33.0839 - accuracy: 0.6851\n",
      "Epoch 24/100\n",
      "250/250 [==============================] - 0s 789us/step - loss: 38.8952 - accuracy: 0.6787\n",
      "Epoch 25/100\n",
      "250/250 [==============================] - 0s 789us/step - loss: 43.7773 - accuracy: 0.6862\n",
      "Epoch 26/100\n",
      "250/250 [==============================] - 0s 841us/step - loss: 32.3591 - accuracy: 0.6885\n",
      "Epoch 27/100\n",
      "250/250 [==============================] - 0s 1ms/step - loss: 40.7755 - accuracy: 0.6883\n",
      "Epoch 28/100\n",
      "250/250 [==============================] - 0s 969us/step - loss: 41.9774 - accuracy: 0.6800\n",
      "Epoch 29/100\n",
      "250/250 [==============================] - 0s 917us/step - loss: 40.2030 - accuracy: 0.6886\n",
      "Epoch 30/100\n",
      "250/250 [==============================] - 0s 1ms/step - loss: 33.5060 - accuracy: 0.6895\n",
      "Epoch 31/100\n",
      "250/250 [==============================] - 0s 1ms/step - loss: 38.2022 - accuracy: 0.6827\n",
      "Epoch 32/100\n",
      "250/250 [==============================] - 0s 961us/step - loss: 31.9672 - accuracy: 0.6836\n",
      "Epoch 33/100\n",
      "250/250 [==============================] - 0s 925us/step - loss: 34.6318 - accuracy: 0.6900\n",
      "Epoch 34/100\n",
      "250/250 [==============================] - 0s 965us/step - loss: 28.3502 - accuracy: 0.6911\n",
      "Epoch 35/100\n",
      "250/250 [==============================] - 0s 881us/step - loss: 34.5622 - accuracy: 0.6938\n",
      "Epoch 36/100\n",
      "250/250 [==============================] - 0s 965us/step - loss: 41.6530 - accuracy: 0.6864\n",
      "Epoch 37/100\n",
      "250/250 [==============================] - 0s 797us/step - loss: 31.4943 - accuracy: 0.6883\n",
      "Epoch 38/100\n",
      "250/250 [==============================] - 0s 905us/step - loss: 34.6172 - accuracy: 0.6954\n",
      "Epoch 39/100\n",
      "250/250 [==============================] - 0s 957us/step - loss: 31.8319 - accuracy: 0.6898\n",
      "Epoch 40/100\n",
      "250/250 [==============================] - 0s 969us/step - loss: 24.7809 - accuracy: 0.6921\n",
      "Epoch 41/100\n",
      "250/250 [==============================] - 0s 793us/step - loss: 33.5919 - accuracy: 0.6860\n",
      "Epoch 42/100\n",
      "250/250 [==============================] - 0s 793us/step - loss: 32.0703 - accuracy: 0.6904\n",
      "Epoch 43/100\n",
      "250/250 [==============================] - 0s 793us/step - loss: 31.4956 - accuracy: 0.6861\n",
      "Epoch 44/100\n",
      "250/250 [==============================] - 0s 789us/step - loss: 33.1599 - accuracy: 0.6895\n",
      "Epoch 45/100\n",
      "250/250 [==============================] - 0s 805us/step - loss: 25.0230 - accuracy: 0.6894\n",
      "Epoch 46/100\n",
      "250/250 [==============================] - 0s 813us/step - loss: 29.4435 - accuracy: 0.6916\n",
      "Epoch 47/100\n",
      "250/250 [==============================] - 0s 885us/step - loss: 27.4716 - accuracy: 0.6875\n",
      "Epoch 48/100\n",
      "250/250 [==============================] - 0s 849us/step - loss: 27.4913 - accuracy: 0.6902\n",
      "Epoch 49/100\n",
      "250/250 [==============================] - 0s 861us/step - loss: 25.4022 - accuracy: 0.6942\n",
      "Epoch 50/100\n",
      "250/250 [==============================] - 0s 857us/step - loss: 28.9864 - accuracy: 0.6890\n",
      "Epoch 51/100\n",
      "250/250 [==============================] - 0s 865us/step - loss: 29.2845 - accuracy: 0.6880\n",
      "Epoch 52/100\n",
      "250/250 [==============================] - 0s 885us/step - loss: 35.5775 - accuracy: 0.6831\n",
      "Epoch 53/100\n",
      "250/250 [==============================] - 0s 893us/step - loss: 36.7864 - accuracy: 0.6861\n",
      "Epoch 54/100\n",
      "250/250 [==============================] - 0s 865us/step - loss: 24.5393 - accuracy: 0.6944\n",
      "Epoch 55/100\n",
      "250/250 [==============================] - 0s 789us/step - loss: 27.7808 - accuracy: 0.6940\n",
      "Epoch 56/100\n",
      "250/250 [==============================] - 0s 813us/step - loss: 28.1834 - accuracy: 0.6831\n",
      "Epoch 57/100\n",
      "250/250 [==============================] - 0s 853us/step - loss: 29.2137 - accuracy: 0.6895\n",
      "Epoch 58/100\n",
      "250/250 [==============================] - 0s 865us/step - loss: 29.5493 - accuracy: 0.6898\n",
      "Epoch 59/100\n",
      "250/250 [==============================] - 0s 877us/step - loss: 28.6552 - accuracy: 0.6900\n",
      "Epoch 60/100\n",
      "250/250 [==============================] - 0s 877us/step - loss: 24.6182 - accuracy: 0.6934\n",
      "Epoch 61/100\n",
      "250/250 [==============================] - 0s 865us/step - loss: 22.0201 - accuracy: 0.6886\n",
      "Epoch 62/100\n",
      "250/250 [==============================] - 0s 881us/step - loss: 19.5627 - accuracy: 0.6971\n",
      "Epoch 63/100\n",
      "250/250 [==============================] - 0s 869us/step - loss: 33.5630 - accuracy: 0.6883\n",
      "Epoch 64/100\n",
      "250/250 [==============================] - 0s 869us/step - loss: 33.3762 - accuracy: 0.6890\n",
      "Epoch 65/100\n",
      "250/250 [==============================] - 0s 857us/step - loss: 21.9495 - accuracy: 0.6954\n",
      "Epoch 66/100\n",
      "250/250 [==============================] - 0s 873us/step - loss: 22.6377 - accuracy: 0.6941\n",
      "Epoch 67/100\n",
      "250/250 [==============================] - 0s 873us/step - loss: 25.9229 - accuracy: 0.6914\n",
      "Epoch 68/100\n",
      "250/250 [==============================] - 0s 869us/step - loss: 25.3470 - accuracy: 0.6886\n",
      "Epoch 69/100\n",
      "250/250 [==============================] - 0s 913us/step - loss: 30.6672 - accuracy: 0.6898\n",
      "Epoch 70/100\n",
      "250/250 [==============================] - 0s 845us/step - loss: 25.9181 - accuracy: 0.6964\n",
      "Epoch 71/100\n",
      "250/250 [==============================] - 0s 869us/step - loss: 22.9161 - accuracy: 0.6900\n",
      "Epoch 72/100\n",
      "250/250 [==============================] - 0s 861us/step - loss: 25.2904 - accuracy: 0.6896\n",
      "Epoch 73/100\n",
      "250/250 [==============================] - 0s 797us/step - loss: 23.1252 - accuracy: 0.6976\n",
      "Epoch 74/100\n",
      "250/250 [==============================] - 0s 805us/step - loss: 30.2591 - accuracy: 0.6845\n",
      "Epoch 75/100\n",
      "250/250 [==============================] - 0s 861us/step - loss: 19.8461 - accuracy: 0.6951\n",
      "Epoch 76/100\n",
      "250/250 [==============================] - 0s 829us/step - loss: 23.0111 - accuracy: 0.6902\n",
      "Epoch 77/100\n",
      "250/250 [==============================] - 0s 857us/step - loss: 27.4461 - accuracy: 0.6914\n",
      "Epoch 78/100\n",
      "250/250 [==============================] - 0s 845us/step - loss: 33.0316 - accuracy: 0.6830\n",
      "Epoch 79/100\n",
      "250/250 [==============================] - 0s 961us/step - loss: 21.1840 - accuracy: 0.6941\n",
      "Epoch 80/100\n",
      "250/250 [==============================] - 0s 825us/step - loss: 24.0184 - accuracy: 0.6954\n",
      "Epoch 81/100\n",
      "250/250 [==============================] - 0s 901us/step - loss: 20.7906 - accuracy: 0.6924\n",
      "Epoch 82/100\n",
      "250/250 [==============================] - 0s 865us/step - loss: 19.3723 - accuracy: 0.7003\n",
      "Epoch 83/100\n",
      "250/250 [==============================] - 0s 813us/step - loss: 20.3712 - accuracy: 0.6936\n",
      "Epoch 84/100\n",
      "250/250 [==============================] - 0s 913us/step - loss: 23.6754 - accuracy: 0.6854\n",
      "Epoch 85/100\n",
      "250/250 [==============================] - 0s 969us/step - loss: 20.4160 - accuracy: 0.6994\n",
      "Epoch 86/100\n",
      "250/250 [==============================] - 0s 981us/step - loss: 17.3847 - accuracy: 0.6954\n",
      "Epoch 87/100\n",
      "250/250 [==============================] - 0s 1ms/step - loss: 16.7457 - accuracy: 0.6989\n",
      "Epoch 88/100\n",
      "250/250 [==============================] - 0s 881us/step - loss: 19.9266 - accuracy: 0.6955\n",
      "Epoch 89/100\n",
      "250/250 [==============================] - 0s 893us/step - loss: 19.1453 - accuracy: 0.6859\n",
      "Epoch 90/100\n",
      "250/250 [==============================] - 0s 1ms/step - loss: 24.1558 - accuracy: 0.6916\n",
      "Epoch 91/100\n",
      "250/250 [==============================] - 0s 1ms/step - loss: 16.4738 - accuracy: 0.6975\n",
      "Epoch 92/100\n",
      "250/250 [==============================] - 0s 829us/step - loss: 21.5033 - accuracy: 0.6917\n",
      "Epoch 93/100\n",
      "250/250 [==============================] - 0s 973us/step - loss: 20.9346 - accuracy: 0.6956\n",
      "Epoch 94/100\n",
      "250/250 [==============================] - 0s 1ms/step - loss: 19.7232 - accuracy: 0.6936\n",
      "Epoch 95/100\n",
      "250/250 [==============================] - 0s 941us/step - loss: 18.4702 - accuracy: 0.6998\n",
      "Epoch 96/100\n",
      "250/250 [==============================] - 0s 913us/step - loss: 16.4468 - accuracy: 0.6948\n",
      "Epoch 97/100\n",
      "250/250 [==============================] - 0s 877us/step - loss: 14.4053 - accuracy: 0.6956\n",
      "Epoch 98/100\n",
      "250/250 [==============================] - 0s 901us/step - loss: 16.8687 - accuracy: 0.6926\n",
      "Epoch 99/100\n",
      "250/250 [==============================] - 0s 2ms/step - loss: 15.4447 - accuracy: 0.6919\n",
      "Epoch 100/100\n",
      "250/250 [==============================] - 0s 805us/step - loss: 15.7398 - accuracy: 0.6910\n"
     ]
    },
    {
     "data": {
      "text/plain": [
       "<keras.callbacks.History at 0x198e5198490>"
      ]
     },
     "execution_count": 114,
     "metadata": {},
     "output_type": "execute_result"
    }
   ],
   "source": [
    "model = Sequential([\n",
    "    keras.layers.Dense(26, input_shape=(13,), activation='relu'),\n",
    "    keras.layers.Dense(15, activation='relu'),\n",
    "    keras.layers.Dense(1, activation='sigmoid')\n",
    "])\n",
    "\n",
    "# opt = keras.optimizers.Adam(learning_rate=0.01)\n",
    "\n",
    "model.compile(optimizer='adam',\n",
    "              loss='binary_crossentropy',\n",
    "              metrics=['accuracy'])\n",
    "\n",
    "model.fit(X_train, y_train, epochs=100)"
   ]
  },
  {
   "cell_type": "code",
   "execution_count": 115,
   "metadata": {},
   "outputs": [
    {
     "name": "stdout",
     "output_type": "stream",
     "text": [
      "63/63 [==============================] - 0s 727us/step - loss: 13.0771 - accuracy: 0.7940\n"
     ]
    },
    {
     "data": {
      "text/plain": [
       "[13.077105522155762, 0.7940000295639038]"
      ]
     },
     "execution_count": 115,
     "metadata": {},
     "output_type": "execute_result"
    }
   ],
   "source": [
    "model.evaluate(X_test, y_test)"
   ]
  },
  {
   "cell_type": "code",
   "execution_count": 116,
   "metadata": {},
   "outputs": [],
   "source": [
    "\n",
    "yp = model.predict(X_test)"
   ]
  },
  {
   "cell_type": "code",
   "execution_count": 117,
   "metadata": {},
   "outputs": [],
   "source": [
    "y_pred = []\n",
    "for element in yp:\n",
    "    if element > 0.5:\n",
    "        y_pred.append(1)\n",
    "    else:\n",
    "        y_pred.append(0)"
   ]
  },
  {
   "cell_type": "code",
   "execution_count": 118,
   "metadata": {},
   "outputs": [
    {
     "data": {
      "text/plain": [
       "[0, 0, 0, 0, 0, 0, 0, 0, 0, 0]"
      ]
     },
     "execution_count": 118,
     "metadata": {},
     "output_type": "execute_result"
    }
   ],
   "source": [
    "y_pred[:10]"
   ]
  },
  {
   "cell_type": "code",
   "execution_count": 119,
   "metadata": {},
   "outputs": [
    {
     "data": {
      "text/plain": [
       "7054    0\n",
       "442     0\n",
       "3954    0\n",
       "2288    0\n",
       "3196    0\n",
       "6178    0\n",
       "8351    0\n",
       "5658    1\n",
       "2065    0\n",
       "413     1\n",
       "Name: Exited, dtype: int64"
      ]
     },
     "execution_count": 119,
     "metadata": {},
     "output_type": "execute_result"
    }
   ],
   "source": [
    "y_test[:10]"
   ]
  },
  {
   "cell_type": "code",
   "execution_count": 120,
   "metadata": {},
   "outputs": [
    {
     "name": "stdout",
     "output_type": "stream",
     "text": [
      "              precision    recall  f1-score   support\n",
      "\n",
      "           0       0.80      0.99      0.88      1595\n",
      "           1       0.23      0.01      0.01       405\n",
      "\n",
      "    accuracy                           0.79      2000\n",
      "   macro avg       0.51      0.50      0.45      2000\n",
      "weighted avg       0.68      0.79      0.71      2000\n",
      "\n",
      "[[1585   10]\n",
      " [ 402    3]]\n"
     ]
    }
   ],
   "source": [
    "print(classification_report(y_test,y_pred))\n",
    "print(confusion_matrix(y_test,y_pred))"
   ]
  },
  {
   "cell_type": "code",
   "execution_count": 121,
   "metadata": {},
   "outputs": [],
   "source": [
    "#lets try keras tuner to get optimal number of layers and neurons in each layer.\n",
    "def build_model(hp):\n",
    "    model = keras.Sequential()\n",
    "    for i in range(hp.Int('num_layers', 2, 20)):\n",
    "        model.add(Dense(units=hp.Int('units_' + str(i),\n",
    "                                            min_value=32,\n",
    "                                            max_value=512,\n",
    "                                            step=32),\n",
    "                               activation='relu'))\n",
    "    model.add(Dense(1, activation='sigmoid'))\n",
    "    model.compile(\n",
    "        optimizer=keras.optimizers.Adam(\n",
    "            hp.Choice('learning_rate', [1e-2, 1e-3, 1e-4])),\n",
    "        loss='binary_crossentropy',\n",
    "        metrics=['accuracy'])\n",
    "    return model"
   ]
  },
  {
   "cell_type": "code",
   "execution_count": 122,
   "metadata": {},
   "outputs": [
    {
     "name": "stdout",
     "output_type": "stream",
     "text": [
      "INFO:tensorflow:Reloading Oracle from existing project .\\untitled_project\\oracle.json\n",
      "INFO:tensorflow:Reloading Tuner from .\\untitled_project\\tuner0.json\n"
     ]
    }
   ],
   "source": [
    "tuner = kt.RandomSearch(\n",
    "    build_model,\n",
    "    objective='val_loss',\n",
    "    max_trials=5)"
   ]
  },
  {
   "cell_type": "code",
   "execution_count": 123,
   "metadata": {},
   "outputs": [
    {
     "name": "stdout",
     "output_type": "stream",
     "text": [
      "Search space summary\n",
      "Default search space size: 13\n",
      "num_layers (Int)\n",
      "{'default': None, 'conditions': [], 'min_value': 2, 'max_value': 20, 'step': 1, 'sampling': None}\n",
      "units_0 (Int)\n",
      "{'default': None, 'conditions': [], 'min_value': 32, 'max_value': 512, 'step': 32, 'sampling': None}\n",
      "units_1 (Int)\n",
      "{'default': None, 'conditions': [], 'min_value': 32, 'max_value': 512, 'step': 32, 'sampling': None}\n",
      "learning_rate (Choice)\n",
      "{'default': 0.01, 'conditions': [], 'values': [0.01, 0.001, 0.0001], 'ordered': True}\n",
      "units_2 (Int)\n",
      "{'default': None, 'conditions': [], 'min_value': 32, 'max_value': 512, 'step': 32, 'sampling': None}\n",
      "units_3 (Int)\n",
      "{'default': None, 'conditions': [], 'min_value': 32, 'max_value': 512, 'step': 32, 'sampling': None}\n",
      "units_4 (Int)\n",
      "{'default': None, 'conditions': [], 'min_value': 32, 'max_value': 512, 'step': 32, 'sampling': None}\n",
      "units_5 (Int)\n",
      "{'default': None, 'conditions': [], 'min_value': 32, 'max_value': 512, 'step': 32, 'sampling': None}\n",
      "units_6 (Int)\n",
      "{'default': None, 'conditions': [], 'min_value': 32, 'max_value': 512, 'step': 32, 'sampling': None}\n",
      "units_7 (Int)\n",
      "{'default': None, 'conditions': [], 'min_value': 32, 'max_value': 512, 'step': 32, 'sampling': None}\n",
      "units_8 (Int)\n",
      "{'default': None, 'conditions': [], 'min_value': 32, 'max_value': 512, 'step': 32, 'sampling': None}\n",
      "units_9 (Int)\n",
      "{'default': None, 'conditions': [], 'min_value': 32, 'max_value': 512, 'step': 32, 'sampling': None}\n",
      "units_10 (Int)\n",
      "{'default': None, 'conditions': [], 'min_value': 32, 'max_value': 512, 'step': 32, 'sampling': None}\n"
     ]
    }
   ],
   "source": [
    "tuner.search_space_summary()"
   ]
  },
  {
   "cell_type": "code",
   "execution_count": 124,
   "metadata": {},
   "outputs": [
    {
     "name": "stdout",
     "output_type": "stream",
     "text": [
      "INFO:tensorflow:Oracle triggered exit\n"
     ]
    }
   ],
   "source": [
    "tuner.search(X_train, y_train, epochs=5, validation_data=(X_test, y_test))"
   ]
  },
  {
   "cell_type": "code",
   "execution_count": 132,
   "metadata": {},
   "outputs": [],
   "source": [
    "best_model=tuner.get_best_models()[0]"
   ]
  },
  {
   "cell_type": "code",
   "execution_count": 136,
   "metadata": {},
   "outputs": [],
   "source": [
    "yp_tuner=best_model.predict(X_test)"
   ]
  },
  {
   "cell_type": "code",
   "execution_count": 137,
   "metadata": {},
   "outputs": [],
   "source": [
    "y_pred_tuner = []\n",
    "for element in yp_tuner:\n",
    "    if element > 0.5:\n",
    "        y_pred_tuner.append(1)\n",
    "    else:\n",
    "        y_pred_tuner.append(0)"
   ]
  },
  {
   "cell_type": "code",
   "execution_count": 138,
   "metadata": {},
   "outputs": [
    {
     "name": "stdout",
     "output_type": "stream",
     "text": [
      "              precision    recall  f1-score   support\n",
      "\n",
      "           0       0.80      1.00      0.89      1595\n",
      "           1       0.00      0.00      0.00       405\n",
      "\n",
      "    accuracy                           0.80      2000\n",
      "   macro avg       0.40      0.50      0.44      2000\n",
      "weighted avg       0.64      0.80      0.71      2000\n",
      "\n"
     ]
    },
    {
     "name": "stderr",
     "output_type": "stream",
     "text": [
      "e:\\projects\\Churn_Prediction_ANN\\venv\\lib\\site-packages\\sklearn\\metrics\\_classification.py:1308: UndefinedMetricWarning: Precision and F-score are ill-defined and being set to 0.0 in labels with no predicted samples. Use `zero_division` parameter to control this behavior.\n",
      "  _warn_prf(average, modifier, msg_start, len(result))\n",
      "e:\\projects\\Churn_Prediction_ANN\\venv\\lib\\site-packages\\sklearn\\metrics\\_classification.py:1308: UndefinedMetricWarning: Precision and F-score are ill-defined and being set to 0.0 in labels with no predicted samples. Use `zero_division` parameter to control this behavior.\n",
      "  _warn_prf(average, modifier, msg_start, len(result))\n",
      "e:\\projects\\Churn_Prediction_ANN\\venv\\lib\\site-packages\\sklearn\\metrics\\_classification.py:1308: UndefinedMetricWarning: Precision and F-score are ill-defined and being set to 0.0 in labels with no predicted samples. Use `zero_division` parameter to control this behavior.\n",
      "  _warn_prf(average, modifier, msg_start, len(result))\n"
     ]
    }
   ],
   "source": [
    "print(classification_report(y_test,y_pred_tuner))"
   ]
  },
  {
   "cell_type": "code",
   "execution_count": 139,
   "metadata": {},
   "outputs": [],
   "source": [
    "#we can clearly see that by tuning our Neural Net gives us better accuracy."
   ]
  },
  {
   "cell_type": "code",
   "execution_count": null,
   "metadata": {},
   "outputs": [],
   "source": []
  }
 ],
 "metadata": {
  "interpreter": {
   "hash": "b98411bc5430d9a045270c01b890e319d165298e17203136cf6ecf4e0478ca29"
  },
  "kernelspec": {
   "display_name": "Python 3.8.8 64-bit ('venv': venv)",
   "language": "python",
   "name": "python3"
  },
  "language_info": {
   "codemirror_mode": {
    "name": "ipython",
    "version": 3
   },
   "file_extension": ".py",
   "mimetype": "text/x-python",
   "name": "python",
   "nbconvert_exporter": "python",
   "pygments_lexer": "ipython3",
   "version": "3.8.8"
  },
  "orig_nbformat": 4
 },
 "nbformat": 4,
 "nbformat_minor": 2
}
