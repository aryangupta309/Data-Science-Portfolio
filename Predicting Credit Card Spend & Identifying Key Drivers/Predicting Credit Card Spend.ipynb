{
 "cells": [
  {
   "cell_type": "markdown",
   "id": "d0862f9b",
   "metadata": {},
   "source": [
    "# Predicting Credit Card Spend"
   ]
  },
  {
   "cell_type": "markdown",
   "id": "f3a2f7e9",
   "metadata": {},
   "source": [
    "# Problem Statement:\n",
    "\n",
    "One of the global banks would like to understand what factors driving credit card spend are. The bank want use these insights to calculate credit limit. In order to solve the problem, the bank conducted survey of 5000 customers and collected data. The objective of to understand what's driving the total spend (Primary Card + Secondary card). Given the factors, predict credit limit for the new applicants"
   ]
  },
  {
   "cell_type": "markdown",
   "id": "0190244a",
   "metadata": {},
   "source": [
    "### Importing Libraries "
   ]
  },
  {
   "cell_type": "code",
   "execution_count": 1,
   "id": "7742bcf2",
   "metadata": {},
   "outputs": [],
   "source": [
    "import pandas as pd\n",
    "import numpy as np\n",
    "\n",
    "from pandas_profiling import ProfileReport\n",
    "\n",
    "import matplotlib.pyplot as plt\n",
    "import seaborn as sns\n",
    "%matplotlib inline\n",
    "\n",
    "import statsmodels.formula.api as smf\n",
    "\n",
    "from sklearn.neighbors import KNeighborsRegressor\n",
    "from sklearn.tree import DecisionTreeRegressor\n",
    "from sklearn.ensemble import RandomForestRegressor\n",
    "from xgboost import XGBRegressor\n",
    "from sklearn.svm import SVR\n",
    "\n",
    "from sklearn.model_selection import train_test_split\n",
    "from sklearn.decomposition import PCA\n",
    "from sklearn.feature_selection import RFE, f_regression\n",
    "from sklearn.model_selection import GridSearchCV\n",
    "from sklearn.preprocessing import StandardScaler, MinMaxScaler\n",
    "from statsmodels.stats.outliers_influence import variance_inflation_factor\n",
    "from sklearn import metrics\n",
    "\n",
    "import warnings\n",
    "warnings.filterwarnings('ignore')"
   ]
  },
  {
   "cell_type": "markdown",
   "id": "149117eb",
   "metadata": {},
   "source": [
    "### Getting Data Imported"
   ]
  },
  {
   "cell_type": "code",
   "execution_count": 2,
   "id": "602bfee9",
   "metadata": {},
   "outputs": [],
   "source": [
    "data=pd.read_excel(\"Data Set.xlsx\")"
   ]
  },
  {
   "cell_type": "code",
   "execution_count": 3,
   "id": "469b8c7c",
   "metadata": {},
   "outputs": [
    {
     "name": "stdout",
     "output_type": "stream",
     "text": [
      "<class 'pandas.core.frame.DataFrame'>\n",
      "RangeIndex: 5000 entries, 0 to 4999\n",
      "Columns: 130 entries, custid to response_03\n",
      "dtypes: float64(31), int64(97), object(2)\n",
      "memory usage: 5.0+ MB\n"
     ]
    }
   ],
   "source": [
    "data.info()"
   ]
  },
  {
   "cell_type": "code",
   "execution_count": 4,
   "id": "e8a510a0",
   "metadata": {},
   "outputs": [
    {
     "data": {
      "text/html": [
       "<div>\n",
       "<style scoped>\n",
       "    .dataframe tbody tr th:only-of-type {\n",
       "        vertical-align: middle;\n",
       "    }\n",
       "\n",
       "    .dataframe tbody tr th {\n",
       "        vertical-align: top;\n",
       "    }\n",
       "\n",
       "    .dataframe thead th {\n",
       "        text-align: right;\n",
       "    }\n",
       "</style>\n",
       "<table border=\"1\" class=\"dataframe\">\n",
       "  <thead>\n",
       "    <tr style=\"text-align: right;\">\n",
       "      <th></th>\n",
       "      <th>count</th>\n",
       "      <th>mean</th>\n",
       "      <th>std</th>\n",
       "      <th>min</th>\n",
       "      <th>25%</th>\n",
       "      <th>50%</th>\n",
       "      <th>75%</th>\n",
       "      <th>max</th>\n",
       "    </tr>\n",
       "  </thead>\n",
       "  <tbody>\n",
       "    <tr>\n",
       "      <th>region</th>\n",
       "      <td>5000.0</td>\n",
       "      <td>3.001400</td>\n",
       "      <td>1.421760</td>\n",
       "      <td>1.0</td>\n",
       "      <td>2.0</td>\n",
       "      <td>3.0</td>\n",
       "      <td>4.0</td>\n",
       "      <td>5.0</td>\n",
       "    </tr>\n",
       "    <tr>\n",
       "      <th>townsize</th>\n",
       "      <td>4998.0</td>\n",
       "      <td>2.687275</td>\n",
       "      <td>1.425925</td>\n",
       "      <td>1.0</td>\n",
       "      <td>1.0</td>\n",
       "      <td>3.0</td>\n",
       "      <td>4.0</td>\n",
       "      <td>5.0</td>\n",
       "    </tr>\n",
       "    <tr>\n",
       "      <th>gender</th>\n",
       "      <td>5000.0</td>\n",
       "      <td>0.503600</td>\n",
       "      <td>0.500037</td>\n",
       "      <td>0.0</td>\n",
       "      <td>0.0</td>\n",
       "      <td>1.0</td>\n",
       "      <td>1.0</td>\n",
       "      <td>1.0</td>\n",
       "    </tr>\n",
       "    <tr>\n",
       "      <th>age</th>\n",
       "      <td>5000.0</td>\n",
       "      <td>47.025600</td>\n",
       "      <td>17.770338</td>\n",
       "      <td>18.0</td>\n",
       "      <td>31.0</td>\n",
       "      <td>47.0</td>\n",
       "      <td>62.0</td>\n",
       "      <td>79.0</td>\n",
       "    </tr>\n",
       "    <tr>\n",
       "      <th>agecat</th>\n",
       "      <td>5000.0</td>\n",
       "      <td>4.238800</td>\n",
       "      <td>1.308785</td>\n",
       "      <td>2.0</td>\n",
       "      <td>3.0</td>\n",
       "      <td>4.0</td>\n",
       "      <td>5.0</td>\n",
       "      <td>6.0</td>\n",
       "    </tr>\n",
       "    <tr>\n",
       "      <th>...</th>\n",
       "      <td>...</td>\n",
       "      <td>...</td>\n",
       "      <td>...</td>\n",
       "      <td>...</td>\n",
       "      <td>...</td>\n",
       "      <td>...</td>\n",
       "      <td>...</td>\n",
       "      <td>...</td>\n",
       "    </tr>\n",
       "    <tr>\n",
       "      <th>ownfax</th>\n",
       "      <td>5000.0</td>\n",
       "      <td>0.178800</td>\n",
       "      <td>0.383223</td>\n",
       "      <td>0.0</td>\n",
       "      <td>0.0</td>\n",
       "      <td>0.0</td>\n",
       "      <td>0.0</td>\n",
       "      <td>1.0</td>\n",
       "    </tr>\n",
       "    <tr>\n",
       "      <th>news</th>\n",
       "      <td>5000.0</td>\n",
       "      <td>0.472600</td>\n",
       "      <td>0.499299</td>\n",
       "      <td>0.0</td>\n",
       "      <td>0.0</td>\n",
       "      <td>0.0</td>\n",
       "      <td>1.0</td>\n",
       "      <td>1.0</td>\n",
       "    </tr>\n",
       "    <tr>\n",
       "      <th>response_01</th>\n",
       "      <td>5000.0</td>\n",
       "      <td>0.083600</td>\n",
       "      <td>0.276815</td>\n",
       "      <td>0.0</td>\n",
       "      <td>0.0</td>\n",
       "      <td>0.0</td>\n",
       "      <td>0.0</td>\n",
       "      <td>1.0</td>\n",
       "    </tr>\n",
       "    <tr>\n",
       "      <th>response_02</th>\n",
       "      <td>5000.0</td>\n",
       "      <td>0.129800</td>\n",
       "      <td>0.336117</td>\n",
       "      <td>0.0</td>\n",
       "      <td>0.0</td>\n",
       "      <td>0.0</td>\n",
       "      <td>0.0</td>\n",
       "      <td>1.0</td>\n",
       "    </tr>\n",
       "    <tr>\n",
       "      <th>response_03</th>\n",
       "      <td>5000.0</td>\n",
       "      <td>0.102600</td>\n",
       "      <td>0.303466</td>\n",
       "      <td>0.0</td>\n",
       "      <td>0.0</td>\n",
       "      <td>0.0</td>\n",
       "      <td>0.0</td>\n",
       "      <td>1.0</td>\n",
       "    </tr>\n",
       "  </tbody>\n",
       "</table>\n",
       "<p>128 rows × 8 columns</p>\n",
       "</div>"
      ],
      "text/plain": [
       "              count       mean        std   min   25%   50%   75%   max\n",
       "region       5000.0   3.001400   1.421760   1.0   2.0   3.0   4.0   5.0\n",
       "townsize     4998.0   2.687275   1.425925   1.0   1.0   3.0   4.0   5.0\n",
       "gender       5000.0   0.503600   0.500037   0.0   0.0   1.0   1.0   1.0\n",
       "age          5000.0  47.025600  17.770338  18.0  31.0  47.0  62.0  79.0\n",
       "agecat       5000.0   4.238800   1.308785   2.0   3.0   4.0   5.0   6.0\n",
       "...             ...        ...        ...   ...   ...   ...   ...   ...\n",
       "ownfax       5000.0   0.178800   0.383223   0.0   0.0   0.0   0.0   1.0\n",
       "news         5000.0   0.472600   0.499299   0.0   0.0   0.0   1.0   1.0\n",
       "response_01  5000.0   0.083600   0.276815   0.0   0.0   0.0   0.0   1.0\n",
       "response_02  5000.0   0.129800   0.336117   0.0   0.0   0.0   0.0   1.0\n",
       "response_03  5000.0   0.102600   0.303466   0.0   0.0   0.0   0.0   1.0\n",
       "\n",
       "[128 rows x 8 columns]"
      ]
     },
     "execution_count": 4,
     "metadata": {},
     "output_type": "execute_result"
    }
   ],
   "source": [
    "data.describe().T"
   ]
  },
  {
   "cell_type": "markdown",
   "id": "7f89b310",
   "metadata": {},
   "source": [
    "### Generating Profile Report for Data Understanding"
   ]
  },
  {
   "cell_type": "code",
   "execution_count": 5,
   "id": "c0ca8a25",
   "metadata": {},
   "outputs": [],
   "source": [
    "# profile_report=ProfileReport(data)"
   ]
  },
  {
   "cell_type": "code",
   "execution_count": 6,
   "id": "4e19ef74",
   "metadata": {},
   "outputs": [],
   "source": [
    "# profile_report.to_file('profile_report.html')"
   ]
  },
  {
   "cell_type": "markdown",
   "id": "7ba4b11f",
   "metadata": {},
   "source": [
    "### Target variable = cardspent + card2spent"
   ]
  },
  {
   "cell_type": "code",
   "execution_count": 7,
   "id": "635495a7",
   "metadata": {},
   "outputs": [],
   "source": [
    "Y=data['cardspent']+data['card2spent']"
   ]
  },
  {
   "cell_type": "code",
   "execution_count": 8,
   "id": "86d4b338",
   "metadata": {},
   "outputs": [],
   "source": [
    "Y.name='Card_Spend'"
   ]
  },
  {
   "cell_type": "code",
   "execution_count": 9,
   "id": "9778868d",
   "metadata": {},
   "outputs": [
    {
     "data": {
      "text/plain": [
       "0    149.46\n",
       "1     77.54\n",
       "2    359.97\n",
       "3    359.41\n",
       "4    507.83\n",
       "Name: Card_Spend, dtype: float64"
      ]
     },
     "execution_count": 9,
     "metadata": {},
     "output_type": "execute_result"
    }
   ],
   "source": [
    "Y.head()"
   ]
  },
  {
   "cell_type": "code",
   "execution_count": 10,
   "id": "8037a836",
   "metadata": {},
   "outputs": [],
   "source": [
    "#removing extra column\n",
    "data.drop(columns=['card2spent','cardspent'],inplace=True)"
   ]
  },
  {
   "cell_type": "code",
   "execution_count": 11,
   "id": "28b1ddd4",
   "metadata": {},
   "outputs": [
    {
     "data": {
      "text/plain": [
       "0"
      ]
     },
     "execution_count": 11,
     "metadata": {},
     "output_type": "execute_result"
    }
   ],
   "source": [
    "#Checking for duplicate records\n",
    "data.duplicated().sum()"
   ]
  },
  {
   "cell_type": "code",
   "execution_count": 12,
   "id": "937a9ce5",
   "metadata": {},
   "outputs": [
    {
     "data": {
      "image/png": "[encoded data removed]",
      "text/plain": [
       "<Figure size 720x360 with 1 Axes>"
      ]
     },
     "metadata": {
      "needs_background": "light"
     },
     "output_type": "display_data"
    }
   ],
   "source": [
    "plt.figure(figsize=(10,5))\n",
    "sns.distplot(Y,bins=30)\n",
    "plt.show()"
   ]
  },
  {
   "cell_type": "code",
   "execution_count": 13,
   "id": "71fd3225",
   "metadata": {},
   "outputs": [
    {
     "data": {
      "image/png": "[encoded data removed]",
      "text/plain": [
       "<Figure size 720x360 with 1 Axes>"
      ]
     },
     "metadata": {
      "needs_background": "light"
     },
     "output_type": "display_data"
    }
   ],
   "source": [
    "plt.figure(figsize=(10,5))\n",
    "sns.boxplot(Y)\n",
    "plt.show()"
   ]
  },
  {
   "cell_type": "code",
   "execution_count": 14,
   "id": "6f032441",
   "metadata": {},
   "outputs": [
    {
     "data": {
      "image/png": "[encoded data removed]",
      "text/plain": [
       "<Figure size 720x360 with 1 Axes>"
      ]
     },
     "metadata": {
      "needs_background": "light"
     },
     "output_type": "display_data"
    }
   ],
   "source": [
    "plt.figure(figsize=(10,5))\n",
    "sns.distplot(np.log(Y),bins=30)\n",
    "plt.show()"
   ]
  },
  {
   "cell_type": "code",
   "execution_count": 15,
   "id": "26185030",
   "metadata": {},
   "outputs": [],
   "source": [
    "Y=np.log(Y)\n",
    "Y.name='Log_card_spend'"
   ]
  },
  {
   "cell_type": "code",
   "execution_count": 16,
   "id": "21de535b",
   "metadata": {},
   "outputs": [],
   "source": [
    "#Removing outliers from our Y variable"
   ]
  },
  {
   "cell_type": "code",
   "execution_count": 17,
   "id": "aa31b084",
   "metadata": {},
   "outputs": [],
   "source": [
    "q1=Y.quantile(0.25)\n",
    "q3=Y.quantile(0.75)\n",
    "iqr=q3-q1\n",
    "lower=q1-(1.5*iqr)\n",
    "upper=q3+(1.5*iqr)"
   ]
  },
  {
   "cell_type": "code",
   "execution_count": 18,
   "id": "42a11a3f",
   "metadata": {},
   "outputs": [],
   "source": [
    "Y.clip(lower=lower,upper=upper,inplace=True)"
   ]
  },
  {
   "cell_type": "code",
   "execution_count": 19,
   "id": "d8fbbcbb",
   "metadata": {},
   "outputs": [
    {
     "data": {
      "image/png": "[encoded data removed]",
      "text/plain": [
       "<Figure size 1440x576 with 2 Axes>"
      ]
     },
     "metadata": {
      "needs_background": "light"
     },
     "output_type": "display_data"
    }
   ],
   "source": [
    "plt.figure(figsize=(20,8))\n",
    "plt.subplot(1, 2, 1)\n",
    "sns.boxplot(Y)\n",
    "plt.subplot(1, 2, 2)\n",
    "sns.distplot(Y)\n",
    "plt.show()"
   ]
  },
  {
   "cell_type": "markdown",
   "id": "bb2bc9e9",
   "metadata": {},
   "source": [
    "### Dropping features based on high cardinality, high missings > 25% and unwanted features"
   ]
  },
  {
   "cell_type": "code",
   "execution_count": 20,
   "id": "e860d9cf",
   "metadata": {},
   "outputs": [],
   "source": [
    "data.drop(columns=['custid','empcat','addresscat','commutecat','cardtenurecat','card2tenurecat','lnwireten','lnequipten','lnwiremon','lnlongten','lntollmon','lnothdebt','lncreddebt','birthmonth','lninc','lnequipmon','lncardmon','lnlongmon','lntollten','lncardten'],inplace=True)"
   ]
  },
  {
   "cell_type": "code",
   "execution_count": 21,
   "id": "dd09dbfa",
   "metadata": {},
   "outputs": [
    {
     "name": "stdout",
     "output_type": "stream",
     "text": [
      "<class 'pandas.core.frame.DataFrame'>\n",
      "RangeIndex: 5000 entries, 0 to 4999\n",
      "Columns: 108 entries, region to response_03\n",
      "dtypes: float64(16), int64(92)\n",
      "memory usage: 4.1 MB\n"
     ]
    }
   ],
   "source": [
    "data.info()"
   ]
  },
  {
   "cell_type": "markdown",
   "id": "d94db7d1",
   "metadata": {},
   "source": [
    "### Handling Missings"
   ]
  },
  {
   "cell_type": "code",
   "execution_count": 22,
   "id": "398dde35",
   "metadata": {},
   "outputs": [],
   "source": [
    "missings_cols=list(data.columns[data.isnull().sum()>0])"
   ]
  },
  {
   "cell_type": "code",
   "execution_count": 23,
   "id": "21542c27",
   "metadata": {},
   "outputs": [
    {
     "data": {
      "text/plain": [
       "['townsize', 'commutetime', 'longten', 'cardten']"
      ]
     },
     "execution_count": 23,
     "metadata": {},
     "output_type": "execute_result"
    }
   ],
   "source": [
    "missings_cols"
   ]
  },
  {
   "cell_type": "code",
   "execution_count": 24,
   "id": "b84576d3",
   "metadata": {},
   "outputs": [
    {
     "data": {
      "text/html": [
       "<div>\n",
       "<style scoped>\n",
       "    .dataframe tbody tr th:only-of-type {\n",
       "        vertical-align: middle;\n",
       "    }\n",
       "\n",
       "    .dataframe tbody tr th {\n",
       "        vertical-align: top;\n",
       "    }\n",
       "\n",
       "    .dataframe thead th {\n",
       "        text-align: right;\n",
       "    }\n",
       "</style>\n",
       "<table border=\"1\" class=\"dataframe\">\n",
       "  <thead>\n",
       "    <tr style=\"text-align: right;\">\n",
       "      <th></th>\n",
       "      <th>townsize</th>\n",
       "      <th>commutetime</th>\n",
       "      <th>longten</th>\n",
       "      <th>cardten</th>\n",
       "    </tr>\n",
       "  </thead>\n",
       "  <tbody>\n",
       "    <tr>\n",
       "      <th>count</th>\n",
       "      <td>4998.000000</td>\n",
       "      <td>4998.000000</td>\n",
       "      <td>4997.000000</td>\n",
       "      <td>4998.000000</td>\n",
       "    </tr>\n",
       "    <tr>\n",
       "      <th>mean</th>\n",
       "      <td>2.687275</td>\n",
       "      <td>25.345538</td>\n",
       "      <td>708.871753</td>\n",
       "      <td>720.478391</td>\n",
       "    </tr>\n",
       "    <tr>\n",
       "      <th>std</th>\n",
       "      <td>1.425925</td>\n",
       "      <td>5.879149</td>\n",
       "      <td>979.291072</td>\n",
       "      <td>922.225527</td>\n",
       "    </tr>\n",
       "    <tr>\n",
       "      <th>min</th>\n",
       "      <td>1.000000</td>\n",
       "      <td>8.000000</td>\n",
       "      <td>0.900000</td>\n",
       "      <td>0.000000</td>\n",
       "    </tr>\n",
       "    <tr>\n",
       "      <th>25%</th>\n",
       "      <td>1.000000</td>\n",
       "      <td>21.000000</td>\n",
       "      <td>104.600000</td>\n",
       "      <td>0.000000</td>\n",
       "    </tr>\n",
       "    <tr>\n",
       "      <th>50%</th>\n",
       "      <td>3.000000</td>\n",
       "      <td>25.000000</td>\n",
       "      <td>350.000000</td>\n",
       "      <td>425.000000</td>\n",
       "    </tr>\n",
       "    <tr>\n",
       "      <th>75%</th>\n",
       "      <td>4.000000</td>\n",
       "      <td>29.000000</td>\n",
       "      <td>913.850000</td>\n",
       "      <td>1080.000000</td>\n",
       "    </tr>\n",
       "    <tr>\n",
       "      <th>max</th>\n",
       "      <td>5.000000</td>\n",
       "      <td>48.000000</td>\n",
       "      <td>13046.500000</td>\n",
       "      <td>13705.000000</td>\n",
       "    </tr>\n",
       "  </tbody>\n",
       "</table>\n",
       "</div>"
      ],
      "text/plain": [
       "          townsize  commutetime       longten       cardten\n",
       "count  4998.000000  4998.000000   4997.000000   4998.000000\n",
       "mean      2.687275    25.345538    708.871753    720.478391\n",
       "std       1.425925     5.879149    979.291072    922.225527\n",
       "min       1.000000     8.000000      0.900000      0.000000\n",
       "25%       1.000000    21.000000    104.600000      0.000000\n",
       "50%       3.000000    25.000000    350.000000    425.000000\n",
       "75%       4.000000    29.000000    913.850000   1080.000000\n",
       "max       5.000000    48.000000  13046.500000  13705.000000"
      ]
     },
     "execution_count": 24,
     "metadata": {},
     "output_type": "execute_result"
    }
   ],
   "source": [
    "data[missings_cols].describe()"
   ]
  },
  {
   "cell_type": "code",
   "execution_count": 25,
   "id": "f8d3bf78",
   "metadata": {},
   "outputs": [],
   "source": [
    "cat_missing=['townsize']\n",
    "cont_missing=['commutetime','longten','cardten']"
   ]
  },
  {
   "cell_type": "code",
   "execution_count": 26,
   "id": "7105a242",
   "metadata": {},
   "outputs": [],
   "source": [
    "def missing_impute_cat(df,x):\n",
    "    for i in x:\n",
    "        df[i].fillna(int(df[i].mode()),inplace=True)"
   ]
  },
  {
   "cell_type": "code",
   "execution_count": 27,
   "id": "7ff5cf37",
   "metadata": {},
   "outputs": [],
   "source": [
    "def missing_impute_cont(df,x):\n",
    "    for i in x:\n",
    "        df[i].fillna(df[i].median(),inplace=True)"
   ]
  },
  {
   "cell_type": "code",
   "execution_count": 28,
   "id": "11c669fa",
   "metadata": {},
   "outputs": [],
   "source": [
    "missing_impute_cont(data,cont_missing)"
   ]
  },
  {
   "cell_type": "code",
   "execution_count": 29,
   "id": "945a1a36",
   "metadata": {},
   "outputs": [],
   "source": [
    "missing_impute_cat(data,cat_missing)"
   ]
  },
  {
   "cell_type": "code",
   "execution_count": 30,
   "id": "1f6d1fe7",
   "metadata": {},
   "outputs": [
    {
     "data": {
      "text/plain": [
       "Index([], dtype='object')"
      ]
     },
     "execution_count": 30,
     "metadata": {},
     "output_type": "execute_result"
    }
   ],
   "source": [
    "data.columns[data.isnull().sum()>0]"
   ]
  },
  {
   "cell_type": "markdown",
   "id": "7d0dc2cd",
   "metadata": {},
   "source": [
    "### Dropping Features based in low CV"
   ]
  },
  {
   "cell_type": "code",
   "execution_count": 31,
   "id": "1a3be59e",
   "metadata": {},
   "outputs": [],
   "source": [
    "def cv(df,x):\n",
    "    low_cv=[]\n",
    "    for i in x:\n",
    "        if (np.std(df[i])/np.mean(df[i]))<0.05:\n",
    "            low_cv.append(i)\n",
    "    return low_cv"
   ]
  },
  {
   "cell_type": "code",
   "execution_count": 32,
   "id": "7315cf25",
   "metadata": {
    "scrolled": true
   },
   "outputs": [],
   "source": [
    "low_coefvar=cv(data,data.columns.to_list())"
   ]
  },
  {
   "cell_type": "code",
   "execution_count": 33,
   "id": "72284000",
   "metadata": {},
   "outputs": [
    {
     "data": {
      "text/plain": [
       "[]"
      ]
     },
     "execution_count": 33,
     "metadata": {},
     "output_type": "execute_result"
    }
   ],
   "source": [
    "#No feature found with CV<0.05\n",
    "low_coefvar"
   ]
  },
  {
   "cell_type": "markdown",
   "id": "0df0d93b",
   "metadata": {},
   "source": [
    "### Outlier Treatment"
   ]
  },
  {
   "cell_type": "code",
   "execution_count": 34,
   "id": "4a960822",
   "metadata": {},
   "outputs": [
    {
     "data": {
      "text/plain": [
       "(5000, 108)"
      ]
     },
     "execution_count": 34,
     "metadata": {},
     "output_type": "execute_result"
    }
   ],
   "source": [
    "data.shape"
   ]
  },
  {
   "cell_type": "code",
   "execution_count": 35,
   "id": "bebf99ad",
   "metadata": {},
   "outputs": [
    {
     "data": {
      "text/plain": [
       "int64      92\n",
       "float64    16\n",
       "dtype: int64"
      ]
     },
     "execution_count": 35,
     "metadata": {},
     "output_type": "execute_result"
    }
   ],
   "source": [
    "data.dtypes.value_counts()"
   ]
  },
  {
   "cell_type": "code",
   "execution_count": 36,
   "id": "227938b8",
   "metadata": {},
   "outputs": [],
   "source": [
    "cat_vars='''region\n",
    "townsize\n",
    "gender\n",
    "agecat\n",
    "edcat\n",
    "jobcat\n",
    "union\n",
    "retire\n",
    "inccat\n",
    "default\n",
    "jobsat\n",
    "marital\n",
    "spousedcat\n",
    "homeown\n",
    "hometype\n",
    "cars\n",
    "carown\n",
    "cartype\n",
    "carcatvalue\n",
    "carbought\n",
    "carbuy\n",
    "commute\n",
    "commutecar\n",
    "commutemotorcycle\n",
    "commutecarpool\n",
    "commutebus\n",
    "commuterail\n",
    "commutepublic\n",
    "commutebike\n",
    "commutewalk\n",
    "commutenonmotor\n",
    "telecommute\n",
    "reason\n",
    "polview\n",
    "polparty\n",
    "polcontrib\n",
    "vote\n",
    "card\n",
    "cardtype\n",
    "cardbenefit\n",
    "cardfee\n",
    "card2\n",
    "card2type\n",
    "card2benefit\n",
    "card2fee\n",
    "active\n",
    "bfast\n",
    "churn\n",
    "tollfree\n",
    "equip\n",
    "callcard\n",
    "wireless\n",
    "multline\n",
    "voice\n",
    "pager\n",
    "internet\n",
    "callid\n",
    "callwait\n",
    "forward\n",
    "confer\n",
    "ebill\n",
    "owntv\n",
    "ownvcr\n",
    "owndvd\n",
    "owncd\n",
    "ownpda\n",
    "ownpc\n",
    "ownipod\n",
    "owngame\n",
    "ownfax\n",
    "news\n",
    "response_01\n",
    "response_02\n",
    "response_03'''.split('\\n')"
   ]
  },
  {
   "cell_type": "code",
   "execution_count": 37,
   "id": "b9e477cf",
   "metadata": {},
   "outputs": [
    {
     "data": {
      "text/plain": [
       "74"
      ]
     },
     "execution_count": 37,
     "metadata": {},
     "output_type": "execute_result"
    }
   ],
   "source": [
    "len(cat_vars)"
   ]
  },
  {
   "cell_type": "code",
   "execution_count": 38,
   "id": "126b508c",
   "metadata": {},
   "outputs": [],
   "source": [
    "data_cat=data[cat_vars]"
   ]
  },
  {
   "cell_type": "code",
   "execution_count": 39,
   "id": "2adc584d",
   "metadata": {},
   "outputs": [],
   "source": [
    "data_cont=data.drop(columns=cat_vars)"
   ]
  },
  {
   "cell_type": "code",
   "execution_count": 40,
   "id": "4570770c",
   "metadata": {},
   "outputs": [
    {
     "data": {
      "text/plain": [
       "(5000, 34)"
      ]
     },
     "execution_count": 40,
     "metadata": {},
     "output_type": "execute_result"
    }
   ],
   "source": [
    "data_cont.shape"
   ]
  },
  {
   "cell_type": "code",
   "execution_count": 41,
   "id": "898e45a5",
   "metadata": {},
   "outputs": [],
   "source": [
    "def outlier(df,x):\n",
    "    for i in x:\n",
    "        q1=df[i].quantile(0.25)\n",
    "        q3=df[i].quantile(0.75)\n",
    "        iqr=q3-q1\n",
    "        lower=q1-(1.5*iqr)\n",
    "        upper=q3+(1.5*iqr)\n",
    "        df[i].clip(lower=lower,upper=upper,inplace=True)"
   ]
  },
  {
   "cell_type": "code",
   "execution_count": 42,
   "id": "8a713d99",
   "metadata": {},
   "outputs": [],
   "source": [
    "outlier(data_cont,data_cont.columns)"
   ]
  },
  {
   "cell_type": "code",
   "execution_count": 43,
   "id": "98957424",
   "metadata": {},
   "outputs": [],
   "source": [
    "del data"
   ]
  },
  {
   "cell_type": "markdown",
   "id": "1c5a1197",
   "metadata": {},
   "source": [
    "#### Dummy Variable Creation"
   ]
  },
  {
   "cell_type": "code",
   "execution_count": 44,
   "id": "78aca7c3",
   "metadata": {},
   "outputs": [
    {
     "data": {
      "text/plain": [
       "region         False\n",
       "townsize       False\n",
       "gender         False\n",
       "agecat         False\n",
       "edcat          False\n",
       "               ...  \n",
       "ownfax         False\n",
       "news           False\n",
       "response_01    False\n",
       "response_02    False\n",
       "response_03    False\n",
       "Length: 74, dtype: bool"
      ]
     },
     "execution_count": 44,
     "metadata": {},
     "output_type": "execute_result"
    }
   ],
   "source": [
    "data_cat.dtypes=='object'"
   ]
  },
  {
   "cell_type": "code",
   "execution_count": 45,
   "id": "e7dc9b89",
   "metadata": {},
   "outputs": [],
   "source": [
    "data_cat=data_cat.astype('object')"
   ]
  },
  {
   "cell_type": "code",
   "execution_count": 46,
   "id": "988f0066",
   "metadata": {},
   "outputs": [],
   "source": [
    "data_cat=pd.get_dummies(data=data_cat,drop_first=True)"
   ]
  },
  {
   "cell_type": "code",
   "execution_count": 47,
   "id": "a3ca53e5",
   "metadata": {},
   "outputs": [
    {
     "data": {
      "text/html": [
       "<div>\n",
       "<style scoped>\n",
       "    .dataframe tbody tr th:only-of-type {\n",
       "        vertical-align: middle;\n",
       "    }\n",
       "\n",
       "    .dataframe tbody tr th {\n",
       "        vertical-align: top;\n",
       "    }\n",
       "\n",
       "    .dataframe thead th {\n",
       "        text-align: right;\n",
       "    }\n",
       "</style>\n",
       "<table border=\"1\" class=\"dataframe\">\n",
       "  <thead>\n",
       "    <tr style=\"text-align: right;\">\n",
       "      <th></th>\n",
       "      <th>region_2</th>\n",
       "      <th>region_3</th>\n",
       "      <th>region_4</th>\n",
       "      <th>region_5</th>\n",
       "      <th>townsize_2.0</th>\n",
       "      <th>townsize_3.0</th>\n",
       "      <th>townsize_4.0</th>\n",
       "      <th>townsize_5.0</th>\n",
       "      <th>gender_1</th>\n",
       "      <th>agecat_3</th>\n",
       "      <th>...</th>\n",
       "      <th>owncd_1</th>\n",
       "      <th>ownpda_1</th>\n",
       "      <th>ownpc_1</th>\n",
       "      <th>ownipod_1</th>\n",
       "      <th>owngame_1</th>\n",
       "      <th>ownfax_1</th>\n",
       "      <th>news_1</th>\n",
       "      <th>response_01_1</th>\n",
       "      <th>response_02_1</th>\n",
       "      <th>response_03_1</th>\n",
       "    </tr>\n",
       "  </thead>\n",
       "  <tbody>\n",
       "    <tr>\n",
       "      <th>0</th>\n",
       "      <td>0</td>\n",
       "      <td>0</td>\n",
       "      <td>0</td>\n",
       "      <td>0</td>\n",
       "      <td>1</td>\n",
       "      <td>0</td>\n",
       "      <td>0</td>\n",
       "      <td>0</td>\n",
       "      <td>1</td>\n",
       "      <td>0</td>\n",
       "      <td>...</td>\n",
       "      <td>0</td>\n",
       "      <td>0</td>\n",
       "      <td>0</td>\n",
       "      <td>1</td>\n",
       "      <td>1</td>\n",
       "      <td>0</td>\n",
       "      <td>0</td>\n",
       "      <td>0</td>\n",
       "      <td>1</td>\n",
       "      <td>0</td>\n",
       "    </tr>\n",
       "    <tr>\n",
       "      <th>1</th>\n",
       "      <td>0</td>\n",
       "      <td>0</td>\n",
       "      <td>0</td>\n",
       "      <td>1</td>\n",
       "      <td>0</td>\n",
       "      <td>0</td>\n",
       "      <td>0</td>\n",
       "      <td>1</td>\n",
       "      <td>0</td>\n",
       "      <td>0</td>\n",
       "      <td>...</td>\n",
       "      <td>1</td>\n",
       "      <td>1</td>\n",
       "      <td>1</td>\n",
       "      <td>1</td>\n",
       "      <td>1</td>\n",
       "      <td>1</td>\n",
       "      <td>1</td>\n",
       "      <td>0</td>\n",
       "      <td>0</td>\n",
       "      <td>0</td>\n",
       "    </tr>\n",
       "    <tr>\n",
       "      <th>2</th>\n",
       "      <td>0</td>\n",
       "      <td>1</td>\n",
       "      <td>0</td>\n",
       "      <td>0</td>\n",
       "      <td>0</td>\n",
       "      <td>0</td>\n",
       "      <td>1</td>\n",
       "      <td>0</td>\n",
       "      <td>1</td>\n",
       "      <td>0</td>\n",
       "      <td>...</td>\n",
       "      <td>1</td>\n",
       "      <td>0</td>\n",
       "      <td>0</td>\n",
       "      <td>0</td>\n",
       "      <td>0</td>\n",
       "      <td>0</td>\n",
       "      <td>1</td>\n",
       "      <td>0</td>\n",
       "      <td>0</td>\n",
       "      <td>0</td>\n",
       "    </tr>\n",
       "    <tr>\n",
       "      <th>3</th>\n",
       "      <td>0</td>\n",
       "      <td>0</td>\n",
       "      <td>1</td>\n",
       "      <td>0</td>\n",
       "      <td>0</td>\n",
       "      <td>1</td>\n",
       "      <td>0</td>\n",
       "      <td>0</td>\n",
       "      <td>0</td>\n",
       "      <td>0</td>\n",
       "      <td>...</td>\n",
       "      <td>1</td>\n",
       "      <td>0</td>\n",
       "      <td>1</td>\n",
       "      <td>1</td>\n",
       "      <td>1</td>\n",
       "      <td>0</td>\n",
       "      <td>1</td>\n",
       "      <td>1</td>\n",
       "      <td>0</td>\n",
       "      <td>0</td>\n",
       "    </tr>\n",
       "    <tr>\n",
       "      <th>4</th>\n",
       "      <td>1</td>\n",
       "      <td>0</td>\n",
       "      <td>0</td>\n",
       "      <td>0</td>\n",
       "      <td>1</td>\n",
       "      <td>0</td>\n",
       "      <td>0</td>\n",
       "      <td>0</td>\n",
       "      <td>0</td>\n",
       "      <td>1</td>\n",
       "      <td>...</td>\n",
       "      <td>1</td>\n",
       "      <td>0</td>\n",
       "      <td>1</td>\n",
       "      <td>0</td>\n",
       "      <td>1</td>\n",
       "      <td>0</td>\n",
       "      <td>0</td>\n",
       "      <td>0</td>\n",
       "      <td>1</td>\n",
       "      <td>0</td>\n",
       "    </tr>\n",
       "    <tr>\n",
       "      <th>...</th>\n",
       "      <td>...</td>\n",
       "      <td>...</td>\n",
       "      <td>...</td>\n",
       "      <td>...</td>\n",
       "      <td>...</td>\n",
       "      <td>...</td>\n",
       "      <td>...</td>\n",
       "      <td>...</td>\n",
       "      <td>...</td>\n",
       "      <td>...</td>\n",
       "      <td>...</td>\n",
       "      <td>...</td>\n",
       "      <td>...</td>\n",
       "      <td>...</td>\n",
       "      <td>...</td>\n",
       "      <td>...</td>\n",
       "      <td>...</td>\n",
       "      <td>...</td>\n",
       "      <td>...</td>\n",
       "      <td>...</td>\n",
       "      <td>...</td>\n",
       "    </tr>\n",
       "    <tr>\n",
       "      <th>4995</th>\n",
       "      <td>1</td>\n",
       "      <td>0</td>\n",
       "      <td>0</td>\n",
       "      <td>0</td>\n",
       "      <td>1</td>\n",
       "      <td>0</td>\n",
       "      <td>0</td>\n",
       "      <td>0</td>\n",
       "      <td>0</td>\n",
       "      <td>0</td>\n",
       "      <td>...</td>\n",
       "      <td>1</td>\n",
       "      <td>0</td>\n",
       "      <td>0</td>\n",
       "      <td>0</td>\n",
       "      <td>0</td>\n",
       "      <td>0</td>\n",
       "      <td>1</td>\n",
       "      <td>0</td>\n",
       "      <td>0</td>\n",
       "      <td>0</td>\n",
       "    </tr>\n",
       "    <tr>\n",
       "      <th>4996</th>\n",
       "      <td>0</td>\n",
       "      <td>1</td>\n",
       "      <td>0</td>\n",
       "      <td>0</td>\n",
       "      <td>0</td>\n",
       "      <td>1</td>\n",
       "      <td>0</td>\n",
       "      <td>0</td>\n",
       "      <td>0</td>\n",
       "      <td>0</td>\n",
       "      <td>...</td>\n",
       "      <td>1</td>\n",
       "      <td>0</td>\n",
       "      <td>0</td>\n",
       "      <td>0</td>\n",
       "      <td>0</td>\n",
       "      <td>0</td>\n",
       "      <td>0</td>\n",
       "      <td>0</td>\n",
       "      <td>0</td>\n",
       "      <td>0</td>\n",
       "    </tr>\n",
       "    <tr>\n",
       "      <th>4997</th>\n",
       "      <td>0</td>\n",
       "      <td>0</td>\n",
       "      <td>1</td>\n",
       "      <td>0</td>\n",
       "      <td>0</td>\n",
       "      <td>0</td>\n",
       "      <td>0</td>\n",
       "      <td>1</td>\n",
       "      <td>0</td>\n",
       "      <td>0</td>\n",
       "      <td>...</td>\n",
       "      <td>1</td>\n",
       "      <td>1</td>\n",
       "      <td>0</td>\n",
       "      <td>0</td>\n",
       "      <td>0</td>\n",
       "      <td>0</td>\n",
       "      <td>1</td>\n",
       "      <td>0</td>\n",
       "      <td>0</td>\n",
       "      <td>0</td>\n",
       "    </tr>\n",
       "    <tr>\n",
       "      <th>4998</th>\n",
       "      <td>0</td>\n",
       "      <td>0</td>\n",
       "      <td>0</td>\n",
       "      <td>0</td>\n",
       "      <td>0</td>\n",
       "      <td>0</td>\n",
       "      <td>0</td>\n",
       "      <td>0</td>\n",
       "      <td>0</td>\n",
       "      <td>0</td>\n",
       "      <td>...</td>\n",
       "      <td>1</td>\n",
       "      <td>0</td>\n",
       "      <td>1</td>\n",
       "      <td>1</td>\n",
       "      <td>1</td>\n",
       "      <td>0</td>\n",
       "      <td>1</td>\n",
       "      <td>0</td>\n",
       "      <td>0</td>\n",
       "      <td>0</td>\n",
       "    </tr>\n",
       "    <tr>\n",
       "      <th>4999</th>\n",
       "      <td>0</td>\n",
       "      <td>1</td>\n",
       "      <td>0</td>\n",
       "      <td>0</td>\n",
       "      <td>0</td>\n",
       "      <td>0</td>\n",
       "      <td>0</td>\n",
       "      <td>1</td>\n",
       "      <td>1</td>\n",
       "      <td>0</td>\n",
       "      <td>...</td>\n",
       "      <td>1</td>\n",
       "      <td>0</td>\n",
       "      <td>0</td>\n",
       "      <td>0</td>\n",
       "      <td>0</td>\n",
       "      <td>0</td>\n",
       "      <td>0</td>\n",
       "      <td>0</td>\n",
       "      <td>0</td>\n",
       "      <td>0</td>\n",
       "    </tr>\n",
       "  </tbody>\n",
       "</table>\n",
       "<p>5000 rows × 148 columns</p>\n",
       "</div>"
      ],
      "text/plain": [
       "      region_2  region_3  region_4  region_5  townsize_2.0  townsize_3.0  \\\n",
       "0            0         0         0         0             1             0   \n",
       "1            0         0         0         1             0             0   \n",
       "2            0         1         0         0             0             0   \n",
       "3            0         0         1         0             0             1   \n",
       "4            1         0         0         0             1             0   \n",
       "...        ...       ...       ...       ...           ...           ...   \n",
       "4995         1         0         0         0             1             0   \n",
       "4996         0         1         0         0             0             1   \n",
       "4997         0         0         1         0             0             0   \n",
       "4998         0         0         0         0             0             0   \n",
       "4999         0         1         0         0             0             0   \n",
       "\n",
       "      townsize_4.0  townsize_5.0  gender_1  agecat_3  ...  owncd_1  ownpda_1  \\\n",
       "0                0             0         1         0  ...        0         0   \n",
       "1                0             1         0         0  ...        1         1   \n",
       "2                1             0         1         0  ...        1         0   \n",
       "3                0             0         0         0  ...        1         0   \n",
       "4                0             0         0         1  ...        1         0   \n",
       "...            ...           ...       ...       ...  ...      ...       ...   \n",
       "4995             0             0         0         0  ...        1         0   \n",
       "4996             0             0         0         0  ...        1         0   \n",
       "4997             0             1         0         0  ...        1         1   \n",
       "4998             0             0         0         0  ...        1         0   \n",
       "4999             0             1         1         0  ...        1         0   \n",
       "\n",
       "      ownpc_1  ownipod_1  owngame_1  ownfax_1  news_1  response_01_1  \\\n",
       "0           0          1          1         0       0              0   \n",
       "1           1          1          1         1       1              0   \n",
       "2           0          0          0         0       1              0   \n",
       "3           1          1          1         0       1              1   \n",
       "4           1          0          1         0       0              0   \n",
       "...       ...        ...        ...       ...     ...            ...   \n",
       "4995        0          0          0         0       1              0   \n",
       "4996        0          0          0         0       0              0   \n",
       "4997        0          0          0         0       1              0   \n",
       "4998        1          1          1         0       1              0   \n",
       "4999        0          0          0         0       0              0   \n",
       "\n",
       "      response_02_1  response_03_1  \n",
       "0                 1              0  \n",
       "1                 0              0  \n",
       "2                 0              0  \n",
       "3                 0              0  \n",
       "4                 1              0  \n",
       "...             ...            ...  \n",
       "4995              0              0  \n",
       "4996              0              0  \n",
       "4997              0              0  \n",
       "4998              0              0  \n",
       "4999              0              0  \n",
       "\n",
       "[5000 rows x 148 columns]"
      ]
     },
     "execution_count": 47,
     "metadata": {},
     "output_type": "execute_result"
    }
   ],
   "source": [
    "data_cat"
   ]
  },
  {
   "cell_type": "code",
   "execution_count": null,
   "id": "9cb7fc7f",
   "metadata": {},
   "outputs": [],
   "source": []
  },
  {
   "cell_type": "code",
   "execution_count": 48,
   "id": "aef36566",
   "metadata": {},
   "outputs": [
    {
     "data": {
      "text/html": [
       "<div>\n",
       "<style scoped>\n",
       "    .dataframe tbody tr th:only-of-type {\n",
       "        vertical-align: middle;\n",
       "    }\n",
       "\n",
       "    .dataframe tbody tr th {\n",
       "        vertical-align: top;\n",
       "    }\n",
       "\n",
       "    .dataframe thead th {\n",
       "        text-align: right;\n",
       "    }\n",
       "</style>\n",
       "<table border=\"1\" class=\"dataframe\">\n",
       "  <thead>\n",
       "    <tr style=\"text-align: right;\">\n",
       "      <th></th>\n",
       "      <th>age</th>\n",
       "      <th>ed</th>\n",
       "      <th>employ</th>\n",
       "      <th>income</th>\n",
       "      <th>debtinc</th>\n",
       "      <th>creddebt</th>\n",
       "      <th>othdebt</th>\n",
       "      <th>spoused</th>\n",
       "      <th>reside</th>\n",
       "      <th>pets</th>\n",
       "      <th>...</th>\n",
       "      <th>longten</th>\n",
       "      <th>tollmon</th>\n",
       "      <th>tollten</th>\n",
       "      <th>equipmon</th>\n",
       "      <th>equipten</th>\n",
       "      <th>cardmon</th>\n",
       "      <th>cardten</th>\n",
       "      <th>wiremon</th>\n",
       "      <th>wireten</th>\n",
       "      <th>hourstv</th>\n",
       "    </tr>\n",
       "  </thead>\n",
       "  <tbody>\n",
       "    <tr>\n",
       "      <th>0</th>\n",
       "      <td>20</td>\n",
       "      <td>15</td>\n",
       "      <td>0.0</td>\n",
       "      <td>31.0</td>\n",
       "      <td>11.1</td>\n",
       "      <td>1.200909</td>\n",
       "      <td>2.240091</td>\n",
       "      <td>-1</td>\n",
       "      <td>3</td>\n",
       "      <td>0.0</td>\n",
       "      <td>...</td>\n",
       "      <td>34.40</td>\n",
       "      <td>29.0</td>\n",
       "      <td>161.05</td>\n",
       "      <td>29.50</td>\n",
       "      <td>126.10000</td>\n",
       "      <td>14.25</td>\n",
       "      <td>60.0</td>\n",
       "      <td>0.00</td>\n",
       "      <td>0.00000</td>\n",
       "      <td>13</td>\n",
       "    </tr>\n",
       "    <tr>\n",
       "      <th>1</th>\n",
       "      <td>22</td>\n",
       "      <td>17</td>\n",
       "      <td>0.0</td>\n",
       "      <td>15.0</td>\n",
       "      <td>18.6</td>\n",
       "      <td>1.222020</td>\n",
       "      <td>1.567980</td>\n",
       "      <td>-1</td>\n",
       "      <td>2</td>\n",
       "      <td>6.0</td>\n",
       "      <td>...</td>\n",
       "      <td>330.60</td>\n",
       "      <td>0.0</td>\n",
       "      <td>0.00</td>\n",
       "      <td>54.85</td>\n",
       "      <td>1275.40625</td>\n",
       "      <td>16.00</td>\n",
       "      <td>610.0</td>\n",
       "      <td>45.65</td>\n",
       "      <td>224.90625</td>\n",
       "      <td>18</td>\n",
       "    </tr>\n",
       "    <tr>\n",
       "      <th>2</th>\n",
       "      <td>67</td>\n",
       "      <td>14</td>\n",
       "      <td>16.0</td>\n",
       "      <td>35.0</td>\n",
       "      <td>9.9</td>\n",
       "      <td>0.928620</td>\n",
       "      <td>2.536380</td>\n",
       "      <td>13</td>\n",
       "      <td>3</td>\n",
       "      <td>3.0</td>\n",
       "      <td>...</td>\n",
       "      <td>1858.35</td>\n",
       "      <td>0.0</td>\n",
       "      <td>0.00</td>\n",
       "      <td>0.00</td>\n",
       "      <td>0.00000</td>\n",
       "      <td>23.00</td>\n",
       "      <td>1410.0</td>\n",
       "      <td>0.00</td>\n",
       "      <td>0.00000</td>\n",
       "      <td>21</td>\n",
       "    </tr>\n",
       "    <tr>\n",
       "      <th>3</th>\n",
       "      <td>23</td>\n",
       "      <td>16</td>\n",
       "      <td>0.0</td>\n",
       "      <td>20.0</td>\n",
       "      <td>5.7</td>\n",
       "      <td>0.022800</td>\n",
       "      <td>1.117200</td>\n",
       "      <td>18</td>\n",
       "      <td>5</td>\n",
       "      <td>0.0</td>\n",
       "      <td>...</td>\n",
       "      <td>199.45</td>\n",
       "      <td>0.0</td>\n",
       "      <td>0.00</td>\n",
       "      <td>0.00</td>\n",
       "      <td>0.00000</td>\n",
       "      <td>21.00</td>\n",
       "      <td>685.0</td>\n",
       "      <td>0.00</td>\n",
       "      <td>0.00000</td>\n",
       "      <td>26</td>\n",
       "    </tr>\n",
       "    <tr>\n",
       "      <th>4</th>\n",
       "      <td>26</td>\n",
       "      <td>16</td>\n",
       "      <td>1.0</td>\n",
       "      <td>23.0</td>\n",
       "      <td>1.7</td>\n",
       "      <td>0.214659</td>\n",
       "      <td>0.176341</td>\n",
       "      <td>13</td>\n",
       "      <td>4</td>\n",
       "      <td>0.0</td>\n",
       "      <td>...</td>\n",
       "      <td>74.10</td>\n",
       "      <td>16.5</td>\n",
       "      <td>387.70</td>\n",
       "      <td>0.00</td>\n",
       "      <td>0.00000</td>\n",
       "      <td>17.25</td>\n",
       "      <td>360.0</td>\n",
       "      <td>19.05</td>\n",
       "      <td>224.90625</td>\n",
       "      <td>27</td>\n",
       "    </tr>\n",
       "  </tbody>\n",
       "</table>\n",
       "<p>5 rows × 34 columns</p>\n",
       "</div>"
      ],
      "text/plain": [
       "   age  ed  employ  income  debtinc  creddebt   othdebt  spoused  reside  \\\n",
       "0   20  15     0.0    31.0     11.1  1.200909  2.240091       -1       3   \n",
       "1   22  17     0.0    15.0     18.6  1.222020  1.567980       -1       2   \n",
       "2   67  14    16.0    35.0      9.9  0.928620  2.536380       13       3   \n",
       "3   23  16     0.0    20.0      5.7  0.022800  1.117200       18       5   \n",
       "4   26  16     1.0    23.0      1.7  0.214659  0.176341       13       4   \n",
       "\n",
       "   pets  ...  longten  tollmon  tollten  equipmon    equipten  cardmon  \\\n",
       "0   0.0  ...    34.40     29.0   161.05     29.50   126.10000    14.25   \n",
       "1   6.0  ...   330.60      0.0     0.00     54.85  1275.40625    16.00   \n",
       "2   3.0  ...  1858.35      0.0     0.00      0.00     0.00000    23.00   \n",
       "3   0.0  ...   199.45      0.0     0.00      0.00     0.00000    21.00   \n",
       "4   0.0  ...    74.10     16.5   387.70      0.00     0.00000    17.25   \n",
       "\n",
       "   cardten  wiremon    wireten  hourstv  \n",
       "0     60.0     0.00    0.00000       13  \n",
       "1    610.0    45.65  224.90625       18  \n",
       "2   1410.0     0.00    0.00000       21  \n",
       "3    685.0     0.00    0.00000       26  \n",
       "4    360.0    19.05  224.90625       27  \n",
       "\n",
       "[5 rows x 34 columns]"
      ]
     },
     "execution_count": 48,
     "metadata": {},
     "output_type": "execute_result"
    }
   ],
   "source": [
    "data_cont.head(5)"
   ]
  },
  {
   "cell_type": "markdown",
   "id": "36a27f80",
   "metadata": {},
   "source": [
    "#### Merging Catagorical and Numerical Vars"
   ]
  },
  {
   "cell_type": "code",
   "execution_count": 49,
   "id": "51df12b2",
   "metadata": {},
   "outputs": [],
   "source": [
    "data=pd.concat([data_cont,data_cat],axis=1)"
   ]
  },
  {
   "cell_type": "code",
   "execution_count": 50,
   "id": "124635dd",
   "metadata": {},
   "outputs": [
    {
     "data": {
      "text/plain": [
       "(5000, 182)"
      ]
     },
     "execution_count": 50,
     "metadata": {},
     "output_type": "execute_result"
    }
   ],
   "source": [
    "data.shape"
   ]
  },
  {
   "cell_type": "markdown",
   "id": "3a0e5d7b",
   "metadata": {},
   "source": [
    "### Feature Engineering (Y-X Relationship)"
   ]
  },
  {
   "cell_type": "markdown",
   "id": "9540fbfa",
   "metadata": {},
   "source": [
    "#### Correlation Matix"
   ]
  },
  {
   "cell_type": "code",
   "execution_count": 51,
   "id": "3884dd0e",
   "metadata": {},
   "outputs": [],
   "source": [
    "corr_mat=pd.concat([Y,data],axis=1).corr()"
   ]
  },
  {
   "cell_type": "code",
   "execution_count": 52,
   "id": "020c1e7b",
   "metadata": {},
   "outputs": [],
   "source": [
    "corr_mat.to_excel('Corr_Matrix.xlsx')"
   ]
  },
  {
   "cell_type": "code",
   "execution_count": 53,
   "id": "ef4a0bb3",
   "metadata": {},
   "outputs": [],
   "source": [
    "#Based on the correlation Matrix we can pick feature which is influencing my Target Variable(Y=cardspent)"
   ]
  },
  {
   "cell_type": "code",
   "execution_count": 54,
   "id": "5dcb03f8",
   "metadata": {},
   "outputs": [
    {
     "data": {
      "text/plain": [
       "['income',\n",
       " 'carvalue',\n",
       " 'othdebt',\n",
       " 'carcatvalue_3',\n",
       " 'creddebt',\n",
       " 'inccat_5',\n",
       " 'retire_1',\n",
       " 'carcatvalue_1',\n",
       " 'card2_3']"
      ]
     },
     "execution_count": 54,
     "metadata": {},
     "output_type": "execute_result"
    }
   ],
   "source": [
    "features_corr='''income\n",
    "carvalue\n",
    "othdebt\n",
    "carcatvalue_3\n",
    "creddebt\n",
    "inccat_5\n",
    "retire_1\n",
    "carcatvalue_1\n",
    "card2_3'''.split('\\n')\n",
    "features_corr"
   ]
  },
  {
   "cell_type": "markdown",
   "id": "ae56fa3a",
   "metadata": {},
   "source": [
    "#### Univariate Regression (F-Regression)"
   ]
  },
  {
   "cell_type": "code",
   "execution_count": 55,
   "id": "a133727f",
   "metadata": {},
   "outputs": [],
   "source": [
    "f_value, p_value = f_regression(data,Y)"
   ]
  },
  {
   "cell_type": "code",
   "execution_count": 56,
   "id": "b6a5c64e",
   "metadata": {},
   "outputs": [],
   "source": [
    "f_regg_score=pd.concat([pd.Series(f_value),pd.Series(p_value)],axis=1)"
   ]
  },
  {
   "cell_type": "code",
   "execution_count": 57,
   "id": "2720711c",
   "metadata": {},
   "outputs": [],
   "source": [
    "f_regg_score.set_index(data.columns.difference(['cardspent']),drop=True,inplace=True)\n",
    "f_regg_score.rename(columns={0:'F_Value',1:'P_Value'},inplace=True)"
   ]
  },
  {
   "cell_type": "code",
   "execution_count": 58,
   "id": "9d28ab8d",
   "metadata": {},
   "outputs": [],
   "source": [
    "f_regg_score.to_excel('F_regg_result.xlsx')"
   ]
  },
  {
   "cell_type": "code",
   "execution_count": 59,
   "id": "a3b2c201",
   "metadata": {},
   "outputs": [],
   "source": [
    "f_regg_res='''agecat_3\n",
    "card2_2\n",
    "equipmon\n",
    "agecat_6\n",
    "forward_1\n",
    "agecat_5\n",
    "commute_4\n",
    "churn_1\n",
    "commute_3\n",
    "tollten\n",
    "edcat_4\n",
    "tollmon\n",
    "jobsat_4\n",
    "townsize_2.0\n",
    "edcat_5\n",
    "ownpc_1\n",
    "ownpda_1\n",
    "carown_1\n",
    "commute_2\n",
    "address\n",
    "cars_1\n",
    "card2tenure\n",
    "equipten\n",
    "pets_small\n",
    "tollfree_1\n",
    "card_3\n",
    "card_4\n",
    "carown_0\n",
    "cardtype_3\n",
    "cars_6\n",
    "pets_saltfish\n",
    "card2fee_1\n",
    "age\n",
    "owntv_1\n",
    "reside\n",
    "card2type_2\n",
    "card2type_3\n",
    "commutepublic_1\n",
    "townsize_3.0\n",
    "commute_10\n",
    "commuterail_1\n",
    "voice_1\n",
    "wireten\n",
    "card2_5\n",
    "polcontrib_1\n",
    "card2_4\n",
    "response_03_1\n",
    "ownipod_1\n",
    "card2benefit_2\n",
    "spousedcat_3\n",
    "spousedcat_4\n",
    "polparty_1\n",
    "spousedcat_2\n",
    "telecommute_1\n",
    "cars_4\n",
    "region_3\n",
    "carcatvalue_3\n",
    "region_4\n",
    "spousedcat_5\n",
    "cars_5\n",
    "cars_2\n",
    "ownvcr_1\n",
    "commute_9\n",
    "response_01_1\n",
    "longmon\n",
    "spousedcat_1\n",
    "cars_7\n",
    "townsize_4.0\n",
    "response_02_1\n",
    "card2benefit_3\n",
    "card2benefit_4\n",
    "reason_9\n",
    "union_1\n",
    "townsize_5.0\n",
    "confer_1\n",
    "owncd_1\n",
    "reason_4\n",
    "commutebus_1\n",
    "owngame_1\n",
    "commute_8\n",
    "vote_1\n",
    "card_2\n",
    "tenure\n",
    "commutemotorcycle_1\n",
    "hourstv\n",
    "bfast_2\n",
    "polview_6\n",
    "cardfee_1\n",
    "cardtype_4\n",
    "card_5\n",
    "commutetime\n",
    "wiremon'''.split('\\n')"
   ]
  },
  {
   "cell_type": "code",
   "execution_count": 60,
   "id": "eb788d2b",
   "metadata": {},
   "outputs": [
    {
     "data": {
      "text/plain": [
       "['agecat_3',\n",
       " 'card2_2',\n",
       " 'equipmon',\n",
       " 'agecat_6',\n",
       " 'forward_1',\n",
       " 'agecat_5',\n",
       " 'commute_4',\n",
       " 'churn_1',\n",
       " 'commute_3',\n",
       " 'tollten',\n",
       " 'edcat_4',\n",
       " 'tollmon',\n",
       " 'jobsat_4',\n",
       " 'townsize_2.0',\n",
       " 'edcat_5',\n",
       " 'ownpc_1',\n",
       " 'ownpda_1',\n",
       " 'carown_1',\n",
       " 'commute_2',\n",
       " 'address',\n",
       " 'cars_1',\n",
       " 'card2tenure',\n",
       " 'equipten',\n",
       " 'pets_small',\n",
       " 'tollfree_1',\n",
       " 'card_3',\n",
       " 'card_4',\n",
       " 'carown_0',\n",
       " 'cardtype_3',\n",
       " 'cars_6',\n",
       " 'pets_saltfish',\n",
       " 'card2fee_1',\n",
       " 'age',\n",
       " 'owntv_1',\n",
       " 'reside',\n",
       " 'card2type_2',\n",
       " 'card2type_3',\n",
       " 'commutepublic_1',\n",
       " 'townsize_3.0',\n",
       " 'commute_10',\n",
       " 'commuterail_1',\n",
       " 'voice_1',\n",
       " 'wireten',\n",
       " 'card2_5',\n",
       " 'polcontrib_1',\n",
       " 'card2_4',\n",
       " 'response_03_1',\n",
       " 'ownipod_1',\n",
       " 'card2benefit_2',\n",
       " 'spousedcat_3',\n",
       " 'spousedcat_4',\n",
       " 'polparty_1',\n",
       " 'spousedcat_2',\n",
       " 'telecommute_1',\n",
       " 'cars_4',\n",
       " 'region_3',\n",
       " 'carcatvalue_3',\n",
       " 'region_4',\n",
       " 'spousedcat_5',\n",
       " 'cars_5',\n",
       " 'cars_2',\n",
       " 'ownvcr_1',\n",
       " 'commute_9',\n",
       " 'response_01_1',\n",
       " 'longmon',\n",
       " 'spousedcat_1',\n",
       " 'cars_7',\n",
       " 'townsize_4.0',\n",
       " 'response_02_1',\n",
       " 'card2benefit_3',\n",
       " 'card2benefit_4',\n",
       " 'reason_9',\n",
       " 'union_1',\n",
       " 'townsize_5.0',\n",
       " 'confer_1',\n",
       " 'owncd_1',\n",
       " 'reason_4',\n",
       " 'commutebus_1',\n",
       " 'owngame_1',\n",
       " 'commute_8',\n",
       " 'vote_1',\n",
       " 'card_2',\n",
       " 'tenure',\n",
       " 'commutemotorcycle_1',\n",
       " 'hourstv',\n",
       " 'bfast_2',\n",
       " 'polview_6',\n",
       " 'cardfee_1',\n",
       " 'cardtype_4',\n",
       " 'card_5',\n",
       " 'commutetime',\n",
       " 'wiremon']"
      ]
     },
     "execution_count": 60,
     "metadata": {},
     "output_type": "execute_result"
    }
   ],
   "source": [
    "f_regg_res"
   ]
  },
  {
   "cell_type": "markdown",
   "id": "2c5ab763",
   "metadata": {},
   "source": [
    "#### Multivariate Analysis (RFE)"
   ]
  },
  {
   "cell_type": "code",
   "execution_count": 61,
   "id": "dd2156af",
   "metadata": {},
   "outputs": [
    {
     "data": {
      "text/plain": [
       "<AxesSubplot:xlabel='Log_card_spend', ylabel='Density'>"
      ]
     },
     "execution_count": 61,
     "metadata": {},
     "output_type": "execute_result"
    },
    {
     "data": {
      "image/png": "[encoded data removed]",
      "text/plain": [
       "<Figure size 432x288 with 1 Axes>"
      ]
     },
     "metadata": {
      "needs_background": "light"
     },
     "output_type": "display_data"
    }
   ],
   "source": [
    "sns.kdeplot(Y)"
   ]
  },
  {
   "cell_type": "code",
   "execution_count": 62,
   "id": "9a461328",
   "metadata": {},
   "outputs": [],
   "source": [
    "rfe=RFE(DecisionTreeRegressor(),n_features_to_select=30)"
   ]
  },
  {
   "cell_type": "code",
   "execution_count": 63,
   "id": "ff71c373",
   "metadata": {},
   "outputs": [],
   "source": [
    "rfe=rfe.fit(data,Y)"
   ]
  },
  {
   "cell_type": "code",
   "execution_count": 64,
   "id": "03ced10f",
   "metadata": {},
   "outputs": [],
   "source": [
    "rfe_result=data.columns[rfe.support_].tolist()"
   ]
  },
  {
   "cell_type": "markdown",
   "id": "472db7a0",
   "metadata": {},
   "source": [
    "#### Combining all Results"
   ]
  },
  {
   "cell_type": "code",
   "execution_count": 65,
   "id": "e4b11ffb",
   "metadata": {},
   "outputs": [
    {
     "data": {
      "text/plain": [
       "['income',\n",
       " 'carvalue',\n",
       " 'othdebt',\n",
       " 'carcatvalue_3',\n",
       " 'creddebt',\n",
       " 'inccat_5',\n",
       " 'retire_1',\n",
       " 'carcatvalue_1',\n",
       " 'card2_3']"
      ]
     },
     "execution_count": 65,
     "metadata": {},
     "output_type": "execute_result"
    }
   ],
   "source": [
    "features_corr"
   ]
  },
  {
   "cell_type": "code",
   "execution_count": 66,
   "id": "ae7af8f9",
   "metadata": {},
   "outputs": [
    {
     "data": {
      "text/plain": [
       "['age',\n",
       " 'ed',\n",
       " 'employ',\n",
       " 'income',\n",
       " 'debtinc',\n",
       " 'creddebt',\n",
       " 'othdebt',\n",
       " 'spoused',\n",
       " 'pets',\n",
       " 'pets_freshfish',\n",
       " 'address',\n",
       " 'carvalue',\n",
       " 'commutetime',\n",
       " 'cardtenure',\n",
       " 'card2tenure',\n",
       " 'tenure',\n",
       " 'longmon',\n",
       " 'longten',\n",
       " 'tollmon',\n",
       " 'equipmon',\n",
       " 'cardmon',\n",
       " 'cardten',\n",
       " 'hourstv',\n",
       " 'reason_2',\n",
       " 'card_2',\n",
       " 'card_3',\n",
       " 'card_4',\n",
       " 'card_5',\n",
       " 'card2_2',\n",
       " 'card2_3']"
      ]
     },
     "execution_count": 66,
     "metadata": {},
     "output_type": "execute_result"
    }
   ],
   "source": [
    "rfe_result"
   ]
  },
  {
   "cell_type": "code",
   "execution_count": 67,
   "id": "c8e560af",
   "metadata": {},
   "outputs": [
    {
     "data": {
      "text/plain": [
       "['agecat_3',\n",
       " 'card2_2',\n",
       " 'equipmon',\n",
       " 'agecat_6',\n",
       " 'forward_1',\n",
       " 'agecat_5',\n",
       " 'commute_4',\n",
       " 'churn_1',\n",
       " 'commute_3',\n",
       " 'tollten',\n",
       " 'edcat_4',\n",
       " 'tollmon',\n",
       " 'jobsat_4',\n",
       " 'townsize_2.0',\n",
       " 'edcat_5',\n",
       " 'ownpc_1',\n",
       " 'ownpda_1',\n",
       " 'carown_1',\n",
       " 'commute_2',\n",
       " 'address',\n",
       " 'cars_1',\n",
       " 'card2tenure',\n",
       " 'equipten',\n",
       " 'pets_small',\n",
       " 'tollfree_1',\n",
       " 'card_3',\n",
       " 'card_4',\n",
       " 'carown_0',\n",
       " 'cardtype_3',\n",
       " 'cars_6',\n",
       " 'pets_saltfish',\n",
       " 'card2fee_1',\n",
       " 'age',\n",
       " 'owntv_1',\n",
       " 'reside',\n",
       " 'card2type_2',\n",
       " 'card2type_3',\n",
       " 'commutepublic_1',\n",
       " 'townsize_3.0',\n",
       " 'commute_10',\n",
       " 'commuterail_1',\n",
       " 'voice_1',\n",
       " 'wireten',\n",
       " 'card2_5',\n",
       " 'polcontrib_1',\n",
       " 'card2_4',\n",
       " 'response_03_1',\n",
       " 'ownipod_1',\n",
       " 'card2benefit_2',\n",
       " 'spousedcat_3',\n",
       " 'spousedcat_4',\n",
       " 'polparty_1',\n",
       " 'spousedcat_2',\n",
       " 'telecommute_1',\n",
       " 'cars_4',\n",
       " 'region_3',\n",
       " 'carcatvalue_3',\n",
       " 'region_4',\n",
       " 'spousedcat_5',\n",
       " 'cars_5',\n",
       " 'cars_2',\n",
       " 'ownvcr_1',\n",
       " 'commute_9',\n",
       " 'response_01_1',\n",
       " 'longmon',\n",
       " 'spousedcat_1',\n",
       " 'cars_7',\n",
       " 'townsize_4.0',\n",
       " 'response_02_1',\n",
       " 'card2benefit_3',\n",
       " 'card2benefit_4',\n",
       " 'reason_9',\n",
       " 'union_1',\n",
       " 'townsize_5.0',\n",
       " 'confer_1',\n",
       " 'owncd_1',\n",
       " 'reason_4',\n",
       " 'commutebus_1',\n",
       " 'owngame_1',\n",
       " 'commute_8',\n",
       " 'vote_1',\n",
       " 'card_2',\n",
       " 'tenure',\n",
       " 'commutemotorcycle_1',\n",
       " 'hourstv',\n",
       " 'bfast_2',\n",
       " 'polview_6',\n",
       " 'cardfee_1',\n",
       " 'cardtype_4',\n",
       " 'card_5',\n",
       " 'commutetime',\n",
       " 'wiremon']"
      ]
     },
     "execution_count": 67,
     "metadata": {},
     "output_type": "execute_result"
    }
   ],
   "source": [
    "f_regg_res"
   ]
  },
  {
   "cell_type": "code",
   "execution_count": 68,
   "id": "d19166ed",
   "metadata": {},
   "outputs": [],
   "source": [
    "final_features=f_regg_res+rfe_result+features_corr"
   ]
  },
  {
   "cell_type": "code",
   "execution_count": 69,
   "id": "53de33f1",
   "metadata": {},
   "outputs": [
    {
     "data": {
      "text/plain": [
       "111"
      ]
     },
     "execution_count": 69,
     "metadata": {},
     "output_type": "execute_result"
    }
   ],
   "source": [
    "len(list(set(final_features)))"
   ]
  },
  {
   "cell_type": "code",
   "execution_count": 70,
   "id": "4bf71641",
   "metadata": {},
   "outputs": [],
   "source": [
    "final_features=list(set(final_features))"
   ]
  },
  {
   "cell_type": "code",
   "execution_count": 71,
   "id": "94b00867",
   "metadata": {},
   "outputs": [],
   "source": [
    "data_final=data[final_features]"
   ]
  },
  {
   "cell_type": "markdown",
   "id": "6f69390b",
   "metadata": {},
   "source": [
    "### Feature Engineering (X-X Relationship)"
   ]
  },
  {
   "cell_type": "code",
   "execution_count": 72,
   "id": "fa45a64a",
   "metadata": {},
   "outputs": [
    {
     "data": {
      "text/plain": [
       "(5000, 111)"
      ]
     },
     "execution_count": 72,
     "metadata": {},
     "output_type": "execute_result"
    }
   ],
   "source": [
    "data_final.shape"
   ]
  },
  {
   "cell_type": "code",
   "execution_count": 73,
   "id": "51f9d412",
   "metadata": {},
   "outputs": [],
   "source": [
    "data_lr=data_final[\n",
    " [\n",
    "#  'cars_6',\n",
    "#  'union_1',\n",
    " 'card_4',\n",
    "#  'commute_9',\n",
    "#  'spousedcat_3',\n",
    "#  'longten',\n",
    "#  'tollfree_1',\n",
    "#  'forward_1',\n",
    "#  'churn_1',\n",
    "#  'ownipod_1',\n",
    "#  'agecat_6',\n",
    " 'card_5',\n",
    "#  'agecat_3',\n",
    "#  'edcat_4',\n",
    " 'age',\n",
    "#  'commuterail_1',\n",
    "#  'pets_small',\n",
    "#  'carown_1',\n",
    "#  'wireten',\n",
    "#  'employ',\n",
    "#  'ownpc_1',\n",
    " 'income',\n",
    "#  'townsize_3.0',\n",
    "#  'edcat_5',\n",
    " 'creddebt',\n",
    "#  'reason_4',\n",
    "#  'cardtype_3',\n",
    "#  'region_4',\n",
    "#  'card2tenure',\n",
    "#  'pets_freshfish',\n",
    "#  'townsize_5.0',\n",
    "#  'equipmon',\n",
    "#  'polparty_1',\n",
    "#  'carcatvalue_3',\n",
    "#  'equipten',\n",
    "#  'owncd_1',\n",
    "#  'confer_1',\n",
    "#  'voice_1',\n",
    "#  'pets',\n",
    "#  'telecommute_1',\n",
    "#  'vote_1',\n",
    "#  'agecat_5',\n",
    "#  'spousedcat_1',\n",
    " 'card_2',\n",
    "#  'cardten',\n",
    "#  'tenure',\n",
    "#  'commute_10',\n",
    "#  'tollten',\n",
    "#  'pets_saltfish',\n",
    "#  'jobsat_4',\n",
    "#  'cardfee_1',\n",
    "#  'spousedcat_5',\n",
    "#  'tollmon',\n",
    "#  'card2benefit_2',\n",
    "#  'cars_1',\n",
    "#  'spousedcat_4',\n",
    "#  'polcontrib_1',\n",
    "#  'cars_7',\n",
    "#  'address',\n",
    "#  'card2type_2',\n",
    "  'ed',\n",
    "#  'region_3',\n",
    "#  'cardtype_4',\n",
    "#  'commutepublic_1',\n",
    "#  'cars_5',\n",
    "#  'ownvcr_1',\n",
    "#  'commute_3',\n",
    " 'card2_2',\n",
    "#  'card2benefit_4',\n",
    "#  'cardtenure',\n",
    " 'othdebt',\n",
    "#  'spousedcat_2',\n",
    "#  'response_03_1',\n",
    "#  'card2benefit_3',\n",
    "#  'response_01_1',\n",
    "#  'commutemotorcycle_1',\n",
    "#  'commute_8',\n",
    "#  'retire_1',\n",
    "#  'card2type_3',\n",
    "#  'carcatvalue_1',\n",
    "#  'owngame_1',\n",
    "#  'owntv_1',\n",
    "#  'longmon',\n",
    "#  'commutebus_1',\n",
    "#  'carvalue',\n",
    "#  'card2fee_1',\n",
    "#  'inccat_5',\n",
    "#  'commute_4',\n",
    "#  'reason_9',\n",
    "#  'cars_4',\n",
    "#   'card2_3',\n",
    " 'reason_2',\n",
    "#  'wiremon',\n",
    " 'card2_5',\n",
    "#  'ownpda_1',\n",
    " 'card_3',\n",
    "#  'commute_2',\n",
    " 'card2_4',\n",
    "#  'hourstv',\n",
    "#  'commutetime',\n",
    " 'debtinc',\n",
    "#  'spoused',\n",
    "#  'response_02_1',\n",
    "#  'polview_6',\n",
    "#  'reside',\n",
    "#  'townsize_4.0',\n",
    "#  'cardmon',\n",
    "#  'townsize_2.0',\n",
    "#  'carown_0',\n",
    "#  'bfast_2',\n",
    "#  'cars_2',\n",
    " 'card2_3'\n",
    " ]]"
   ]
  },
  {
   "cell_type": "code",
   "execution_count": 74,
   "id": "42285acc",
   "metadata": {},
   "outputs": [],
   "source": [
    "vif = pd.DataFrame()\n",
    "vif[\"VIF_Factor\"] = [variance_inflation_factor(data_lr.values, i) for i in range(data_lr.shape[1])]\n",
    "vif[\"features\"] = data_lr.columns"
   ]
  },
  {
   "cell_type": "code",
   "execution_count": 75,
   "id": "7563230a",
   "metadata": {},
   "outputs": [
    {
     "data": {
      "text/html": [
       "<div>\n",
       "<style scoped>\n",
       "    .dataframe tbody tr th:only-of-type {\n",
       "        vertical-align: middle;\n",
       "    }\n",
       "\n",
       "    .dataframe tbody tr th {\n",
       "        vertical-align: top;\n",
       "    }\n",
       "\n",
       "    .dataframe thead th {\n",
       "        text-align: right;\n",
       "    }\n",
       "</style>\n",
       "<table border=\"1\" class=\"dataframe\">\n",
       "  <thead>\n",
       "    <tr style=\"text-align: right;\">\n",
       "      <th></th>\n",
       "      <th>VIF_Factor</th>\n",
       "      <th>features</th>\n",
       "    </tr>\n",
       "  </thead>\n",
       "  <tbody>\n",
       "    <tr>\n",
       "      <th>2</th>\n",
       "      <td>7.317864</td>\n",
       "      <td>age</td>\n",
       "    </tr>\n",
       "    <tr>\n",
       "      <th>8</th>\n",
       "      <td>11.401648</td>\n",
       "      <td>othdebt</td>\n",
       "    </tr>\n",
       "    <tr>\n",
       "      <th>6</th>\n",
       "      <td>12.403441</td>\n",
       "      <td>ed</td>\n",
       "    </tr>\n",
       "    <tr>\n",
       "      <th>13</th>\n",
       "      <td>13.010300</td>\n",
       "      <td>debtinc</td>\n",
       "    </tr>\n",
       "    <tr>\n",
       "      <th>3</th>\n",
       "      <td>15.283435</td>\n",
       "      <td>income</td>\n",
       "    </tr>\n",
       "  </tbody>\n",
       "</table>\n",
       "</div>"
      ],
      "text/plain": [
       "    VIF_Factor features\n",
       "2     7.317864      age\n",
       "8    11.401648  othdebt\n",
       "6    12.403441       ed\n",
       "13   13.010300  debtinc\n",
       "3    15.283435   income"
      ]
     },
     "execution_count": 75,
     "metadata": {},
     "output_type": "execute_result"
    }
   ],
   "source": [
    "vif.sort_values(by='VIF_Factor').sort_values('VIF_Factor').tail()"
   ]
  },
  {
   "cell_type": "markdown",
   "id": "3758bb45",
   "metadata": {},
   "source": [
    "## Model Creation"
   ]
  },
  {
   "cell_type": "markdown",
   "id": "0850dc29",
   "metadata": {},
   "source": [
    "### 1.Linear Regression"
   ]
  },
  {
   "cell_type": "markdown",
   "id": "9fc0188a",
   "metadata": {},
   "source": [
    "#### Train Test Split for Linear Regression"
   ]
  },
  {
   "cell_type": "code",
   "execution_count": 76,
   "id": "97a7f0fc",
   "metadata": {},
   "outputs": [
    {
     "name": "stdout",
     "output_type": "stream",
     "text": [
      "(3500, 15)\n",
      "(1500, 15)\n",
      "(3500,)\n",
      "(1500,)\n"
     ]
    }
   ],
   "source": [
    "X_train,X_test,Y_train,Y_test=train_test_split(data_lr,Y,train_size=0.7,random_state=101)\n",
    "print(X_train.shape)\n",
    "print(X_test.shape)\n",
    "print(Y_train.shape)\n",
    "print(Y_test.shape)"
   ]
  },
  {
   "cell_type": "code",
   "execution_count": 77,
   "id": "6e1d24d1",
   "metadata": {},
   "outputs": [],
   "source": [
    "formula='Log_card_spend~'\n",
    "for i in X_train.columns:\n",
    "    formula=formula+str(i)+'+'\n",
    "formula=formula[:len(formula)-1]"
   ]
  },
  {
   "cell_type": "code",
   "execution_count": 78,
   "id": "9d929cdd",
   "metadata": {},
   "outputs": [
    {
     "data": {
      "text/plain": [
       "'Log_card_spend~card_4+card_5+age+income+creddebt+card_2+ed+card2_2+othdebt+reason_2+card2_5+card_3+card2_4+debtinc+card2_3'"
      ]
     },
     "execution_count": 78,
     "metadata": {},
     "output_type": "execute_result"
    }
   ],
   "source": [
    "formula"
   ]
  },
  {
   "cell_type": "code",
   "execution_count": 79,
   "id": "ab782f4e",
   "metadata": {},
   "outputs": [],
   "source": [
    "ols=smf.ols(formula=formula,data=pd.concat([X_train,Y_train],axis=1))"
   ]
  },
  {
   "cell_type": "code",
   "execution_count": 80,
   "id": "23e4c64e",
   "metadata": {},
   "outputs": [],
   "source": [
    "ols=ols.fit()"
   ]
  },
  {
   "cell_type": "code",
   "execution_count": 81,
   "id": "1c1c75ba",
   "metadata": {},
   "outputs": [
    {
     "name": "stdout",
     "output_type": "stream",
     "text": [
      "                            OLS Regression Results                            \n",
      "==============================================================================\n",
      "Dep. Variable:         Log_card_spend   R-squared:                       0.328\n",
      "Model:                            OLS   Adj. R-squared:                  0.325\n",
      "Method:                 Least Squares   F-statistic:                     113.3\n",
      "Date:                Thu, 10 Jun 2021   Prob (F-statistic):          1.11e-286\n",
      "Time:                        14:22:44   Log-Likelihood:                -2649.1\n",
      "No. Observations:                3500   AIC:                             5330.\n",
      "Df Residuals:                    3484   BIC:                             5429.\n",
      "Df Model:                          15                                         \n",
      "Covariance Type:            nonrobust                                         \n",
      "==============================================================================\n",
      "                 coef    std err          t      P>|t|      [0.025      0.975]\n",
      "------------------------------------------------------------------------------\n",
      "Intercept      6.7323      0.066    101.832      0.000       6.603       6.862\n",
      "card_4        -0.6846      0.029    -23.482      0.000      -0.742      -0.627\n",
      "card_5        -0.4713      0.047     -9.928      0.000      -0.564      -0.378\n",
      "age           -0.0024      0.001     -4.743      0.000      -0.003      -0.001\n",
      "income         0.0051      0.001      8.538      0.000       0.004       0.006\n",
      "creddebt       0.0326      0.010      3.101      0.002       0.012       0.053\n",
      "card_2        -0.5675      0.028    -20.084      0.000      -0.623      -0.512\n",
      "ed            -0.0071      0.003     -2.465      0.014      -0.013      -0.001\n",
      "card2_2       -0.3949      0.029    -13.790      0.000      -0.451      -0.339\n",
      "othdebt        0.0206      0.008      2.693      0.007       0.006       0.036\n",
      "reason_2       0.2668      0.035      7.540      0.000       0.197       0.336\n",
      "card2_5       -0.3414      0.043     -7.976      0.000      -0.425      -0.257\n",
      "card_3        -0.5940      0.028    -20.907      0.000      -0.650      -0.538\n",
      "card2_4       -0.4401      0.032    -13.951      0.000      -0.502      -0.378\n",
      "debtinc       -0.0067      0.003     -2.329      0.020      -0.012      -0.001\n",
      "card2_3       -0.3865      0.029    -13.386      0.000      -0.443      -0.330\n",
      "==============================================================================\n",
      "Omnibus:                       30.990   Durbin-Watson:                   1.949\n",
      "Prob(Omnibus):                  0.000   Jarque-Bera (JB):               31.706\n",
      "Skew:                          -0.233   Prob(JB):                     1.30e-07\n",
      "Kurtosis:                       2.975   Cond. No.                         680.\n",
      "==============================================================================\n",
      "\n",
      "Notes:\n",
      "[1] Standard Errors assume that the covariance matrix of the errors is correctly specified.\n"
     ]
    }
   ],
   "source": [
    "print(ols.summary())"
   ]
  },
  {
   "cell_type": "code",
   "execution_count": 82,
   "id": "3c49a3f4",
   "metadata": {},
   "outputs": [
    {
     "name": "stdout",
     "output_type": "stream",
     "text": [
      "linear_regression_training_score : 0.3279019896206855\n",
      "linear_regression_testing_score : 0.32901442570970263\n"
     ]
    }
   ],
   "source": [
    "linear_regression_training_score=metrics.r2_score(Y_train,ols.predict(X_train))\n",
    "linear_regression_testing_score=metrics.r2_score(Y_test,ols.predict(X_test))\n",
    "print('linear_regression_training_score :',linear_regression_training_score)\n",
    "print('linear_regression_testing_score :',linear_regression_testing_score)"
   ]
  },
  {
   "cell_type": "code",
   "execution_count": 83,
   "id": "4f57ad31",
   "metadata": {},
   "outputs": [
    {
     "name": "stdout",
     "output_type": "stream",
     "text": [
      "linear_regression_training_mape : 0.07027466089577683\n",
      "linear_regression_testing_mape : 0.07169251671391977\n"
     ]
    }
   ],
   "source": [
    "linear_regression_training_mape=metrics.mean_absolute_percentage_error(Y_train,ols.predict(X_train))\n",
    "linear_regression_testing_mape=metrics.mean_absolute_percentage_error(Y_test,ols.predict(X_test))\n",
    "print('linear_regression_training_mape :',linear_regression_training_mape)\n",
    "print('linear_regression_testing_mape :',linear_regression_testing_mape)"
   ]
  },
  {
   "cell_type": "code",
   "execution_count": 84,
   "id": "200df33f",
   "metadata": {},
   "outputs": [
    {
     "name": "stdout",
     "output_type": "stream",
     "text": [
      "linear_regression_training_mse : 0.26603513179370447\n",
      "linear_regression_testing_mse : 0.27989043582106404\n"
     ]
    }
   ],
   "source": [
    "linear_regression_training_mse=metrics.mean_squared_error(Y_train,ols.predict(X_train))\n",
    "linear_regression_testing_mse=metrics.mean_squared_error(Y_test,ols.predict(X_test))\n",
    "print('linear_regression_training_mse :',linear_regression_training_mse)\n",
    "print('linear_regression_testing_mse :',linear_regression_testing_mse)"
   ]
  },
  {
   "cell_type": "code",
   "execution_count": 85,
   "id": "12fa3005",
   "metadata": {},
   "outputs": [
    {
     "data": {
      "image/png": "[encoded data removed]",
      "text/plain": [
       "<Figure size 720x360 with 1 Axes>"
      ]
     },
     "metadata": {
      "needs_background": "light"
     },
     "output_type": "display_data"
    }
   ],
   "source": [
    "plt.figure(figsize=(10,5))\n",
    "sns.scatterplot(Y,ols.predict(data_lr))\n",
    "plt.title('Linear Regression Prediction Plot')\n",
    "plt.show()"
   ]
  },
  {
   "cell_type": "markdown",
   "id": "4c90be43",
   "metadata": {},
   "source": [
    "### 2. KNN"
   ]
  },
  {
   "cell_type": "code",
   "execution_count": 86,
   "id": "dc0d210e",
   "metadata": {},
   "outputs": [
    {
     "data": {
      "text/plain": [
       "(5000, 111)"
      ]
     },
     "execution_count": 86,
     "metadata": {},
     "output_type": "execute_result"
    }
   ],
   "source": [
    "data_final.shape"
   ]
  },
  {
   "cell_type": "code",
   "execution_count": 87,
   "id": "8bb93e05",
   "metadata": {},
   "outputs": [],
   "source": [
    "# Standardization for KNN"
   ]
  },
  {
   "cell_type": "code",
   "execution_count": 88,
   "id": "22e16e50",
   "metadata": {},
   "outputs": [],
   "source": [
    "standard_X=MinMaxScaler()"
   ]
  },
  {
   "cell_type": "code",
   "execution_count": 89,
   "id": "36b8fb1d",
   "metadata": {},
   "outputs": [],
   "source": [
    "standard_X=standard_X.fit_transform(data_final)"
   ]
  },
  {
   "cell_type": "code",
   "execution_count": 90,
   "id": "8e8acbcd",
   "metadata": {},
   "outputs": [],
   "source": [
    "standard_X=pd.DataFrame(standard_X,columns=data_final.columns)"
   ]
  },
  {
   "cell_type": "code",
   "execution_count": 91,
   "id": "2ef86003",
   "metadata": {},
   "outputs": [
    {
     "data": {
      "text/html": [
       "<div>\n",
       "<style scoped>\n",
       "    .dataframe tbody tr th:only-of-type {\n",
       "        vertical-align: middle;\n",
       "    }\n",
       "\n",
       "    .dataframe tbody tr th {\n",
       "        vertical-align: top;\n",
       "    }\n",
       "\n",
       "    .dataframe thead th {\n",
       "        text-align: right;\n",
       "    }\n",
       "</style>\n",
       "<table border=\"1\" class=\"dataframe\">\n",
       "  <thead>\n",
       "    <tr style=\"text-align: right;\">\n",
       "      <th></th>\n",
       "      <th>spousedcat_2</th>\n",
       "      <th>address</th>\n",
       "      <th>pets_small</th>\n",
       "      <th>agecat_5</th>\n",
       "      <th>spousedcat_3</th>\n",
       "      <th>ed</th>\n",
       "      <th>tenure</th>\n",
       "      <th>commutemotorcycle_1</th>\n",
       "      <th>card2tenure</th>\n",
       "      <th>cars_4</th>\n",
       "      <th>...</th>\n",
       "      <th>pets</th>\n",
       "      <th>carown_0</th>\n",
       "      <th>tollfree_1</th>\n",
       "      <th>pets_freshfish</th>\n",
       "      <th>townsize_4.0</th>\n",
       "      <th>tollten</th>\n",
       "      <th>card2type_2</th>\n",
       "      <th>cars_6</th>\n",
       "      <th>owncd_1</th>\n",
       "      <th>commutepublic_1</th>\n",
       "    </tr>\n",
       "  </thead>\n",
       "  <tbody>\n",
       "    <tr>\n",
       "      <th>0</th>\n",
       "      <td>0.0</td>\n",
       "      <td>0.000000</td>\n",
       "      <td>0.0</td>\n",
       "      <td>0.0</td>\n",
       "      <td>0.0</td>\n",
       "      <td>0.529412</td>\n",
       "      <td>0.069444</td>\n",
       "      <td>1.0</td>\n",
       "      <td>0.100000</td>\n",
       "      <td>0.0</td>\n",
       "      <td>...</td>\n",
       "      <td>0.00</td>\n",
       "      <td>0.0</td>\n",
       "      <td>1.0</td>\n",
       "      <td>0.0</td>\n",
       "      <td>0.0</td>\n",
       "      <td>0.072754</td>\n",
       "      <td>0.0</td>\n",
       "      <td>0.0</td>\n",
       "      <td>0.0</td>\n",
       "      <td>0.0</td>\n",
       "    </tr>\n",
       "    <tr>\n",
       "      <th>1</th>\n",
       "      <td>0.0</td>\n",
       "      <td>0.037383</td>\n",
       "      <td>0.0</td>\n",
       "      <td>0.0</td>\n",
       "      <td>0.0</td>\n",
       "      <td>0.647059</td>\n",
       "      <td>0.541667</td>\n",
       "      <td>0.0</td>\n",
       "      <td>0.133333</td>\n",
       "      <td>0.0</td>\n",
       "      <td>...</td>\n",
       "      <td>0.48</td>\n",
       "      <td>0.0</td>\n",
       "      <td>0.0</td>\n",
       "      <td>0.6</td>\n",
       "      <td>0.0</td>\n",
       "      <td>0.000000</td>\n",
       "      <td>0.0</td>\n",
       "      <td>0.0</td>\n",
       "      <td>1.0</td>\n",
       "      <td>0.0</td>\n",
       "    </tr>\n",
       "    <tr>\n",
       "      <th>2</th>\n",
       "      <td>1.0</td>\n",
       "      <td>0.560748</td>\n",
       "      <td>0.0</td>\n",
       "      <td>0.0</td>\n",
       "      <td>0.0</td>\n",
       "      <td>0.470588</td>\n",
       "      <td>0.902778</td>\n",
       "      <td>0.0</td>\n",
       "      <td>0.833333</td>\n",
       "      <td>0.0</td>\n",
       "      <td>...</td>\n",
       "      <td>0.24</td>\n",
       "      <td>0.0</td>\n",
       "      <td>0.0</td>\n",
       "      <td>0.0</td>\n",
       "      <td>1.0</td>\n",
       "      <td>0.000000</td>\n",
       "      <td>0.0</td>\n",
       "      <td>0.0</td>\n",
       "      <td>1.0</td>\n",
       "      <td>0.0</td>\n",
       "    </tr>\n",
       "    <tr>\n",
       "      <th>3</th>\n",
       "      <td>0.0</td>\n",
       "      <td>0.056075</td>\n",
       "      <td>0.0</td>\n",
       "      <td>0.0</td>\n",
       "      <td>0.0</td>\n",
       "      <td>0.588235</td>\n",
       "      <td>0.500000</td>\n",
       "      <td>0.0</td>\n",
       "      <td>0.166667</td>\n",
       "      <td>0.0</td>\n",
       "      <td>...</td>\n",
       "      <td>0.00</td>\n",
       "      <td>0.0</td>\n",
       "      <td>0.0</td>\n",
       "      <td>0.0</td>\n",
       "      <td>0.0</td>\n",
       "      <td>0.000000</td>\n",
       "      <td>1.0</td>\n",
       "      <td>0.0</td>\n",
       "      <td>1.0</td>\n",
       "      <td>0.0</td>\n",
       "    </tr>\n",
       "    <tr>\n",
       "      <th>4</th>\n",
       "      <td>1.0</td>\n",
       "      <td>0.056075</td>\n",
       "      <td>0.0</td>\n",
       "      <td>0.0</td>\n",
       "      <td>0.0</td>\n",
       "      <td>0.588235</td>\n",
       "      <td>0.291667</td>\n",
       "      <td>0.0</td>\n",
       "      <td>0.300000</td>\n",
       "      <td>0.0</td>\n",
       "      <td>...</td>\n",
       "      <td>0.00</td>\n",
       "      <td>1.0</td>\n",
       "      <td>1.0</td>\n",
       "      <td>0.0</td>\n",
       "      <td>0.0</td>\n",
       "      <td>0.175143</td>\n",
       "      <td>0.0</td>\n",
       "      <td>0.0</td>\n",
       "      <td>1.0</td>\n",
       "      <td>1.0</td>\n",
       "    </tr>\n",
       "  </tbody>\n",
       "</table>\n",
       "<p>5 rows × 111 columns</p>\n",
       "</div>"
      ],
      "text/plain": [
       "   spousedcat_2   address  pets_small  agecat_5  spousedcat_3        ed  \\\n",
       "0           0.0  0.000000         0.0       0.0           0.0  0.529412   \n",
       "1           0.0  0.037383         0.0       0.0           0.0  0.647059   \n",
       "2           1.0  0.560748         0.0       0.0           0.0  0.470588   \n",
       "3           0.0  0.056075         0.0       0.0           0.0  0.588235   \n",
       "4           1.0  0.056075         0.0       0.0           0.0  0.588235   \n",
       "\n",
       "     tenure  commutemotorcycle_1  card2tenure  cars_4  ...  pets  carown_0  \\\n",
       "0  0.069444                  1.0     0.100000     0.0  ...  0.00       0.0   \n",
       "1  0.541667                  0.0     0.133333     0.0  ...  0.48       0.0   \n",
       "2  0.902778                  0.0     0.833333     0.0  ...  0.24       0.0   \n",
       "3  0.500000                  0.0     0.166667     0.0  ...  0.00       0.0   \n",
       "4  0.291667                  0.0     0.300000     0.0  ...  0.00       1.0   \n",
       "\n",
       "   tollfree_1  pets_freshfish  townsize_4.0   tollten  card2type_2  cars_6  \\\n",
       "0         1.0             0.0           0.0  0.072754          0.0     0.0   \n",
       "1         0.0             0.6           0.0  0.000000          0.0     0.0   \n",
       "2         0.0             0.0           1.0  0.000000          0.0     0.0   \n",
       "3         0.0             0.0           0.0  0.000000          1.0     0.0   \n",
       "4         1.0             0.0           0.0  0.175143          0.0     0.0   \n",
       "\n",
       "   owncd_1  commutepublic_1  \n",
       "0      0.0              0.0  \n",
       "1      1.0              0.0  \n",
       "2      1.0              0.0  \n",
       "3      1.0              0.0  \n",
       "4      1.0              1.0  \n",
       "\n",
       "[5 rows x 111 columns]"
      ]
     },
     "execution_count": 91,
     "metadata": {},
     "output_type": "execute_result"
    }
   ],
   "source": [
    "standard_X.head()"
   ]
  },
  {
   "cell_type": "code",
   "execution_count": 92,
   "id": "a44a4374",
   "metadata": {},
   "outputs": [
    {
     "data": {
      "text/html": [
       "<div>\n",
       "<style scoped>\n",
       "    .dataframe tbody tr th:only-of-type {\n",
       "        vertical-align: middle;\n",
       "    }\n",
       "\n",
       "    .dataframe tbody tr th {\n",
       "        vertical-align: top;\n",
       "    }\n",
       "\n",
       "    .dataframe thead th {\n",
       "        text-align: right;\n",
       "    }\n",
       "</style>\n",
       "<table border=\"1\" class=\"dataframe\">\n",
       "  <thead>\n",
       "    <tr style=\"text-align: right;\">\n",
       "      <th></th>\n",
       "      <th>spousedcat_2</th>\n",
       "      <th>address</th>\n",
       "      <th>pets_small</th>\n",
       "      <th>agecat_5</th>\n",
       "      <th>spousedcat_3</th>\n",
       "      <th>ed</th>\n",
       "      <th>tenure</th>\n",
       "      <th>commutemotorcycle_1</th>\n",
       "      <th>card2tenure</th>\n",
       "      <th>cars_4</th>\n",
       "      <th>...</th>\n",
       "      <th>pets</th>\n",
       "      <th>carown_0</th>\n",
       "      <th>tollfree_1</th>\n",
       "      <th>pets_freshfish</th>\n",
       "      <th>townsize_4.0</th>\n",
       "      <th>tollten</th>\n",
       "      <th>card2type_2</th>\n",
       "      <th>cars_6</th>\n",
       "      <th>owncd_1</th>\n",
       "      <th>commutepublic_1</th>\n",
       "    </tr>\n",
       "  </thead>\n",
       "  <tbody>\n",
       "    <tr>\n",
       "      <th>count</th>\n",
       "      <td>5000.00000</td>\n",
       "      <td>5000.000000</td>\n",
       "      <td>5000.0</td>\n",
       "      <td>5000.000000</td>\n",
       "      <td>5000.000000</td>\n",
       "      <td>5000.000000</td>\n",
       "      <td>5000.000000</td>\n",
       "      <td>5000.000000</td>\n",
       "      <td>5000.000000</td>\n",
       "      <td>5000.000000</td>\n",
       "      <td>...</td>\n",
       "      <td>5000.000000</td>\n",
       "      <td>5000.000000</td>\n",
       "      <td>5000.000000</td>\n",
       "      <td>5000.000000</td>\n",
       "      <td>5000.000000</td>\n",
       "      <td>5000.000000</td>\n",
       "      <td>5000.00000</td>\n",
       "      <td>5000.000000</td>\n",
       "      <td>5000.000000</td>\n",
       "      <td>5000.000000</td>\n",
       "    </tr>\n",
       "    <tr>\n",
       "      <th>mean</th>\n",
       "      <td>0.15780</td>\n",
       "      <td>0.306518</td>\n",
       "      <td>0.0</td>\n",
       "      <td>0.239000</td>\n",
       "      <td>0.101400</td>\n",
       "      <td>0.502529</td>\n",
       "      <td>0.530622</td>\n",
       "      <td>0.102600</td>\n",
       "      <td>0.436147</td>\n",
       "      <td>0.096200</td>\n",
       "      <td>...</td>\n",
       "      <td>0.243432</td>\n",
       "      <td>0.159800</td>\n",
       "      <td>0.475600</td>\n",
       "      <td>0.182140</td>\n",
       "      <td>0.171400</td>\n",
       "      <td>0.229723</td>\n",
       "      <td>0.24700</td>\n",
       "      <td>0.010200</td>\n",
       "      <td>0.932800</td>\n",
       "      <td>0.095400</td>\n",
       "    </tr>\n",
       "    <tr>\n",
       "      <th>std</th>\n",
       "      <td>0.36459</td>\n",
       "      <td>0.231514</td>\n",
       "      <td>0.0</td>\n",
       "      <td>0.426515</td>\n",
       "      <td>0.301888</td>\n",
       "      <td>0.193005</td>\n",
       "      <td>0.314748</td>\n",
       "      <td>0.303466</td>\n",
       "      <td>0.303980</td>\n",
       "      <td>0.294895</td>\n",
       "      <td>...</td>\n",
       "      <td>0.266633</td>\n",
       "      <td>0.366457</td>\n",
       "      <td>0.499454</td>\n",
       "      <td>0.299267</td>\n",
       "      <td>0.376896</td>\n",
       "      <td>0.336650</td>\n",
       "      <td>0.43131</td>\n",
       "      <td>0.100489</td>\n",
       "      <td>0.250393</td>\n",
       "      <td>0.293796</td>\n",
       "    </tr>\n",
       "    <tr>\n",
       "      <th>min</th>\n",
       "      <td>0.00000</td>\n",
       "      <td>0.000000</td>\n",
       "      <td>0.0</td>\n",
       "      <td>0.000000</td>\n",
       "      <td>0.000000</td>\n",
       "      <td>0.000000</td>\n",
       "      <td>0.000000</td>\n",
       "      <td>0.000000</td>\n",
       "      <td>0.000000</td>\n",
       "      <td>0.000000</td>\n",
       "      <td>...</td>\n",
       "      <td>0.000000</td>\n",
       "      <td>0.000000</td>\n",
       "      <td>0.000000</td>\n",
       "      <td>0.000000</td>\n",
       "      <td>0.000000</td>\n",
       "      <td>0.000000</td>\n",
       "      <td>0.00000</td>\n",
       "      <td>0.000000</td>\n",
       "      <td>0.000000</td>\n",
       "      <td>0.000000</td>\n",
       "    </tr>\n",
       "    <tr>\n",
       "      <th>25%</th>\n",
       "      <td>0.00000</td>\n",
       "      <td>0.112150</td>\n",
       "      <td>0.0</td>\n",
       "      <td>0.000000</td>\n",
       "      <td>0.000000</td>\n",
       "      <td>0.352941</td>\n",
       "      <td>0.250000</td>\n",
       "      <td>0.000000</td>\n",
       "      <td>0.166667</td>\n",
       "      <td>0.000000</td>\n",
       "      <td>...</td>\n",
       "      <td>0.000000</td>\n",
       "      <td>0.000000</td>\n",
       "      <td>0.000000</td>\n",
       "      <td>0.000000</td>\n",
       "      <td>0.000000</td>\n",
       "      <td>0.000000</td>\n",
       "      <td>0.00000</td>\n",
       "      <td>0.000000</td>\n",
       "      <td>1.000000</td>\n",
       "      <td>0.000000</td>\n",
       "    </tr>\n",
       "    <tr>\n",
       "      <th>50%</th>\n",
       "      <td>0.00000</td>\n",
       "      <td>0.261682</td>\n",
       "      <td>0.0</td>\n",
       "      <td>0.000000</td>\n",
       "      <td>0.000000</td>\n",
       "      <td>0.470588</td>\n",
       "      <td>0.527778</td>\n",
       "      <td>0.000000</td>\n",
       "      <td>0.400000</td>\n",
       "      <td>0.000000</td>\n",
       "      <td>...</td>\n",
       "      <td>0.160000</td>\n",
       "      <td>0.000000</td>\n",
       "      <td>0.000000</td>\n",
       "      <td>0.000000</td>\n",
       "      <td>0.000000</td>\n",
       "      <td>0.000000</td>\n",
       "      <td>0.00000</td>\n",
       "      <td>0.000000</td>\n",
       "      <td>1.000000</td>\n",
       "      <td>0.000000</td>\n",
       "    </tr>\n",
       "    <tr>\n",
       "      <th>75%</th>\n",
       "      <td>0.00000</td>\n",
       "      <td>0.467290</td>\n",
       "      <td>0.0</td>\n",
       "      <td>0.000000</td>\n",
       "      <td>0.000000</td>\n",
       "      <td>0.647059</td>\n",
       "      <td>0.819444</td>\n",
       "      <td>0.000000</td>\n",
       "      <td>0.700000</td>\n",
       "      <td>0.000000</td>\n",
       "      <td>...</td>\n",
       "      <td>0.400000</td>\n",
       "      <td>0.000000</td>\n",
       "      <td>1.000000</td>\n",
       "      <td>0.400000</td>\n",
       "      <td>0.000000</td>\n",
       "      <td>0.400000</td>\n",
       "      <td>0.00000</td>\n",
       "      <td>0.000000</td>\n",
       "      <td>1.000000</td>\n",
       "      <td>0.000000</td>\n",
       "    </tr>\n",
       "    <tr>\n",
       "      <th>max</th>\n",
       "      <td>1.00000</td>\n",
       "      <td>1.000000</td>\n",
       "      <td>0.0</td>\n",
       "      <td>1.000000</td>\n",
       "      <td>1.000000</td>\n",
       "      <td>1.000000</td>\n",
       "      <td>1.000000</td>\n",
       "      <td>1.000000</td>\n",
       "      <td>1.000000</td>\n",
       "      <td>1.000000</td>\n",
       "      <td>...</td>\n",
       "      <td>1.000000</td>\n",
       "      <td>1.000000</td>\n",
       "      <td>1.000000</td>\n",
       "      <td>1.000000</td>\n",
       "      <td>1.000000</td>\n",
       "      <td>1.000000</td>\n",
       "      <td>1.00000</td>\n",
       "      <td>1.000000</td>\n",
       "      <td>1.000000</td>\n",
       "      <td>1.000000</td>\n",
       "    </tr>\n",
       "  </tbody>\n",
       "</table>\n",
       "<p>8 rows × 111 columns</p>\n",
       "</div>"
      ],
      "text/plain": [
       "       spousedcat_2      address  pets_small     agecat_5  spousedcat_3  \\\n",
       "count    5000.00000  5000.000000      5000.0  5000.000000   5000.000000   \n",
       "mean        0.15780     0.306518         0.0     0.239000      0.101400   \n",
       "std         0.36459     0.231514         0.0     0.426515      0.301888   \n",
       "min         0.00000     0.000000         0.0     0.000000      0.000000   \n",
       "25%         0.00000     0.112150         0.0     0.000000      0.000000   \n",
       "50%         0.00000     0.261682         0.0     0.000000      0.000000   \n",
       "75%         0.00000     0.467290         0.0     0.000000      0.000000   \n",
       "max         1.00000     1.000000         0.0     1.000000      1.000000   \n",
       "\n",
       "                ed       tenure  commutemotorcycle_1  card2tenure  \\\n",
       "count  5000.000000  5000.000000          5000.000000  5000.000000   \n",
       "mean      0.502529     0.530622             0.102600     0.436147   \n",
       "std       0.193005     0.314748             0.303466     0.303980   \n",
       "min       0.000000     0.000000             0.000000     0.000000   \n",
       "25%       0.352941     0.250000             0.000000     0.166667   \n",
       "50%       0.470588     0.527778             0.000000     0.400000   \n",
       "75%       0.647059     0.819444             0.000000     0.700000   \n",
       "max       1.000000     1.000000             1.000000     1.000000   \n",
       "\n",
       "            cars_4  ...         pets     carown_0   tollfree_1  \\\n",
       "count  5000.000000  ...  5000.000000  5000.000000  5000.000000   \n",
       "mean      0.096200  ...     0.243432     0.159800     0.475600   \n",
       "std       0.294895  ...     0.266633     0.366457     0.499454   \n",
       "min       0.000000  ...     0.000000     0.000000     0.000000   \n",
       "25%       0.000000  ...     0.000000     0.000000     0.000000   \n",
       "50%       0.000000  ...     0.160000     0.000000     0.000000   \n",
       "75%       0.000000  ...     0.400000     0.000000     1.000000   \n",
       "max       1.000000  ...     1.000000     1.000000     1.000000   \n",
       "\n",
       "       pets_freshfish  townsize_4.0      tollten  card2type_2       cars_6  \\\n",
       "count     5000.000000   5000.000000  5000.000000   5000.00000  5000.000000   \n",
       "mean         0.182140      0.171400     0.229723      0.24700     0.010200   \n",
       "std          0.299267      0.376896     0.336650      0.43131     0.100489   \n",
       "min          0.000000      0.000000     0.000000      0.00000     0.000000   \n",
       "25%          0.000000      0.000000     0.000000      0.00000     0.000000   \n",
       "50%          0.000000      0.000000     0.000000      0.00000     0.000000   \n",
       "75%          0.400000      0.000000     0.400000      0.00000     0.000000   \n",
       "max          1.000000      1.000000     1.000000      1.00000     1.000000   \n",
       "\n",
       "           owncd_1  commutepublic_1  \n",
       "count  5000.000000      5000.000000  \n",
       "mean      0.932800         0.095400  \n",
       "std       0.250393         0.293796  \n",
       "min       0.000000         0.000000  \n",
       "25%       1.000000         0.000000  \n",
       "50%       1.000000         0.000000  \n",
       "75%       1.000000         0.000000  \n",
       "max       1.000000         1.000000  \n",
       "\n",
       "[8 rows x 111 columns]"
      ]
     },
     "execution_count": 92,
     "metadata": {},
     "output_type": "execute_result"
    }
   ],
   "source": [
    "standard_X.describe()"
   ]
  },
  {
   "cell_type": "code",
   "execution_count": 93,
   "id": "10f4643a",
   "metadata": {},
   "outputs": [],
   "source": [
    "# #Train Test Split for KNN\n",
    "# X_train_ml,X_test_ml,Y_train_ml,Y_test_ml=train_test_split(standard_X,Y,train_size=0.7,random_state=100)\n",
    "# print(X_train_ml.shape)\n",
    "# print(X_test_ml.shape)\n",
    "# print(Y_train_ml.shape)\n",
    "# print(Y_test_ml.shape)"
   ]
  },
  {
   "cell_type": "code",
   "execution_count": 94,
   "id": "830c021f",
   "metadata": {},
   "outputs": [],
   "source": [
    "params_knn={'n_neighbors':np.arange(2,40).tolist(),'weights':['uniform','distance']}"
   ]
  },
  {
   "cell_type": "code",
   "execution_count": 95,
   "id": "7a9bee07",
   "metadata": {},
   "outputs": [],
   "source": [
    "grid_knn=GridSearchCV(KNeighborsRegressor(),param_grid=params_knn,cv=5)"
   ]
  },
  {
   "cell_type": "code",
   "execution_count": 96,
   "id": "c9ca5b0c",
   "metadata": {},
   "outputs": [],
   "source": [
    "grid_knn=grid_knn.fit(standard_X,Y)"
   ]
  },
  {
   "cell_type": "code",
   "execution_count": 97,
   "id": "edbd2ef4",
   "metadata": {},
   "outputs": [
    {
     "data": {
      "text/plain": [
       "{'n_neighbors': 33, 'weights': 'distance'}"
      ]
     },
     "execution_count": 97,
     "metadata": {},
     "output_type": "execute_result"
    }
   ],
   "source": [
    "grid_knn.best_params_"
   ]
  },
  {
   "cell_type": "code",
   "execution_count": 98,
   "id": "ce2f1045",
   "metadata": {},
   "outputs": [
    {
     "data": {
      "text/plain": [
       "0.14409187539671706"
      ]
     },
     "execution_count": 98,
     "metadata": {},
     "output_type": "execute_result"
    }
   ],
   "source": [
    "grid_knn.best_score_"
   ]
  },
  {
   "cell_type": "code",
   "execution_count": 99,
   "id": "b779ec28",
   "metadata": {},
   "outputs": [],
   "source": [
    "knn=KNeighborsRegressor(n_neighbors=33,weights='distance')"
   ]
  },
  {
   "cell_type": "code",
   "execution_count": 100,
   "id": "7e938322",
   "metadata": {},
   "outputs": [],
   "source": [
    "knn=knn.fit(standard_X,Y)"
   ]
  },
  {
   "cell_type": "code",
   "execution_count": 101,
   "id": "4269f981",
   "metadata": {},
   "outputs": [
    {
     "name": "stdout",
     "output_type": "stream",
     "text": [
      "knn_accuracy_score : 0.9999999999999872\n"
     ]
    }
   ],
   "source": [
    "knn_accuracy_score=metrics.r2_score(Y,knn.predict(standard_X))\n",
    "print('knn_accuracy_score :',knn_accuracy_score)"
   ]
  },
  {
   "cell_type": "code",
   "execution_count": 102,
   "id": "da15a0ff",
   "metadata": {},
   "outputs": [
    {
     "name": "stdout",
     "output_type": "stream",
     "text": [
      "KNN_mape : 1.4937728267268948e-09\n"
     ]
    }
   ],
   "source": [
    "knn_mape=metrics.mean_absolute_percentage_error(Y,knn.predict(standard_X))\n",
    "print('KNN_mape :',knn_mape)"
   ]
  },
  {
   "cell_type": "code",
   "execution_count": 103,
   "id": "4744d99b",
   "metadata": {},
   "outputs": [
    {
     "name": "stdout",
     "output_type": "stream",
     "text": [
      "KNN_mse : 5.1561528328869945e-15\n"
     ]
    }
   ],
   "source": [
    "knn_mse=metrics.mean_squared_error(Y,knn.predict(standard_X))\n",
    "print('KNN_mse :',knn_mse)"
   ]
  },
  {
   "cell_type": "code",
   "execution_count": 104,
   "id": "a7dcce7b",
   "metadata": {},
   "outputs": [
    {
     "data": {
      "image/png": "[encoded data removed]",
      "text/plain": [
       "<Figure size 720x360 with 1 Axes>"
      ]
     },
     "metadata": {
      "needs_background": "light"
     },
     "output_type": "display_data"
    }
   ],
   "source": [
    "plt.figure(figsize=(10,5))\n",
    "sns.scatterplot(Y,knn.predict(standard_X))\n",
    "plt.title('KNN Prediction Plot')\n",
    "plt.show()"
   ]
  },
  {
   "cell_type": "markdown",
   "id": "72814e82",
   "metadata": {},
   "source": [
    "### 3.Random Forest"
   ]
  },
  {
   "cell_type": "code",
   "execution_count": 105,
   "id": "3d2a8a93",
   "metadata": {},
   "outputs": [],
   "source": [
    "# X_train_rf,X_test_rf,Y_train_rf,Y_test_rf=train_test_split(data_final,Y,train_size=0.7,random_state=100)\n",
    "# print(X_train_rf.shape)\n",
    "# print(X_test_rf.shape)\n",
    "# print(Y_train_rf.shape)\n",
    "# print(Y_test_rf.shape)"
   ]
  },
  {
   "cell_type": "code",
   "execution_count": 106,
   "id": "c25a7f45",
   "metadata": {},
   "outputs": [],
   "source": [
    "param_rf={'n_estimators':np.arange(0,400,50).tolist(),'max_depth': [5,10,15,20], 'max_features':[15,20,25]}"
   ]
  },
  {
   "cell_type": "code",
   "execution_count": 107,
   "id": "92f05b64",
   "metadata": {},
   "outputs": [],
   "source": [
    "grid_rf=GridSearchCV(RandomForestRegressor(),param_grid=param_rf,cv=5,n_jobs=-1)"
   ]
  },
  {
   "cell_type": "code",
   "execution_count": 108,
   "id": "3b6dc0c8",
   "metadata": {},
   "outputs": [],
   "source": [
    "grid_rf=grid_rf.fit(standard_X,Y)"
   ]
  },
  {
   "cell_type": "code",
   "execution_count": 109,
   "id": "a65197e1",
   "metadata": {},
   "outputs": [
    {
     "data": {
      "text/plain": [
       "{'max_depth': 20, 'max_features': 25, 'n_estimators': 250}"
      ]
     },
     "execution_count": 109,
     "metadata": {},
     "output_type": "execute_result"
    }
   ],
   "source": [
    "grid_rf.best_params_"
   ]
  },
  {
   "cell_type": "code",
   "execution_count": 110,
   "id": "c00f8ef4",
   "metadata": {},
   "outputs": [
    {
     "data": {
      "text/plain": [
       "0.21245149967946028"
      ]
     },
     "execution_count": 110,
     "metadata": {},
     "output_type": "execute_result"
    }
   ],
   "source": [
    "grid_rf.best_score_"
   ]
  },
  {
   "cell_type": "code",
   "execution_count": 111,
   "id": "d7e1ea4f",
   "metadata": {},
   "outputs": [],
   "source": [
    "rf=RandomForestRegressor(random_state = 1, max_features= 25, n_estimators = 300, criterion='mse', max_depth=20)"
   ]
  },
  {
   "cell_type": "code",
   "execution_count": 112,
   "id": "918c6dbf",
   "metadata": {},
   "outputs": [],
   "source": [
    "rf=rf.fit(standard_X,Y)"
   ]
  },
  {
   "cell_type": "code",
   "execution_count": 113,
   "id": "df2707e2",
   "metadata": {},
   "outputs": [
    {
     "data": {
      "text/plain": [
       "0.8800275682195023"
      ]
     },
     "execution_count": 113,
     "metadata": {},
     "output_type": "execute_result"
    }
   ],
   "source": [
    "metrics.r2_score(Y,rf.predict(standard_X))"
   ]
  },
  {
   "cell_type": "code",
   "execution_count": 114,
   "id": "03edeed1",
   "metadata": {},
   "outputs": [
    {
     "data": {
      "image/png": "[encoded data removed]",
      "text/plain": [
       "<Figure size 720x360 with 1 Axes>"
      ]
     },
     "metadata": {
      "needs_background": "light"
     },
     "output_type": "display_data"
    }
   ],
   "source": [
    "plt.figure(figsize=(10,5))\n",
    "sns.scatterplot(Y,rf.predict(standard_X))\n",
    "plt.title('Random Forest Prediction Plot')\n",
    "plt.show()"
   ]
  },
  {
   "cell_type": "markdown",
   "id": "0808e9b9",
   "metadata": {},
   "source": [
    "### XGBOOST Regressor"
   ]
  },
  {
   "cell_type": "code",
   "execution_count": 115,
   "id": "97ad9251",
   "metadata": {},
   "outputs": [],
   "source": [
    "xg=XGBRegressor()"
   ]
  },
  {
   "cell_type": "code",
   "execution_count": 116,
   "id": "4fc7e7e4",
   "metadata": {},
   "outputs": [],
   "source": [
    "xg=xg.fit(data_final,Y)"
   ]
  },
  {
   "cell_type": "code",
   "execution_count": 117,
   "id": "141b4f41",
   "metadata": {},
   "outputs": [
    {
     "data": {
      "text/plain": [
       "0.9362119924193014"
      ]
     },
     "execution_count": 117,
     "metadata": {},
     "output_type": "execute_result"
    }
   ],
   "source": [
    "metrics.r2_score(Y,xg.predict(data_final))"
   ]
  },
  {
   "cell_type": "code",
   "execution_count": 118,
   "id": "ab7407ec",
   "metadata": {},
   "outputs": [
    {
     "data": {
      "image/png": "[encoded data removed]",
      "text/plain": [
       "<Figure size 720x360 with 1 Axes>"
      ]
     },
     "metadata": {
      "needs_background": "light"
     },
     "output_type": "display_data"
    }
   ],
   "source": [
    "plt.figure(figsize=(10,5))\n",
    "sns.scatterplot(Y,xg.predict(data_final))\n",
    "plt.title('XGBOOST Prediction Plot')\n",
    "plt.show()"
   ]
  },
  {
   "cell_type": "code",
   "execution_count": 119,
   "id": "592cb63a",
   "metadata": {},
   "outputs": [],
   "source": [
    "pred_Y=np.exp(xg.predict(data_final))"
   ]
  },
  {
   "cell_type": "code",
   "execution_count": 120,
   "id": "9ad2510d",
   "metadata": {},
   "outputs": [],
   "source": [
    "data_final['original Y']=np.exp(Y)"
   ]
  },
  {
   "cell_type": "code",
   "execution_count": 121,
   "id": "b6e39b6c",
   "metadata": {},
   "outputs": [],
   "source": [
    "data_final['Predicted Y']=pred_Y"
   ]
  },
  {
   "cell_type": "code",
   "execution_count": 122,
   "id": "6299d699",
   "metadata": {},
   "outputs": [
    {
     "data": {
      "image/png": "[encoded data removed]",
      "text/plain": [
       "<Figure size 720x360 with 1 Axes>"
      ]
     },
     "metadata": {
      "needs_background": "light"
     },
     "output_type": "display_data"
    }
   ],
   "source": [
    "plt.figure(figsize=(10,5))\n",
    "sns.kdeplot(data_final['original Y'])\n",
    "sns.kdeplot(data_final['Predicted Y'])\n",
    "plt.show()"
   ]
  },
  {
   "cell_type": "markdown",
   "id": "0df5e1f4",
   "metadata": {},
   "source": [
    "# ----------END----------"
   ]
  }
 ],
 "metadata": {
  "kernelspec": {
   "display_name": "Python 3",
   "language": "python",
   "name": "python3"
  },
  "language_info": {
   "codemirror_mode": {
    "name": "ipython",
    "version": 3
   },
   "file_extension": ".py",
   "mimetype": "text/x-python",
   "name": "python",
   "nbconvert_exporter": "python",
   "pygments_lexer": "ipython3",
   "version": "3.8.8"
  }
 },
 "nbformat": 4,
 "nbformat_minor": 5
}
